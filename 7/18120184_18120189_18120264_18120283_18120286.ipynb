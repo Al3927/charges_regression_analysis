{
  "nbformat": 4,
  "nbformat_minor": 0,
  "metadata": {
    "colab": {
      "name": "Nhom7.ipynb",
      "provenance": [],
      "collapsed_sections": [],
      "toc_visible": true,
      "include_colab_link": true
    },
    "kernelspec": {
      "name": "python3",
      "display_name": "Python 3"
    },
    "language_info": {
      "name": "python"
    }
  },
  "cells": [
    {
      "cell_type": "markdown",
      "metadata": {
        "id": "view-in-github",
        "colab_type": "text"
      },
      "source": [
        "<a href=\"https://colab.research.google.com/github/Al3927/charges_regression_analysis/blob/main/Main.ipynb\" target=\"_parent\"><img src=\"https://colab.research.google.com/assets/colab-badge.svg\" alt=\"Open In Colab\"/></a>"
      ]
    },
    {
      "cell_type": "markdown",
      "metadata": {
        "id": "yISGxg67rl9R"
      },
      "source": [
        "# <center><font size =\"9\"> ĐỒ ÁN 01: REGRESSION</font></center>\n",
        " <br />\n",
        " \n",
        "__TÊN MÔN HỌC:__ NHẬP MÔN HỌC MÁY\n",
        "\n",
        "__ĐỀ TÀI:__ CHI PHÍ SỬ DỤNG DỊCH VỤ Y TẾ\n",
        "\n",
        "__GIẢNG VIÊN:__ NGUYỄN TIẾN HUY\n",
        " \n",
        "__THỨ TỰ NHÓM:__ 07\n",
        " \n",
        "__THÀNH VIÊN:__\n",
        "\n",
        "- 18120184 Nguyễn Nguyên Khang \n",
        "- 18120189 Trần Đăng Khoa\n",
        "- 18120264 Nguyễn Duy Vũ\n",
        "- 18120283 Nguyễn Chiêu Bản\n",
        "- 18120286 Nguyễn Quốc Bảo\n",
        "\n",
        "__PHÂN CÔNG:__\n",
        "\n",
        "Công việc | Thực hiện | Mức độ hoàn thành\n",
        "------------ | ------------- | ------------\n",
        "Khám phá dữ liệu cơ bản | Vũ | 100%\n",
        "Tiền xử lý dữ liệu | Vũ | 100%\n",
        "Mô hình hóa dữ liệu | Bản, Bảo | 100%\n",
        "Phân tích dữ liệu tìm Insight| Khang, Khoa | 100%\n"
      ]
    },
    {
      "cell_type": "markdown",
      "metadata": {
        "id": "rM4_J3Mf_1xP"
      },
      "source": [
        "## Get Data"
      ]
    },
    {
      "cell_type": "code",
      "metadata": {
        "colab": {
          "base_uri": "https://localhost:8080/"
        },
        "id": "mmYogQFq8nzl",
        "outputId": "5a7965f4-2326-43c0-c976-40e92317aec9"
      },
      "source": [
        "!gdown --id 19ig1GFDCioN_O2LjhF_JSzhwl_erengT\n",
        "!gdown --id 1xvHczHpMFgPIQhyMKWT__fHimq0yVVK9"
      ],
      "execution_count": null,
      "outputs": [
        {
          "output_type": "stream",
          "text": [
            "Downloading...\n",
            "From: https://drive.google.com/uc?id=19ig1GFDCioN_O2LjhF_JSzhwl_erengT\n",
            "To: /content/train.csv\n",
            "100% 41.5k/41.5k [00:00<00:00, 15.3MB/s]\n",
            "Downloading...\n",
            "From: https://drive.google.com/uc?id=1xvHczHpMFgPIQhyMKWT__fHimq0yVVK9\n",
            "To: /content/test.csv\n",
            "100% 13.9k/13.9k [00:00<00:00, 23.0MB/s]\n"
          ],
          "name": "stdout"
        }
      ]
    },
    {
      "cell_type": "code",
      "metadata": {
        "colab": {
          "base_uri": "https://localhost:8080/"
        },
        "id": "KuOC9BrcjFpL",
        "outputId": "013396b7-400b-41c8-dc19-2e5c38717671"
      },
      "source": [
        "!pip install --upgrade scikit-learn"
      ],
      "execution_count": null,
      "outputs": [
        {
          "output_type": "stream",
          "text": [
            "Collecting scikit-learn\n",
            "\u001b[?25l  Downloading https://files.pythonhosted.org/packages/a8/eb/a48f25c967526b66d5f1fa7a984594f0bf0a5afafa94a8c4dbc317744620/scikit_learn-0.24.2-cp37-cp37m-manylinux2010_x86_64.whl (22.3MB)\n",
            "\u001b[K     |████████████████████████████████| 22.3MB 1.3MB/s \n",
            "\u001b[?25hRequirement already satisfied, skipping upgrade: joblib>=0.11 in /usr/local/lib/python3.7/dist-packages (from scikit-learn) (1.0.1)\n",
            "Collecting threadpoolctl>=2.0.0\n",
            "  Downloading https://files.pythonhosted.org/packages/f7/12/ec3f2e203afa394a149911729357aa48affc59c20e2c1c8297a60f33f133/threadpoolctl-2.1.0-py3-none-any.whl\n",
            "Requirement already satisfied, skipping upgrade: numpy>=1.13.3 in /usr/local/lib/python3.7/dist-packages (from scikit-learn) (1.19.5)\n",
            "Requirement already satisfied, skipping upgrade: scipy>=0.19.1 in /usr/local/lib/python3.7/dist-packages (from scikit-learn) (1.4.1)\n",
            "Installing collected packages: threadpoolctl, scikit-learn\n",
            "  Found existing installation: scikit-learn 0.22.2.post1\n",
            "    Uninstalling scikit-learn-0.22.2.post1:\n",
            "      Successfully uninstalled scikit-learn-0.22.2.post1\n",
            "Successfully installed scikit-learn-0.24.2 threadpoolctl-2.1.0\n"
          ],
          "name": "stdout"
        }
      ]
    },
    {
      "cell_type": "markdown",
      "metadata": {
        "id": "O-ANv-qw_p9j"
      },
      "source": [
        "## Import"
      ]
    },
    {
      "cell_type": "code",
      "metadata": {
        "id": "T3jAZ3YA_GbB"
      },
      "source": [
        "import pandas as pd\n",
        "import numpy as np\n",
        "import matplotlib.pyplot as plt\n",
        "import seaborn as sns\n",
        "from sklearn.decomposition import PCA\n",
        "from sklearn.model_selection import train_test_split\n",
        "from sklearn.preprocessing import OneHotEncoder, StandardScaler, OrdinalEncoder\n",
        "from sklearn.preprocessing import PowerTransformer\n",
        "from sklearn.impute import SimpleImputer\n",
        "from sklearn.pipeline import Pipeline, make_pipeline\n",
        "from sklearn.compose import ColumnTransformer, make_column_transformer\n",
        "from sklearn.model_selection import cross_val_score\n",
        "from sklearn.model_selection import KFold\n",
        "from sklearn import metrics\n",
        "from sklearn.compose import TransformedTargetRegressor\n",
        "from sklearn.model_selection import GridSearchCV\n",
        "from sklearn.linear_model import LogisticRegression\n",
        "from sklearn.cross_decomposition import PLSRegression\n",
        "from sklearn.svm import SVR\n",
        "from sklearn import set_config\n",
        "set_config(display='diagram')\n"
      ],
      "execution_count": null,
      "outputs": []
    },
    {
      "cell_type": "markdown",
      "metadata": {
        "id": "nov_1W8RAE5O"
      },
      "source": [
        "## Data Exploration"
      ]
    },
    {
      "cell_type": "code",
      "metadata": {
        "colab": {
          "base_uri": "https://localhost:8080/",
          "height": 194
        },
        "id": "037tOG1O_KSd",
        "outputId": "fccad880-9c5f-4c76-c19e-d5904b241ef8"
      },
      "source": [
        "train_df = pd.read_csv('train.csv')\n",
        "train_df.head(5)"
      ],
      "execution_count": null,
      "outputs": [
        {
          "output_type": "execute_result",
          "data": {
            "text/html": [
              "<div>\n",
              "<style scoped>\n",
              "    .dataframe tbody tr th:only-of-type {\n",
              "        vertical-align: middle;\n",
              "    }\n",
              "\n",
              "    .dataframe tbody tr th {\n",
              "        vertical-align: top;\n",
              "    }\n",
              "\n",
              "    .dataframe thead th {\n",
              "        text-align: right;\n",
              "    }\n",
              "</style>\n",
              "<table border=\"1\" class=\"dataframe\">\n",
              "  <thead>\n",
              "    <tr style=\"text-align: right;\">\n",
              "      <th></th>\n",
              "      <th>age</th>\n",
              "      <th>sex</th>\n",
              "      <th>bmi</th>\n",
              "      <th>children</th>\n",
              "      <th>smoker</th>\n",
              "      <th>region</th>\n",
              "      <th>charges</th>\n",
              "    </tr>\n",
              "  </thead>\n",
              "  <tbody>\n",
              "    <tr>\n",
              "      <th>0</th>\n",
              "      <td>24</td>\n",
              "      <td>male</td>\n",
              "      <td>23.655</td>\n",
              "      <td>0</td>\n",
              "      <td>no</td>\n",
              "      <td>northwest</td>\n",
              "      <td>2352.96845</td>\n",
              "    </tr>\n",
              "    <tr>\n",
              "      <th>1</th>\n",
              "      <td>28</td>\n",
              "      <td>female</td>\n",
              "      <td>26.510</td>\n",
              "      <td>2</td>\n",
              "      <td>no</td>\n",
              "      <td>southeast</td>\n",
              "      <td>4340.44090</td>\n",
              "    </tr>\n",
              "    <tr>\n",
              "      <th>2</th>\n",
              "      <td>51</td>\n",
              "      <td>male</td>\n",
              "      <td>39.700</td>\n",
              "      <td>1</td>\n",
              "      <td>no</td>\n",
              "      <td>southwest</td>\n",
              "      <td>9391.34600</td>\n",
              "    </tr>\n",
              "    <tr>\n",
              "      <th>3</th>\n",
              "      <td>47</td>\n",
              "      <td>male</td>\n",
              "      <td>36.080</td>\n",
              "      <td>1</td>\n",
              "      <td>yes</td>\n",
              "      <td>southeast</td>\n",
              "      <td>42211.13820</td>\n",
              "    </tr>\n",
              "    <tr>\n",
              "      <th>4</th>\n",
              "      <td>46</td>\n",
              "      <td>female</td>\n",
              "      <td>28.900</td>\n",
              "      <td>2</td>\n",
              "      <td>no</td>\n",
              "      <td>southwest</td>\n",
              "      <td>8823.27900</td>\n",
              "    </tr>\n",
              "  </tbody>\n",
              "</table>\n",
              "</div>"
            ],
            "text/plain": [
              "   age     sex     bmi  children smoker     region      charges\n",
              "0   24    male  23.655         0     no  northwest   2352.96845\n",
              "1   28  female  26.510         2     no  southeast   4340.44090\n",
              "2   51    male  39.700         1     no  southwest   9391.34600\n",
              "3   47    male  36.080         1    yes  southeast  42211.13820\n",
              "4   46  female  28.900         2     no  southwest   8823.27900"
            ]
          },
          "metadata": {
            "tags": []
          },
          "execution_count": 4
        }
      ]
    },
    {
      "cell_type": "markdown",
      "metadata": {
        "id": "dsdWK4kdAY5a"
      },
      "source": [
        "### Kích thước của tập dữ liệu"
      ]
    },
    {
      "cell_type": "code",
      "metadata": {
        "colab": {
          "base_uri": "https://localhost:8080/"
        },
        "id": "vDd1CWf7AVbJ",
        "outputId": "93f9f0a2-0035-4cbb-cbd2-f272b1bda624"
      },
      "source": [
        "train_df.shape"
      ],
      "execution_count": null,
      "outputs": [
        {
          "output_type": "execute_result",
          "data": {
            "text/plain": [
              "(1003, 7)"
            ]
          },
          "metadata": {
            "tags": []
          },
          "execution_count": 5
        }
      ]
    },
    {
      "cell_type": "markdown",
      "metadata": {
        "id": "5eIYrFeJBD9c"
      },
      "source": [
        "### Ý nghĩa của mỗi cột"
      ]
    },
    {
      "cell_type": "code",
      "metadata": {
        "colab": {
          "base_uri": "https://localhost:8080/",
          "height": 252
        },
        "id": "pVoTs1IkBHGB",
        "outputId": "5fc55c6f-283b-46ef-dabb-bb5994d3bd2e"
      },
      "source": [
        "columns = train_df.columns\n",
        "mean_column = [\"Tuổi\", \"Giới tính\", \"Chỉ số khối cơ thể\", \n",
        "               \"Số lượng trẻ con/người phụ thuộc\",\n",
        "               'Tình trạng hút thuốc',\n",
        "               'Khu vực sinh sống',\n",
        "               'Chi phí y tế cá nhân']\n",
        "mean_df = pd.DataFrame(list(zip(columns, mean_column)), columns=['Column', 'Meaning of Column'])\n",
        "mean_df"
      ],
      "execution_count": null,
      "outputs": [
        {
          "output_type": "execute_result",
          "data": {
            "text/html": [
              "<div>\n",
              "<style scoped>\n",
              "    .dataframe tbody tr th:only-of-type {\n",
              "        vertical-align: middle;\n",
              "    }\n",
              "\n",
              "    .dataframe tbody tr th {\n",
              "        vertical-align: top;\n",
              "    }\n",
              "\n",
              "    .dataframe thead th {\n",
              "        text-align: right;\n",
              "    }\n",
              "</style>\n",
              "<table border=\"1\" class=\"dataframe\">\n",
              "  <thead>\n",
              "    <tr style=\"text-align: right;\">\n",
              "      <th></th>\n",
              "      <th>Column</th>\n",
              "      <th>Meaning of Column</th>\n",
              "    </tr>\n",
              "  </thead>\n",
              "  <tbody>\n",
              "    <tr>\n",
              "      <th>0</th>\n",
              "      <td>age</td>\n",
              "      <td>Tuổi</td>\n",
              "    </tr>\n",
              "    <tr>\n",
              "      <th>1</th>\n",
              "      <td>sex</td>\n",
              "      <td>Giới tính</td>\n",
              "    </tr>\n",
              "    <tr>\n",
              "      <th>2</th>\n",
              "      <td>bmi</td>\n",
              "      <td>Chỉ số khối cơ thể</td>\n",
              "    </tr>\n",
              "    <tr>\n",
              "      <th>3</th>\n",
              "      <td>children</td>\n",
              "      <td>Số lượng trẻ con/người phụ thuộc</td>\n",
              "    </tr>\n",
              "    <tr>\n",
              "      <th>4</th>\n",
              "      <td>smoker</td>\n",
              "      <td>Tình trạng hút thuốc</td>\n",
              "    </tr>\n",
              "    <tr>\n",
              "      <th>5</th>\n",
              "      <td>region</td>\n",
              "      <td>Khu vực sinh sống</td>\n",
              "    </tr>\n",
              "    <tr>\n",
              "      <th>6</th>\n",
              "      <td>charges</td>\n",
              "      <td>Chi phí y tế cá nhân</td>\n",
              "    </tr>\n",
              "  </tbody>\n",
              "</table>\n",
              "</div>"
            ],
            "text/plain": [
              "     Column                 Meaning of Column\n",
              "0       age                              Tuổi\n",
              "1       sex                         Giới tính\n",
              "2       bmi                Chỉ số khối cơ thể\n",
              "3  children  Số lượng trẻ con/người phụ thuộc\n",
              "4    smoker              Tình trạng hút thuốc\n",
              "5    region                 Khu vực sinh sống\n",
              "6   charges              Chi phí y tế cá nhân"
            ]
          },
          "metadata": {
            "tags": []
          },
          "execution_count": 6
        }
      ]
    },
    {
      "cell_type": "markdown",
      "metadata": {
        "id": "bxNkvFVcA0c8"
      },
      "source": [
        "### Dữ liệu có bị lặp hay không ?"
      ]
    },
    {
      "cell_type": "code",
      "metadata": {
        "colab": {
          "base_uri": "https://localhost:8080/"
        },
        "id": "4nXcte0EA62c",
        "outputId": "fcde6a57-736e-432f-fcfe-e6216aca9512"
      },
      "source": [
        "train_df.duplicated().sum()"
      ],
      "execution_count": null,
      "outputs": [
        {
          "output_type": "execute_result",
          "data": {
            "text/plain": [
              "0"
            ]
          },
          "metadata": {
            "tags": []
          },
          "execution_count": 7
        }
      ]
    },
    {
      "cell_type": "markdown",
      "metadata": {
        "id": "3x-cmgHoBLgH"
      },
      "source": [
        "### Dữ liệu có bị thiếu hay không ?"
      ]
    },
    {
      "cell_type": "code",
      "metadata": {
        "colab": {
          "base_uri": "https://localhost:8080/"
        },
        "id": "SoQAlkg7BOPn",
        "outputId": "9e0f8c7a-874b-48dc-83e2-c0774aaba60f"
      },
      "source": [
        "train_df.isna().sum()"
      ],
      "execution_count": null,
      "outputs": [
        {
          "output_type": "execute_result",
          "data": {
            "text/plain": [
              "age         0\n",
              "sex         0\n",
              "bmi         0\n",
              "children    0\n",
              "smoker      0\n",
              "region      0\n",
              "charges     0\n",
              "dtype: int64"
            ]
          },
          "metadata": {
            "tags": []
          },
          "execution_count": 8
        }
      ]
    },
    {
      "cell_type": "markdown",
      "metadata": {
        "id": "ExS_6ZDRBm20"
      },
      "source": [
        "### Các cột có kiểu dữ liệu gì ?"
      ]
    },
    {
      "cell_type": "code",
      "metadata": {
        "id": "A5PRGHnWEpkw",
        "colab": {
          "base_uri": "https://localhost:8080/"
        },
        "outputId": "1cf5e838-5d27-41d7-aafc-29fb41d182dd"
      },
      "source": [
        "train_df.dtypes"
      ],
      "execution_count": null,
      "outputs": [
        {
          "output_type": "execute_result",
          "data": {
            "text/plain": [
              "age           int64\n",
              "sex          object\n",
              "bmi         float64\n",
              "children      int64\n",
              "smoker       object\n",
              "region       object\n",
              "charges     float64\n",
              "dtype: object"
            ]
          },
          "metadata": {
            "tags": []
          },
          "execution_count": 9
        }
      ]
    },
    {
      "cell_type": "markdown",
      "metadata": {
        "id": "JUTfl_rU6DIp"
      },
      "source": [
        "Các cột \"sex\" \"smoker\" \"region\" mang kiểu object -> Cần chuyển quả kiểu numeric để thuận lợi cho việc huấn luyện các mô hình"
      ]
    },
    {
      "cell_type": "markdown",
      "metadata": {
        "id": "49OXNfm2_dWe"
      },
      "source": [
        "### Giá trị của các cột có kiểu dữ liệu object"
      ]
    },
    {
      "cell_type": "markdown",
      "metadata": {
        "id": "eJ9Gv8uy_ph1"
      },
      "source": [
        "**Sex**"
      ]
    },
    {
      "cell_type": "code",
      "metadata": {
        "colab": {
          "base_uri": "https://localhost:8080/"
        },
        "id": "8yawR9on_dAP",
        "outputId": "b08e8966-689a-41df-c226-1805083dcc13"
      },
      "source": [
        "train_df['sex'].value_counts()"
      ],
      "execution_count": null,
      "outputs": [
        {
          "output_type": "execute_result",
          "data": {
            "text/plain": [
              "male      506\n",
              "female    497\n",
              "Name: sex, dtype: int64"
            ]
          },
          "metadata": {
            "tags": []
          },
          "execution_count": 10
        }
      ]
    },
    {
      "cell_type": "markdown",
      "metadata": {
        "id": "UmmT5LDW_zA_"
      },
      "source": [
        "Có thể thấy giá trị male và female cách biệt nhau không quá lớn điều này sẽ không ảnh hưởng đến dữ liệu"
      ]
    },
    {
      "cell_type": "markdown",
      "metadata": {
        "id": "gojCcAiX_9UN"
      },
      "source": [
        "**Smoker**"
      ]
    },
    {
      "cell_type": "code",
      "metadata": {
        "colab": {
          "base_uri": "https://localhost:8080/"
        },
        "id": "OvIZ39aMAEUp",
        "outputId": "f6d6a8a7-862c-4fe7-d322-bcd235508caa"
      },
      "source": [
        "train_df['smoker'].value_counts()"
      ],
      "execution_count": null,
      "outputs": [
        {
          "output_type": "execute_result",
          "data": {
            "text/plain": [
              "no     797\n",
              "yes    206\n",
              "Name: smoker, dtype: int64"
            ]
          },
          "metadata": {
            "tags": []
          },
          "execution_count": 11
        }
      ]
    },
    {
      "cell_type": "markdown",
      "metadata": {
        "id": "8X6g4jEWAWK5"
      },
      "source": [
        "Lượng người hút thuốc và không hút thuốc chênh lệch nhau rất lớn"
      ]
    },
    {
      "cell_type": "markdown",
      "metadata": {
        "id": "IxPzTsG9AAOW"
      },
      "source": [
        "**Region**"
      ]
    },
    {
      "cell_type": "code",
      "metadata": {
        "colab": {
          "base_uri": "https://localhost:8080/"
        },
        "id": "sdVLdfWqAQG5",
        "outputId": "fefb5217-2ef4-4b5c-c82e-9c5e4f16ffb2"
      },
      "source": [
        "train_df['region'].value_counts()"
      ],
      "execution_count": null,
      "outputs": [
        {
          "output_type": "execute_result",
          "data": {
            "text/plain": [
              "southeast    259\n",
              "northeast    251\n",
              "southwest    247\n",
              "northwest    246\n",
              "Name: region, dtype: int64"
            ]
          },
          "metadata": {
            "tags": []
          },
          "execution_count": 12
        }
      ]
    },
    {
      "cell_type": "markdown",
      "metadata": {
        "id": "-rjbj9MgAd96"
      },
      "source": [
        "Không có giá trị bất thường ở đây"
      ]
    },
    {
      "cell_type": "markdown",
      "metadata": {
        "id": "BB7oJk7DFNmy"
      },
      "source": [
        "### Xem xét sự phân bổ của các cột dạng số"
      ]
    },
    {
      "cell_type": "code",
      "metadata": {
        "colab": {
          "base_uri": "https://localhost:8080/",
          "height": 223
        },
        "id": "dHA23yvMF6DH",
        "outputId": "8989af02-afd4-4b90-8fc9-6613a0912be0"
      },
      "source": [
        "def missing_ratio(df):\n",
        "    return (df.isna().mean() * 100).round(1)\n",
        "def lower_quartile(df):\n",
        "    return df.quantile(0.25).round(1)\n",
        "def median(df):\n",
        "    return df.quantile(0.5).round(1)\n",
        "def upper_quartile(df):\n",
        "    return df.quantile(0.75).round(1)\n",
        "col_numeric = train_df[['age', 'bmi', 'children', 'charges']]\n",
        "col_numeric.agg([missing_ratio, 'min', lower_quartile, median, upper_quartile, 'max']).round(1)"
      ],
      "execution_count": null,
      "outputs": [
        {
          "output_type": "execute_result",
          "data": {
            "text/html": [
              "<div>\n",
              "<style scoped>\n",
              "    .dataframe tbody tr th:only-of-type {\n",
              "        vertical-align: middle;\n",
              "    }\n",
              "\n",
              "    .dataframe tbody tr th {\n",
              "        vertical-align: top;\n",
              "    }\n",
              "\n",
              "    .dataframe thead th {\n",
              "        text-align: right;\n",
              "    }\n",
              "</style>\n",
              "<table border=\"1\" class=\"dataframe\">\n",
              "  <thead>\n",
              "    <tr style=\"text-align: right;\">\n",
              "      <th></th>\n",
              "      <th>age</th>\n",
              "      <th>bmi</th>\n",
              "      <th>children</th>\n",
              "      <th>charges</th>\n",
              "    </tr>\n",
              "  </thead>\n",
              "  <tbody>\n",
              "    <tr>\n",
              "      <th>missing_ratio</th>\n",
              "      <td>0.0</td>\n",
              "      <td>0.0</td>\n",
              "      <td>0.0</td>\n",
              "      <td>0.0</td>\n",
              "    </tr>\n",
              "    <tr>\n",
              "      <th>min</th>\n",
              "      <td>18.0</td>\n",
              "      <td>16.0</td>\n",
              "      <td>0.0</td>\n",
              "      <td>1121.9</td>\n",
              "    </tr>\n",
              "    <tr>\n",
              "      <th>lower_quartile</th>\n",
              "      <td>27.0</td>\n",
              "      <td>26.2</td>\n",
              "      <td>0.0</td>\n",
              "      <td>4780.8</td>\n",
              "    </tr>\n",
              "    <tr>\n",
              "      <th>median</th>\n",
              "      <td>39.0</td>\n",
              "      <td>30.2</td>\n",
              "      <td>1.0</td>\n",
              "      <td>9447.4</td>\n",
              "    </tr>\n",
              "    <tr>\n",
              "      <th>upper_quartile</th>\n",
              "      <td>51.0</td>\n",
              "      <td>34.4</td>\n",
              "      <td>2.0</td>\n",
              "      <td>16840.7</td>\n",
              "    </tr>\n",
              "    <tr>\n",
              "      <th>max</th>\n",
              "      <td>64.0</td>\n",
              "      <td>53.1</td>\n",
              "      <td>5.0</td>\n",
              "      <td>62592.9</td>\n",
              "    </tr>\n",
              "  </tbody>\n",
              "</table>\n",
              "</div>"
            ],
            "text/plain": [
              "                 age   bmi  children  charges\n",
              "missing_ratio    0.0   0.0       0.0      0.0\n",
              "min             18.0  16.0       0.0   1121.9\n",
              "lower_quartile  27.0  26.2       0.0   4780.8\n",
              "median          39.0  30.2       1.0   9447.4\n",
              "upper_quartile  51.0  34.4       2.0  16840.7\n",
              "max             64.0  53.1       5.0  62592.9"
            ]
          },
          "metadata": {
            "tags": []
          },
          "execution_count": 13
        }
      ]
    },
    {
      "cell_type": "markdown",
      "metadata": {
        "id": "zML-92tAF50s"
      },
      "source": [
        ""
      ]
    },
    {
      "cell_type": "markdown",
      "metadata": {
        "id": "9skbk4S_6-d1"
      },
      "source": [
        "## Preprocessing"
      ]
    },
    {
      "cell_type": "markdown",
      "metadata": {
        "id": "gLS4WSIW8ouV"
      },
      "source": [
        "### Tách tập input output"
      ]
    },
    {
      "cell_type": "code",
      "metadata": {
        "colab": {
          "base_uri": "https://localhost:8080/"
        },
        "id": "dz3MRIPL7AjN",
        "outputId": "ee410bd1-60e0-433c-95e1-c56f3df766f5"
      },
      "source": [
        "train_y_df = train_df['charges']\n",
        "train_X_df = train_df.drop('charges', axis = 1)\n",
        "train_X_df.shape, train_y_df.shape"
      ],
      "execution_count": null,
      "outputs": [
        {
          "output_type": "execute_result",
          "data": {
            "text/plain": [
              "((1003, 6), (1003,))"
            ]
          },
          "metadata": {
            "tags": []
          },
          "execution_count": 14
        }
      ]
    },
    {
      "cell_type": "code",
      "metadata": {
        "id": "vp9wu91AX0aU"
      },
      "source": [
        "X, y = train_df.iloc[:, :-1], train_df.iloc[:, -1]"
      ],
      "execution_count": null,
      "outputs": []
    },
    {
      "cell_type": "markdown",
      "metadata": {
        "id": "V-H88bBeIKFe"
      },
      "source": [
        "### Xử lý các cột có kiểu dữ liệu Categorical"
      ]
    },
    {
      "cell_type": "markdown",
      "metadata": {
        "id": "eVe0hscAHt9A"
      },
      "source": [
        "Ở bước khám phá dữ liệu ta có thể thấy cột \"sex\" \"smoker\" \"region\" mang kiểu object. Vì vậy ta sẽ tiến hành xử lý các cột này"
      ]
    },
    {
      "cell_type": "code",
      "metadata": {
        "id": "F6ozEOrDQyW_"
      },
      "source": [
        "onehot_features = ['region']\n",
        "onehot_transformer = Pipeline(\n",
        "    [\n",
        "        ('imputer_cat', SimpleImputer(strategy = 'constant')),\n",
        "        ('onehot', OneHotEncoder(handle_unknown = 'ignore'))\n",
        "    ]\n",
        ")\n",
        "\n",
        "imp_mode = SimpleImputer(missing_values=np.nan, strategy='most_frequent')"
      ],
      "execution_count": null,
      "outputs": []
    },
    {
      "cell_type": "code",
      "metadata": {
        "id": "Sbz047sskm4q"
      },
      "source": [
        "ordinal_features = ['sex', 'smoker']\n",
        "ordinal_transformer = Pipeline(\n",
        "    [\n",
        "        ('imputer_cat', SimpleImputer(strategy = 'constant')),\n",
        "        ('ordinal', OrdinalEncoder())\n",
        "    ]\n",
        ")"
      ],
      "execution_count": null,
      "outputs": []
    },
    {
      "cell_type": "markdown",
      "metadata": {
        "id": "xnm-lkjuH4sL"
      },
      "source": [
        "### Xử lý các cột có kiểu dữ liệu Numerical"
      ]
    },
    {
      "cell_type": "code",
      "metadata": {
        "id": "BQZcOZKGH9rP"
      },
      "source": [
        "numeric_features = ['age', 'bmi', 'children']\n",
        "numeric_transformer = Pipeline(\n",
        "    [\n",
        "        ('imputer_num', SimpleImputer(strategy = 'median')),\n",
        "        ('scaler', StandardScaler())\n",
        "    ]\n",
        ")\n",
        "\n",
        "numeric_transformer_insight = Pipeline(\n",
        "    [\n",
        "        ('imputer_num', SimpleImputer(strategy = 'median')),\n",
        "    ]\n",
        ")"
      ],
      "execution_count": null,
      "outputs": []
    },
    {
      "cell_type": "markdown",
      "metadata": {
        "id": "KtahC3-yIYIG"
      },
      "source": [
        "### Preprocessor"
      ]
    },
    {
      "cell_type": "code",
      "metadata": {
        "id": "r9GMoftgIYyh"
      },
      "source": [
        "preprocessor = ColumnTransformer(\n",
        "    [\n",
        "        ('ordinals', ordinal_transformer, ordinal_features),\n",
        "        ('onehot', onehot_transformer, onehot_features),\n",
        "        ('numericals', numeric_transformer, numeric_features)\n",
        "    ],\n",
        "    remainder = 'drop'\n",
        ")\n",
        "\n",
        "preprocessor_insight = ColumnTransformer(\n",
        "    [\n",
        "        ('ordinals', ordinal_transformer, ordinal_features),\n",
        "        ('numericals', numeric_transformer_insight, numeric_features),\n",
        "        ('unorder_categorical', imp_mode, onehot_features)\n",
        "    ],\n",
        "    remainder = 'drop'\n",
        ")\n"
      ],
      "execution_count": null,
      "outputs": []
    },
    {
      "cell_type": "code",
      "metadata": {
        "colab": {
          "base_uri": "https://localhost:8080/",
          "height": 399
        },
        "id": "rbIL_9_tTFju",
        "outputId": "3678e14b-cab0-4153-89c8-6f508d978e00"
      },
      "source": [
        "preprocessed_train_X = preprocessor_insight.fit_transform(X)\n",
        "insight_df = pd.DataFrame(preprocessed_train_X)\n",
        "columns = ['sex', 'smoker', 'age', 'bmi', 'children', 'region']\n",
        "insight_df.columns = columns\n",
        "\n",
        "insight_df['sex'] = insight_df['sex'].astype(int)\n",
        "insight_df['smoker'] = insight_df['smoker'].astype(int)\n",
        "insight_df['age'] = insight_df['age'].astype(int)\n",
        "insight_df['bmi'] = insight_df['bmi'].astype(float)\n",
        "insight_df['children'] = insight_df['children'].astype(int)\n",
        "\n",
        "insight_X_df = insight_df.copy()\n",
        "insight_X_no_object_df = insight_df.drop('region', 1)\n",
        "insight_df['charges'] = y\n",
        "insight_df\n",
        "# X.columns"
      ],
      "execution_count": null,
      "outputs": [
        {
          "output_type": "execute_result",
          "data": {
            "text/html": [
              "<div>\n",
              "<style scoped>\n",
              "    .dataframe tbody tr th:only-of-type {\n",
              "        vertical-align: middle;\n",
              "    }\n",
              "\n",
              "    .dataframe tbody tr th {\n",
              "        vertical-align: top;\n",
              "    }\n",
              "\n",
              "    .dataframe thead th {\n",
              "        text-align: right;\n",
              "    }\n",
              "</style>\n",
              "<table border=\"1\" class=\"dataframe\">\n",
              "  <thead>\n",
              "    <tr style=\"text-align: right;\">\n",
              "      <th></th>\n",
              "      <th>sex</th>\n",
              "      <th>smoker</th>\n",
              "      <th>age</th>\n",
              "      <th>bmi</th>\n",
              "      <th>children</th>\n",
              "      <th>region</th>\n",
              "      <th>charges</th>\n",
              "    </tr>\n",
              "  </thead>\n",
              "  <tbody>\n",
              "    <tr>\n",
              "      <th>0</th>\n",
              "      <td>1</td>\n",
              "      <td>0</td>\n",
              "      <td>24</td>\n",
              "      <td>23.655</td>\n",
              "      <td>0</td>\n",
              "      <td>northwest</td>\n",
              "      <td>2352.96845</td>\n",
              "    </tr>\n",
              "    <tr>\n",
              "      <th>1</th>\n",
              "      <td>0</td>\n",
              "      <td>0</td>\n",
              "      <td>28</td>\n",
              "      <td>26.510</td>\n",
              "      <td>2</td>\n",
              "      <td>southeast</td>\n",
              "      <td>4340.44090</td>\n",
              "    </tr>\n",
              "    <tr>\n",
              "      <th>2</th>\n",
              "      <td>1</td>\n",
              "      <td>0</td>\n",
              "      <td>51</td>\n",
              "      <td>39.700</td>\n",
              "      <td>1</td>\n",
              "      <td>southwest</td>\n",
              "      <td>9391.34600</td>\n",
              "    </tr>\n",
              "    <tr>\n",
              "      <th>3</th>\n",
              "      <td>1</td>\n",
              "      <td>1</td>\n",
              "      <td>47</td>\n",
              "      <td>36.080</td>\n",
              "      <td>1</td>\n",
              "      <td>southeast</td>\n",
              "      <td>42211.13820</td>\n",
              "    </tr>\n",
              "    <tr>\n",
              "      <th>4</th>\n",
              "      <td>0</td>\n",
              "      <td>0</td>\n",
              "      <td>46</td>\n",
              "      <td>28.900</td>\n",
              "      <td>2</td>\n",
              "      <td>southwest</td>\n",
              "      <td>8823.27900</td>\n",
              "    </tr>\n",
              "    <tr>\n",
              "      <th>...</th>\n",
              "      <td>...</td>\n",
              "      <td>...</td>\n",
              "      <td>...</td>\n",
              "      <td>...</td>\n",
              "      <td>...</td>\n",
              "      <td>...</td>\n",
              "      <td>...</td>\n",
              "    </tr>\n",
              "    <tr>\n",
              "      <th>998</th>\n",
              "      <td>0</td>\n",
              "      <td>0</td>\n",
              "      <td>18</td>\n",
              "      <td>31.350</td>\n",
              "      <td>4</td>\n",
              "      <td>northeast</td>\n",
              "      <td>4561.18850</td>\n",
              "    </tr>\n",
              "    <tr>\n",
              "      <th>999</th>\n",
              "      <td>0</td>\n",
              "      <td>0</td>\n",
              "      <td>39</td>\n",
              "      <td>23.870</td>\n",
              "      <td>5</td>\n",
              "      <td>southeast</td>\n",
              "      <td>8582.30230</td>\n",
              "    </tr>\n",
              "    <tr>\n",
              "      <th>1000</th>\n",
              "      <td>1</td>\n",
              "      <td>0</td>\n",
              "      <td>58</td>\n",
              "      <td>25.175</td>\n",
              "      <td>0</td>\n",
              "      <td>northeast</td>\n",
              "      <td>11931.12525</td>\n",
              "    </tr>\n",
              "    <tr>\n",
              "      <th>1001</th>\n",
              "      <td>0</td>\n",
              "      <td>1</td>\n",
              "      <td>37</td>\n",
              "      <td>47.600</td>\n",
              "      <td>2</td>\n",
              "      <td>southwest</td>\n",
              "      <td>46113.51100</td>\n",
              "    </tr>\n",
              "    <tr>\n",
              "      <th>1002</th>\n",
              "      <td>1</td>\n",
              "      <td>0</td>\n",
              "      <td>55</td>\n",
              "      <td>29.900</td>\n",
              "      <td>0</td>\n",
              "      <td>southwest</td>\n",
              "      <td>10214.63600</td>\n",
              "    </tr>\n",
              "  </tbody>\n",
              "</table>\n",
              "<p>1003 rows × 7 columns</p>\n",
              "</div>"
            ],
            "text/plain": [
              "      sex  smoker  age     bmi  children     region      charges\n",
              "0       1       0   24  23.655         0  northwest   2352.96845\n",
              "1       0       0   28  26.510         2  southeast   4340.44090\n",
              "2       1       0   51  39.700         1  southwest   9391.34600\n",
              "3       1       1   47  36.080         1  southeast  42211.13820\n",
              "4       0       0   46  28.900         2  southwest   8823.27900\n",
              "...   ...     ...  ...     ...       ...        ...          ...\n",
              "998     0       0   18  31.350         4  northeast   4561.18850\n",
              "999     0       0   39  23.870         5  southeast   8582.30230\n",
              "1000    1       0   58  25.175         0  northeast  11931.12525\n",
              "1001    0       1   37  47.600         2  southwest  46113.51100\n",
              "1002    1       0   55  29.900         0  southwest  10214.63600\n",
              "\n",
              "[1003 rows x 7 columns]"
            ]
          },
          "metadata": {
            "tags": []
          },
          "execution_count": 20
        }
      ]
    },
    {
      "cell_type": "markdown",
      "metadata": {
        "id": "Dth4hFU9IAr1"
      },
      "source": [
        "## **Phân tích dữ liệu**"
      ]
    },
    {
      "cell_type": "markdown",
      "metadata": {
        "id": "mukvC_8GtUiK"
      },
      "source": [
        "### Vẽ biểu đồ một biến và nhận xét"
      ]
    },
    {
      "cell_type": "code",
      "metadata": {
        "colab": {
          "base_uri": "https://localhost:8080/",
          "height": 270
        },
        "id": "0Nle3qW1g02G",
        "outputId": "6ae7ed79-0c1f-4711-8fd1-919ca716acb0"
      },
      "source": [
        "sns.boxplot(data=insight_df, y='charges')"
      ],
      "execution_count": null,
      "outputs": [
        {
          "output_type": "execute_result",
          "data": {
            "text/plain": [
              "<matplotlib.axes._subplots.AxesSubplot at 0x7f90797ac150>"
            ]
          },
          "metadata": {
            "tags": []
          },
          "execution_count": 21
        },
        {
          "output_type": "display_data",
          "data": {
            "image/png": "[encoded data removed]",
            "text/plain": [
              "<Figure size 432x288 with 1 Axes>"
            ]
          },
          "metadata": {
            "tags": [],
            "needs_background": "light"
          }
        }
      ]
    },
    {
      "cell_type": "markdown",
      "metadata": {
        "id": "J9iem3_1h09O"
      },
      "source": [
        "Nhận xét: Biến charges có phân bố bị lệch trái, nhiều outlier"
      ]
    },
    {
      "cell_type": "code",
      "metadata": {
        "colab": {
          "base_uri": "https://localhost:8080/",
          "height": 270
        },
        "id": "zll5E5Z8hICD",
        "outputId": "e260974c-556d-4ba5-f989-42d2aae97452"
      },
      "source": [
        "sns.boxplot(data=insight_df, y='age')"
      ],
      "execution_count": null,
      "outputs": [
        {
          "output_type": "execute_result",
          "data": {
            "text/plain": [
              "<matplotlib.axes._subplots.AxesSubplot at 0x7f907971a350>"
            ]
          },
          "metadata": {
            "tags": []
          },
          "execution_count": 22
        },
        {
          "output_type": "display_data",
          "data": {
            "image/png": "[encoded data removed]",
            "text/plain": [
              "<Figure size 432x288 with 1 Axes>"
            ]
          },
          "metadata": {
            "tags": [],
            "needs_background": "light"
          }
        }
      ]
    },
    {
      "cell_type": "markdown",
      "metadata": {
        "id": "J9r2cb2-kQzN"
      },
      "source": [
        "Nhận xét: Biến age có phân bố chuẩn"
      ]
    },
    {
      "cell_type": "code",
      "metadata": {
        "colab": {
          "base_uri": "https://localhost:8080/",
          "height": 270
        },
        "id": "AhK48GskhtSO",
        "outputId": "4d6dce05-5c54-4c5f-d8a2-6f690ccb5763"
      },
      "source": [
        "sns.boxplot(data=insight_df, y='bmi')"
      ],
      "execution_count": null,
      "outputs": [
        {
          "output_type": "execute_result",
          "data": {
            "text/plain": [
              "<matplotlib.axes._subplots.AxesSubplot at 0x7f90791e3f50>"
            ]
          },
          "metadata": {
            "tags": []
          },
          "execution_count": 23
        },
        {
          "output_type": "display_data",
          "data": {
            "image/png": "[encoded data removed]",
            "text/plain": [
              "<Figure size 432x288 with 1 Axes>"
            ]
          },
          "metadata": {
            "tags": [],
            "needs_background": "light"
          }
        }
      ]
    },
    {
      "cell_type": "markdown",
      "metadata": {
        "id": "9vxoAgpokYxJ"
      },
      "source": [
        "Nhận xét: Biến bmi có phân bố chuẩn, tồn tại outlier"
      ]
    },
    {
      "cell_type": "code",
      "metadata": {
        "colab": {
          "base_uri": "https://localhost:8080/",
          "height": 352
        },
        "id": "KVPSqYjNd7DH",
        "outputId": "bafbcc2b-c894-45e9-e07a-3d9103354c9b"
      },
      "source": [
        "sns.distplot(insight_df['sex'], hist=True, kde=False, \n",
        "             bins=20, color = 'blue',\n",
        "             hist_kws={'edgecolor':'black'})\n",
        "plt.xlabel('Sex')\n",
        "plt.ylabel('Frequency')"
      ],
      "execution_count": null,
      "outputs": [
        {
          "output_type": "stream",
          "text": [
            "/usr/local/lib/python3.7/dist-packages/seaborn/distributions.py:2557: FutureWarning: `distplot` is a deprecated function and will be removed in a future version. Please adapt your code to use either `displot` (a figure-level function with similar flexibility) or `histplot` (an axes-level function for histograms).\n",
            "  warnings.warn(msg, FutureWarning)\n"
          ],
          "name": "stderr"
        },
        {
          "output_type": "execute_result",
          "data": {
            "text/plain": [
              "Text(0, 0.5, 'Frequency')"
            ]
          },
          "metadata": {
            "tags": []
          },
          "execution_count": 24
        },
        {
          "output_type": "display_data",
          "data": {
            "image/png": "[encoded data removed]",
            "text/plain": [
              "<Figure size 432x288 with 1 Axes>"
            ]
          },
          "metadata": {
            "tags": [],
            "needs_background": "light"
          }
        }
      ]
    },
    {
      "cell_type": "markdown",
      "metadata": {
        "id": "nUi62uoplLi-"
      },
      "source": [
        "Nhận xét: Tỉ lệ nam nữ bằng nhau"
      ]
    },
    {
      "cell_type": "code",
      "metadata": {
        "colab": {
          "base_uri": "https://localhost:8080/",
          "height": 352
        },
        "id": "2oFG1VZ0gEbk",
        "outputId": "1f8b178c-75aa-4750-8126-7df9d0f1ad20"
      },
      "source": [
        "sns.distplot(insight_df['smoker'], hist=True, kde=False, \n",
        "             bins=20, color = 'blue',\n",
        "             hist_kws={'edgecolor':'black'})\n",
        "plt.xlabel('Smoker')\n",
        "plt.ylabel('Frequency')"
      ],
      "execution_count": null,
      "outputs": [
        {
          "output_type": "stream",
          "text": [
            "/usr/local/lib/python3.7/dist-packages/seaborn/distributions.py:2557: FutureWarning: `distplot` is a deprecated function and will be removed in a future version. Please adapt your code to use either `displot` (a figure-level function with similar flexibility) or `histplot` (an axes-level function for histograms).\n",
            "  warnings.warn(msg, FutureWarning)\n"
          ],
          "name": "stderr"
        },
        {
          "output_type": "execute_result",
          "data": {
            "text/plain": [
              "Text(0, 0.5, 'Frequency')"
            ]
          },
          "metadata": {
            "tags": []
          },
          "execution_count": 25
        },
        {
          "output_type": "display_data",
          "data": {
            "image/png": "[encoded data removed]",
            "text/plain": [
              "<Figure size 432x288 with 1 Axes>"
            ]
          },
          "metadata": {
            "tags": [],
            "needs_background": "light"
          }
        }
      ]
    },
    {
      "cell_type": "markdown",
      "metadata": {
        "id": "zHGJWRwRlf8Y"
      },
      "source": [
        "Nhận xét: Tỉ lệ người không hút thuốc gấp 4 lần người hút thuốc"
      ]
    },
    {
      "cell_type": "code",
      "metadata": {
        "colab": {
          "base_uri": "https://localhost:8080/",
          "height": 352
        },
        "id": "SnKi5N1SfdIm",
        "outputId": "2020bd93-f7ab-4d3c-8f4e-3cdb93ada59b"
      },
      "source": [
        "sns.distplot(insight_df['children'], hist=True, kde=False, \n",
        "             bins=20, color = 'blue',\n",
        "             hist_kws={'edgecolor':'black'})\n",
        "plt.xlabel('Children')\n",
        "plt.ylabel('Frequency')"
      ],
      "execution_count": null,
      "outputs": [
        {
          "output_type": "stream",
          "text": [
            "/usr/local/lib/python3.7/dist-packages/seaborn/distributions.py:2557: FutureWarning: `distplot` is a deprecated function and will be removed in a future version. Please adapt your code to use either `displot` (a figure-level function with similar flexibility) or `histplot` (an axes-level function for histograms).\n",
            "  warnings.warn(msg, FutureWarning)\n"
          ],
          "name": "stderr"
        },
        {
          "output_type": "execute_result",
          "data": {
            "text/plain": [
              "Text(0, 0.5, 'Frequency')"
            ]
          },
          "metadata": {
            "tags": []
          },
          "execution_count": 26
        },
        {
          "output_type": "display_data",
          "data": {
            "image/png": "[encoded data removed]",
            "text/plain": [
              "<Figure size 432x288 with 1 Axes>"
            ]
          },
          "metadata": {
            "tags": [],
            "needs_background": "light"
          }
        }
      ]
    },
    {
      "cell_type": "markdown",
      "metadata": {
        "id": "MCQ8NK_EmYJG"
      },
      "source": [
        "Nhận xét: Tỉ lệ người có càng nhiều con giảm dần "
      ]
    },
    {
      "cell_type": "markdown",
      "metadata": {
        "id": "RmfAwXpLRZ_M"
      },
      "source": [
        "### Vẽ biểu đồ các biến tương quan và nhận xét"
      ]
    },
    {
      "cell_type": "markdown",
      "metadata": {
        "id": "rQyCOrFCG9Gk"
      },
      "source": [
        "Tính ma trận tương quan"
      ]
    },
    {
      "cell_type": "code",
      "metadata": {
        "colab": {
          "base_uri": "https://localhost:8080/",
          "height": 446
        },
        "id": "MzdAOhZ7GEAI",
        "outputId": "2edeff0b-5f06-4504-fa12-a237f3402bbd"
      },
      "source": [
        "corr = insight_df.corr()\n",
        "plt.figure(figsize=(7, 7))\n",
        "sns.heatmap(corr,square=True, annot=True, cbar=False, fmt='.3f', cmap='Reds')"
      ],
      "execution_count": null,
      "outputs": [
        {
          "output_type": "execute_result",
          "data": {
            "text/plain": [
              "<matplotlib.axes._subplots.AxesSubplot at 0x7f90791ca450>"
            ]
          },
          "metadata": {
            "tags": []
          },
          "execution_count": 27
        },
        {
          "output_type": "display_data",
          "data": {
            "image/png": "[encoded data removed]",
            "text/plain": [
              "<Figure size 504x504 with 1 Axes>"
            ]
          },
          "metadata": {
            "tags": [],
            "needs_background": "light"
          }
        }
      ]
    },
    {
      "cell_type": "markdown",
      "metadata": {
        "id": "stC3P6xaH0NU"
      },
      "source": [
        "Có thể thấy những thuộc tính như age (yếu), bmi (yếu), smoker (mạnh) có tương quan với thuộc tính charges"
      ]
    },
    {
      "cell_type": "code",
      "metadata": {
        "colab": {
          "base_uri": "https://localhost:8080/",
          "height": 297
        },
        "id": "ITECGvaQJTHi",
        "outputId": "7f616018-98a2-435a-de63-1d958404d583"
      },
      "source": [
        "sns.boxplot(data=insight_df, x='smoker', y='charges')"
      ],
      "execution_count": null,
      "outputs": [
        {
          "output_type": "execute_result",
          "data": {
            "text/plain": [
              "<matplotlib.axes._subplots.AxesSubplot at 0x7f9070ec6dd0>"
            ]
          },
          "metadata": {
            "tags": []
          },
          "execution_count": 28
        },
        {
          "output_type": "display_data",
          "data": {
            "image/png": "[encoded data removed]",
            "text/plain": [
              "<Figure size 432x288 with 1 Axes>"
            ]
          },
          "metadata": {
            "tags": [],
            "needs_background": "light"
          }
        }
      ]
    },
    {
      "cell_type": "markdown",
      "metadata": {
        "id": "120VZ1MwKsB9"
      },
      "source": [
        "Biểu đồ trên cho ta thấy người hút thuốc thì có chi phí y tế cao hơn, cụ thể :\n",
        "- hơn 75% người hút thuốc trả chi phí cao hơn hầu hết tất cả người không hút thuốc\n",
        "- chi phí thấp nhất của người hút thuốc chỉ nhỉnh hơn một chút so với chi phí của 75% người không hút thuốc.\n",
        "- nếu chi phí dưới 10k, xác suất cao là người đó không hút thuốc\n",
        "- nếu chi phí trên 20k, xác suất cao là người đó hút thuốc"
      ]
    },
    {
      "cell_type": "code",
      "metadata": {
        "colab": {
          "base_uri": "https://localhost:8080/",
          "height": 297
        },
        "id": "bKx-V6VcJfbR",
        "outputId": "475a3b75-ac06-4437-c52b-23fdeb90a44f"
      },
      "source": [
        "sns.scatterplot(data=insight_df, x='age', y='charges', hue='smoker')"
      ],
      "execution_count": null,
      "outputs": [
        {
          "output_type": "execute_result",
          "data": {
            "text/plain": [
              "<matplotlib.axes._subplots.AxesSubplot at 0x7f9070e50b90>"
            ]
          },
          "metadata": {
            "tags": []
          },
          "execution_count": 29
        },
        {
          "output_type": "display_data",
          "data": {
            "image/png": "[encoded data removed]",
            "text/plain": [
              "<Figure size 432x288 with 1 Axes>"
            ]
          },
          "metadata": {
            "tags": [],
            "needs_background": "light"
          }
        }
      ]
    },
    {
      "cell_type": "markdown",
      "metadata": {
        "id": "wnCRI3hiM0gF"
      },
      "source": [
        "Nhìn vào biểu đồ trên, ta thấy\n",
        "- người càng cao tuổi thì số tiền chi cho y tế càng nhiều\n",
        "- Nếu dưới 35 tuổi và không hút thuốc thì khả năng cao chi phí dưới 6k"
      ]
    },
    {
      "cell_type": "code",
      "metadata": {
        "colab": {
          "base_uri": "https://localhost:8080/",
          "height": 297
        },
        "id": "JUMurDf3QY8V",
        "outputId": "e6a6641d-dce2-4028-c355-12665297adb0"
      },
      "source": [
        "sns.scatterplot(data=insight_df, x='bmi', y='charges', hue='smoker')"
      ],
      "execution_count": null,
      "outputs": [
        {
          "output_type": "execute_result",
          "data": {
            "text/plain": [
              "<matplotlib.axes._subplots.AxesSubplot at 0x7f906fadead0>"
            ]
          },
          "metadata": {
            "tags": []
          },
          "execution_count": 30
        },
        {
          "output_type": "display_data",
          "data": {
            "image/png": "[encoded data removed]",
            "text/plain": [
              "<Figure size 432x288 with 1 Axes>"
            ]
          },
          "metadata": {
            "tags": [],
            "needs_background": "light"
          }
        }
      ]
    },
    {
      "cell_type": "markdown",
      "metadata": {
        "id": "C-AT3_clQz3R"
      },
      "source": [
        "- Người hút thuốc và có chỉ số BMI lớn hơn 30 thì chi phí tổi thiểu là khoảng 30k"
      ]
    },
    {
      "cell_type": "markdown",
      "metadata": {
        "id": "Bl8A59xzlvMj"
      },
      "source": [
        "### VIF"
      ]
    },
    {
      "cell_type": "code",
      "metadata": {
        "id": "gGgIugVBlvoz",
        "colab": {
          "base_uri": "https://localhost:8080/"
        },
        "outputId": "09c46f40-cd5f-4d8b-8577-c54a8069585e"
      },
      "source": [
        "from statsmodels.stats.outliers_influence import variance_inflation_factor\n",
        "\n",
        "\n",
        "# VIF dataframe\n",
        "vif_data = pd.DataFrame()\n",
        "vif_data[\"feature\"] = insight_X_no_object_df.columns\n",
        "  \n",
        "# calculating VIF for each feature\n",
        "vif_data[\"VIF\"] = [variance_inflation_factor(insight_X_no_object_df.values, i)\n",
        "                          for i in range(len(insight_X_no_object_df.columns))]\n",
        "  \n",
        "print(vif_data)"
      ],
      "execution_count": null,
      "outputs": [
        {
          "output_type": "stream",
          "text": [
            "    feature       VIF\n",
            "0       sex  1.966855\n",
            "1    smoker  1.254563\n",
            "2       age  7.658193\n",
            "3       bmi  8.638958\n",
            "4  children  1.816248\n"
          ],
          "name": "stdout"
        },
        {
          "output_type": "stream",
          "text": [
            "/usr/local/lib/python3.7/dist-packages/statsmodels/tools/_testing.py:19: FutureWarning: pandas.util.testing is deprecated. Use the functions in the public API at pandas.testing instead.\n",
            "  import pandas.util.testing as tm\n"
          ],
          "name": "stderr"
        }
      ]
    },
    {
      "cell_type": "markdown",
      "metadata": {
        "id": "z9gAkTQtaKN3"
      },
      "source": [
        "1 = Không tương quan\n",
        "\n",
        "Giữa 1 và 5 = Tương quan vừa\n",
        "\n",
        "Lớn hơn 5 = Tương quan mạnh\n",
        "\n",
        "(Tham khảo : [1])\n",
        "\n",
        "\n",
        "Ta thấy các biến `sex`, `smoker`, `children` tương quan vừa với các biến còn lại. \n",
        "\n",
        "`age` và `bmi` có sự tương quan mạnh với các biến còn lại\n",
        "\n",
        "Nên thu thập thêm data để giảm sự phụ thuộc giữa các biến"
      ]
    },
    {
      "cell_type": "markdown",
      "metadata": {
        "id": "LyEI1TlyAjXW"
      },
      "source": [
        "### Insight: Sex có ảnh hưởng đến Smoker?\n"
      ]
    },
    {
      "cell_type": "markdown",
      "metadata": {
        "id": "f76h7MXBQHBx"
      },
      "source": [
        "\n",
        "${H_0}$: sex và smoker độc lập nhau\n",
        "\n",
        "${H_A}$: sex và smoker phụ thuộc nhau\n",
        "\n",
        "</br>\n",
        "\n",
        "Đặt:\n",
        "\n",
        "${A =}$  sex, ${A_1 =}$ `male`, ${A_2}$ = `female`\n",
        "\n",
        "${B =}$ smoker, ${B_1 =}$ `yes`, ${B_2 =}$ `no`\n",
        "\n",
        "</br>\n",
        "\n",
        "Ta có:\n",
        "\n",
        "${H_0}$: ${P(A_i\\cap B_j) = P(A_i)P(B_j)}$\n",
        "\n",
        "${H_A}$: ${P(A_i\\cap B_j) \\neq P(A_i)P(B_j)}$\n",
        "\n",
        "</br>\n",
        "\n",
        "Phần dưới sẽ trình bày về mặt toán học lẫn sử dụng thư viện scipy.stats để tính toán\n",
        "\n",
        "</br>"
      ]
    },
    {
      "cell_type": "code",
      "metadata": {
        "id": "GkMOpM-5BCs-"
      },
      "source": [
        "from scipy.stats import chi2_contingency\n",
        "from scipy.stats import chi2"
      ],
      "execution_count": null,
      "outputs": []
    },
    {
      "cell_type": "code",
      "metadata": {
        "id": "PLHoYJ9YBwv2"
      },
      "source": [
        "insight_df_1 = insight_df.copy()\n",
        "insight_df_1['sex'] = insight_df_1['sex'].replace(1,'male')\n",
        "insight_df_1['sex'] = insight_df_1['sex'].replace(0,'female')\n",
        "insight_df_1['smoker'] = insight_df_1['smoker'].replace(1,'yes')\n",
        "insight_df_1['smoker']= insight_df_1['smoker'].replace(0,'no')"
      ],
      "execution_count": null,
      "outputs": []
    },
    {
      "cell_type": "code",
      "metadata": {
        "colab": {
          "base_uri": "https://localhost:8080/",
          "height": 135
        },
        "id": "JD6hzEtKBVlB",
        "outputId": "999df379-8cf3-4b64-c8b9-ed584cce491c"
      },
      "source": [
        "contigency= pd.crosstab(insight_df_1['sex'], insight_df_1['smoker']) \n",
        "contigency"
      ],
      "execution_count": null,
      "outputs": [
        {
          "output_type": "execute_result",
          "data": {
            "text/html": [
              "<div>\n",
              "<style scoped>\n",
              "    .dataframe tbody tr th:only-of-type {\n",
              "        vertical-align: middle;\n",
              "    }\n",
              "\n",
              "    .dataframe tbody tr th {\n",
              "        vertical-align: top;\n",
              "    }\n",
              "\n",
              "    .dataframe thead th {\n",
              "        text-align: right;\n",
              "    }\n",
              "</style>\n",
              "<table border=\"1\" class=\"dataframe\">\n",
              "  <thead>\n",
              "    <tr style=\"text-align: right;\">\n",
              "      <th>smoker</th>\n",
              "      <th>no</th>\n",
              "      <th>yes</th>\n",
              "    </tr>\n",
              "    <tr>\n",
              "      <th>sex</th>\n",
              "      <th></th>\n",
              "      <th></th>\n",
              "    </tr>\n",
              "  </thead>\n",
              "  <tbody>\n",
              "    <tr>\n",
              "      <th>female</th>\n",
              "      <td>406</td>\n",
              "      <td>91</td>\n",
              "    </tr>\n",
              "    <tr>\n",
              "      <th>male</th>\n",
              "      <td>391</td>\n",
              "      <td>115</td>\n",
              "    </tr>\n",
              "  </tbody>\n",
              "</table>\n",
              "</div>"
            ],
            "text/plain": [
              "smoker   no  yes\n",
              "sex             \n",
              "female  406   91\n",
              "male    391  115"
            ]
          },
          "metadata": {
            "tags": []
          },
          "execution_count": 34
        }
      ]
    },
    {
      "cell_type": "code",
      "metadata": {
        "id": "GwBq9CmkCRbV"
      },
      "source": [
        "contigency.columns = ['no', 'yes']"
      ],
      "execution_count": null,
      "outputs": []
    },
    {
      "cell_type": "code",
      "metadata": {
        "colab": {
          "base_uri": "https://localhost:8080/",
          "height": 135
        },
        "id": "3m4IZzJoC5vQ",
        "outputId": "176cab37-db2e-465c-f718-8d2c7c79cdf2"
      },
      "source": [
        "contigency['Pr(Ai)'] = contigency['no'] + contigency['yes']\n",
        "sum_table = sum(contigency['Pr(Ai)'])\n",
        "contigency['Pr(Ai)'] = contigency['Pr(Ai)']/sum_table\n",
        "contigency"
      ],
      "execution_count": null,
      "outputs": [
        {
          "output_type": "execute_result",
          "data": {
            "text/html": [
              "<div>\n",
              "<style scoped>\n",
              "    .dataframe tbody tr th:only-of-type {\n",
              "        vertical-align: middle;\n",
              "    }\n",
              "\n",
              "    .dataframe tbody tr th {\n",
              "        vertical-align: top;\n",
              "    }\n",
              "\n",
              "    .dataframe thead th {\n",
              "        text-align: right;\n",
              "    }\n",
              "</style>\n",
              "<table border=\"1\" class=\"dataframe\">\n",
              "  <thead>\n",
              "    <tr style=\"text-align: right;\">\n",
              "      <th></th>\n",
              "      <th>no</th>\n",
              "      <th>yes</th>\n",
              "      <th>Pr(Ai)</th>\n",
              "    </tr>\n",
              "    <tr>\n",
              "      <th>sex</th>\n",
              "      <th></th>\n",
              "      <th></th>\n",
              "      <th></th>\n",
              "    </tr>\n",
              "  </thead>\n",
              "  <tbody>\n",
              "    <tr>\n",
              "      <th>female</th>\n",
              "      <td>406</td>\n",
              "      <td>91</td>\n",
              "      <td>0.495513</td>\n",
              "    </tr>\n",
              "    <tr>\n",
              "      <th>male</th>\n",
              "      <td>391</td>\n",
              "      <td>115</td>\n",
              "      <td>0.504487</td>\n",
              "    </tr>\n",
              "  </tbody>\n",
              "</table>\n",
              "</div>"
            ],
            "text/plain": [
              "         no  yes    Pr(Ai)\n",
              "sex                       \n",
              "female  406   91  0.495513\n",
              "male    391  115  0.504487"
            ]
          },
          "metadata": {
            "tags": []
          },
          "execution_count": 36
        }
      ]
    },
    {
      "cell_type": "code",
      "metadata": {
        "colab": {
          "base_uri": "https://localhost:8080/"
        },
        "id": "jPRGFXWxCYS9",
        "outputId": "d16d6cd4-86c2-445b-9466-7d311f6d798f"
      },
      "source": [
        "\n",
        "Pr_No = sum(contigency['no'])/sum_table\n",
        "Pr_Yes = sum(contigency['yes'])/sum_table\n",
        "\n",
        "PrBj = [Pr_No,Pr_Yes]\n",
        "print(f'Pr_No = {Pr_No}\\nPr_Yes = {Pr_Yes}\\n')\n",
        "print(sum(PrBj))"
      ],
      "execution_count": null,
      "outputs": [
        {
          "output_type": "stream",
          "text": [
            "Pr_No = 0.7946161515453639\n",
            "Pr_Yes = 0.2053838484546361\n",
            "\n",
            "1.0\n"
          ],
          "name": "stdout"
        }
      ]
    },
    {
      "cell_type": "markdown",
      "metadata": {
        "id": "Bo10kOnqDW22"
      },
      "source": [
        "Ta đã tính được ${Pr(A_i)}$ như bảng trên và \n",
        "\n",
        "${Pr(B_1)}$ = 0.2053838484546361\n",
        "\n",
        "${Pr(B_2)}$ =  0.7946161515453639\n",
        "\n",
        "---\n",
        "\n",
        "Đến đây ta có thể tính:\n",
        "\n",
        "Giá trị mong đợi ${E}$:\n",
        "\n",
        "\\begin{equation}\n",
        "\\text{Do kỳ vọng A và B độc lập:}\\\\\n",
        "E_{ij} = Pr(A_i) \\times Pr(B_j) \\times N [2]\\\\\n",
        "\\text{hay}\\\\\n",
        "E_{ij} = \\frac{\\text{(Tổng dòng} \\times \\text{Tổng cột)}}{\\text{Tổng bảng}} [3]   \\\\ \n",
        "\\text{với bảng là bảng contingency}\n",
        "\\end{equation}\n",
        "\n",
        "Giá trị ${\\chi^2}$:\n",
        "\n",
        "\\begin{equation}\n",
        "\\chi^2=\\Sigma\\frac{(O-E)^2}{E} [2][3]\\\\\n",
        "\\text{với O là giá trị thực sự và E là giá trị mong đợi}\n",
        "\\end{equation}\n",
        "\n",
        "Giá trị dof: Degree of freedom\n",
        "\n",
        "dof cho ${\\chi^2}$ độc lập:\n",
        "\n",
        "\\begin{equation}\n",
        "dof = v = rc - 1 - (r-1) - (c-1) = (r-1)(c-1) [2]\\\\ = 1\n",
        "\\end{equation}\n",
        "\n",
        "Chọn mức ý nghĩa:\n",
        "\n",
        "\\begin{equation}\n",
        "\\alpha = 0.05\n",
        "\\end{equation}\n",
        "\n",
        "Tra bảng Chi Squared với ${\\alpha = 0.05, dof = 1}$ ta được critical value ${ = 3.841459}$\t\n",
        "\n",
        "Chấp nhận ${H_0}$ nếu \n",
        "\\begin{equation}\n",
        "\\chi^2_v <= 3.841459\n",
        "\\end{equation}"
      ]
    },
    {
      "cell_type": "markdown",
      "metadata": {
        "id": "7Q9W2lKGEgjt"
      },
      "source": [
        "</br>\n",
        "\n",
        "Ta có thể sử dụng `chi2_contingency` của thư viện spicy để tính toán:\n"
      ]
    },
    {
      "cell_type": "code",
      "metadata": {
        "colab": {
          "base_uri": "https://localhost:8080/"
        },
        "id": "OgiXX-NFEAyP",
        "outputId": "197e2e86-5ebd-4b45-cecb-488fe8c2a1bd"
      },
      "source": [
        "# [3]Source:  https://towardsdatascience.com/gentle-introduction-to-chi-square-test-for-independence-7182a7414a95\n",
        "chi, pval, dof, expected = chi2_contingency(contigency.drop(['Pr(Ai)'],1))\n",
        "print('p-value là: ', pval)\n",
        "significance = 0.05\n",
        "p = 1 - significance\n",
        "critical_value = chi2.ppf(p, dof)\n",
        "print('chi = %.6f, critical value = %.6f\\n' % (chi, critical_value))\n",
        "if chi > critical_value:\n",
        "    print(\"\"\"Với mức ý nghĩa %.2f, ta bác bỏ Ho và chấp nhận HA. \n",
        "Kết luận: sex và smoker không độc lập.\"\"\" % (significance))\n",
        "else:\n",
        "    print(\"\"\"Với mức ý nghĩa %.2f, ta bác bỏ HA và chấp nhận H0. \n",
        "Kết luận: sex và smoker độc lập.\"\"\" % (significance))"
      ],
      "execution_count": null,
      "outputs": [
        {
          "output_type": "stream",
          "text": [
            "p-value là:  0.09827321674727184\n",
            "chi = 2.733346, critical value = 3.841459\n",
            "\n",
            "Với mức ý nghĩa 0.05, ta bác bỏ HA và chấp nhận H0. \n",
            "Kết luận: sex và smoker độc lập.\n"
          ],
          "name": "stdout"
        }
      ]
    },
    {
      "cell_type": "code",
      "metadata": {
        "colab": {
          "base_uri": "https://localhost:8080/"
        },
        "id": "qalNI0NhJznO",
        "outputId": "cd950395-6a2f-409c-e8c2-32f40705946c"
      },
      "source": [
        "chi"
      ],
      "execution_count": null,
      "outputs": [
        {
          "output_type": "execute_result",
          "data": {
            "text/plain": [
              "2.7333457250617705"
            ]
          },
          "metadata": {
            "tags": []
          },
          "execution_count": 39
        }
      ]
    },
    {
      "cell_type": "markdown",
      "metadata": {
        "id": "0125b8h1EjfN"
      },
      "source": [
        "Ta kiểm tra, không dùng thư viện:\n",
        "\n",
        "</br>"
      ]
    },
    {
      "cell_type": "code",
      "metadata": {
        "colab": {
          "base_uri": "https://localhost:8080/",
          "height": 164
        },
        "id": "-CNtXZw9IIlk",
        "outputId": "c566bd83-27c8-4f81-fb0c-63ae60b40f36"
      },
      "source": [
        "append_data = []\n",
        "for sex in insight_df_1['sex'].unique():\n",
        "  append_data.append(insight_df_1['smoker'][insight_df_1['sex'] == f'{sex}'].value_counts().rename_axis('smoker').reset_index(name='count'))\n",
        "# items_df['Accidents'].value_counts().rename_axis('Accidents').reset_index(name='Frequency')\n",
        "contigency_1 = pd.concat(append_data)\n",
        "contigency_1.reset_index(inplace = True)\n",
        "contigency_1\n",
        "\n",
        "contigency_1['sex'] = np.nan\n",
        "i = 0\n",
        "pd.options.mode.chained_assignment = None  # default='warn'\n",
        "\n",
        "for sex in insight_df_1['sex'].unique():\n",
        "  contigency_1['sex'][i] = f'{sex}'\n",
        "  contigency_1['sex'][i+1] = f'{sex}'\n",
        "  i = i + 2\n",
        "\n",
        "contigency_1 = contigency_1.reindex(columns = ['smoker', 'sex', 'count'])\n",
        "contigency_1"
      ],
      "execution_count": null,
      "outputs": [
        {
          "output_type": "execute_result",
          "data": {
            "text/html": [
              "<div>\n",
              "<style scoped>\n",
              "    .dataframe tbody tr th:only-of-type {\n",
              "        vertical-align: middle;\n",
              "    }\n",
              "\n",
              "    .dataframe tbody tr th {\n",
              "        vertical-align: top;\n",
              "    }\n",
              "\n",
              "    .dataframe thead th {\n",
              "        text-align: right;\n",
              "    }\n",
              "</style>\n",
              "<table border=\"1\" class=\"dataframe\">\n",
              "  <thead>\n",
              "    <tr style=\"text-align: right;\">\n",
              "      <th></th>\n",
              "      <th>smoker</th>\n",
              "      <th>sex</th>\n",
              "      <th>count</th>\n",
              "    </tr>\n",
              "  </thead>\n",
              "  <tbody>\n",
              "    <tr>\n",
              "      <th>0</th>\n",
              "      <td>no</td>\n",
              "      <td>male</td>\n",
              "      <td>391</td>\n",
              "    </tr>\n",
              "    <tr>\n",
              "      <th>1</th>\n",
              "      <td>yes</td>\n",
              "      <td>male</td>\n",
              "      <td>115</td>\n",
              "    </tr>\n",
              "    <tr>\n",
              "      <th>2</th>\n",
              "      <td>no</td>\n",
              "      <td>female</td>\n",
              "      <td>406</td>\n",
              "    </tr>\n",
              "    <tr>\n",
              "      <th>3</th>\n",
              "      <td>yes</td>\n",
              "      <td>female</td>\n",
              "      <td>91</td>\n",
              "    </tr>\n",
              "  </tbody>\n",
              "</table>\n",
              "</div>"
            ],
            "text/plain": [
              "  smoker     sex  count\n",
              "0     no    male    391\n",
              "1    yes    male    115\n",
              "2     no  female    406\n",
              "3    yes  female     91"
            ]
          },
          "metadata": {
            "tags": []
          },
          "execution_count": 40
        }
      ]
    },
    {
      "cell_type": "code",
      "metadata": {
        "colab": {
          "base_uri": "https://localhost:8080/",
          "height": 182
        },
        "id": "y-wz8S7gIz2N",
        "outputId": "57435735-a1d1-4644-c640-51c0ac46d3e3"
      },
      "source": [
        "expectedValue = []\n",
        "\n",
        "for Ai in contigency['Pr(Ai)'][::-1]: #female, male\n",
        "  for Bj in PrBj: # no, yes\n",
        "      expectedValue.append(Ai*Bj*sum_table)\n",
        "\n",
        "chiij = []\n",
        "oij = np.array(contigency_1['count'])\n",
        "\n",
        "for ij in range(0, len(expectedValue)):\n",
        "  chiij.append((oij[ij] - expectedValue[ij])**2/expectedValue[ij])\n",
        "\n",
        "contigency_1['Expected value'] = expectedValue\n",
        "contigency_1['(O_ij - E_ij)^2/E_ij'] = chiij\n",
        "\n",
        "chi_square = sum(contigency_1['(O_ij - E_ij)^2/E_ij'])\n",
        "print('chi_square = ', chi_square)\n",
        "contigency_1.head()"
      ],
      "execution_count": null,
      "outputs": [
        {
          "output_type": "stream",
          "text": [
            "chi_square =  2.997908815661011\n"
          ],
          "name": "stdout"
        },
        {
          "output_type": "execute_result",
          "data": {
            "text/html": [
              "<div>\n",
              "<style scoped>\n",
              "    .dataframe tbody tr th:only-of-type {\n",
              "        vertical-align: middle;\n",
              "    }\n",
              "\n",
              "    .dataframe tbody tr th {\n",
              "        vertical-align: top;\n",
              "    }\n",
              "\n",
              "    .dataframe thead th {\n",
              "        text-align: right;\n",
              "    }\n",
              "</style>\n",
              "<table border=\"1\" class=\"dataframe\">\n",
              "  <thead>\n",
              "    <tr style=\"text-align: right;\">\n",
              "      <th></th>\n",
              "      <th>smoker</th>\n",
              "      <th>sex</th>\n",
              "      <th>count</th>\n",
              "      <th>Expected value</th>\n",
              "      <th>(O_ij - E_ij)^2/E_ij</th>\n",
              "    </tr>\n",
              "  </thead>\n",
              "  <tbody>\n",
              "    <tr>\n",
              "      <th>0</th>\n",
              "      <td>no</td>\n",
              "      <td>male</td>\n",
              "      <td>391</td>\n",
              "      <td>402.075773</td>\n",
              "      <td>0.305099</td>\n",
              "    </tr>\n",
              "    <tr>\n",
              "      <th>1</th>\n",
              "      <td>yes</td>\n",
              "      <td>male</td>\n",
              "      <td>115</td>\n",
              "      <td>103.924227</td>\n",
              "      <td>1.180406</td>\n",
              "    </tr>\n",
              "    <tr>\n",
              "      <th>2</th>\n",
              "      <td>no</td>\n",
              "      <td>female</td>\n",
              "      <td>406</td>\n",
              "      <td>394.924227</td>\n",
              "      <td>0.310623</td>\n",
              "    </tr>\n",
              "    <tr>\n",
              "      <th>3</th>\n",
              "      <td>yes</td>\n",
              "      <td>female</td>\n",
              "      <td>91</td>\n",
              "      <td>102.075773</td>\n",
              "      <td>1.201781</td>\n",
              "    </tr>\n",
              "  </tbody>\n",
              "</table>\n",
              "</div>"
            ],
            "text/plain": [
              "  smoker     sex  count  Expected value  (O_ij - E_ij)^2/E_ij\n",
              "0     no    male    391      402.075773              0.305099\n",
              "1    yes    male    115      103.924227              1.180406\n",
              "2     no  female    406      394.924227              0.310623\n",
              "3    yes  female     91      102.075773              1.201781"
            ]
          },
          "metadata": {
            "tags": []
          },
          "execution_count": 41
        }
      ]
    },
    {
      "cell_type": "markdown",
      "metadata": {
        "id": "fXrk6_v-OyY3"
      },
      "source": [
        "Ta thấy:\n",
        "\n",
        "\\begin{equation}\n",
        "\\chi^2_v = 2.997908815661011 < 3.841459\n",
        "\\end{equation}\n",
        "\n",
        "</br>\n",
        "\n",
        "Vậy bác bỏ ${H_A}$ với mức ý nghĩa 0.05, chấp nhận ${H_0}$ \n",
        "\n",
        "</br>\n",
        "\n",
        "<center><font size =\"5\">Kết luận: sex và smoker độc lập</font></center>\n",
        "\n",
        "</br>"
      ]
    },
    {
      "cell_type": "markdown",
      "metadata": {
        "id": "B-Jis1XW_yG0"
      },
      "source": [
        "### Insight: Trung bình của 'age', 'bmi', 'children' giữa người có hút thuốc và người không hút thuốc có bằng nhau"
      ]
    },
    {
      "cell_type": "code",
      "metadata": {
        "id": "M5cNUroyAlgA"
      },
      "source": [
        "numeric_features = ['age', 'bmi', 'children']\n"
      ],
      "execution_count": null,
      "outputs": []
    },
    {
      "cell_type": "code",
      "metadata": {
        "colab": {
          "base_uri": "https://localhost:8080/"
        },
        "id": "j8jcia1lBTj-",
        "outputId": "fd57cc9d-bb8e-43fd-ac24-d6423b4c3c25"
      },
      "source": [
        "from statsmodels.stats.weightstats import ztest\n",
        "\n",
        "significance = 0.05\n",
        "\n",
        "for i in range(len(numeric_features)):\n",
        "    \n",
        "    print(f'\\nHo: trung bình `{numeric_features[i]}` của người có hút thuốc = trung bình `{numeric_features[i]}` của người không hút thuốc\\n')\n",
        "    print(f'\\nHa: trung bình `{numeric_features[i]}` của người có hút thuốc khác trung bình `{numeric_features[i]}` của người không hút thuốc\\n')\n",
        "    stat, p = ztest(insight_df[numeric_features[i]][insight_df['smoker'] == 1],insight_df[numeric_features[i]][insight_df['smoker'] == 0])\n",
        "    print('stat=%.3f, p=%.3f' % (stat, p))\n",
        "    print('\\nKẾT LUẬN: ')\n",
        "    if p >= significance:\n",
        "      print(f'Với mức ý nghĩa {significance}, ta chấp nhận Ho, bác bỏ Ha.\\nTrung bình `{numeric_features[i]}` của người có hút thuốc = trung bình `{numeric_features[i]}` của người không hút thuốc\\n---')\n",
        "    else:\n",
        "      print(f'Với mức ý nghĩa {significance}, ta chấp nhận Ha, bác bỏ Ho.\\nTrung bình `{numeric_features[i]}` của người có hút thuốc khác trung bình `{numeric_features[i]}` của người không hút thuốc\\n---')"
      ],
      "execution_count": null,
      "outputs": [
        {
          "output_type": "stream",
          "text": [
            "\n",
            "Ho: trung bình `age` của người có hút thuốc = trung bình `age` của người không hút thuốc\n",
            "\n",
            "\n",
            "Ha: trung bình `age` của người có hút thuốc khác trung bình `age` của người không hút thuốc\n",
            "\n",
            "stat=-1.200, p=0.230\n",
            "\n",
            "KẾT LUẬN: \n",
            "Với mức ý nghĩa 0.05, ta chấp nhận Ho, bác bỏ Ha.\n",
            "Trung bình `age` của người có hút thuốc = trung bình `age` của người không hút thuốc\n",
            "---\n",
            "\n",
            "Ho: trung bình `bmi` của người có hút thuốc = trung bình `bmi` của người không hút thuốc\n",
            "\n",
            "\n",
            "Ha: trung bình `bmi` của người có hút thuốc khác trung bình `bmi` của người không hút thuốc\n",
            "\n",
            "stat=-0.047, p=0.962\n",
            "\n",
            "KẾT LUẬN: \n",
            "Với mức ý nghĩa 0.05, ta chấp nhận Ho, bác bỏ Ha.\n",
            "Trung bình `bmi` của người có hút thuốc = trung bình `bmi` của người không hút thuốc\n",
            "---\n",
            "\n",
            "Ho: trung bình `children` của người có hút thuốc = trung bình `children` của người không hút thuốc\n",
            "\n",
            "\n",
            "Ha: trung bình `children` của người có hút thuốc khác trung bình `children` của người không hút thuốc\n",
            "\n",
            "stat=0.807, p=0.420\n",
            "\n",
            "KẾT LUẬN: \n",
            "Với mức ý nghĩa 0.05, ta chấp nhận Ho, bác bỏ Ha.\n",
            "Trung bình `children` của người có hút thuốc = trung bình `children` của người không hút thuốc\n",
            "---\n"
          ],
          "name": "stdout"
        }
      ]
    },
    {
      "cell_type": "markdown",
      "metadata": {
        "id": "zuFDiJWAaISu"
      },
      "source": [
        "### Insight: Sự phụ thuộc của `charges` vào `sex`, `smoker`, `age`, `bmi`, `children`"
      ]
    },
    {
      "cell_type": "code",
      "metadata": {
        "id": "j9VSvK_0aDFu"
      },
      "source": [
        "import statsmodels.api as sm\n",
        "import statsmodels.formula.api as smf"
      ],
      "execution_count": null,
      "outputs": []
    },
    {
      "cell_type": "code",
      "metadata": {
        "colab": {
          "base_uri": "https://localhost:8080/"
        },
        "id": "roOI6vQCajQp",
        "outputId": "e6b53b62-56c5-4c69-b106-20a5b6967021"
      },
      "source": [
        "results = sm.OLS(y, sm.add_constant(insight_X_no_object_df)).fit()\n",
        "print(results.summary())"
      ],
      "execution_count": null,
      "outputs": [
        {
          "output_type": "stream",
          "text": [
            "                            OLS Regression Results                            \n",
            "==============================================================================\n",
            "Dep. Variable:                charges   R-squared:                       0.744\n",
            "Model:                            OLS   Adj. R-squared:                  0.743\n",
            "Method:                 Least Squares   F-statistic:                     580.0\n",
            "Date:                Fri, 14 May 2021   Prob (F-statistic):          3.98e-292\n",
            "Time:                        15:44:27   Log-Likelihood:                -10164.\n",
            "No. Observations:                1003   AIC:                         2.034e+04\n",
            "Df Residuals:                     997   BIC:                         2.037e+04\n",
            "Df Model:                           5                                         \n",
            "Covariance Type:            nonrobust                                         \n",
            "==============================================================================\n",
            "                 coef    std err          t      P>|t|      [0.025      0.975]\n",
            "------------------------------------------------------------------------------\n",
            "const       -1.23e+04   1121.474    -10.968      0.000   -1.45e+04   -1.01e+04\n",
            "sex           66.0697    386.570      0.171      0.864    -692.515     824.655\n",
            "smoker      2.363e+04    478.849     49.344      0.000    2.27e+04    2.46e+04\n",
            "age          260.0358     13.870     18.748      0.000     232.818     287.254\n",
            "bmi          327.5600     32.307     10.139      0.000     264.162     390.958\n",
            "children     434.8043    160.590      2.708      0.007     119.671     749.938\n",
            "==============================================================================\n",
            "Omnibus:                      241.068   Durbin-Watson:                   2.068\n",
            "Prob(Omnibus):                  0.000   Jarque-Bera (JB):              592.918\n",
            "Skew:                           1.268   Prob(JB):                    1.78e-129\n",
            "Kurtosis:                       5.785   Cond. No.                         299.\n",
            "==============================================================================\n",
            "\n",
            "Warnings:\n",
            "[1] Standard Errors assume that the covariance matrix of the errors is correctly specified.\n"
          ],
          "name": "stdout"
        }
      ]
    },
    {
      "cell_type": "markdown",
      "metadata": {
        "id": "DSOAeoJMcMVj"
      },
      "source": [
        "</br> \n",
        "\n",
        "Kết luận:\n",
        "\n",
        "- Biến `sex` không có ý nghĩa (có thể loại bỏ)\n",
        "- Biến `smoker` có ý nghĩa đối với mô hình về mặt thống kê (với mức ý nghĩa (***) hay p-value = 0.000)\n",
        "- Biến `age` có ý nghĩa đối với mô hình về mặt thống kê (với mức ý nghĩa (***) hay p-value = 0.000)\n",
        "- Biến `bmi` có ý nghĩa đối với mô hình về mặt thống kê (với mức ý nghĩa (***) hay p-value = 0.000)\n",
        "- Biến `children` không có ý nghĩa (có thể loại bỏ)\n",
        "- Mô hình có thể giải thích được 74.3% sự thay đổi của biến `charges`\n",
        "- Mô hình tương đối tốt (p-value = 1.78e-129)"
      ]
    },
    {
      "cell_type": "markdown",
      "metadata": {
        "id": "Pgr_84L2x55M"
      },
      "source": [
        "Ta huấn luyện lại mô hình dựa theo kết luận trên"
      ]
    },
    {
      "cell_type": "code",
      "metadata": {
        "colab": {
          "base_uri": "https://localhost:8080/"
        },
        "id": "Ox15ATn_x375",
        "outputId": "226069de-9ac7-4df7-b7a8-7cf7e1e2fef3"
      },
      "source": [
        "results = sm.OLS(y, sm.add_constant(insight_X_no_object_df.drop(['sex', 'children'],1))).fit()\n",
        "print(results.summary())"
      ],
      "execution_count": null,
      "outputs": [
        {
          "output_type": "stream",
          "text": [
            "                            OLS Regression Results                            \n",
            "==============================================================================\n",
            "Dep. Variable:                charges   R-squared:                       0.742\n",
            "Model:                            OLS   Adj. R-squared:                  0.741\n",
            "Method:                 Least Squares   F-statistic:                     959.1\n",
            "Date:                Fri, 14 May 2021   Prob (F-statistic):          1.63e-293\n",
            "Time:                        15:44:27   Log-Likelihood:                -10168.\n",
            "No. Observations:                1003   AIC:                         2.034e+04\n",
            "Df Residuals:                     999   BIC:                         2.036e+04\n",
            "Df Model:                           3                                         \n",
            "Covariance Type:            nonrobust                                         \n",
            "==============================================================================\n",
            "                 coef    std err          t      P>|t|      [0.025      0.975]\n",
            "------------------------------------------------------------------------------\n",
            "const      -1.185e+04   1097.537    -10.799      0.000    -1.4e+04   -9698.979\n",
            "smoker      2.367e+04    479.257     49.386      0.000    2.27e+04    2.46e+04\n",
            "age          262.1450     13.884     18.881      0.000     234.900     289.390\n",
            "bmi          326.7252     32.392     10.086      0.000     263.160     390.290\n",
            "==============================================================================\n",
            "Omnibus:                      238.957   Durbin-Watson:                   2.060\n",
            "Prob(Omnibus):                  0.000   Jarque-Bera (JB):              580.364\n",
            "Skew:                           1.263   Prob(JB):                    9.45e-127\n",
            "Kurtosis:                       5.741   Cond. No.                         291.\n",
            "==============================================================================\n",
            "\n",
            "Warnings:\n",
            "[1] Standard Errors assume that the covariance matrix of the errors is correctly specified.\n"
          ],
          "name": "stdout"
        }
      ]
    },
    {
      "cell_type": "code",
      "metadata": {
        "id": "VxAaCyA4d4ma",
        "colab": {
          "base_uri": "https://localhost:8080/"
        },
        "outputId": "d92986c6-1dd4-4cdf-9802-d0afffcd60a5"
      },
      "source": [
        "print('Parameters: ', results.params)"
      ],
      "execution_count": null,
      "outputs": [
        {
          "output_type": "stream",
          "text": [
            "Parameters:  const    -11852.720452\n",
            "smoker    23668.497446\n",
            "age         262.144961\n",
            "bmi         326.725200\n",
            "dtype: float64\n"
          ],
          "name": "stdout"
        }
      ]
    },
    {
      "cell_type": "markdown",
      "metadata": {
        "id": "ucZqigV5fX85"
      },
      "source": [
        "Ta thấy:\n",
        "\n",
        "- Cứ tăng 1 tuổi thì chi phí y tế cá nhân tăng 262.144961, tăng 1 chỉ số bmi thì tăng 326.725200 chi phí y tế cá nhân\n",
        "- Riêng với smoker, người có hút thuốc thì có chi phí y tế cá nhân cao hơn người không hút thuốc đến 23668.497446\n"
      ]
    },
    {
      "cell_type": "markdown",
      "metadata": {
        "id": "nZU1f-7AQr_l"
      },
      "source": [
        "## TIỀN XỬ LÝ + MÔ HÌNH HÓA\n",
        "\n",
        "reference: [machinelearningmastery](https://machinelearningmastery.com/how-to-transform-target-variables-for-regression-with-scikit-learn/)"
      ]
    },
    {
      "cell_type": "markdown",
      "metadata": {
        "id": "-kUD3F3ORuZL"
      },
      "source": [
        "### Sử dụng SVR với kernel non-linear: RBF (mặc định)"
      ]
    },
    {
      "cell_type": "markdown",
      "metadata": {
        "id": "-eqRSkDqRzXi"
      },
      "source": [
        "### Chọn tham số cho mô hình"
      ]
    },
    {
      "cell_type": "markdown",
      "metadata": {
        "id": "YP1e-_F_R6ky"
      },
      "source": [
        "#### Hàm svr_r2\n",
        "\n",
        "Hàm này để tính độ chính xác trung bình khi sử dụng phương pháp đánh giá lỗi K-fold của 1 bộ tham số C, gamma"
      ]
    },
    {
      "cell_type": "code",
      "metadata": {
        "id": "2ygnPlIc5SZQ"
      },
      "source": [
        "def svr_r2(X, y, kernel, C, gamma, cv):\n",
        "  svr = SVR(kernel=kernel, C=C, gamma=gamma)\n",
        "  pipeline = Pipeline(steps=[('Column Transformer', preprocessor), ('model', svr),])\n",
        "  model = TransformedTargetRegressor(regressor=pipeline, transformer=StandardScaler())\n",
        "  scores = cross_val_score(model, X, y, scoring='r2', cv=cv, n_jobs=-1)\n",
        "  return np.mean(scores)"
      ],
      "execution_count": null,
      "outputs": []
    },
    {
      "cell_type": "markdown",
      "metadata": {
        "id": "IwUUlnnYTPhd"
      },
      "source": [
        "#### Hàm optimal_svr \n",
        "\n",
        "Để chọn ra chọn siêu tham số làm cho mô hình có độ chính xác cao nhất trên tập huấn luyện"
      ]
    },
    {
      "cell_type": "code",
      "metadata": {
        "id": "leEFM50NsDTO"
      },
      "source": [
        "def optimal_svr(X, y, kernel, c_range, gamma_range, train_r2=[]):\n",
        "  max_score = 0\n",
        "  cv = KFold(n_splits=10, shuffle=True, random_state=1)\n",
        "  for c in c_range:\n",
        "    scores = []\n",
        "    for g in gamma_range:\n",
        "      score = svr_r2(X, y, kernel, c, g, cv)\n",
        "      scores.append(score)\n",
        "      if score > max_score:\n",
        "        max_score = score\n",
        "        res = (c, g)\n",
        "    train_r2.append(scores)\n",
        "  return res\n"
      ],
      "execution_count": null,
      "outputs": []
    },
    {
      "cell_type": "code",
      "metadata": {
        "id": "YDIebvS93axZ"
      },
      "source": [
        "C_range = [0.05,0.1,1,10, 50]\n",
        "gamma_range = [0.01,0.05,0.1,1,10]\n",
        "kernel = 'rbf'\n",
        "train_r2 = []\n",
        "best_c, best_g = optimal_svr(X, y, kernel, C_range, gamma_range, train_r2)"
      ],
      "execution_count": null,
      "outputs": []
    },
    {
      "cell_type": "markdown",
      "metadata": {
        "id": "jIwZmtirTigg"
      },
      "source": [
        "#### Trực quan kết quả"
      ]
    },
    {
      "cell_type": "code",
      "metadata": {
        "id": "se-R2pZhKL-9"
      },
      "source": [
        "train_r2 = pd.DataFrame(train_r2, columns=gamma_range, index=C_range)"
      ],
      "execution_count": null,
      "outputs": []
    },
    {
      "cell_type": "code",
      "metadata": {
        "id": "Pj1vvQ7KO803",
        "colab": {
          "base_uri": "https://localhost:8080/",
          "height": 458
        },
        "outputId": "c8c7bedb-bb84-45f8-c035-17ad00052910"
      },
      "source": [
        "plt.figure(figsize=(7, 7))\n",
        "sns.heatmap(train_r2,square=True, annot=True, cbar=False, fmt='.3f', cmap='Reds')\n",
        "plt.xlabel('Gamma'); plt.ylabel('C');plt.title('R-square of training set')\n",
        "plt.show()"
      ],
      "execution_count": null,
      "outputs": [
        {
          "output_type": "display_data",
          "data": {
            "image/png": "[encoded data removed]",
            "text/plain": [
              "<Figure size 504x504 with 1 Axes>"
            ]
          },
          "metadata": {
            "tags": [],
            "needs_background": "light"
          }
        }
      ]
    },
    {
      "cell_type": "markdown",
      "metadata": {
        "id": "KU1K1jN6T5qI"
      },
      "source": [
        "Vậy các tham số tìm được là:"
      ]
    },
    {
      "cell_type": "code",
      "metadata": {
        "id": "s5-IYbRFT-wx",
        "colab": {
          "base_uri": "https://localhost:8080/"
        },
        "outputId": "6e54e814-a7c9-4f96-99e5-ac95fae26419"
      },
      "source": [
        "print('C= %s và gamma= %s' %(best_c, best_g))"
      ],
      "execution_count": null,
      "outputs": [
        {
          "output_type": "stream",
          "text": [
            "C= 10 và gamma= 0.05\n"
          ],
          "name": "stdout"
        }
      ]
    },
    {
      "cell_type": "markdown",
      "metadata": {
        "id": "xKjUZLXhTv9T"
      },
      "source": [
        "### Dùng các siêu tham số tìm được ở trên để huấn luyện mô hình"
      ]
    },
    {
      "cell_type": "code",
      "metadata": {
        "id": "rzySAbfd9D-K"
      },
      "source": [
        "df_test = pd.read_csv('test.csv')\n",
        "X_test, y_test = df_test.iloc[:, :-1], df_test.iloc[:, -1]"
      ],
      "execution_count": null,
      "outputs": []
    },
    {
      "cell_type": "code",
      "metadata": {
        "id": "VTfcHOXq8ZgO",
        "colab": {
          "base_uri": "https://localhost:8080/",
          "height": 196
        },
        "outputId": "bb69d6db-80e7-43f5-c0ab-bb3ba1c48d6d"
      },
      "source": [
        "svr = SVR(kernel= kernel, C=best_c, gamma=best_g)\n",
        "pipeline = Pipeline(steps=[('Column Transformer', preprocessor), ('model', svr),])\n",
        "model = TransformedTargetRegressor(regressor=pipeline, transformer=StandardScaler())\n",
        "model.fit(X,y)"
      ],
      "execution_count": null,
      "outputs": [
        {
          "output_type": "execute_result",
          "data": {
            "text/html": [
              "<style>#sk-34a6aad3-cb90-4116-98da-4208baeb908b {color: black;background-color: white;}#sk-34a6aad3-cb90-4116-98da-4208baeb908b pre{padding: 0;}#sk-34a6aad3-cb90-4116-98da-4208baeb908b div.sk-toggleable {background-color: white;}#sk-34a6aad3-cb90-4116-98da-4208baeb908b label.sk-toggleable__label {cursor: pointer;display: block;width: 100%;margin-bottom: 0;padding: 0.2em 0.3em;box-sizing: border-box;text-align: center;}#sk-34a6aad3-cb90-4116-98da-4208baeb908b div.sk-toggleable__content {max-height: 0;max-width: 0;overflow: hidden;text-align: left;background-color: #f0f8ff;}#sk-34a6aad3-cb90-4116-98da-4208baeb908b div.sk-toggleable__content pre {margin: 0.2em;color: black;border-radius: 0.25em;background-color: #f0f8ff;}#sk-34a6aad3-cb90-4116-98da-4208baeb908b input.sk-toggleable__control:checked~div.sk-toggleable__content {max-height: 200px;max-width: 100%;overflow: auto;}#sk-34a6aad3-cb90-4116-98da-4208baeb908b div.sk-estimator input.sk-toggleable__control:checked~label.sk-toggleable__label {background-color: #d4ebff;}#sk-34a6aad3-cb90-4116-98da-4208baeb908b div.sk-label input.sk-toggleable__control:checked~label.sk-toggleable__label {background-color: #d4ebff;}#sk-34a6aad3-cb90-4116-98da-4208baeb908b input.sk-hidden--visually {border: 0;clip: rect(1px 1px 1px 1px);clip: rect(1px, 1px, 1px, 1px);height: 1px;margin: -1px;overflow: hidden;padding: 0;position: absolute;width: 1px;}#sk-34a6aad3-cb90-4116-98da-4208baeb908b div.sk-estimator {font-family: monospace;background-color: #f0f8ff;margin: 0.25em 0.25em;border: 1px dotted black;border-radius: 0.25em;box-sizing: border-box;}#sk-34a6aad3-cb90-4116-98da-4208baeb908b div.sk-estimator:hover {background-color: #d4ebff;}#sk-34a6aad3-cb90-4116-98da-4208baeb908b div.sk-parallel-item::after {content: \"\";width: 100%;border-bottom: 1px solid gray;flex-grow: 1;}#sk-34a6aad3-cb90-4116-98da-4208baeb908b div.sk-label:hover label.sk-toggleable__label {background-color: #d4ebff;}#sk-34a6aad3-cb90-4116-98da-4208baeb908b div.sk-serial::before {content: \"\";position: absolute;border-left: 1px solid gray;box-sizing: border-box;top: 2em;bottom: 0;left: 50%;}#sk-34a6aad3-cb90-4116-98da-4208baeb908b div.sk-serial {display: flex;flex-direction: column;align-items: center;background-color: white;}#sk-34a6aad3-cb90-4116-98da-4208baeb908b div.sk-item {z-index: 1;}#sk-34a6aad3-cb90-4116-98da-4208baeb908b div.sk-parallel {display: flex;align-items: stretch;justify-content: center;background-color: white;}#sk-34a6aad3-cb90-4116-98da-4208baeb908b div.sk-parallel-item {display: flex;flex-direction: column;position: relative;background-color: white;}#sk-34a6aad3-cb90-4116-98da-4208baeb908b div.sk-parallel-item:first-child::after {align-self: flex-end;width: 50%;}#sk-34a6aad3-cb90-4116-98da-4208baeb908b div.sk-parallel-item:last-child::after {align-self: flex-start;width: 50%;}#sk-34a6aad3-cb90-4116-98da-4208baeb908b div.sk-parallel-item:only-child::after {width: 0;}#sk-34a6aad3-cb90-4116-98da-4208baeb908b div.sk-dashed-wrapped {border: 1px dashed gray;margin: 0.2em;box-sizing: border-box;padding-bottom: 0.1em;background-color: white;position: relative;}#sk-34a6aad3-cb90-4116-98da-4208baeb908b div.sk-label label {font-family: monospace;font-weight: bold;background-color: white;display: inline-block;line-height: 1.2em;}#sk-34a6aad3-cb90-4116-98da-4208baeb908b div.sk-label-container {position: relative;z-index: 2;text-align: center;}#sk-34a6aad3-cb90-4116-98da-4208baeb908b div.sk-container {display: inline-block;position: relative;}</style><div id=\"sk-34a6aad3-cb90-4116-98da-4208baeb908b\" class\"sk-top-container\"><div class=\"sk-container\"><div class=\"sk-item sk-dashed-wrapped\"><div class=\"sk-label-container\"><div class=\"sk-label sk-toggleable\"><input class=\"sk-toggleable__control sk-hidden--visually\" id=\"abd9613c-d5b6-4430-b189-32a82b60c5c4\" type=\"checkbox\" ><label class=\"sk-toggleable__label\" for=\"abd9613c-d5b6-4430-b189-32a82b60c5c4\">TransformedTargetRegressor</label><div class=\"sk-toggleable__content\"><pre>TransformedTargetRegressor(regressor=Pipeline(steps=[('Column Transformer',\n",
              "                                                      ColumnTransformer(transformers=[('ordinals',\n",
              "                                                                                       Pipeline(steps=[('imputer_cat',\n",
              "                                                                                                        SimpleImputer(strategy='constant')),\n",
              "                                                                                                       ('ordinal',\n",
              "                                                                                                        OrdinalEncoder())]),\n",
              "                                                                                       ['sex',\n",
              "                                                                                        'smoker']),\n",
              "                                                                                      ('onehot',\n",
              "                                                                                       Pipeline(steps=[('imputer_cat',\n",
              "                                                                                                        SimpleImputer(strategy='constant')),\n",
              "                                                                                                       ('onehot',\n",
              "                                                                                                        OneHotEncoder(handle_unknown='ignore'))]),\n",
              "                                                                                       ['region']),\n",
              "                                                                                      ('numericals',\n",
              "                                                                                       Pipeline(steps=[('imputer_num',\n",
              "                                                                                                        SimpleImputer(strategy='median')),\n",
              "                                                                                                       ('scaler',\n",
              "                                                                                                        StandardScaler())]),\n",
              "                                                                                       ['age',\n",
              "                                                                                        'bmi',\n",
              "                                                                                        'children'])])),\n",
              "                                                     ('model',\n",
              "                                                      SVR(C=10, gamma=0.05))]),\n",
              "                           transformer=StandardScaler())</pre></div></div></div><div class=\"sk-parallel\"><div class=\"sk-parallel-item\"><div class=\"sk-item\"><div class=\"sk-serial\"><div class=\"sk-item\"><div class=\"sk-serial\"><div class=\"sk-item sk-dashed-wrapped\"><div class=\"sk-label-container\"><div class=\"sk-label sk-toggleable\"><input class=\"sk-toggleable__control sk-hidden--visually\" id=\"4a84e96e-87ad-4405-9cf9-261d56ff8e56\" type=\"checkbox\" ><label class=\"sk-toggleable__label\" for=\"4a84e96e-87ad-4405-9cf9-261d56ff8e56\">Column Transformer: ColumnTransformer</label><div class=\"sk-toggleable__content\"><pre>ColumnTransformer(transformers=[('ordinals',\n",
              "                                 Pipeline(steps=[('imputer_cat',\n",
              "                                                  SimpleImputer(strategy='constant')),\n",
              "                                                 ('ordinal',\n",
              "                                                  OrdinalEncoder())]),\n",
              "                                 ['sex', 'smoker']),\n",
              "                                ('onehot',\n",
              "                                 Pipeline(steps=[('imputer_cat',\n",
              "                                                  SimpleImputer(strategy='constant')),\n",
              "                                                 ('onehot',\n",
              "                                                  OneHotEncoder(handle_unknown='ignore'))]),\n",
              "                                 ['region']),\n",
              "                                ('numericals',\n",
              "                                 Pipeline(steps=[('imputer_num',\n",
              "                                                  SimpleImputer(strategy='median')),\n",
              "                                                 ('scaler', StandardScaler())]),\n",
              "                                 ['age', 'bmi', 'children'])])</pre></div></div></div><div class=\"sk-parallel\"><div class=\"sk-parallel-item\"><div class=\"sk-item\"><div class=\"sk-label-container\"><div class=\"sk-label sk-toggleable\"><input class=\"sk-toggleable__control sk-hidden--visually\" id=\"4147a348-20fa-484a-8399-79e74fa48a2f\" type=\"checkbox\" ><label class=\"sk-toggleable__label\" for=\"4147a348-20fa-484a-8399-79e74fa48a2f\">ordinals</label><div class=\"sk-toggleable__content\"><pre>['sex', 'smoker']</pre></div></div></div><div class=\"sk-serial\"><div class=\"sk-item\"><div class=\"sk-serial\"><div class=\"sk-item\"><div class=\"sk-estimator sk-toggleable\"><input class=\"sk-toggleable__control sk-hidden--visually\" id=\"a86918f4-fc86-473d-bed1-dc520a93d3ee\" type=\"checkbox\" ><label class=\"sk-toggleable__label\" for=\"a86918f4-fc86-473d-bed1-dc520a93d3ee\">SimpleImputer</label><div class=\"sk-toggleable__content\"><pre>SimpleImputer(strategy='constant')</pre></div></div></div><div class=\"sk-item\"><div class=\"sk-estimator sk-toggleable\"><input class=\"sk-toggleable__control sk-hidden--visually\" id=\"d1643781-d9ed-4504-ab77-f654e04d488f\" type=\"checkbox\" ><label class=\"sk-toggleable__label\" for=\"d1643781-d9ed-4504-ab77-f654e04d488f\">OrdinalEncoder</label><div class=\"sk-toggleable__content\"><pre>OrdinalEncoder()</pre></div></div></div></div></div></div></div></div><div class=\"sk-parallel-item\"><div class=\"sk-item\"><div class=\"sk-label-container\"><div class=\"sk-label sk-toggleable\"><input class=\"sk-toggleable__control sk-hidden--visually\" id=\"700453d0-f42b-4e95-8b1d-680a893f7a3b\" type=\"checkbox\" ><label class=\"sk-toggleable__label\" for=\"700453d0-f42b-4e95-8b1d-680a893f7a3b\">onehot</label><div class=\"sk-toggleable__content\"><pre>['region']</pre></div></div></div><div class=\"sk-serial\"><div class=\"sk-item\"><div class=\"sk-serial\"><div class=\"sk-item\"><div class=\"sk-estimator sk-toggleable\"><input class=\"sk-toggleable__control sk-hidden--visually\" id=\"81adac7e-996e-4c53-994b-b7adcd7e06dc\" type=\"checkbox\" ><label class=\"sk-toggleable__label\" for=\"81adac7e-996e-4c53-994b-b7adcd7e06dc\">SimpleImputer</label><div class=\"sk-toggleable__content\"><pre>SimpleImputer(strategy='constant')</pre></div></div></div><div class=\"sk-item\"><div class=\"sk-estimator sk-toggleable\"><input class=\"sk-toggleable__control sk-hidden--visually\" id=\"79922e74-d56c-4328-b788-3f92bafaaf33\" type=\"checkbox\" ><label class=\"sk-toggleable__label\" for=\"79922e74-d56c-4328-b788-3f92bafaaf33\">OneHotEncoder</label><div class=\"sk-toggleable__content\"><pre>OneHotEncoder(handle_unknown='ignore')</pre></div></div></div></div></div></div></div></div><div class=\"sk-parallel-item\"><div class=\"sk-item\"><div class=\"sk-label-container\"><div class=\"sk-label sk-toggleable\"><input class=\"sk-toggleable__control sk-hidden--visually\" id=\"76e19f77-4e38-4fe9-873f-f57d6adc40ad\" type=\"checkbox\" ><label class=\"sk-toggleable__label\" for=\"76e19f77-4e38-4fe9-873f-f57d6adc40ad\">numericals</label><div class=\"sk-toggleable__content\"><pre>['age', 'bmi', 'children']</pre></div></div></div><div class=\"sk-serial\"><div class=\"sk-item\"><div class=\"sk-serial\"><div class=\"sk-item\"><div class=\"sk-estimator sk-toggleable\"><input class=\"sk-toggleable__control sk-hidden--visually\" id=\"4042eb4c-7ec9-42a2-828e-1bab367739a5\" type=\"checkbox\" ><label class=\"sk-toggleable__label\" for=\"4042eb4c-7ec9-42a2-828e-1bab367739a5\">SimpleImputer</label><div class=\"sk-toggleable__content\"><pre>SimpleImputer(strategy='median')</pre></div></div></div><div class=\"sk-item\"><div class=\"sk-estimator sk-toggleable\"><input class=\"sk-toggleable__control sk-hidden--visually\" id=\"7b90f6d3-344e-4c47-a0cc-6c64a12adb0f\" type=\"checkbox\" ><label class=\"sk-toggleable__label\" for=\"7b90f6d3-344e-4c47-a0cc-6c64a12adb0f\">StandardScaler</label><div class=\"sk-toggleable__content\"><pre>StandardScaler()</pre></div></div></div></div></div></div></div></div></div></div><div class=\"sk-item\"><div class=\"sk-estimator sk-toggleable\"><input class=\"sk-toggleable__control sk-hidden--visually\" id=\"aafab106-4584-401e-b1ec-5b5d1df26331\" type=\"checkbox\" ><label class=\"sk-toggleable__label\" for=\"aafab106-4584-401e-b1ec-5b5d1df26331\">SVR</label><div class=\"sk-toggleable__content\"><pre>SVR(C=10, gamma=0.05)</pre></div></div></div></div></div></div></div></div><div class=\"sk-parallel-item\"><div class=\"sk-item\"><div class=\"sk-serial\"><div class=\"sk-item\"><div class=\"sk-estimator sk-toggleable\"><input class=\"sk-toggleable__control sk-hidden--visually\" id=\"97e93c96-4687-43a8-bc89-1877dd58d027\" type=\"checkbox\" ><label class=\"sk-toggleable__label\" for=\"97e93c96-4687-43a8-bc89-1877dd58d027\">StandardScaler</label><div class=\"sk-toggleable__content\"><pre>StandardScaler()</pre></div></div></div></div></div></div></div></div></div></div>"
            ],
            "text/plain": [
              "TransformedTargetRegressor(regressor=Pipeline(steps=[('Column Transformer',\n",
              "                                                      ColumnTransformer(transformers=[('ordinals',\n",
              "                                                                                       Pipeline(steps=[('imputer_cat',\n",
              "                                                                                                        SimpleImputer(strategy='constant')),\n",
              "                                                                                                       ('ordinal',\n",
              "                                                                                                        OrdinalEncoder())]),\n",
              "                                                                                       ['sex',\n",
              "                                                                                        'smoker']),\n",
              "                                                                                      ('onehot',\n",
              "                                                                                       Pipeline(steps=[('imputer_cat',\n",
              "                                                                                                        SimpleImputer(strategy='constant')),\n",
              "                                                                                                       ('onehot',\n",
              "                                                                                                        OneHotEncoder(handle_unknown='ignore'))]),\n",
              "                                                                                       ['region']),\n",
              "                                                                                      ('numericals',\n",
              "                                                                                       Pipeline(steps=[('imputer_num',\n",
              "                                                                                                        SimpleImputer(strategy='median')),\n",
              "                                                                                                       ('scaler',\n",
              "                                                                                                        StandardScaler())]),\n",
              "                                                                                       ['age',\n",
              "                                                                                        'bmi',\n",
              "                                                                                        'children'])])),\n",
              "                                                     ('model',\n",
              "                                                      SVR(C=10, gamma=0.05))]),\n",
              "                           transformer=StandardScaler())"
            ]
          },
          "metadata": {
            "tags": []
          },
          "execution_count": 55
        }
      ]
    },
    {
      "cell_type": "code",
      "metadata": {
        "id": "VePdQxu09rCV"
      },
      "source": [
        "preds = model.predict(X_test)"
      ],
      "execution_count": null,
      "outputs": []
    },
    {
      "cell_type": "code",
      "metadata": {
        "id": "ac3enITIVZv9",
        "colab": {
          "base_uri": "https://localhost:8080/"
        },
        "outputId": "3f5f1b65-03e7-49d2-f9dd-60ab295944cd"
      },
      "source": [
        "score = model.score(X_test,y_test)\n",
        "score"
      ],
      "execution_count": null,
      "outputs": [
        {
          "output_type": "execute_result",
          "data": {
            "text/plain": [
              "0.856584307140871"
            ]
          },
          "metadata": {
            "tags": []
          },
          "execution_count": 57
        }
      ]
    },
    {
      "cell_type": "markdown",
      "metadata": {
        "id": "DHtB7YqmC70a"
      },
      "source": [
        "### Sử dụng SVR với kernel linear"
      ]
    },
    {
      "cell_type": "markdown",
      "metadata": {
        "id": "HWquAIICGCWr"
      },
      "source": [
        "#### Lựa chọn siêu tham số tốt nhất cho mô hình"
      ]
    },
    {
      "cell_type": "code",
      "metadata": {
        "id": "AawaX-6xC6-Z"
      },
      "source": [
        "kernel = 'linear'\n",
        "train_r2 = []\n",
        "best_c, best_g = optimal_svr(X, y, kernel, C_range, gamma_range, train_r2)"
      ],
      "execution_count": null,
      "outputs": []
    },
    {
      "cell_type": "markdown",
      "metadata": {
        "id": "6733oTE_GMXx"
      },
      "source": [
        "#### Trực quan kết quả"
      ]
    },
    {
      "cell_type": "code",
      "metadata": {
        "id": "7kE_BTH4DL__"
      },
      "source": [
        "train_r2 = pd.DataFrame(train_r2, columns=gamma_range, index=C_range)"
      ],
      "execution_count": null,
      "outputs": []
    },
    {
      "cell_type": "code",
      "metadata": {
        "colab": {
          "base_uri": "https://localhost:8080/",
          "height": 458
        },
        "id": "fTB4fOBXDRBP",
        "outputId": "ceca8ee2-0968-48cd-9787-21df6dfe7f2e"
      },
      "source": [
        "plt.figure(figsize=(7, 7))\n",
        "sns.heatmap(train_r2,square=True, annot=True, cbar=False, fmt='.3f', cmap='Reds')\n",
        "plt.xlabel('Gamma'); plt.ylabel('C');plt.title('R-square of training set')\n",
        "plt.show()"
      ],
      "execution_count": null,
      "outputs": [
        {
          "output_type": "display_data",
          "data": {
            "image/png": "[encoded data removed]",
            "text/plain": [
              "<Figure size 504x504 with 1 Axes>"
            ]
          },
          "metadata": {
            "tags": [],
            "needs_background": "light"
          }
        }
      ]
    },
    {
      "cell_type": "markdown",
      "metadata": {
        "id": "IBKBIrsHGSo5"
      },
      "source": [
        "Vậy các siêu tham số tốt nhất tìm được là:"
      ]
    },
    {
      "cell_type": "code",
      "metadata": {
        "colab": {
          "base_uri": "https://localhost:8080/"
        },
        "id": "lPzE1vGEDbrU",
        "outputId": "d376b3fa-ff75-493e-94d4-cbf3fad41710"
      },
      "source": [
        "print('C= %s và gamma= %s' %(best_c, best_g))"
      ],
      "execution_count": null,
      "outputs": [
        {
          "output_type": "stream",
          "text": [
            "C= 1 và gamma= 0.01\n"
          ],
          "name": "stdout"
        }
      ]
    },
    {
      "cell_type": "markdown",
      "metadata": {
        "id": "369rQOGgGYv9"
      },
      "source": [
        "**Nhận xét:** \n",
        "- Siêu tham số gamma chỉ có giá trị trong các mô hình phi tuyến (bao gồm: ‘rbf’, ‘poly’ và ‘sigmoid’) "
      ]
    },
    {
      "cell_type": "markdown",
      "metadata": {
        "id": "2sZxazNkHLrr"
      },
      "source": [
        "#### Dùng các siêu tham số tìm được để huấn luyện mô hình"
      ]
    },
    {
      "cell_type": "code",
      "metadata": {
        "colab": {
          "base_uri": "https://localhost:8080/",
          "height": 196
        },
        "id": "E_Xa0MMODbj-",
        "outputId": "c54b72b7-fc70-41c3-bb72-3b62b93f65b0"
      },
      "source": [
        "svr = SVR(kernel= kernel, C=best_c, gamma=best_g)\n",
        "pipeline = Pipeline(steps=[('Column Transformer', preprocessor), ('model', svr),])\n",
        "model = TransformedTargetRegressor(regressor=pipeline, transformer=StandardScaler())\n",
        "model.fit(X,y)"
      ],
      "execution_count": null,
      "outputs": [
        {
          "output_type": "execute_result",
          "data": {
            "text/html": [
              "<style>#sk-558e0a54-9bb5-4fe8-8839-6a2f74626b34 {color: black;background-color: white;}#sk-558e0a54-9bb5-4fe8-8839-6a2f74626b34 pre{padding: 0;}#sk-558e0a54-9bb5-4fe8-8839-6a2f74626b34 div.sk-toggleable {background-color: white;}#sk-558e0a54-9bb5-4fe8-8839-6a2f74626b34 label.sk-toggleable__label {cursor: pointer;display: block;width: 100%;margin-bottom: 0;padding: 0.2em 0.3em;box-sizing: border-box;text-align: center;}#sk-558e0a54-9bb5-4fe8-8839-6a2f74626b34 div.sk-toggleable__content {max-height: 0;max-width: 0;overflow: hidden;text-align: left;background-color: #f0f8ff;}#sk-558e0a54-9bb5-4fe8-8839-6a2f74626b34 div.sk-toggleable__content pre {margin: 0.2em;color: black;border-radius: 0.25em;background-color: #f0f8ff;}#sk-558e0a54-9bb5-4fe8-8839-6a2f74626b34 input.sk-toggleable__control:checked~div.sk-toggleable__content {max-height: 200px;max-width: 100%;overflow: auto;}#sk-558e0a54-9bb5-4fe8-8839-6a2f74626b34 div.sk-estimator input.sk-toggleable__control:checked~label.sk-toggleable__label {background-color: #d4ebff;}#sk-558e0a54-9bb5-4fe8-8839-6a2f74626b34 div.sk-label input.sk-toggleable__control:checked~label.sk-toggleable__label {background-color: #d4ebff;}#sk-558e0a54-9bb5-4fe8-8839-6a2f74626b34 input.sk-hidden--visually {border: 0;clip: rect(1px 1px 1px 1px);clip: rect(1px, 1px, 1px, 1px);height: 1px;margin: -1px;overflow: hidden;padding: 0;position: absolute;width: 1px;}#sk-558e0a54-9bb5-4fe8-8839-6a2f74626b34 div.sk-estimator {font-family: monospace;background-color: #f0f8ff;margin: 0.25em 0.25em;border: 1px dotted black;border-radius: 0.25em;box-sizing: border-box;}#sk-558e0a54-9bb5-4fe8-8839-6a2f74626b34 div.sk-estimator:hover {background-color: #d4ebff;}#sk-558e0a54-9bb5-4fe8-8839-6a2f74626b34 div.sk-parallel-item::after {content: \"\";width: 100%;border-bottom: 1px solid gray;flex-grow: 1;}#sk-558e0a54-9bb5-4fe8-8839-6a2f74626b34 div.sk-label:hover label.sk-toggleable__label {background-color: #d4ebff;}#sk-558e0a54-9bb5-4fe8-8839-6a2f74626b34 div.sk-serial::before {content: \"\";position: absolute;border-left: 1px solid gray;box-sizing: border-box;top: 2em;bottom: 0;left: 50%;}#sk-558e0a54-9bb5-4fe8-8839-6a2f74626b34 div.sk-serial {display: flex;flex-direction: column;align-items: center;background-color: white;}#sk-558e0a54-9bb5-4fe8-8839-6a2f74626b34 div.sk-item {z-index: 1;}#sk-558e0a54-9bb5-4fe8-8839-6a2f74626b34 div.sk-parallel {display: flex;align-items: stretch;justify-content: center;background-color: white;}#sk-558e0a54-9bb5-4fe8-8839-6a2f74626b34 div.sk-parallel-item {display: flex;flex-direction: column;position: relative;background-color: white;}#sk-558e0a54-9bb5-4fe8-8839-6a2f74626b34 div.sk-parallel-item:first-child::after {align-self: flex-end;width: 50%;}#sk-558e0a54-9bb5-4fe8-8839-6a2f74626b34 div.sk-parallel-item:last-child::after {align-self: flex-start;width: 50%;}#sk-558e0a54-9bb5-4fe8-8839-6a2f74626b34 div.sk-parallel-item:only-child::after {width: 0;}#sk-558e0a54-9bb5-4fe8-8839-6a2f74626b34 div.sk-dashed-wrapped {border: 1px dashed gray;margin: 0.2em;box-sizing: border-box;padding-bottom: 0.1em;background-color: white;position: relative;}#sk-558e0a54-9bb5-4fe8-8839-6a2f74626b34 div.sk-label label {font-family: monospace;font-weight: bold;background-color: white;display: inline-block;line-height: 1.2em;}#sk-558e0a54-9bb5-4fe8-8839-6a2f74626b34 div.sk-label-container {position: relative;z-index: 2;text-align: center;}#sk-558e0a54-9bb5-4fe8-8839-6a2f74626b34 div.sk-container {display: inline-block;position: relative;}</style><div id=\"sk-558e0a54-9bb5-4fe8-8839-6a2f74626b34\" class\"sk-top-container\"><div class=\"sk-container\"><div class=\"sk-item sk-dashed-wrapped\"><div class=\"sk-label-container\"><div class=\"sk-label sk-toggleable\"><input class=\"sk-toggleable__control sk-hidden--visually\" id=\"4cf3fc3c-edab-472a-ae32-e46bb429e19b\" type=\"checkbox\" ><label class=\"sk-toggleable__label\" for=\"4cf3fc3c-edab-472a-ae32-e46bb429e19b\">TransformedTargetRegressor</label><div class=\"sk-toggleable__content\"><pre>TransformedTargetRegressor(regressor=Pipeline(steps=[('Column Transformer',\n",
              "                                                      ColumnTransformer(transformers=[('ordinals',\n",
              "                                                                                       Pipeline(steps=[('imputer_cat',\n",
              "                                                                                                        SimpleImputer(strategy='constant')),\n",
              "                                                                                                       ('ordinal',\n",
              "                                                                                                        OrdinalEncoder())]),\n",
              "                                                                                       ['sex',\n",
              "                                                                                        'smoker']),\n",
              "                                                                                      ('onehot',\n",
              "                                                                                       Pipeline(steps=[('imputer_cat',\n",
              "                                                                                                        SimpleImputer(strategy='constant')),\n",
              "                                                                                                       ('onehot',\n",
              "                                                                                                        OneHotEncoder(handle_unknown='ignore'))]),\n",
              "                                                                                       ['region']),\n",
              "                                                                                      ('numericals',\n",
              "                                                                                       Pipeline(steps=[('imputer_num',\n",
              "                                                                                                        SimpleImputer(strategy='median')),\n",
              "                                                                                                       ('scaler',\n",
              "                                                                                                        StandardScaler())]),\n",
              "                                                                                       ['age',\n",
              "                                                                                        'bmi',\n",
              "                                                                                        'children'])])),\n",
              "                                                     ('model',\n",
              "                                                      SVR(C=1, gamma=0.01,\n",
              "                                                          kernel='linear'))]),\n",
              "                           transformer=StandardScaler())</pre></div></div></div><div class=\"sk-parallel\"><div class=\"sk-parallel-item\"><div class=\"sk-item\"><div class=\"sk-serial\"><div class=\"sk-item\"><div class=\"sk-serial\"><div class=\"sk-item sk-dashed-wrapped\"><div class=\"sk-label-container\"><div class=\"sk-label sk-toggleable\"><input class=\"sk-toggleable__control sk-hidden--visually\" id=\"2ff1bcf2-fca5-4445-9734-b97beb2f16a8\" type=\"checkbox\" ><label class=\"sk-toggleable__label\" for=\"2ff1bcf2-fca5-4445-9734-b97beb2f16a8\">Column Transformer: ColumnTransformer</label><div class=\"sk-toggleable__content\"><pre>ColumnTransformer(transformers=[('ordinals',\n",
              "                                 Pipeline(steps=[('imputer_cat',\n",
              "                                                  SimpleImputer(strategy='constant')),\n",
              "                                                 ('ordinal',\n",
              "                                                  OrdinalEncoder())]),\n",
              "                                 ['sex', 'smoker']),\n",
              "                                ('onehot',\n",
              "                                 Pipeline(steps=[('imputer_cat',\n",
              "                                                  SimpleImputer(strategy='constant')),\n",
              "                                                 ('onehot',\n",
              "                                                  OneHotEncoder(handle_unknown='ignore'))]),\n",
              "                                 ['region']),\n",
              "                                ('numericals',\n",
              "                                 Pipeline(steps=[('imputer_num',\n",
              "                                                  SimpleImputer(strategy='median')),\n",
              "                                                 ('scaler', StandardScaler())]),\n",
              "                                 ['age', 'bmi', 'children'])])</pre></div></div></div><div class=\"sk-parallel\"><div class=\"sk-parallel-item\"><div class=\"sk-item\"><div class=\"sk-label-container\"><div class=\"sk-label sk-toggleable\"><input class=\"sk-toggleable__control sk-hidden--visually\" id=\"26ea4881-0402-44a6-958b-542c87288673\" type=\"checkbox\" ><label class=\"sk-toggleable__label\" for=\"26ea4881-0402-44a6-958b-542c87288673\">ordinals</label><div class=\"sk-toggleable__content\"><pre>['sex', 'smoker']</pre></div></div></div><div class=\"sk-serial\"><div class=\"sk-item\"><div class=\"sk-serial\"><div class=\"sk-item\"><div class=\"sk-estimator sk-toggleable\"><input class=\"sk-toggleable__control sk-hidden--visually\" id=\"f3b1af12-aca2-4e55-9fef-bb6a00e49cbc\" type=\"checkbox\" ><label class=\"sk-toggleable__label\" for=\"f3b1af12-aca2-4e55-9fef-bb6a00e49cbc\">SimpleImputer</label><div class=\"sk-toggleable__content\"><pre>SimpleImputer(strategy='constant')</pre></div></div></div><div class=\"sk-item\"><div class=\"sk-estimator sk-toggleable\"><input class=\"sk-toggleable__control sk-hidden--visually\" id=\"59f13eb2-aa4c-41ce-bd5b-d8ee0d789d94\" type=\"checkbox\" ><label class=\"sk-toggleable__label\" for=\"59f13eb2-aa4c-41ce-bd5b-d8ee0d789d94\">OrdinalEncoder</label><div class=\"sk-toggleable__content\"><pre>OrdinalEncoder()</pre></div></div></div></div></div></div></div></div><div class=\"sk-parallel-item\"><div class=\"sk-item\"><div class=\"sk-label-container\"><div class=\"sk-label sk-toggleable\"><input class=\"sk-toggleable__control sk-hidden--visually\" id=\"8f8b41f2-4a05-4ffd-a422-6feedab1cd2c\" type=\"checkbox\" ><label class=\"sk-toggleable__label\" for=\"8f8b41f2-4a05-4ffd-a422-6feedab1cd2c\">onehot</label><div class=\"sk-toggleable__content\"><pre>['region']</pre></div></div></div><div class=\"sk-serial\"><div class=\"sk-item\"><div class=\"sk-serial\"><div class=\"sk-item\"><div class=\"sk-estimator sk-toggleable\"><input class=\"sk-toggleable__control sk-hidden--visually\" id=\"f970f3e7-fe42-4dba-bf62-5f62f82a17b5\" type=\"checkbox\" ><label class=\"sk-toggleable__label\" for=\"f970f3e7-fe42-4dba-bf62-5f62f82a17b5\">SimpleImputer</label><div class=\"sk-toggleable__content\"><pre>SimpleImputer(strategy='constant')</pre></div></div></div><div class=\"sk-item\"><div class=\"sk-estimator sk-toggleable\"><input class=\"sk-toggleable__control sk-hidden--visually\" id=\"6688b0b3-a3a9-40ed-a839-063dd3e9deec\" type=\"checkbox\" ><label class=\"sk-toggleable__label\" for=\"6688b0b3-a3a9-40ed-a839-063dd3e9deec\">OneHotEncoder</label><div class=\"sk-toggleable__content\"><pre>OneHotEncoder(handle_unknown='ignore')</pre></div></div></div></div></div></div></div></div><div class=\"sk-parallel-item\"><div class=\"sk-item\"><div class=\"sk-label-container\"><div class=\"sk-label sk-toggleable\"><input class=\"sk-toggleable__control sk-hidden--visually\" id=\"3e4d4a6c-f77b-4a45-b857-7e45ceb6f1b9\" type=\"checkbox\" ><label class=\"sk-toggleable__label\" for=\"3e4d4a6c-f77b-4a45-b857-7e45ceb6f1b9\">numericals</label><div class=\"sk-toggleable__content\"><pre>['age', 'bmi', 'children']</pre></div></div></div><div class=\"sk-serial\"><div class=\"sk-item\"><div class=\"sk-serial\"><div class=\"sk-item\"><div class=\"sk-estimator sk-toggleable\"><input class=\"sk-toggleable__control sk-hidden--visually\" id=\"24a856bc-098c-4ab4-987f-cdb67fc2954e\" type=\"checkbox\" ><label class=\"sk-toggleable__label\" for=\"24a856bc-098c-4ab4-987f-cdb67fc2954e\">SimpleImputer</label><div class=\"sk-toggleable__content\"><pre>SimpleImputer(strategy='median')</pre></div></div></div><div class=\"sk-item\"><div class=\"sk-estimator sk-toggleable\"><input class=\"sk-toggleable__control sk-hidden--visually\" id=\"773eeac8-19cc-4844-8108-cc925fa8f8fe\" type=\"checkbox\" ><label class=\"sk-toggleable__label\" for=\"773eeac8-19cc-4844-8108-cc925fa8f8fe\">StandardScaler</label><div class=\"sk-toggleable__content\"><pre>StandardScaler()</pre></div></div></div></div></div></div></div></div></div></div><div class=\"sk-item\"><div class=\"sk-estimator sk-toggleable\"><input class=\"sk-toggleable__control sk-hidden--visually\" id=\"dd404939-da94-4377-9abc-e891fcf4507f\" type=\"checkbox\" ><label class=\"sk-toggleable__label\" for=\"dd404939-da94-4377-9abc-e891fcf4507f\">SVR</label><div class=\"sk-toggleable__content\"><pre>SVR(C=1, gamma=0.01, kernel='linear')</pre></div></div></div></div></div></div></div></div><div class=\"sk-parallel-item\"><div class=\"sk-item\"><div class=\"sk-serial\"><div class=\"sk-item\"><div class=\"sk-estimator sk-toggleable\"><input class=\"sk-toggleable__control sk-hidden--visually\" id=\"4776dc4b-a851-4870-a918-f86cfd3d4046\" type=\"checkbox\" ><label class=\"sk-toggleable__label\" for=\"4776dc4b-a851-4870-a918-f86cfd3d4046\">StandardScaler</label><div class=\"sk-toggleable__content\"><pre>StandardScaler()</pre></div></div></div></div></div></div></div></div></div></div>"
            ],
            "text/plain": [
              "TransformedTargetRegressor(regressor=Pipeline(steps=[('Column Transformer',\n",
              "                                                      ColumnTransformer(transformers=[('ordinals',\n",
              "                                                                                       Pipeline(steps=[('imputer_cat',\n",
              "                                                                                                        SimpleImputer(strategy='constant')),\n",
              "                                                                                                       ('ordinal',\n",
              "                                                                                                        OrdinalEncoder())]),\n",
              "                                                                                       ['sex',\n",
              "                                                                                        'smoker']),\n",
              "                                                                                      ('onehot',\n",
              "                                                                                       Pipeline(steps=[('imputer_cat',\n",
              "                                                                                                        SimpleImputer(strategy='constant')),\n",
              "                                                                                                       ('onehot',\n",
              "                                                                                                        OneHotEncoder(handle_unknown='ignore'))]),\n",
              "                                                                                       ['region']),\n",
              "                                                                                      ('numericals',\n",
              "                                                                                       Pipeline(steps=[('imputer_num',\n",
              "                                                                                                        SimpleImputer(strategy='median')),\n",
              "                                                                                                       ('scaler',\n",
              "                                                                                                        StandardScaler())]),\n",
              "                                                                                       ['age',\n",
              "                                                                                        'bmi',\n",
              "                                                                                        'children'])])),\n",
              "                                                     ('model',\n",
              "                                                      SVR(C=1, gamma=0.01,\n",
              "                                                          kernel='linear'))]),\n",
              "                           transformer=StandardScaler())"
            ]
          },
          "metadata": {
            "tags": []
          },
          "execution_count": 62
        }
      ]
    },
    {
      "cell_type": "code",
      "metadata": {
        "id": "xWFnVdhwDQ3P"
      },
      "source": [
        "preds = model.predict(X_test)"
      ],
      "execution_count": null,
      "outputs": []
    },
    {
      "cell_type": "code",
      "metadata": {
        "colab": {
          "base_uri": "https://localhost:8080/"
        },
        "id": "vO95KM06Dm3b",
        "outputId": "3d2baa92-4cc1-4a94-8209-6e8dcd80b856"
      },
      "source": [
        "score = model.score(X_test,y_test)\n",
        "score"
      ],
      "execution_count": null,
      "outputs": [
        {
          "output_type": "execute_result",
          "data": {
            "text/plain": [
              "0.7264543523698831"
            ]
          },
          "metadata": {
            "tags": []
          },
          "execution_count": 64
        }
      ]
    },
    {
      "cell_type": "markdown",
      "metadata": {
        "id": "ng6HwC17HUnP"
      },
      "source": [
        "**Nhận xét:**\n",
        "- Ta thấy vấn đề dự đoán chi phí y tế được giải quyết tốt hơn trên mô hình phi tuyến \n",
        "- Thuật toán SVR ở kernel phi tuyến cho độ chính xác cao hơn rất nhiều so với kernel tuyến tính\n",
        "- Độ chính xác của mô hình còn khá thấp, nên ta thử các các tối ưu khác"
      ]
    },
    {
      "cell_type": "markdown",
      "metadata": {
        "id": "4P2p8OC5JSl-"
      },
      "source": [
        "### Sử dụng mô hình SVR với kernel non-linear trên dữ liệu được xóa outliers"
      ]
    },
    {
      "cell_type": "markdown",
      "metadata": {
        "id": "Ck75cnNyPb1r"
      },
      "source": [
        "Từ biểu đồ hộp ở phần phân tích dữ liệu, ta thấy ở các bệnh nhân không hút thuốc thì có sự biến động khá lớn trong chi phí điều trị bệnh. Có thể những người này mắc các bệnh bẩm sinh hoặc không liên quan đến thuốc lá. \n",
        "\n",
        "Giả sử các bệnh nhân không hút thuốc có chi phí điều trị bệnh cao bất thường là các outliers ta tiến hành xóa các bệnh nhân này ra khỏi tập huấn luyện"
      ]
    },
    {
      "cell_type": "markdown",
      "metadata": {
        "id": "npLY0DmMQjum"
      },
      "source": [
        "Theo biểu đồ hộp, thì khoảng lớn hơn 1.5 lần ipr là các outliers"
      ]
    },
    {
      "cell_type": "code",
      "metadata": {
        "id": "Vwv-K5UgJSWy"
      },
      "source": [
        "q25 = train_df[train_df.smoker == 'no']['charges'].agg(lower_quartile)\n",
        "q75 = train_df[train_df.smoker == 'no']['charges'].agg(upper_quartile)\n",
        "iqr = q75 - q25\n",
        "cut_off = iqr * 1.5\n",
        "lower, upper = q25 - cut_off, q75 + cut_off"
      ],
      "execution_count": null,
      "outputs": []
    },
    {
      "cell_type": "markdown",
      "metadata": {
        "id": "yMTGfxIJQy6C"
      },
      "source": [
        "#### Xóa các outliers"
      ]
    },
    {
      "cell_type": "code",
      "metadata": {
        "id": "fbIEV5QgK50m"
      },
      "source": [
        "removed_outliers = train_df[((train_df.smoker == 'no') & (train_df.charges > lower) & (train_df.charges < upper)) | (train_df.smoker == 'yes')]"
      ],
      "execution_count": null,
      "outputs": []
    },
    {
      "cell_type": "markdown",
      "metadata": {
        "id": "ydlK1jBCQ5FX"
      },
      "source": [
        "Ta xem lại biểu đồ để xác nhận không còn những điểm outliers"
      ]
    },
    {
      "cell_type": "code",
      "metadata": {
        "colab": {
          "base_uri": "https://localhost:8080/",
          "height": 279
        },
        "id": "9CfSQXTvL8SJ",
        "outputId": "1e6547f1-bbb3-4ddf-9bd8-b1a473b3401d"
      },
      "source": [
        "sns.boxplot(data= removed_outliers, x='smoker', y='charges');"
      ],
      "execution_count": null,
      "outputs": [
        {
          "output_type": "display_data",
          "data": {
            "image/png": "[encoded data removed]",
            "text/plain": [
              "<Figure size 432x288 with 1 Axes>"
            ]
          },
          "metadata": {
            "tags": [],
            "needs_background": "light"
          }
        }
      ]
    },
    {
      "cell_type": "markdown",
      "metadata": {
        "id": "QEehWtLFRFd-"
      },
      "source": [
        "Tách tập train đã bỏ các outlier "
      ]
    },
    {
      "cell_type": "code",
      "metadata": {
        "id": "9jtO9GYpM5au"
      },
      "source": [
        "removed_outliers_X, removed_outliers_y = removed_outliers.iloc[:, :-1], removed_outliers.iloc[:, -1]"
      ],
      "execution_count": null,
      "outputs": []
    },
    {
      "cell_type": "markdown",
      "metadata": {
        "id": "sfP__2SrRM3m"
      },
      "source": [
        "#### Tìm các siêu tham số tốt nhất với dữ liệu hiện tại\n",
        "\n",
        "Các bước thực hiện tương tự như trên"
      ]
    },
    {
      "cell_type": "code",
      "metadata": {
        "id": "iN2S-dOSMfJr"
      },
      "source": [
        "kernel = 'rbf'\n",
        "train_r2 = []\n",
        "best_c, best_g = optimal_svr(removed_outliers_X, removed_outliers_y, kernel, C_range, gamma_range, train_r2)"
      ],
      "execution_count": null,
      "outputs": []
    },
    {
      "cell_type": "code",
      "metadata": {
        "id": "BdivT_daMkLs"
      },
      "source": [
        "train_r2 = pd.DataFrame(train_r2, columns=gamma_range, index=C_range)"
      ],
      "execution_count": null,
      "outputs": []
    },
    {
      "cell_type": "code",
      "metadata": {
        "colab": {
          "base_uri": "https://localhost:8080/",
          "height": 458
        },
        "id": "JoIVEJ8WMkFP",
        "outputId": "67a9ca27-4e3c-47a1-e549-32afce9c36f2"
      },
      "source": [
        "plt.figure(figsize=(7, 7))\n",
        "sns.heatmap(train_r2,square=True, annot=True, cbar=False, fmt='.3f', cmap='Reds')\n",
        "plt.xlabel('Gamma'); plt.ylabel('C');plt.title('R-square of training set')\n",
        "plt.show()"
      ],
      "execution_count": null,
      "outputs": [
        {
          "output_type": "display_data",
          "data": {
            "image/png": "[encoded data removed]",
            "text/plain": [
              "<Figure size 504x504 with 1 Axes>"
            ]
          },
          "metadata": {
            "tags": [],
            "needs_background": "light"
          }
        }
      ]
    },
    {
      "cell_type": "code",
      "metadata": {
        "colab": {
          "base_uri": "https://localhost:8080/"
        },
        "id": "pmGdKe7aMj-Y",
        "outputId": "1caa664a-aaf0-4311-9984-f42e26909e87"
      },
      "source": [
        "print('C= %s và gamma= %s' %(best_c, best_g))"
      ],
      "execution_count": null,
      "outputs": [
        {
          "output_type": "stream",
          "text": [
            "C= 10 và gamma= 0.05\n"
          ],
          "name": "stdout"
        }
      ]
    },
    {
      "cell_type": "code",
      "metadata": {
        "colab": {
          "base_uri": "https://localhost:8080/",
          "height": 196
        },
        "id": "IYxBlB2iMj1Q",
        "outputId": "d393f93e-5326-46f8-83dc-6a192d16f78a"
      },
      "source": [
        "svr = SVR(kernel= kernel, C=best_c, gamma=best_g)\n",
        "pipeline = Pipeline(steps=[('Column Transformer', preprocessor), ('model', svr),])\n",
        "model = TransformedTargetRegressor(regressor=pipeline, transformer=StandardScaler())\n",
        "model.fit(removed_outliers_X,removed_outliers_y)"
      ],
      "execution_count": null,
      "outputs": [
        {
          "output_type": "execute_result",
          "data": {
            "text/html": [
              "<style>#sk-949b18f4-c786-4d97-8d36-b17cf7fba753 {color: black;background-color: white;}#sk-949b18f4-c786-4d97-8d36-b17cf7fba753 pre{padding: 0;}#sk-949b18f4-c786-4d97-8d36-b17cf7fba753 div.sk-toggleable {background-color: white;}#sk-949b18f4-c786-4d97-8d36-b17cf7fba753 label.sk-toggleable__label {cursor: pointer;display: block;width: 100%;margin-bottom: 0;padding: 0.2em 0.3em;box-sizing: border-box;text-align: center;}#sk-949b18f4-c786-4d97-8d36-b17cf7fba753 div.sk-toggleable__content {max-height: 0;max-width: 0;overflow: hidden;text-align: left;background-color: #f0f8ff;}#sk-949b18f4-c786-4d97-8d36-b17cf7fba753 div.sk-toggleable__content pre {margin: 0.2em;color: black;border-radius: 0.25em;background-color: #f0f8ff;}#sk-949b18f4-c786-4d97-8d36-b17cf7fba753 input.sk-toggleable__control:checked~div.sk-toggleable__content {max-height: 200px;max-width: 100%;overflow: auto;}#sk-949b18f4-c786-4d97-8d36-b17cf7fba753 div.sk-estimator input.sk-toggleable__control:checked~label.sk-toggleable__label {background-color: #d4ebff;}#sk-949b18f4-c786-4d97-8d36-b17cf7fba753 div.sk-label input.sk-toggleable__control:checked~label.sk-toggleable__label {background-color: #d4ebff;}#sk-949b18f4-c786-4d97-8d36-b17cf7fba753 input.sk-hidden--visually {border: 0;clip: rect(1px 1px 1px 1px);clip: rect(1px, 1px, 1px, 1px);height: 1px;margin: -1px;overflow: hidden;padding: 0;position: absolute;width: 1px;}#sk-949b18f4-c786-4d97-8d36-b17cf7fba753 div.sk-estimator {font-family: monospace;background-color: #f0f8ff;margin: 0.25em 0.25em;border: 1px dotted black;border-radius: 0.25em;box-sizing: border-box;}#sk-949b18f4-c786-4d97-8d36-b17cf7fba753 div.sk-estimator:hover {background-color: #d4ebff;}#sk-949b18f4-c786-4d97-8d36-b17cf7fba753 div.sk-parallel-item::after {content: \"\";width: 100%;border-bottom: 1px solid gray;flex-grow: 1;}#sk-949b18f4-c786-4d97-8d36-b17cf7fba753 div.sk-label:hover label.sk-toggleable__label {background-color: #d4ebff;}#sk-949b18f4-c786-4d97-8d36-b17cf7fba753 div.sk-serial::before {content: \"\";position: absolute;border-left: 1px solid gray;box-sizing: border-box;top: 2em;bottom: 0;left: 50%;}#sk-949b18f4-c786-4d97-8d36-b17cf7fba753 div.sk-serial {display: flex;flex-direction: column;align-items: center;background-color: white;}#sk-949b18f4-c786-4d97-8d36-b17cf7fba753 div.sk-item {z-index: 1;}#sk-949b18f4-c786-4d97-8d36-b17cf7fba753 div.sk-parallel {display: flex;align-items: stretch;justify-content: center;background-color: white;}#sk-949b18f4-c786-4d97-8d36-b17cf7fba753 div.sk-parallel-item {display: flex;flex-direction: column;position: relative;background-color: white;}#sk-949b18f4-c786-4d97-8d36-b17cf7fba753 div.sk-parallel-item:first-child::after {align-self: flex-end;width: 50%;}#sk-949b18f4-c786-4d97-8d36-b17cf7fba753 div.sk-parallel-item:last-child::after {align-self: flex-start;width: 50%;}#sk-949b18f4-c786-4d97-8d36-b17cf7fba753 div.sk-parallel-item:only-child::after {width: 0;}#sk-949b18f4-c786-4d97-8d36-b17cf7fba753 div.sk-dashed-wrapped {border: 1px dashed gray;margin: 0.2em;box-sizing: border-box;padding-bottom: 0.1em;background-color: white;position: relative;}#sk-949b18f4-c786-4d97-8d36-b17cf7fba753 div.sk-label label {font-family: monospace;font-weight: bold;background-color: white;display: inline-block;line-height: 1.2em;}#sk-949b18f4-c786-4d97-8d36-b17cf7fba753 div.sk-label-container {position: relative;z-index: 2;text-align: center;}#sk-949b18f4-c786-4d97-8d36-b17cf7fba753 div.sk-container {display: inline-block;position: relative;}</style><div id=\"sk-949b18f4-c786-4d97-8d36-b17cf7fba753\" class\"sk-top-container\"><div class=\"sk-container\"><div class=\"sk-item sk-dashed-wrapped\"><div class=\"sk-label-container\"><div class=\"sk-label sk-toggleable\"><input class=\"sk-toggleable__control sk-hidden--visually\" id=\"6290af69-5422-4782-a591-26bf65f10614\" type=\"checkbox\" ><label class=\"sk-toggleable__label\" for=\"6290af69-5422-4782-a591-26bf65f10614\">TransformedTargetRegressor</label><div class=\"sk-toggleable__content\"><pre>TransformedTargetRegressor(regressor=Pipeline(steps=[('Column Transformer',\n",
              "                                                      ColumnTransformer(transformers=[('ordinals',\n",
              "                                                                                       Pipeline(steps=[('imputer_cat',\n",
              "                                                                                                        SimpleImputer(strategy='constant')),\n",
              "                                                                                                       ('ordinal',\n",
              "                                                                                                        OrdinalEncoder())]),\n",
              "                                                                                       ['sex',\n",
              "                                                                                        'smoker']),\n",
              "                                                                                      ('onehot',\n",
              "                                                                                       Pipeline(steps=[('imputer_cat',\n",
              "                                                                                                        SimpleImputer(strategy='constant')),\n",
              "                                                                                                       ('onehot',\n",
              "                                                                                                        OneHotEncoder(handle_unknown='ignore'))]),\n",
              "                                                                                       ['region']),\n",
              "                                                                                      ('numericals',\n",
              "                                                                                       Pipeline(steps=[('imputer_num',\n",
              "                                                                                                        SimpleImputer(strategy='median')),\n",
              "                                                                                                       ('scaler',\n",
              "                                                                                                        StandardScaler())]),\n",
              "                                                                                       ['age',\n",
              "                                                                                        'bmi',\n",
              "                                                                                        'children'])])),\n",
              "                                                     ('model',\n",
              "                                                      SVR(C=10, gamma=0.05))]),\n",
              "                           transformer=StandardScaler())</pre></div></div></div><div class=\"sk-parallel\"><div class=\"sk-parallel-item\"><div class=\"sk-item\"><div class=\"sk-serial\"><div class=\"sk-item\"><div class=\"sk-serial\"><div class=\"sk-item sk-dashed-wrapped\"><div class=\"sk-label-container\"><div class=\"sk-label sk-toggleable\"><input class=\"sk-toggleable__control sk-hidden--visually\" id=\"a876c177-07ef-458d-acb0-33c70e569e17\" type=\"checkbox\" ><label class=\"sk-toggleable__label\" for=\"a876c177-07ef-458d-acb0-33c70e569e17\">Column Transformer: ColumnTransformer</label><div class=\"sk-toggleable__content\"><pre>ColumnTransformer(transformers=[('ordinals',\n",
              "                                 Pipeline(steps=[('imputer_cat',\n",
              "                                                  SimpleImputer(strategy='constant')),\n",
              "                                                 ('ordinal',\n",
              "                                                  OrdinalEncoder())]),\n",
              "                                 ['sex', 'smoker']),\n",
              "                                ('onehot',\n",
              "                                 Pipeline(steps=[('imputer_cat',\n",
              "                                                  SimpleImputer(strategy='constant')),\n",
              "                                                 ('onehot',\n",
              "                                                  OneHotEncoder(handle_unknown='ignore'))]),\n",
              "                                 ['region']),\n",
              "                                ('numericals',\n",
              "                                 Pipeline(steps=[('imputer_num',\n",
              "                                                  SimpleImputer(strategy='median')),\n",
              "                                                 ('scaler', StandardScaler())]),\n",
              "                                 ['age', 'bmi', 'children'])])</pre></div></div></div><div class=\"sk-parallel\"><div class=\"sk-parallel-item\"><div class=\"sk-item\"><div class=\"sk-label-container\"><div class=\"sk-label sk-toggleable\"><input class=\"sk-toggleable__control sk-hidden--visually\" id=\"f3549ca7-0bc2-4bf3-b35a-d0d3ded25b0b\" type=\"checkbox\" ><label class=\"sk-toggleable__label\" for=\"f3549ca7-0bc2-4bf3-b35a-d0d3ded25b0b\">ordinals</label><div class=\"sk-toggleable__content\"><pre>['sex', 'smoker']</pre></div></div></div><div class=\"sk-serial\"><div class=\"sk-item\"><div class=\"sk-serial\"><div class=\"sk-item\"><div class=\"sk-estimator sk-toggleable\"><input class=\"sk-toggleable__control sk-hidden--visually\" id=\"8edf01a1-3a83-4abe-b41d-d6d92effd007\" type=\"checkbox\" ><label class=\"sk-toggleable__label\" for=\"8edf01a1-3a83-4abe-b41d-d6d92effd007\">SimpleImputer</label><div class=\"sk-toggleable__content\"><pre>SimpleImputer(strategy='constant')</pre></div></div></div><div class=\"sk-item\"><div class=\"sk-estimator sk-toggleable\"><input class=\"sk-toggleable__control sk-hidden--visually\" id=\"09ab7340-8f3d-468d-b095-cc6f2a48f030\" type=\"checkbox\" ><label class=\"sk-toggleable__label\" for=\"09ab7340-8f3d-468d-b095-cc6f2a48f030\">OrdinalEncoder</label><div class=\"sk-toggleable__content\"><pre>OrdinalEncoder()</pre></div></div></div></div></div></div></div></div><div class=\"sk-parallel-item\"><div class=\"sk-item\"><div class=\"sk-label-container\"><div class=\"sk-label sk-toggleable\"><input class=\"sk-toggleable__control sk-hidden--visually\" id=\"4aeb26d4-c7ba-4e9e-8473-7c847a9e30fd\" type=\"checkbox\" ><label class=\"sk-toggleable__label\" for=\"4aeb26d4-c7ba-4e9e-8473-7c847a9e30fd\">onehot</label><div class=\"sk-toggleable__content\"><pre>['region']</pre></div></div></div><div class=\"sk-serial\"><div class=\"sk-item\"><div class=\"sk-serial\"><div class=\"sk-item\"><div class=\"sk-estimator sk-toggleable\"><input class=\"sk-toggleable__control sk-hidden--visually\" id=\"3f3b218f-aec2-4e3a-81d5-27eafcaf9865\" type=\"checkbox\" ><label class=\"sk-toggleable__label\" for=\"3f3b218f-aec2-4e3a-81d5-27eafcaf9865\">SimpleImputer</label><div class=\"sk-toggleable__content\"><pre>SimpleImputer(strategy='constant')</pre></div></div></div><div class=\"sk-item\"><div class=\"sk-estimator sk-toggleable\"><input class=\"sk-toggleable__control sk-hidden--visually\" id=\"47b4e5af-6590-47d7-8b76-2e005d85eb24\" type=\"checkbox\" ><label class=\"sk-toggleable__label\" for=\"47b4e5af-6590-47d7-8b76-2e005d85eb24\">OneHotEncoder</label><div class=\"sk-toggleable__content\"><pre>OneHotEncoder(handle_unknown='ignore')</pre></div></div></div></div></div></div></div></div><div class=\"sk-parallel-item\"><div class=\"sk-item\"><div class=\"sk-label-container\"><div class=\"sk-label sk-toggleable\"><input class=\"sk-toggleable__control sk-hidden--visually\" id=\"c35eb755-3e20-416d-b3c4-857a7455c5e7\" type=\"checkbox\" ><label class=\"sk-toggleable__label\" for=\"c35eb755-3e20-416d-b3c4-857a7455c5e7\">numericals</label><div class=\"sk-toggleable__content\"><pre>['age', 'bmi', 'children']</pre></div></div></div><div class=\"sk-serial\"><div class=\"sk-item\"><div class=\"sk-serial\"><div class=\"sk-item\"><div class=\"sk-estimator sk-toggleable\"><input class=\"sk-toggleable__control sk-hidden--visually\" id=\"9e06c8c1-ff14-42a1-926f-ee3c0d9785f2\" type=\"checkbox\" ><label class=\"sk-toggleable__label\" for=\"9e06c8c1-ff14-42a1-926f-ee3c0d9785f2\">SimpleImputer</label><div class=\"sk-toggleable__content\"><pre>SimpleImputer(strategy='median')</pre></div></div></div><div class=\"sk-item\"><div class=\"sk-estimator sk-toggleable\"><input class=\"sk-toggleable__control sk-hidden--visually\" id=\"620fd9f8-e9d6-4c5f-b3ff-1eb5835c36ab\" type=\"checkbox\" ><label class=\"sk-toggleable__label\" for=\"620fd9f8-e9d6-4c5f-b3ff-1eb5835c36ab\">StandardScaler</label><div class=\"sk-toggleable__content\"><pre>StandardScaler()</pre></div></div></div></div></div></div></div></div></div></div><div class=\"sk-item\"><div class=\"sk-estimator sk-toggleable\"><input class=\"sk-toggleable__control sk-hidden--visually\" id=\"2a3dce83-9c1c-42ad-89a9-e7d2aff12d0f\" type=\"checkbox\" ><label class=\"sk-toggleable__label\" for=\"2a3dce83-9c1c-42ad-89a9-e7d2aff12d0f\">SVR</label><div class=\"sk-toggleable__content\"><pre>SVR(C=10, gamma=0.05)</pre></div></div></div></div></div></div></div></div><div class=\"sk-parallel-item\"><div class=\"sk-item\"><div class=\"sk-serial\"><div class=\"sk-item\"><div class=\"sk-estimator sk-toggleable\"><input class=\"sk-toggleable__control sk-hidden--visually\" id=\"32ce18a1-411d-417c-891d-fa4a4ab4ec41\" type=\"checkbox\" ><label class=\"sk-toggleable__label\" for=\"32ce18a1-411d-417c-891d-fa4a4ab4ec41\">StandardScaler</label><div class=\"sk-toggleable__content\"><pre>StandardScaler()</pre></div></div></div></div></div></div></div></div></div></div>"
            ],
            "text/plain": [
              "TransformedTargetRegressor(regressor=Pipeline(steps=[('Column Transformer',\n",
              "                                                      ColumnTransformer(transformers=[('ordinals',\n",
              "                                                                                       Pipeline(steps=[('imputer_cat',\n",
              "                                                                                                        SimpleImputer(strategy='constant')),\n",
              "                                                                                                       ('ordinal',\n",
              "                                                                                                        OrdinalEncoder())]),\n",
              "                                                                                       ['sex',\n",
              "                                                                                        'smoker']),\n",
              "                                                                                      ('onehot',\n",
              "                                                                                       Pipeline(steps=[('imputer_cat',\n",
              "                                                                                                        SimpleImputer(strategy='constant')),\n",
              "                                                                                                       ('onehot',\n",
              "                                                                                                        OneHotEncoder(handle_unknown='ignore'))]),\n",
              "                                                                                       ['region']),\n",
              "                                                                                      ('numericals',\n",
              "                                                                                       Pipeline(steps=[('imputer_num',\n",
              "                                                                                                        SimpleImputer(strategy='median')),\n",
              "                                                                                                       ('scaler',\n",
              "                                                                                                        StandardScaler())]),\n",
              "                                                                                       ['age',\n",
              "                                                                                        'bmi',\n",
              "                                                                                        'children'])])),\n",
              "                                                     ('model',\n",
              "                                                      SVR(C=10, gamma=0.05))]),\n",
              "                           transformer=StandardScaler())"
            ]
          },
          "metadata": {
            "tags": []
          },
          "execution_count": 73
        }
      ]
    },
    {
      "cell_type": "code",
      "metadata": {
        "colab": {
          "base_uri": "https://localhost:8080/"
        },
        "id": "SYsI7K0mNdmn",
        "outputId": "fa714332-b07a-4dd6-871e-cdc71fbbf972"
      },
      "source": [
        "preds = model.predict(X_test)\n",
        "score = model.score(X_test,y_test)\n",
        "score"
      ],
      "execution_count": null,
      "outputs": [
        {
          "output_type": "execute_result",
          "data": {
            "text/plain": [
              "0.8532437921534919"
            ]
          },
          "metadata": {
            "tags": []
          },
          "execution_count": 74
        }
      ]
    },
    {
      "cell_type": "markdown",
      "metadata": {
        "id": "hW-SkLtoRjyv"
      },
      "source": [
        "**Nhận xét:**\n",
        "- Khi xóa các dữ liệu bệnh nhân bất thường thì độ chính xác trên tập train tăng lên đến gần 90%\n",
        "- Tuy nhiên khi dự đoán trên tập test thì độ chính xác của mô hình không tăng mà lại thấp đi một chút\n",
        "- Có vẻ là lớp bệnh nhân này cũng có tỉ lệ cao trong thực tế nên nó không hẵn là các outlier mà có thể là các đối tượng khá đặc biệt mà cần quan sát thêm các đặc trưng khác để có thể dự đoán chính xác"
      ]
    },
    {
      "cell_type": "markdown",
      "metadata": {
        "id": "ud407shnZDzx"
      },
      "source": [
        "### Dùng Simple Regression"
      ]
    },
    {
      "cell_type": "code",
      "metadata": {
        "id": "sGZLFHy3Uq00",
        "colab": {
          "base_uri": "https://localhost:8080/"
        },
        "outputId": "5c9ddc8c-3d5d-4213-e18b-3c0b57f7abac"
      },
      "source": [
        "from sklearn.linear_model import LinearRegression\n",
        "reg = LinearRegression()\n",
        "pipeline = Pipeline(steps=[('Column Transformer', preprocessor), ('model', reg),])\n",
        "model = TransformedTargetRegressor(regressor=pipeline, transformer=StandardScaler())\n",
        "model.fit(X,y)\n",
        "model.score(X, y)"
      ],
      "execution_count": null,
      "outputs": [
        {
          "output_type": "execute_result",
          "data": {
            "text/plain": [
              "0.744221765190394"
            ]
          },
          "metadata": {
            "tags": []
          },
          "execution_count": 75
        }
      ]
    },
    {
      "cell_type": "code",
      "metadata": {
        "colab": {
          "base_uri": "https://localhost:8080/",
          "height": 196
        },
        "id": "Na8K8yh0n8Vc",
        "outputId": "f08e1493-8dfd-45e0-a650-554bd4fd7e55"
      },
      "source": [
        "model"
      ],
      "execution_count": null,
      "outputs": [
        {
          "output_type": "execute_result",
          "data": {
            "text/html": [
              "<style>#sk-fe634787-c85f-45e1-9e38-7295589b488b {color: black;background-color: white;}#sk-fe634787-c85f-45e1-9e38-7295589b488b pre{padding: 0;}#sk-fe634787-c85f-45e1-9e38-7295589b488b div.sk-toggleable {background-color: white;}#sk-fe634787-c85f-45e1-9e38-7295589b488b label.sk-toggleable__label {cursor: pointer;display: block;width: 100%;margin-bottom: 0;padding: 0.2em 0.3em;box-sizing: border-box;text-align: center;}#sk-fe634787-c85f-45e1-9e38-7295589b488b div.sk-toggleable__content {max-height: 0;max-width: 0;overflow: hidden;text-align: left;background-color: #f0f8ff;}#sk-fe634787-c85f-45e1-9e38-7295589b488b div.sk-toggleable__content pre {margin: 0.2em;color: black;border-radius: 0.25em;background-color: #f0f8ff;}#sk-fe634787-c85f-45e1-9e38-7295589b488b input.sk-toggleable__control:checked~div.sk-toggleable__content {max-height: 200px;max-width: 100%;overflow: auto;}#sk-fe634787-c85f-45e1-9e38-7295589b488b div.sk-estimator input.sk-toggleable__control:checked~label.sk-toggleable__label {background-color: #d4ebff;}#sk-fe634787-c85f-45e1-9e38-7295589b488b div.sk-label input.sk-toggleable__control:checked~label.sk-toggleable__label {background-color: #d4ebff;}#sk-fe634787-c85f-45e1-9e38-7295589b488b input.sk-hidden--visually {border: 0;clip: rect(1px 1px 1px 1px);clip: rect(1px, 1px, 1px, 1px);height: 1px;margin: -1px;overflow: hidden;padding: 0;position: absolute;width: 1px;}#sk-fe634787-c85f-45e1-9e38-7295589b488b div.sk-estimator {font-family: monospace;background-color: #f0f8ff;margin: 0.25em 0.25em;border: 1px dotted black;border-radius: 0.25em;box-sizing: border-box;}#sk-fe634787-c85f-45e1-9e38-7295589b488b div.sk-estimator:hover {background-color: #d4ebff;}#sk-fe634787-c85f-45e1-9e38-7295589b488b div.sk-parallel-item::after {content: \"\";width: 100%;border-bottom: 1px solid gray;flex-grow: 1;}#sk-fe634787-c85f-45e1-9e38-7295589b488b div.sk-label:hover label.sk-toggleable__label {background-color: #d4ebff;}#sk-fe634787-c85f-45e1-9e38-7295589b488b div.sk-serial::before {content: \"\";position: absolute;border-left: 1px solid gray;box-sizing: border-box;top: 2em;bottom: 0;left: 50%;}#sk-fe634787-c85f-45e1-9e38-7295589b488b div.sk-serial {display: flex;flex-direction: column;align-items: center;background-color: white;}#sk-fe634787-c85f-45e1-9e38-7295589b488b div.sk-item {z-index: 1;}#sk-fe634787-c85f-45e1-9e38-7295589b488b div.sk-parallel {display: flex;align-items: stretch;justify-content: center;background-color: white;}#sk-fe634787-c85f-45e1-9e38-7295589b488b div.sk-parallel-item {display: flex;flex-direction: column;position: relative;background-color: white;}#sk-fe634787-c85f-45e1-9e38-7295589b488b div.sk-parallel-item:first-child::after {align-self: flex-end;width: 50%;}#sk-fe634787-c85f-45e1-9e38-7295589b488b div.sk-parallel-item:last-child::after {align-self: flex-start;width: 50%;}#sk-fe634787-c85f-45e1-9e38-7295589b488b div.sk-parallel-item:only-child::after {width: 0;}#sk-fe634787-c85f-45e1-9e38-7295589b488b div.sk-dashed-wrapped {border: 1px dashed gray;margin: 0.2em;box-sizing: border-box;padding-bottom: 0.1em;background-color: white;position: relative;}#sk-fe634787-c85f-45e1-9e38-7295589b488b div.sk-label label {font-family: monospace;font-weight: bold;background-color: white;display: inline-block;line-height: 1.2em;}#sk-fe634787-c85f-45e1-9e38-7295589b488b div.sk-label-container {position: relative;z-index: 2;text-align: center;}#sk-fe634787-c85f-45e1-9e38-7295589b488b div.sk-container {display: inline-block;position: relative;}</style><div id=\"sk-fe634787-c85f-45e1-9e38-7295589b488b\" class\"sk-top-container\"><div class=\"sk-container\"><div class=\"sk-item sk-dashed-wrapped\"><div class=\"sk-label-container\"><div class=\"sk-label sk-toggleable\"><input class=\"sk-toggleable__control sk-hidden--visually\" id=\"600b4cd3-361a-47d4-8ffe-bda7ba79d07d\" type=\"checkbox\" ><label class=\"sk-toggleable__label\" for=\"600b4cd3-361a-47d4-8ffe-bda7ba79d07d\">TransformedTargetRegressor</label><div class=\"sk-toggleable__content\"><pre>TransformedTargetRegressor(regressor=Pipeline(steps=[('Column Transformer',\n",
              "                                                      ColumnTransformer(transformers=[('ordinals',\n",
              "                                                                                       Pipeline(steps=[('imputer_cat',\n",
              "                                                                                                        SimpleImputer(strategy='constant')),\n",
              "                                                                                                       ('ordinal',\n",
              "                                                                                                        OrdinalEncoder())]),\n",
              "                                                                                       ['sex',\n",
              "                                                                                        'smoker']),\n",
              "                                                                                      ('onehot',\n",
              "                                                                                       Pipeline(steps=[('imputer_cat',\n",
              "                                                                                                        SimpleImputer(strategy='constant')),\n",
              "                                                                                                       ('onehot',\n",
              "                                                                                                        OneHotEncoder(handle_unknown='ignore'))]),\n",
              "                                                                                       ['region']),\n",
              "                                                                                      ('numericals',\n",
              "                                                                                       Pipeline(steps=[('imputer_num',\n",
              "                                                                                                        SimpleImputer(strategy='median')),\n",
              "                                                                                                       ('scaler',\n",
              "                                                                                                        StandardScaler())]),\n",
              "                                                                                       ['age',\n",
              "                                                                                        'bmi',\n",
              "                                                                                        'children'])])),\n",
              "                                                     ('model',\n",
              "                                                      LinearRegression())]),\n",
              "                           transformer=StandardScaler())</pre></div></div></div><div class=\"sk-parallel\"><div class=\"sk-parallel-item\"><div class=\"sk-item\"><div class=\"sk-serial\"><div class=\"sk-item\"><div class=\"sk-serial\"><div class=\"sk-item sk-dashed-wrapped\"><div class=\"sk-label-container\"><div class=\"sk-label sk-toggleable\"><input class=\"sk-toggleable__control sk-hidden--visually\" id=\"41052e77-ca99-4ded-a82d-646b4a07cf3a\" type=\"checkbox\" ><label class=\"sk-toggleable__label\" for=\"41052e77-ca99-4ded-a82d-646b4a07cf3a\">Column Transformer: ColumnTransformer</label><div class=\"sk-toggleable__content\"><pre>ColumnTransformer(transformers=[('ordinals',\n",
              "                                 Pipeline(steps=[('imputer_cat',\n",
              "                                                  SimpleImputer(strategy='constant')),\n",
              "                                                 ('ordinal',\n",
              "                                                  OrdinalEncoder())]),\n",
              "                                 ['sex', 'smoker']),\n",
              "                                ('onehot',\n",
              "                                 Pipeline(steps=[('imputer_cat',\n",
              "                                                  SimpleImputer(strategy='constant')),\n",
              "                                                 ('onehot',\n",
              "                                                  OneHotEncoder(handle_unknown='ignore'))]),\n",
              "                                 ['region']),\n",
              "                                ('numericals',\n",
              "                                 Pipeline(steps=[('imputer_num',\n",
              "                                                  SimpleImputer(strategy='median')),\n",
              "                                                 ('scaler', StandardScaler())]),\n",
              "                                 ['age', 'bmi', 'children'])])</pre></div></div></div><div class=\"sk-parallel\"><div class=\"sk-parallel-item\"><div class=\"sk-item\"><div class=\"sk-label-container\"><div class=\"sk-label sk-toggleable\"><input class=\"sk-toggleable__control sk-hidden--visually\" id=\"6fd56200-5830-4385-8b6d-dc1e943a8028\" type=\"checkbox\" ><label class=\"sk-toggleable__label\" for=\"6fd56200-5830-4385-8b6d-dc1e943a8028\">ordinals</label><div class=\"sk-toggleable__content\"><pre>['sex', 'smoker']</pre></div></div></div><div class=\"sk-serial\"><div class=\"sk-item\"><div class=\"sk-serial\"><div class=\"sk-item\"><div class=\"sk-estimator sk-toggleable\"><input class=\"sk-toggleable__control sk-hidden--visually\" id=\"8d624528-417e-430f-a198-10915eb2df86\" type=\"checkbox\" ><label class=\"sk-toggleable__label\" for=\"8d624528-417e-430f-a198-10915eb2df86\">SimpleImputer</label><div class=\"sk-toggleable__content\"><pre>SimpleImputer(strategy='constant')</pre></div></div></div><div class=\"sk-item\"><div class=\"sk-estimator sk-toggleable\"><input class=\"sk-toggleable__control sk-hidden--visually\" id=\"3b6498f4-3116-4704-95cc-ee054dd79b80\" type=\"checkbox\" ><label class=\"sk-toggleable__label\" for=\"3b6498f4-3116-4704-95cc-ee054dd79b80\">OrdinalEncoder</label><div class=\"sk-toggleable__content\"><pre>OrdinalEncoder()</pre></div></div></div></div></div></div></div></div><div class=\"sk-parallel-item\"><div class=\"sk-item\"><div class=\"sk-label-container\"><div class=\"sk-label sk-toggleable\"><input class=\"sk-toggleable__control sk-hidden--visually\" id=\"f4db03fa-d164-4cba-b7b7-362d767273c7\" type=\"checkbox\" ><label class=\"sk-toggleable__label\" for=\"f4db03fa-d164-4cba-b7b7-362d767273c7\">onehot</label><div class=\"sk-toggleable__content\"><pre>['region']</pre></div></div></div><div class=\"sk-serial\"><div class=\"sk-item\"><div class=\"sk-serial\"><div class=\"sk-item\"><div class=\"sk-estimator sk-toggleable\"><input class=\"sk-toggleable__control sk-hidden--visually\" id=\"dbb0238a-7f3d-4d59-8677-aedeb91e5509\" type=\"checkbox\" ><label class=\"sk-toggleable__label\" for=\"dbb0238a-7f3d-4d59-8677-aedeb91e5509\">SimpleImputer</label><div class=\"sk-toggleable__content\"><pre>SimpleImputer(strategy='constant')</pre></div></div></div><div class=\"sk-item\"><div class=\"sk-estimator sk-toggleable\"><input class=\"sk-toggleable__control sk-hidden--visually\" id=\"b96a46d2-868b-4609-8e74-f4a53a75d252\" type=\"checkbox\" ><label class=\"sk-toggleable__label\" for=\"b96a46d2-868b-4609-8e74-f4a53a75d252\">OneHotEncoder</label><div class=\"sk-toggleable__content\"><pre>OneHotEncoder(handle_unknown='ignore')</pre></div></div></div></div></div></div></div></div><div class=\"sk-parallel-item\"><div class=\"sk-item\"><div class=\"sk-label-container\"><div class=\"sk-label sk-toggleable\"><input class=\"sk-toggleable__control sk-hidden--visually\" id=\"99f2f9c9-c5c4-4c29-8b57-a08d2d08d269\" type=\"checkbox\" ><label class=\"sk-toggleable__label\" for=\"99f2f9c9-c5c4-4c29-8b57-a08d2d08d269\">numericals</label><div class=\"sk-toggleable__content\"><pre>['age', 'bmi', 'children']</pre></div></div></div><div class=\"sk-serial\"><div class=\"sk-item\"><div class=\"sk-serial\"><div class=\"sk-item\"><div class=\"sk-estimator sk-toggleable\"><input class=\"sk-toggleable__control sk-hidden--visually\" id=\"98f316f4-1499-4b90-8fba-faea114b1063\" type=\"checkbox\" ><label class=\"sk-toggleable__label\" for=\"98f316f4-1499-4b90-8fba-faea114b1063\">SimpleImputer</label><div class=\"sk-toggleable__content\"><pre>SimpleImputer(strategy='median')</pre></div></div></div><div class=\"sk-item\"><div class=\"sk-estimator sk-toggleable\"><input class=\"sk-toggleable__control sk-hidden--visually\" id=\"c60ead9f-24ff-4618-8ef7-e4c0e87acd8b\" type=\"checkbox\" ><label class=\"sk-toggleable__label\" for=\"c60ead9f-24ff-4618-8ef7-e4c0e87acd8b\">StandardScaler</label><div class=\"sk-toggleable__content\"><pre>StandardScaler()</pre></div></div></div></div></div></div></div></div></div></div><div class=\"sk-item\"><div class=\"sk-estimator sk-toggleable\"><input class=\"sk-toggleable__control sk-hidden--visually\" id=\"b5ee5a73-0bc8-492b-9a24-29c16045e525\" type=\"checkbox\" ><label class=\"sk-toggleable__label\" for=\"b5ee5a73-0bc8-492b-9a24-29c16045e525\">LinearRegression</label><div class=\"sk-toggleable__content\"><pre>LinearRegression()</pre></div></div></div></div></div></div></div></div><div class=\"sk-parallel-item\"><div class=\"sk-item\"><div class=\"sk-serial\"><div class=\"sk-item\"><div class=\"sk-estimator sk-toggleable\"><input class=\"sk-toggleable__control sk-hidden--visually\" id=\"c530071c-08fb-4add-8832-352f3102ca78\" type=\"checkbox\" ><label class=\"sk-toggleable__label\" for=\"c530071c-08fb-4add-8832-352f3102ca78\">StandardScaler</label><div class=\"sk-toggleable__content\"><pre>StandardScaler()</pre></div></div></div></div></div></div></div></div></div></div>"
            ],
            "text/plain": [
              "TransformedTargetRegressor(regressor=Pipeline(steps=[('Column Transformer',\n",
              "                                                      ColumnTransformer(transformers=[('ordinals',\n",
              "                                                                                       Pipeline(steps=[('imputer_cat',\n",
              "                                                                                                        SimpleImputer(strategy='constant')),\n",
              "                                                                                                       ('ordinal',\n",
              "                                                                                                        OrdinalEncoder())]),\n",
              "                                                                                       ['sex',\n",
              "                                                                                        'smoker']),\n",
              "                                                                                      ('onehot',\n",
              "                                                                                       Pipeline(steps=[('imputer_cat',\n",
              "                                                                                                        SimpleImputer(strategy='constant')),\n",
              "                                                                                                       ('onehot',\n",
              "                                                                                                        OneHotEncoder(handle_unknown='ignore'))]),\n",
              "                                                                                       ['region']),\n",
              "                                                                                      ('numericals',\n",
              "                                                                                       Pipeline(steps=[('imputer_num',\n",
              "                                                                                                        SimpleImputer(strategy='median')),\n",
              "                                                                                                       ('scaler',\n",
              "                                                                                                        StandardScaler())]),\n",
              "                                                                                       ['age',\n",
              "                                                                                        'bmi',\n",
              "                                                                                        'children'])])),\n",
              "                                                     ('model',\n",
              "                                                      LinearRegression())]),\n",
              "                           transformer=StandardScaler())"
            ]
          },
          "metadata": {
            "tags": []
          },
          "execution_count": 82
        }
      ]
    },
    {
      "cell_type": "code",
      "metadata": {
        "id": "97YUBOwBM775"
      },
      "source": [
        "preds = model.predict(X_test)"
      ],
      "execution_count": null,
      "outputs": []
    },
    {
      "cell_type": "code",
      "metadata": {
        "colab": {
          "base_uri": "https://localhost:8080/"
        },
        "id": "g592Uvk5Nf0t",
        "outputId": "feaad08b-27a9-4b77-a198-a96f2fd3122b"
      },
      "source": [
        "score = model.score(X_test,y_test)\n",
        "score"
      ],
      "execution_count": null,
      "outputs": [
        {
          "output_type": "execute_result",
          "data": {
            "text/plain": [
              "0.7658201226718288"
            ]
          },
          "metadata": {
            "tags": []
          },
          "execution_count": 77
        }
      ]
    },
    {
      "cell_type": "markdown",
      "metadata": {
        "id": "jmfhcJVGOWEb"
      },
      "source": [
        "#### Giảm chiều và trực quan"
      ]
    },
    {
      "cell_type": "code",
      "metadata": {
        "id": "RA8ufxsR7G-N"
      },
      "source": [
        "Xpre = preprocessor.fit_transform(X)"
      ],
      "execution_count": null,
      "outputs": []
    },
    {
      "cell_type": "code",
      "metadata": {
        "colab": {
          "base_uri": "https://localhost:8080/",
          "height": 71
        },
        "id": "tY301DcL2dPU",
        "outputId": "71b11e00-e187-490c-d5c8-6cb21effd607"
      },
      "source": [
        "pls = PLSRegression(n_components=1)\n",
        "pls.fit(Xpre, y)"
      ],
      "execution_count": null,
      "outputs": [
        {
          "output_type": "execute_result",
          "data": {
            "text/html": [
              "<style>#sk-07e56123-a381-4c73-a09f-fdd75ce8c2bc {color: black;background-color: white;}#sk-07e56123-a381-4c73-a09f-fdd75ce8c2bc pre{padding: 0;}#sk-07e56123-a381-4c73-a09f-fdd75ce8c2bc div.sk-toggleable {background-color: white;}#sk-07e56123-a381-4c73-a09f-fdd75ce8c2bc label.sk-toggleable__label {cursor: pointer;display: block;width: 100%;margin-bottom: 0;padding: 0.2em 0.3em;box-sizing: border-box;text-align: center;}#sk-07e56123-a381-4c73-a09f-fdd75ce8c2bc div.sk-toggleable__content {max-height: 0;max-width: 0;overflow: hidden;text-align: left;background-color: #f0f8ff;}#sk-07e56123-a381-4c73-a09f-fdd75ce8c2bc div.sk-toggleable__content pre {margin: 0.2em;color: black;border-radius: 0.25em;background-color: #f0f8ff;}#sk-07e56123-a381-4c73-a09f-fdd75ce8c2bc input.sk-toggleable__control:checked~div.sk-toggleable__content {max-height: 200px;max-width: 100%;overflow: auto;}#sk-07e56123-a381-4c73-a09f-fdd75ce8c2bc div.sk-estimator input.sk-toggleable__control:checked~label.sk-toggleable__label {background-color: #d4ebff;}#sk-07e56123-a381-4c73-a09f-fdd75ce8c2bc div.sk-label input.sk-toggleable__control:checked~label.sk-toggleable__label {background-color: #d4ebff;}#sk-07e56123-a381-4c73-a09f-fdd75ce8c2bc input.sk-hidden--visually {border: 0;clip: rect(1px 1px 1px 1px);clip: rect(1px, 1px, 1px, 1px);height: 1px;margin: -1px;overflow: hidden;padding: 0;position: absolute;width: 1px;}#sk-07e56123-a381-4c73-a09f-fdd75ce8c2bc div.sk-estimator {font-family: monospace;background-color: #f0f8ff;margin: 0.25em 0.25em;border: 1px dotted black;border-radius: 0.25em;box-sizing: border-box;}#sk-07e56123-a381-4c73-a09f-fdd75ce8c2bc div.sk-estimator:hover {background-color: #d4ebff;}#sk-07e56123-a381-4c73-a09f-fdd75ce8c2bc div.sk-parallel-item::after {content: \"\";width: 100%;border-bottom: 1px solid gray;flex-grow: 1;}#sk-07e56123-a381-4c73-a09f-fdd75ce8c2bc div.sk-label:hover label.sk-toggleable__label {background-color: #d4ebff;}#sk-07e56123-a381-4c73-a09f-fdd75ce8c2bc div.sk-serial::before {content: \"\";position: absolute;border-left: 1px solid gray;box-sizing: border-box;top: 2em;bottom: 0;left: 50%;}#sk-07e56123-a381-4c73-a09f-fdd75ce8c2bc div.sk-serial {display: flex;flex-direction: column;align-items: center;background-color: white;}#sk-07e56123-a381-4c73-a09f-fdd75ce8c2bc div.sk-item {z-index: 1;}#sk-07e56123-a381-4c73-a09f-fdd75ce8c2bc div.sk-parallel {display: flex;align-items: stretch;justify-content: center;background-color: white;}#sk-07e56123-a381-4c73-a09f-fdd75ce8c2bc div.sk-parallel-item {display: flex;flex-direction: column;position: relative;background-color: white;}#sk-07e56123-a381-4c73-a09f-fdd75ce8c2bc div.sk-parallel-item:first-child::after {align-self: flex-end;width: 50%;}#sk-07e56123-a381-4c73-a09f-fdd75ce8c2bc div.sk-parallel-item:last-child::after {align-self: flex-start;width: 50%;}#sk-07e56123-a381-4c73-a09f-fdd75ce8c2bc div.sk-parallel-item:only-child::after {width: 0;}#sk-07e56123-a381-4c73-a09f-fdd75ce8c2bc div.sk-dashed-wrapped {border: 1px dashed gray;margin: 0.2em;box-sizing: border-box;padding-bottom: 0.1em;background-color: white;position: relative;}#sk-07e56123-a381-4c73-a09f-fdd75ce8c2bc div.sk-label label {font-family: monospace;font-weight: bold;background-color: white;display: inline-block;line-height: 1.2em;}#sk-07e56123-a381-4c73-a09f-fdd75ce8c2bc div.sk-label-container {position: relative;z-index: 2;text-align: center;}#sk-07e56123-a381-4c73-a09f-fdd75ce8c2bc div.sk-container {display: inline-block;position: relative;}</style><div id=\"sk-07e56123-a381-4c73-a09f-fdd75ce8c2bc\" class\"sk-top-container\"><div class=\"sk-container\"><div class=\"sk-item\"><div class=\"sk-estimator sk-toggleable\"><input class=\"sk-toggleable__control sk-hidden--visually\" id=\"66357638-51ff-41a9-b0cf-afd35a962a0d\" type=\"checkbox\" checked><label class=\"sk-toggleable__label\" for=\"66357638-51ff-41a9-b0cf-afd35a962a0d\">PLSRegression</label><div class=\"sk-toggleable__content\"><pre>PLSRegression(n_components=1)</pre></div></div></div></div></div>"
            ],
            "text/plain": [
              "PLSRegression(n_components=1)"
            ]
          },
          "metadata": {
            "tags": []
          },
          "execution_count": 79
        }
      ]
    },
    {
      "cell_type": "code",
      "metadata": {
        "id": "cb7SJAj08-ZT"
      },
      "source": [
        "X_test_pre = preprocessor.transform(X_test)"
      ],
      "execution_count": null,
      "outputs": []
    },
    {
      "cell_type": "code",
      "metadata": {
        "colab": {
          "base_uri": "https://localhost:8080/",
          "height": 265
        },
        "id": "uyPDombE7gpa",
        "outputId": "54f1a44d-69bf-4f40-f42c-0352595f1a49"
      },
      "source": [
        "plt.scatter(x=pls.transform(X_test_pre), y= y_test, alpha = 0.5,color= 'r', label= 'True')\n",
        "plt.scatter(x=pls.transform(X_test_pre), y = pls.predict(X_test_pre), alpha= 0.5, label= 'Predictions')\n",
        "plt.legend()\n",
        "plt.show()"
      ],
      "execution_count": null,
      "outputs": [
        {
          "output_type": "display_data",
          "data": {
            "image/png": "[encoded data removed]",
            "text/plain": [
              "<Figure size 432x288 with 1 Axes>"
            ]
          },
          "metadata": {
            "tags": [],
            "needs_background": "light"
          }
        }
      ]
    },
    {
      "cell_type": "markdown",
      "metadata": {
        "id": "yj6BZMcA8Ahb"
      },
      "source": [
        "### Kết luận:\n",
        "\n",
        "- Đối với dữ liệu này, trong các mô hình được thực hiện thì mô hình SVR với kernel là RBF cho độ chính xác cao nhất là khoảng 86% trên tập test và lên đến 90% trên tập train khi xóa đi các bệnh nhân không hút thuốc nhưng chi phí y tế cao\n",
        "- Đối tượng bệnh nhân không hút thuốc nhưng lại mất nhiều chi phí cho dịch vụ y tế cần được quan sát thêm các đặc trưng để dự đoán được chính xác hơn"
      ]
    },
    {
      "cell_type": "markdown",
      "metadata": {
        "id": "poM8JF5rDkWu"
      },
      "source": [
        "## Tham khảo\n",
        "\n",
        "[1]. [Stephanie - Variance Inflation Factor - Statisticshowto.com](https://www.statisticshowto.com/variance-inflation-factor/)\n",
        "\n",
        "[2]. https://www3.nd.edu/~rwilliam/stats1/x51.pdf\n",
        "\n",
        "[3]. https://towardsdatascience.com/gentle-introduction-to-chi-square-test-for-independence-7182a7414a95"
      ]
    },
    {
      "cell_type": "code",
      "metadata": {
        "id": "BZIN_f9uwR-C"
      },
      "source": [
        ""
      ],
      "execution_count": null,
      "outputs": []
    }
  ]
}