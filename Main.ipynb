{
  "nbformat": 4,
  "nbformat_minor": 0,
  "metadata": {
    "colab": {
      "name": "Nhom7.ipynb",
      "provenance": [],
      "collapsed_sections": [],
      "toc_visible": true,
      "include_colab_link": true
    },
    "kernelspec": {
      "name": "python3",
      "display_name": "Python 3"
    },
    "language_info": {
      "name": "python"
    }
  },
  "cells": [
    {
      "cell_type": "markdown",
      "metadata": {
        "id": "view-in-github",
        "colab_type": "text"
      },
      "source": [
        "<a href=\"https://colab.research.google.com/github/Al3927/charges_regression_analysis/blob/main/Main.ipynb\" target=\"_parent\"><img src=\"https://colab.research.google.com/assets/colab-badge.svg\" alt=\"Open In Colab\"/></a>"
      ]
    },
    {
      "cell_type": "markdown",
      "metadata": {
        "id": "yISGxg67rl9R"
      },
      "source": [
        "# <center><font size =\"9\"> ĐỒ ÁN 01: REGRESSION</font></center>\n",
        " <br />\n",
        " \n",
        "__TÊN MÔN HỌC:__ NHẬP MÔN HỌC MÁY\n",
        "\n",
        "__ĐỀ TÀI:__ CHI PHÍ SỬ DỤNG DỊCH VỤ Y TẾ\n",
        "\n",
        "__GIẢNG VIÊN:__ NGUYỄN TIẾN HUY\n",
        " \n",
        "__THỨ TỰ NHÓM:__ 07\n",
        " \n",
        "__THÀNH VIÊN:__\n",
        "\n",
        "- 18120184 Nguyễn Nguyên Khang \n",
        "- 18120189 Trần Đăng Khoa\n",
        "- 18120264 Nguyễn Duy Vũ\n",
        "- 18120283 Nguyễn Chiêu Bản\n",
        "- 18120286 Nguyễn Quốc Bảo\n",
        "\n",
        "__PHÂN CÔNG:__\n",
        "\n",
        "Công việc | Thực hiện | Mức độ hoàn thành\n",
        "------------ | ------------- | ------------\n",
        "Khám phá dữ liệu cơ bản | Vũ | 100%\n",
        "Tiền xử lý dữ liệu | Vũ | 100%\n",
        "Mô hình hóa dữ liệu | Bản, Bảo | 100%\n",
        "Phân tích dữ liệu tìm Insight| Khang, Khoa | 100%\n"
      ]
    },
    {
      "cell_type": "markdown",
      "metadata": {
        "id": "rM4_J3Mf_1xP"
      },
      "source": [
        "## Get Data"
      ]
    },
    {
      "cell_type": "code",
      "metadata": {
        "colab": {
          "base_uri": "https://localhost:8080/"
        },
        "id": "mmYogQFq8nzl",
        "outputId": "718982ce-2747-4f12-f679-05521490de67"
      },
      "source": [
        "!gdown --id 19ig1GFDCioN_O2LjhF_JSzhwl_erengT\n",
        "!gdown --id 1xvHczHpMFgPIQhyMKWT__fHimq0yVVK9"
      ],
      "execution_count": 1,
      "outputs": [
        {
          "output_type": "stream",
          "name": "stdout",
          "text": [
            "Downloading...\n",
            "From: https://drive.google.com/uc?id=19ig1GFDCioN_O2LjhF_JSzhwl_erengT\n",
            "To: /content/train.csv\n",
            "100% 41.5k/41.5k [00:00<00:00, 1.83MB/s]\n",
            "Downloading...\n",
            "From: https://drive.google.com/uc?id=1xvHczHpMFgPIQhyMKWT__fHimq0yVVK9\n",
            "To: /content/test.csv\n",
            "100% 13.9k/13.9k [00:00<00:00, 19.3MB/s]\n"
          ]
        }
      ]
    },
    {
      "cell_type": "code",
      "metadata": {
        "colab": {
          "base_uri": "https://localhost:8080/"
        },
        "id": "KuOC9BrcjFpL",
        "outputId": "85a27433-b332-4b4b-8e2a-84ee569490cb"
      },
      "source": [
        "!pip install --upgrade scikit-learn"
      ],
      "execution_count": 2,
      "outputs": [
        {
          "output_type": "stream",
          "name": "stdout",
          "text": [
            "Requirement already satisfied: scikit-learn in /usr/local/lib/python3.7/dist-packages (1.0.2)\n",
            "Requirement already satisfied: scipy>=1.1.0 in /usr/local/lib/python3.7/dist-packages (from scikit-learn) (1.4.1)\n",
            "Requirement already satisfied: numpy>=1.14.6 in /usr/local/lib/python3.7/dist-packages (from scikit-learn) (1.21.5)\n",
            "Requirement already satisfied: threadpoolctl>=2.0.0 in /usr/local/lib/python3.7/dist-packages (from scikit-learn) (3.1.0)\n",
            "Requirement already satisfied: joblib>=0.11 in /usr/local/lib/python3.7/dist-packages (from scikit-learn) (1.1.0)\n"
          ]
        }
      ]
    },
    {
      "cell_type": "markdown",
      "metadata": {
        "id": "O-ANv-qw_p9j"
      },
      "source": [
        "## Import"
      ]
    },
    {
      "cell_type": "code",
      "metadata": {
        "id": "T3jAZ3YA_GbB"
      },
      "source": [
        "import pandas as pd\n",
        "import numpy as np\n",
        "import matplotlib.pyplot as plt\n",
        "import seaborn as sns\n",
        "from sklearn.decomposition import PCA\n",
        "from sklearn.model_selection import train_test_split\n",
        "from sklearn.preprocessing import OneHotEncoder, StandardScaler, OrdinalEncoder\n",
        "from sklearn.preprocessing import PowerTransformer\n",
        "from sklearn.impute import SimpleImputer\n",
        "from sklearn.pipeline import Pipeline, make_pipeline\n",
        "from sklearn.compose import ColumnTransformer, make_column_transformer\n",
        "from sklearn.model_selection import cross_val_score\n",
        "from sklearn.model_selection import KFold\n",
        "from sklearn import metrics\n",
        "from sklearn.compose import TransformedTargetRegressor\n",
        "from sklearn.model_selection import GridSearchCV\n",
        "from sklearn.linear_model import LogisticRegression\n",
        "from sklearn.cross_decomposition import PLSRegression\n",
        "from sklearn.svm import SVR\n",
        "from sklearn import set_config\n",
        "set_config(display='diagram')\n"
      ],
      "execution_count": 3,
      "outputs": []
    },
    {
      "cell_type": "markdown",
      "metadata": {
        "id": "nov_1W8RAE5O"
      },
      "source": [
        "## Data Exploration"
      ]
    },
    {
      "cell_type": "code",
      "metadata": {
        "colab": {
          "base_uri": "https://localhost:8080/",
          "height": 204
        },
        "id": "037tOG1O_KSd",
        "outputId": "160d9b64-fd54-457d-a263-fdd2b70e5cc1"
      },
      "source": [
        "train_df = pd.read_csv('train.csv')\n",
        "train_df.head(5)"
      ],
      "execution_count": 4,
      "outputs": [
        {
          "output_type": "execute_result",
          "data": {
            "text/plain": [
              "   age     sex     bmi  children smoker     region      charges\n",
              "0   24    male  23.655         0     no  northwest   2352.96845\n",
              "1   28  female  26.510         2     no  southeast   4340.44090\n",
              "2   51    male  39.700         1     no  southwest   9391.34600\n",
              "3   47    male  36.080         1    yes  southeast  42211.13820\n",
              "4   46  female  28.900         2     no  southwest   8823.27900"
            ],
            "text/html": [
              "\n",
              "  <div id=\"df-f66d78a7-4caa-4b6f-8745-399590e054a4\">\n",
              "    <div class=\"colab-df-container\">\n",
              "      <div>\n",
              "<style scoped>\n",
              "    .dataframe tbody tr th:only-of-type {\n",
              "        vertical-align: middle;\n",
              "    }\n",
              "\n",
              "    .dataframe tbody tr th {\n",
              "        vertical-align: top;\n",
              "    }\n",
              "\n",
              "    .dataframe thead th {\n",
              "        text-align: right;\n",
              "    }\n",
              "</style>\n",
              "<table border=\"1\" class=\"dataframe\">\n",
              "  <thead>\n",
              "    <tr style=\"text-align: right;\">\n",
              "      <th></th>\n",
              "      <th>age</th>\n",
              "      <th>sex</th>\n",
              "      <th>bmi</th>\n",
              "      <th>children</th>\n",
              "      <th>smoker</th>\n",
              "      <th>region</th>\n",
              "      <th>charges</th>\n",
              "    </tr>\n",
              "  </thead>\n",
              "  <tbody>\n",
              "    <tr>\n",
              "      <th>0</th>\n",
              "      <td>24</td>\n",
              "      <td>male</td>\n",
              "      <td>23.655</td>\n",
              "      <td>0</td>\n",
              "      <td>no</td>\n",
              "      <td>northwest</td>\n",
              "      <td>2352.96845</td>\n",
              "    </tr>\n",
              "    <tr>\n",
              "      <th>1</th>\n",
              "      <td>28</td>\n",
              "      <td>female</td>\n",
              "      <td>26.510</td>\n",
              "      <td>2</td>\n",
              "      <td>no</td>\n",
              "      <td>southeast</td>\n",
              "      <td>4340.44090</td>\n",
              "    </tr>\n",
              "    <tr>\n",
              "      <th>2</th>\n",
              "      <td>51</td>\n",
              "      <td>male</td>\n",
              "      <td>39.700</td>\n",
              "      <td>1</td>\n",
              "      <td>no</td>\n",
              "      <td>southwest</td>\n",
              "      <td>9391.34600</td>\n",
              "    </tr>\n",
              "    <tr>\n",
              "      <th>3</th>\n",
              "      <td>47</td>\n",
              "      <td>male</td>\n",
              "      <td>36.080</td>\n",
              "      <td>1</td>\n",
              "      <td>yes</td>\n",
              "      <td>southeast</td>\n",
              "      <td>42211.13820</td>\n",
              "    </tr>\n",
              "    <tr>\n",
              "      <th>4</th>\n",
              "      <td>46</td>\n",
              "      <td>female</td>\n",
              "      <td>28.900</td>\n",
              "      <td>2</td>\n",
              "      <td>no</td>\n",
              "      <td>southwest</td>\n",
              "      <td>8823.27900</td>\n",
              "    </tr>\n",
              "  </tbody>\n",
              "</table>\n",
              "</div>\n",
              "      <button class=\"colab-df-convert\" onclick=\"convertToInteractive('df-f66d78a7-4caa-4b6f-8745-399590e054a4')\"\n",
              "              title=\"Convert this dataframe to an interactive table.\"\n",
              "              style=\"display:none;\">\n",
              "        \n",
              "  <svg xmlns=\"http://www.w3.org/2000/svg\" height=\"24px\"viewBox=\"0 0 24 24\"\n",
              "       width=\"24px\">\n",
              "    <path d=\"M0 0h24v24H0V0z\" fill=\"none\"/>\n",
              "    <path d=\"M18.56 5.44l.94 2.06.94-2.06 2.06-.94-2.06-.94-.94-2.06-.94 2.06-2.06.94zm-11 1L8.5 8.5l.94-2.06 2.06-.94-2.06-.94L8.5 2.5l-.94 2.06-2.06.94zm10 10l.94 2.06.94-2.06 2.06-.94-2.06-.94-.94-2.06-.94 2.06-2.06.94z\"/><path d=\"M17.41 7.96l-1.37-1.37c-.4-.4-.92-.59-1.43-.59-.52 0-1.04.2-1.43.59L10.3 9.45l-7.72 7.72c-.78.78-.78 2.05 0 2.83L4 21.41c.39.39.9.59 1.41.59.51 0 1.02-.2 1.41-.59l7.78-7.78 2.81-2.81c.8-.78.8-2.07 0-2.86zM5.41 20L4 18.59l7.72-7.72 1.47 1.35L5.41 20z\"/>\n",
              "  </svg>\n",
              "      </button>\n",
              "      \n",
              "  <style>\n",
              "    .colab-df-container {\n",
              "      display:flex;\n",
              "      flex-wrap:wrap;\n",
              "      gap: 12px;\n",
              "    }\n",
              "\n",
              "    .colab-df-convert {\n",
              "      background-color: #E8F0FE;\n",
              "      border: none;\n",
              "      border-radius: 50%;\n",
              "      cursor: pointer;\n",
              "      display: none;\n",
              "      fill: #1967D2;\n",
              "      height: 32px;\n",
              "      padding: 0 0 0 0;\n",
              "      width: 32px;\n",
              "    }\n",
              "\n",
              "    .colab-df-convert:hover {\n",
              "      background-color: #E2EBFA;\n",
              "      box-shadow: 0px 1px 2px rgba(60, 64, 67, 0.3), 0px 1px 3px 1px rgba(60, 64, 67, 0.15);\n",
              "      fill: #174EA6;\n",
              "    }\n",
              "\n",
              "    [theme=dark] .colab-df-convert {\n",
              "      background-color: #3B4455;\n",
              "      fill: #D2E3FC;\n",
              "    }\n",
              "\n",
              "    [theme=dark] .colab-df-convert:hover {\n",
              "      background-color: #434B5C;\n",
              "      box-shadow: 0px 1px 3px 1px rgba(0, 0, 0, 0.15);\n",
              "      filter: drop-shadow(0px 1px 2px rgba(0, 0, 0, 0.3));\n",
              "      fill: #FFFFFF;\n",
              "    }\n",
              "  </style>\n",
              "\n",
              "      <script>\n",
              "        const buttonEl =\n",
              "          document.querySelector('#df-f66d78a7-4caa-4b6f-8745-399590e054a4 button.colab-df-convert');\n",
              "        buttonEl.style.display =\n",
              "          google.colab.kernel.accessAllowed ? 'block' : 'none';\n",
              "\n",
              "        async function convertToInteractive(key) {\n",
              "          const element = document.querySelector('#df-f66d78a7-4caa-4b6f-8745-399590e054a4');\n",
              "          const dataTable =\n",
              "            await google.colab.kernel.invokeFunction('convertToInteractive',\n",
              "                                                     [key], {});\n",
              "          if (!dataTable) return;\n",
              "\n",
              "          const docLinkHtml = 'Like what you see? Visit the ' +\n",
              "            '<a target=\"_blank\" href=https://colab.research.google.com/notebooks/data_table.ipynb>data table notebook</a>'\n",
              "            + ' to learn more about interactive tables.';\n",
              "          element.innerHTML = '';\n",
              "          dataTable['output_type'] = 'display_data';\n",
              "          await google.colab.output.renderOutput(dataTable, element);\n",
              "          const docLink = document.createElement('div');\n",
              "          docLink.innerHTML = docLinkHtml;\n",
              "          element.appendChild(docLink);\n",
              "        }\n",
              "      </script>\n",
              "    </div>\n",
              "  </div>\n",
              "  "
            ]
          },
          "metadata": {},
          "execution_count": 4
        }
      ]
    },
    {
      "cell_type": "markdown",
      "metadata": {
        "id": "dsdWK4kdAY5a"
      },
      "source": [
        "### Kích thước của tập dữ liệu"
      ]
    },
    {
      "cell_type": "code",
      "metadata": {
        "colab": {
          "base_uri": "https://localhost:8080/"
        },
        "id": "vDd1CWf7AVbJ",
        "outputId": "a56bc6cc-91d3-4a25-f248-76af95da7d3c"
      },
      "source": [
        "train_df.shape"
      ],
      "execution_count": 5,
      "outputs": [
        {
          "output_type": "execute_result",
          "data": {
            "text/plain": [
              "(1003, 7)"
            ]
          },
          "metadata": {},
          "execution_count": 5
        }
      ]
    },
    {
      "cell_type": "markdown",
      "metadata": {
        "id": "5eIYrFeJBD9c"
      },
      "source": [
        "### Ý nghĩa của mỗi cột"
      ]
    },
    {
      "cell_type": "code",
      "metadata": {
        "colab": {
          "base_uri": "https://localhost:8080/",
          "height": 266
        },
        "id": "pVoTs1IkBHGB",
        "outputId": "eb114946-954e-4c05-c3c5-eb00e220647d"
      },
      "source": [
        "columns = train_df.columns\n",
        "mean_column = [\"Tuổi\", \"Giới tính\", \"Chỉ số khối cơ thể\", \n",
        "               \"Số lượng trẻ con/người phụ thuộc\",\n",
        "               'Tình trạng hút thuốc',\n",
        "               'Khu vực sinh sống',\n",
        "               'Chi phí y tế cá nhân']\n",
        "mean_df = pd.DataFrame(list(zip(columns, mean_column)), columns=['Column', 'Meaning of Column'])\n",
        "mean_df"
      ],
      "execution_count": 6,
      "outputs": [
        {
          "output_type": "execute_result",
          "data": {
            "text/plain": [
              "     Column                 Meaning of Column\n",
              "0       age                              Tuổi\n",
              "1       sex                         Giới tính\n",
              "2       bmi                Chỉ số khối cơ thể\n",
              "3  children  Số lượng trẻ con/người phụ thuộc\n",
              "4    smoker              Tình trạng hút thuốc\n",
              "5    region                 Khu vực sinh sống\n",
              "6   charges              Chi phí y tế cá nhân"
            ],
            "text/html": [
              "\n",
              "  <div id=\"df-045d3b69-2ce3-4410-8101-ffcb44e41f17\">\n",
              "    <div class=\"colab-df-container\">\n",
              "      <div>\n",
              "<style scoped>\n",
              "    .dataframe tbody tr th:only-of-type {\n",
              "        vertical-align: middle;\n",
              "    }\n",
              "\n",
              "    .dataframe tbody tr th {\n",
              "        vertical-align: top;\n",
              "    }\n",
              "\n",
              "    .dataframe thead th {\n",
              "        text-align: right;\n",
              "    }\n",
              "</style>\n",
              "<table border=\"1\" class=\"dataframe\">\n",
              "  <thead>\n",
              "    <tr style=\"text-align: right;\">\n",
              "      <th></th>\n",
              "      <th>Column</th>\n",
              "      <th>Meaning of Column</th>\n",
              "    </tr>\n",
              "  </thead>\n",
              "  <tbody>\n",
              "    <tr>\n",
              "      <th>0</th>\n",
              "      <td>age</td>\n",
              "      <td>Tuổi</td>\n",
              "    </tr>\n",
              "    <tr>\n",
              "      <th>1</th>\n",
              "      <td>sex</td>\n",
              "      <td>Giới tính</td>\n",
              "    </tr>\n",
              "    <tr>\n",
              "      <th>2</th>\n",
              "      <td>bmi</td>\n",
              "      <td>Chỉ số khối cơ thể</td>\n",
              "    </tr>\n",
              "    <tr>\n",
              "      <th>3</th>\n",
              "      <td>children</td>\n",
              "      <td>Số lượng trẻ con/người phụ thuộc</td>\n",
              "    </tr>\n",
              "    <tr>\n",
              "      <th>4</th>\n",
              "      <td>smoker</td>\n",
              "      <td>Tình trạng hút thuốc</td>\n",
              "    </tr>\n",
              "    <tr>\n",
              "      <th>5</th>\n",
              "      <td>region</td>\n",
              "      <td>Khu vực sinh sống</td>\n",
              "    </tr>\n",
              "    <tr>\n",
              "      <th>6</th>\n",
              "      <td>charges</td>\n",
              "      <td>Chi phí y tế cá nhân</td>\n",
              "    </tr>\n",
              "  </tbody>\n",
              "</table>\n",
              "</div>\n",
              "      <button class=\"colab-df-convert\" onclick=\"convertToInteractive('df-045d3b69-2ce3-4410-8101-ffcb44e41f17')\"\n",
              "              title=\"Convert this dataframe to an interactive table.\"\n",
              "              style=\"display:none;\">\n",
              "        \n",
              "  <svg xmlns=\"http://www.w3.org/2000/svg\" height=\"24px\"viewBox=\"0 0 24 24\"\n",
              "       width=\"24px\">\n",
              "    <path d=\"M0 0h24v24H0V0z\" fill=\"none\"/>\n",
              "    <path d=\"M18.56 5.44l.94 2.06.94-2.06 2.06-.94-2.06-.94-.94-2.06-.94 2.06-2.06.94zm-11 1L8.5 8.5l.94-2.06 2.06-.94-2.06-.94L8.5 2.5l-.94 2.06-2.06.94zm10 10l.94 2.06.94-2.06 2.06-.94-2.06-.94-.94-2.06-.94 2.06-2.06.94z\"/><path d=\"M17.41 7.96l-1.37-1.37c-.4-.4-.92-.59-1.43-.59-.52 0-1.04.2-1.43.59L10.3 9.45l-7.72 7.72c-.78.78-.78 2.05 0 2.83L4 21.41c.39.39.9.59 1.41.59.51 0 1.02-.2 1.41-.59l7.78-7.78 2.81-2.81c.8-.78.8-2.07 0-2.86zM5.41 20L4 18.59l7.72-7.72 1.47 1.35L5.41 20z\"/>\n",
              "  </svg>\n",
              "      </button>\n",
              "      \n",
              "  <style>\n",
              "    .colab-df-container {\n",
              "      display:flex;\n",
              "      flex-wrap:wrap;\n",
              "      gap: 12px;\n",
              "    }\n",
              "\n",
              "    .colab-df-convert {\n",
              "      background-color: #E8F0FE;\n",
              "      border: none;\n",
              "      border-radius: 50%;\n",
              "      cursor: pointer;\n",
              "      display: none;\n",
              "      fill: #1967D2;\n",
              "      height: 32px;\n",
              "      padding: 0 0 0 0;\n",
              "      width: 32px;\n",
              "    }\n",
              "\n",
              "    .colab-df-convert:hover {\n",
              "      background-color: #E2EBFA;\n",
              "      box-shadow: 0px 1px 2px rgba(60, 64, 67, 0.3), 0px 1px 3px 1px rgba(60, 64, 67, 0.15);\n",
              "      fill: #174EA6;\n",
              "    }\n",
              "\n",
              "    [theme=dark] .colab-df-convert {\n",
              "      background-color: #3B4455;\n",
              "      fill: #D2E3FC;\n",
              "    }\n",
              "\n",
              "    [theme=dark] .colab-df-convert:hover {\n",
              "      background-color: #434B5C;\n",
              "      box-shadow: 0px 1px 3px 1px rgba(0, 0, 0, 0.15);\n",
              "      filter: drop-shadow(0px 1px 2px rgba(0, 0, 0, 0.3));\n",
              "      fill: #FFFFFF;\n",
              "    }\n",
              "  </style>\n",
              "\n",
              "      <script>\n",
              "        const buttonEl =\n",
              "          document.querySelector('#df-045d3b69-2ce3-4410-8101-ffcb44e41f17 button.colab-df-convert');\n",
              "        buttonEl.style.display =\n",
              "          google.colab.kernel.accessAllowed ? 'block' : 'none';\n",
              "\n",
              "        async function convertToInteractive(key) {\n",
              "          const element = document.querySelector('#df-045d3b69-2ce3-4410-8101-ffcb44e41f17');\n",
              "          const dataTable =\n",
              "            await google.colab.kernel.invokeFunction('convertToInteractive',\n",
              "                                                     [key], {});\n",
              "          if (!dataTable) return;\n",
              "\n",
              "          const docLinkHtml = 'Like what you see? Visit the ' +\n",
              "            '<a target=\"_blank\" href=https://colab.research.google.com/notebooks/data_table.ipynb>data table notebook</a>'\n",
              "            + ' to learn more about interactive tables.';\n",
              "          element.innerHTML = '';\n",
              "          dataTable['output_type'] = 'display_data';\n",
              "          await google.colab.output.renderOutput(dataTable, element);\n",
              "          const docLink = document.createElement('div');\n",
              "          docLink.innerHTML = docLinkHtml;\n",
              "          element.appendChild(docLink);\n",
              "        }\n",
              "      </script>\n",
              "    </div>\n",
              "  </div>\n",
              "  "
            ]
          },
          "metadata": {},
          "execution_count": 6
        }
      ]
    },
    {
      "cell_type": "markdown",
      "metadata": {
        "id": "bxNkvFVcA0c8"
      },
      "source": [
        "### Dữ liệu có bị lặp hay không ?"
      ]
    },
    {
      "cell_type": "code",
      "metadata": {
        "colab": {
          "base_uri": "https://localhost:8080/"
        },
        "id": "4nXcte0EA62c",
        "outputId": "951859e5-8ae1-42d9-ff08-22c48a02f5e0"
      },
      "source": [
        "train_df.duplicated().sum()"
      ],
      "execution_count": 7,
      "outputs": [
        {
          "output_type": "execute_result",
          "data": {
            "text/plain": [
              "0"
            ]
          },
          "metadata": {},
          "execution_count": 7
        }
      ]
    },
    {
      "cell_type": "markdown",
      "metadata": {
        "id": "3x-cmgHoBLgH"
      },
      "source": [
        "### Dữ liệu có bị thiếu hay không ?"
      ]
    },
    {
      "cell_type": "code",
      "metadata": {
        "colab": {
          "base_uri": "https://localhost:8080/"
        },
        "id": "SoQAlkg7BOPn",
        "outputId": "03e1b4d9-2a5c-45e7-b781-1dea5510650f"
      },
      "source": [
        "train_df.isna().sum()"
      ],
      "execution_count": 8,
      "outputs": [
        {
          "output_type": "execute_result",
          "data": {
            "text/plain": [
              "age         0\n",
              "sex         0\n",
              "bmi         0\n",
              "children    0\n",
              "smoker      0\n",
              "region      0\n",
              "charges     0\n",
              "dtype: int64"
            ]
          },
          "metadata": {},
          "execution_count": 8
        }
      ]
    },
    {
      "cell_type": "markdown",
      "metadata": {
        "id": "ExS_6ZDRBm20"
      },
      "source": [
        "### Các cột có kiểu dữ liệu gì ?"
      ]
    },
    {
      "cell_type": "code",
      "metadata": {
        "id": "A5PRGHnWEpkw",
        "colab": {
          "base_uri": "https://localhost:8080/"
        },
        "outputId": "5da87abc-76b7-4b56-e2fa-c4b9e8c4edcc"
      },
      "source": [
        "train_df.dtypes"
      ],
      "execution_count": 9,
      "outputs": [
        {
          "output_type": "execute_result",
          "data": {
            "text/plain": [
              "age           int64\n",
              "sex          object\n",
              "bmi         float64\n",
              "children      int64\n",
              "smoker       object\n",
              "region       object\n",
              "charges     float64\n",
              "dtype: object"
            ]
          },
          "metadata": {},
          "execution_count": 9
        }
      ]
    },
    {
      "cell_type": "markdown",
      "metadata": {
        "id": "JUTfl_rU6DIp"
      },
      "source": [
        "Các cột \"sex\" \"smoker\" \"region\" mang kiểu object -> Cần chuyển quả kiểu numeric để thuận lợi cho việc huấn luyện các mô hình"
      ]
    },
    {
      "cell_type": "markdown",
      "metadata": {
        "id": "49OXNfm2_dWe"
      },
      "source": [
        "### Giá trị của các cột có kiểu dữ liệu object"
      ]
    },
    {
      "cell_type": "markdown",
      "metadata": {
        "id": "eJ9Gv8uy_ph1"
      },
      "source": [
        "**Sex**"
      ]
    },
    {
      "cell_type": "code",
      "metadata": {
        "colab": {
          "base_uri": "https://localhost:8080/"
        },
        "id": "8yawR9on_dAP",
        "outputId": "7f72c45e-4380-4018-d85c-057836406106"
      },
      "source": [
        "train_df['sex'].value_counts()"
      ],
      "execution_count": 10,
      "outputs": [
        {
          "output_type": "execute_result",
          "data": {
            "text/plain": [
              "male      506\n",
              "female    497\n",
              "Name: sex, dtype: int64"
            ]
          },
          "metadata": {},
          "execution_count": 10
        }
      ]
    },
    {
      "cell_type": "markdown",
      "metadata": {
        "id": "UmmT5LDW_zA_"
      },
      "source": [
        "Có thể thấy giá trị male và female cách biệt nhau không quá lớn điều này sẽ không ảnh hưởng đến dữ liệu"
      ]
    },
    {
      "cell_type": "markdown",
      "metadata": {
        "id": "gojCcAiX_9UN"
      },
      "source": [
        "**Smoker**"
      ]
    },
    {
      "cell_type": "code",
      "metadata": {
        "colab": {
          "base_uri": "https://localhost:8080/"
        },
        "id": "OvIZ39aMAEUp",
        "outputId": "13bc94dd-65e5-4e7d-875a-d5f7a12faf3e"
      },
      "source": [
        "train_df['smoker'].value_counts()"
      ],
      "execution_count": 11,
      "outputs": [
        {
          "output_type": "execute_result",
          "data": {
            "text/plain": [
              "no     797\n",
              "yes    206\n",
              "Name: smoker, dtype: int64"
            ]
          },
          "metadata": {},
          "execution_count": 11
        }
      ]
    },
    {
      "cell_type": "markdown",
      "metadata": {
        "id": "8X6g4jEWAWK5"
      },
      "source": [
        "Lượng người hút thuốc và không hút thuốc chênh lệch nhau rất lớn"
      ]
    },
    {
      "cell_type": "markdown",
      "metadata": {
        "id": "IxPzTsG9AAOW"
      },
      "source": [
        "**Region**"
      ]
    },
    {
      "cell_type": "code",
      "metadata": {
        "colab": {
          "base_uri": "https://localhost:8080/"
        },
        "id": "sdVLdfWqAQG5",
        "outputId": "d7e73b33-ee26-4876-b36a-9d25383ed06f"
      },
      "source": [
        "train_df['region'].value_counts()"
      ],
      "execution_count": 12,
      "outputs": [
        {
          "output_type": "execute_result",
          "data": {
            "text/plain": [
              "southeast    259\n",
              "northeast    251\n",
              "southwest    247\n",
              "northwest    246\n",
              "Name: region, dtype: int64"
            ]
          },
          "metadata": {},
          "execution_count": 12
        }
      ]
    },
    {
      "cell_type": "markdown",
      "metadata": {
        "id": "-rjbj9MgAd96"
      },
      "source": [
        "Không có giá trị bất thường ở đây"
      ]
    },
    {
      "cell_type": "markdown",
      "metadata": {
        "id": "BB7oJk7DFNmy"
      },
      "source": [
        "### Xem xét sự phân bổ của các cột dạng số"
      ]
    },
    {
      "cell_type": "code",
      "metadata": {
        "colab": {
          "base_uri": "https://localhost:8080/",
          "height": 235
        },
        "id": "dHA23yvMF6DH",
        "outputId": "44971401-e6f3-49e7-9d4f-dc9c2059cb4b"
      },
      "source": [
        "def missing_ratio(df):\n",
        "    return (df.isna().mean() * 100).round(1)\n",
        "def lower_quartile(df):\n",
        "    return df.quantile(0.25).round(1)\n",
        "def median(df):\n",
        "    return df.quantile(0.5).round(1)\n",
        "def upper_quartile(df):\n",
        "    return df.quantile(0.75).round(1)\n",
        "col_numeric = train_df[['age', 'bmi', 'children', 'charges']]\n",
        "col_numeric.agg([missing_ratio, 'min', lower_quartile, median, upper_quartile, 'max']).round(1)"
      ],
      "execution_count": 13,
      "outputs": [
        {
          "output_type": "execute_result",
          "data": {
            "text/plain": [
              "                 age   bmi  children  charges\n",
              "missing_ratio    0.0   0.0       0.0      0.0\n",
              "min             18.0  16.0       0.0   1121.9\n",
              "lower_quartile  27.0  26.2       0.0   4780.8\n",
              "median          39.0  30.2       1.0   9447.4\n",
              "upper_quartile  51.0  34.4       2.0  16840.7\n",
              "max             64.0  53.1       5.0  62592.9"
            ],
            "text/html": [
              "\n",
              "  <div id=\"df-85817255-004c-44d6-b9d2-804fc0ff6c8a\">\n",
              "    <div class=\"colab-df-container\">\n",
              "      <div>\n",
              "<style scoped>\n",
              "    .dataframe tbody tr th:only-of-type {\n",
              "        vertical-align: middle;\n",
              "    }\n",
              "\n",
              "    .dataframe tbody tr th {\n",
              "        vertical-align: top;\n",
              "    }\n",
              "\n",
              "    .dataframe thead th {\n",
              "        text-align: right;\n",
              "    }\n",
              "</style>\n",
              "<table border=\"1\" class=\"dataframe\">\n",
              "  <thead>\n",
              "    <tr style=\"text-align: right;\">\n",
              "      <th></th>\n",
              "      <th>age</th>\n",
              "      <th>bmi</th>\n",
              "      <th>children</th>\n",
              "      <th>charges</th>\n",
              "    </tr>\n",
              "  </thead>\n",
              "  <tbody>\n",
              "    <tr>\n",
              "      <th>missing_ratio</th>\n",
              "      <td>0.0</td>\n",
              "      <td>0.0</td>\n",
              "      <td>0.0</td>\n",
              "      <td>0.0</td>\n",
              "    </tr>\n",
              "    <tr>\n",
              "      <th>min</th>\n",
              "      <td>18.0</td>\n",
              "      <td>16.0</td>\n",
              "      <td>0.0</td>\n",
              "      <td>1121.9</td>\n",
              "    </tr>\n",
              "    <tr>\n",
              "      <th>lower_quartile</th>\n",
              "      <td>27.0</td>\n",
              "      <td>26.2</td>\n",
              "      <td>0.0</td>\n",
              "      <td>4780.8</td>\n",
              "    </tr>\n",
              "    <tr>\n",
              "      <th>median</th>\n",
              "      <td>39.0</td>\n",
              "      <td>30.2</td>\n",
              "      <td>1.0</td>\n",
              "      <td>9447.4</td>\n",
              "    </tr>\n",
              "    <tr>\n",
              "      <th>upper_quartile</th>\n",
              "      <td>51.0</td>\n",
              "      <td>34.4</td>\n",
              "      <td>2.0</td>\n",
              "      <td>16840.7</td>\n",
              "    </tr>\n",
              "    <tr>\n",
              "      <th>max</th>\n",
              "      <td>64.0</td>\n",
              "      <td>53.1</td>\n",
              "      <td>5.0</td>\n",
              "      <td>62592.9</td>\n",
              "    </tr>\n",
              "  </tbody>\n",
              "</table>\n",
              "</div>\n",
              "      <button class=\"colab-df-convert\" onclick=\"convertToInteractive('df-85817255-004c-44d6-b9d2-804fc0ff6c8a')\"\n",
              "              title=\"Convert this dataframe to an interactive table.\"\n",
              "              style=\"display:none;\">\n",
              "        \n",
              "  <svg xmlns=\"http://www.w3.org/2000/svg\" height=\"24px\"viewBox=\"0 0 24 24\"\n",
              "       width=\"24px\">\n",
              "    <path d=\"M0 0h24v24H0V0z\" fill=\"none\"/>\n",
              "    <path d=\"M18.56 5.44l.94 2.06.94-2.06 2.06-.94-2.06-.94-.94-2.06-.94 2.06-2.06.94zm-11 1L8.5 8.5l.94-2.06 2.06-.94-2.06-.94L8.5 2.5l-.94 2.06-2.06.94zm10 10l.94 2.06.94-2.06 2.06-.94-2.06-.94-.94-2.06-.94 2.06-2.06.94z\"/><path d=\"M17.41 7.96l-1.37-1.37c-.4-.4-.92-.59-1.43-.59-.52 0-1.04.2-1.43.59L10.3 9.45l-7.72 7.72c-.78.78-.78 2.05 0 2.83L4 21.41c.39.39.9.59 1.41.59.51 0 1.02-.2 1.41-.59l7.78-7.78 2.81-2.81c.8-.78.8-2.07 0-2.86zM5.41 20L4 18.59l7.72-7.72 1.47 1.35L5.41 20z\"/>\n",
              "  </svg>\n",
              "      </button>\n",
              "      \n",
              "  <style>\n",
              "    .colab-df-container {\n",
              "      display:flex;\n",
              "      flex-wrap:wrap;\n",
              "      gap: 12px;\n",
              "    }\n",
              "\n",
              "    .colab-df-convert {\n",
              "      background-color: #E8F0FE;\n",
              "      border: none;\n",
              "      border-radius: 50%;\n",
              "      cursor: pointer;\n",
              "      display: none;\n",
              "      fill: #1967D2;\n",
              "      height: 32px;\n",
              "      padding: 0 0 0 0;\n",
              "      width: 32px;\n",
              "    }\n",
              "\n",
              "    .colab-df-convert:hover {\n",
              "      background-color: #E2EBFA;\n",
              "      box-shadow: 0px 1px 2px rgba(60, 64, 67, 0.3), 0px 1px 3px 1px rgba(60, 64, 67, 0.15);\n",
              "      fill: #174EA6;\n",
              "    }\n",
              "\n",
              "    [theme=dark] .colab-df-convert {\n",
              "      background-color: #3B4455;\n",
              "      fill: #D2E3FC;\n",
              "    }\n",
              "\n",
              "    [theme=dark] .colab-df-convert:hover {\n",
              "      background-color: #434B5C;\n",
              "      box-shadow: 0px 1px 3px 1px rgba(0, 0, 0, 0.15);\n",
              "      filter: drop-shadow(0px 1px 2px rgba(0, 0, 0, 0.3));\n",
              "      fill: #FFFFFF;\n",
              "    }\n",
              "  </style>\n",
              "\n",
              "      <script>\n",
              "        const buttonEl =\n",
              "          document.querySelector('#df-85817255-004c-44d6-b9d2-804fc0ff6c8a button.colab-df-convert');\n",
              "        buttonEl.style.display =\n",
              "          google.colab.kernel.accessAllowed ? 'block' : 'none';\n",
              "\n",
              "        async function convertToInteractive(key) {\n",
              "          const element = document.querySelector('#df-85817255-004c-44d6-b9d2-804fc0ff6c8a');\n",
              "          const dataTable =\n",
              "            await google.colab.kernel.invokeFunction('convertToInteractive',\n",
              "                                                     [key], {});\n",
              "          if (!dataTable) return;\n",
              "\n",
              "          const docLinkHtml = 'Like what you see? Visit the ' +\n",
              "            '<a target=\"_blank\" href=https://colab.research.google.com/notebooks/data_table.ipynb>data table notebook</a>'\n",
              "            + ' to learn more about interactive tables.';\n",
              "          element.innerHTML = '';\n",
              "          dataTable['output_type'] = 'display_data';\n",
              "          await google.colab.output.renderOutput(dataTable, element);\n",
              "          const docLink = document.createElement('div');\n",
              "          docLink.innerHTML = docLinkHtml;\n",
              "          element.appendChild(docLink);\n",
              "        }\n",
              "      </script>\n",
              "    </div>\n",
              "  </div>\n",
              "  "
            ]
          },
          "metadata": {},
          "execution_count": 13
        }
      ]
    },
    {
      "cell_type": "markdown",
      "metadata": {
        "id": "zML-92tAF50s"
      },
      "source": [
        ""
      ]
    },
    {
      "cell_type": "markdown",
      "metadata": {
        "id": "9skbk4S_6-d1"
      },
      "source": [
        "## Preprocessing"
      ]
    },
    {
      "cell_type": "markdown",
      "metadata": {
        "id": "gLS4WSIW8ouV"
      },
      "source": [
        "### Tách tập input output"
      ]
    },
    {
      "cell_type": "code",
      "metadata": {
        "colab": {
          "base_uri": "https://localhost:8080/"
        },
        "id": "dz3MRIPL7AjN",
        "outputId": "927078a7-ba90-4196-fa0b-7544094d8124"
      },
      "source": [
        "train_y_df = train_df['charges']\n",
        "train_X_df = train_df.drop('charges', axis = 1)\n",
        "train_X_df.shape, train_y_df.shape"
      ],
      "execution_count": 14,
      "outputs": [
        {
          "output_type": "execute_result",
          "data": {
            "text/plain": [
              "((1003, 6), (1003,))"
            ]
          },
          "metadata": {},
          "execution_count": 14
        }
      ]
    },
    {
      "cell_type": "code",
      "metadata": {
        "id": "vp9wu91AX0aU"
      },
      "source": [
        "X, y = train_df.iloc[:, :-1], train_df.iloc[:, -1]"
      ],
      "execution_count": 15,
      "outputs": []
    },
    {
      "cell_type": "markdown",
      "metadata": {
        "id": "V-H88bBeIKFe"
      },
      "source": [
        "### Xử lý các cột có kiểu dữ liệu Categorical"
      ]
    },
    {
      "cell_type": "markdown",
      "metadata": {
        "id": "eVe0hscAHt9A"
      },
      "source": [
        "Ở bước khám phá dữ liệu ta có thể thấy cột \"sex\" \"smoker\" \"region\" mang kiểu object. Vì vậy ta sẽ tiến hành xử lý các cột này"
      ]
    },
    {
      "cell_type": "code",
      "metadata": {
        "id": "F6ozEOrDQyW_"
      },
      "source": [
        "onehot_features = ['region']\n",
        "onehot_transformer = Pipeline(\n",
        "    [\n",
        "        ('imputer_cat', SimpleImputer(strategy = 'constant')),\n",
        "        ('onehot', OneHotEncoder(handle_unknown = 'ignore'))\n",
        "    ]\n",
        ")\n",
        "\n",
        "imp_mode = SimpleImputer(missing_values=np.nan, strategy='most_frequent')"
      ],
      "execution_count": 16,
      "outputs": []
    },
    {
      "cell_type": "code",
      "metadata": {
        "id": "Sbz047sskm4q"
      },
      "source": [
        "ordinal_features = ['sex', 'smoker']\n",
        "ordinal_transformer = Pipeline(\n",
        "    [\n",
        "        ('imputer_cat', SimpleImputer(strategy = 'constant')),\n",
        "        ('ordinal', OrdinalEncoder())\n",
        "    ]\n",
        ")"
      ],
      "execution_count": 17,
      "outputs": []
    },
    {
      "cell_type": "markdown",
      "metadata": {
        "id": "xnm-lkjuH4sL"
      },
      "source": [
        "### Xử lý các cột có kiểu dữ liệu Numerical"
      ]
    },
    {
      "cell_type": "code",
      "metadata": {
        "id": "BQZcOZKGH9rP"
      },
      "source": [
        "numeric_features = ['age', 'bmi', 'children']\n",
        "numeric_transformer = Pipeline(\n",
        "    [\n",
        "        ('imputer_num', SimpleImputer(strategy = 'median')),\n",
        "        ('scaler', StandardScaler())\n",
        "    ]\n",
        ")\n",
        "\n",
        "numeric_transformer_insight = Pipeline(\n",
        "    [\n",
        "        ('imputer_num', SimpleImputer(strategy = 'median')),\n",
        "    ]\n",
        ")"
      ],
      "execution_count": 18,
      "outputs": []
    },
    {
      "cell_type": "markdown",
      "metadata": {
        "id": "KtahC3-yIYIG"
      },
      "source": [
        "### Preprocessor"
      ]
    },
    {
      "cell_type": "code",
      "metadata": {
        "id": "r9GMoftgIYyh"
      },
      "source": [
        "preprocessor = ColumnTransformer(\n",
        "    [\n",
        "        ('ordinals', ordinal_transformer, ordinal_features),\n",
        "        ('onehot', onehot_transformer, onehot_features),\n",
        "        ('numericals', numeric_transformer, numeric_features)\n",
        "    ],\n",
        "    remainder = 'drop'\n",
        ")\n",
        "\n",
        "preprocessor_insight = ColumnTransformer(\n",
        "    [\n",
        "        ('ordinals', ordinal_transformer, ordinal_features),\n",
        "        ('numericals', numeric_transformer_insight, numeric_features),\n",
        "        ('unorder_categorical', imp_mode, onehot_features)\n",
        "    ],\n",
        "    remainder = 'drop'\n",
        ")\n"
      ],
      "execution_count": 19,
      "outputs": []
    },
    {
      "cell_type": "code",
      "metadata": {
        "colab": {
          "base_uri": "https://localhost:8080/",
          "height": 473
        },
        "id": "rbIL_9_tTFju",
        "outputId": "7fa36653-03b7-430f-c19e-a2abec8457fc"
      },
      "source": [
        "preprocessed_train_X = preprocessor_insight.fit_transform(X)\n",
        "insight_df = pd.DataFrame(preprocessed_train_X)\n",
        "columns = ['sex', 'smoker', 'age', 'bmi', 'children', 'region']\n",
        "insight_df.columns = columns\n",
        "\n",
        "insight_df['sex'] = insight_df['sex'].astype(int)\n",
        "insight_df['smoker'] = insight_df['smoker'].astype(int)\n",
        "insight_df['age'] = insight_df['age'].astype(int)\n",
        "insight_df['bmi'] = insight_df['bmi'].astype(float)\n",
        "insight_df['children'] = insight_df['children'].astype(int)\n",
        "\n",
        "insight_X_df = insight_df.copy()\n",
        "insight_X_no_object_df = insight_df.drop('region', 1)\n",
        "insight_df['charges'] = y\n",
        "insight_df\n",
        "# X.columns"
      ],
      "execution_count": 20,
      "outputs": [
        {
          "output_type": "stream",
          "name": "stderr",
          "text": [
            "/usr/local/lib/python3.7/dist-packages/ipykernel_launcher.py:13: FutureWarning: In a future version of pandas all arguments of DataFrame.drop except for the argument 'labels' will be keyword-only\n",
            "  del sys.path[0]\n"
          ]
        },
        {
          "output_type": "execute_result",
          "data": {
            "text/plain": [
              "      sex  smoker  age     bmi  children     region      charges\n",
              "0       1       0   24  23.655         0  northwest   2352.96845\n",
              "1       0       0   28  26.510         2  southeast   4340.44090\n",
              "2       1       0   51  39.700         1  southwest   9391.34600\n",
              "3       1       1   47  36.080         1  southeast  42211.13820\n",
              "4       0       0   46  28.900         2  southwest   8823.27900\n",
              "...   ...     ...  ...     ...       ...        ...          ...\n",
              "998     0       0   18  31.350         4  northeast   4561.18850\n",
              "999     0       0   39  23.870         5  southeast   8582.30230\n",
              "1000    1       0   58  25.175         0  northeast  11931.12525\n",
              "1001    0       1   37  47.600         2  southwest  46113.51100\n",
              "1002    1       0   55  29.900         0  southwest  10214.63600\n",
              "\n",
              "[1003 rows x 7 columns]"
            ],
            "text/html": [
              "\n",
              "  <div id=\"df-e76896d2-095b-4284-badf-892bdb360833\">\n",
              "    <div class=\"colab-df-container\">\n",
              "      <div>\n",
              "<style scoped>\n",
              "    .dataframe tbody tr th:only-of-type {\n",
              "        vertical-align: middle;\n",
              "    }\n",
              "\n",
              "    .dataframe tbody tr th {\n",
              "        vertical-align: top;\n",
              "    }\n",
              "\n",
              "    .dataframe thead th {\n",
              "        text-align: right;\n",
              "    }\n",
              "</style>\n",
              "<table border=\"1\" class=\"dataframe\">\n",
              "  <thead>\n",
              "    <tr style=\"text-align: right;\">\n",
              "      <th></th>\n",
              "      <th>sex</th>\n",
              "      <th>smoker</th>\n",
              "      <th>age</th>\n",
              "      <th>bmi</th>\n",
              "      <th>children</th>\n",
              "      <th>region</th>\n",
              "      <th>charges</th>\n",
              "    </tr>\n",
              "  </thead>\n",
              "  <tbody>\n",
              "    <tr>\n",
              "      <th>0</th>\n",
              "      <td>1</td>\n",
              "      <td>0</td>\n",
              "      <td>24</td>\n",
              "      <td>23.655</td>\n",
              "      <td>0</td>\n",
              "      <td>northwest</td>\n",
              "      <td>2352.96845</td>\n",
              "    </tr>\n",
              "    <tr>\n",
              "      <th>1</th>\n",
              "      <td>0</td>\n",
              "      <td>0</td>\n",
              "      <td>28</td>\n",
              "      <td>26.510</td>\n",
              "      <td>2</td>\n",
              "      <td>southeast</td>\n",
              "      <td>4340.44090</td>\n",
              "    </tr>\n",
              "    <tr>\n",
              "      <th>2</th>\n",
              "      <td>1</td>\n",
              "      <td>0</td>\n",
              "      <td>51</td>\n",
              "      <td>39.700</td>\n",
              "      <td>1</td>\n",
              "      <td>southwest</td>\n",
              "      <td>9391.34600</td>\n",
              "    </tr>\n",
              "    <tr>\n",
              "      <th>3</th>\n",
              "      <td>1</td>\n",
              "      <td>1</td>\n",
              "      <td>47</td>\n",
              "      <td>36.080</td>\n",
              "      <td>1</td>\n",
              "      <td>southeast</td>\n",
              "      <td>42211.13820</td>\n",
              "    </tr>\n",
              "    <tr>\n",
              "      <th>4</th>\n",
              "      <td>0</td>\n",
              "      <td>0</td>\n",
              "      <td>46</td>\n",
              "      <td>28.900</td>\n",
              "      <td>2</td>\n",
              "      <td>southwest</td>\n",
              "      <td>8823.27900</td>\n",
              "    </tr>\n",
              "    <tr>\n",
              "      <th>...</th>\n",
              "      <td>...</td>\n",
              "      <td>...</td>\n",
              "      <td>...</td>\n",
              "      <td>...</td>\n",
              "      <td>...</td>\n",
              "      <td>...</td>\n",
              "      <td>...</td>\n",
              "    </tr>\n",
              "    <tr>\n",
              "      <th>998</th>\n",
              "      <td>0</td>\n",
              "      <td>0</td>\n",
              "      <td>18</td>\n",
              "      <td>31.350</td>\n",
              "      <td>4</td>\n",
              "      <td>northeast</td>\n",
              "      <td>4561.18850</td>\n",
              "    </tr>\n",
              "    <tr>\n",
              "      <th>999</th>\n",
              "      <td>0</td>\n",
              "      <td>0</td>\n",
              "      <td>39</td>\n",
              "      <td>23.870</td>\n",
              "      <td>5</td>\n",
              "      <td>southeast</td>\n",
              "      <td>8582.30230</td>\n",
              "    </tr>\n",
              "    <tr>\n",
              "      <th>1000</th>\n",
              "      <td>1</td>\n",
              "      <td>0</td>\n",
              "      <td>58</td>\n",
              "      <td>25.175</td>\n",
              "      <td>0</td>\n",
              "      <td>northeast</td>\n",
              "      <td>11931.12525</td>\n",
              "    </tr>\n",
              "    <tr>\n",
              "      <th>1001</th>\n",
              "      <td>0</td>\n",
              "      <td>1</td>\n",
              "      <td>37</td>\n",
              "      <td>47.600</td>\n",
              "      <td>2</td>\n",
              "      <td>southwest</td>\n",
              "      <td>46113.51100</td>\n",
              "    </tr>\n",
              "    <tr>\n",
              "      <th>1002</th>\n",
              "      <td>1</td>\n",
              "      <td>0</td>\n",
              "      <td>55</td>\n",
              "      <td>29.900</td>\n",
              "      <td>0</td>\n",
              "      <td>southwest</td>\n",
              "      <td>10214.63600</td>\n",
              "    </tr>\n",
              "  </tbody>\n",
              "</table>\n",
              "<p>1003 rows × 7 columns</p>\n",
              "</div>\n",
              "      <button class=\"colab-df-convert\" onclick=\"convertToInteractive('df-e76896d2-095b-4284-badf-892bdb360833')\"\n",
              "              title=\"Convert this dataframe to an interactive table.\"\n",
              "              style=\"display:none;\">\n",
              "        \n",
              "  <svg xmlns=\"http://www.w3.org/2000/svg\" height=\"24px\"viewBox=\"0 0 24 24\"\n",
              "       width=\"24px\">\n",
              "    <path d=\"M0 0h24v24H0V0z\" fill=\"none\"/>\n",
              "    <path d=\"M18.56 5.44l.94 2.06.94-2.06 2.06-.94-2.06-.94-.94-2.06-.94 2.06-2.06.94zm-11 1L8.5 8.5l.94-2.06 2.06-.94-2.06-.94L8.5 2.5l-.94 2.06-2.06.94zm10 10l.94 2.06.94-2.06 2.06-.94-2.06-.94-.94-2.06-.94 2.06-2.06.94z\"/><path d=\"M17.41 7.96l-1.37-1.37c-.4-.4-.92-.59-1.43-.59-.52 0-1.04.2-1.43.59L10.3 9.45l-7.72 7.72c-.78.78-.78 2.05 0 2.83L4 21.41c.39.39.9.59 1.41.59.51 0 1.02-.2 1.41-.59l7.78-7.78 2.81-2.81c.8-.78.8-2.07 0-2.86zM5.41 20L4 18.59l7.72-7.72 1.47 1.35L5.41 20z\"/>\n",
              "  </svg>\n",
              "      </button>\n",
              "      \n",
              "  <style>\n",
              "    .colab-df-container {\n",
              "      display:flex;\n",
              "      flex-wrap:wrap;\n",
              "      gap: 12px;\n",
              "    }\n",
              "\n",
              "    .colab-df-convert {\n",
              "      background-color: #E8F0FE;\n",
              "      border: none;\n",
              "      border-radius: 50%;\n",
              "      cursor: pointer;\n",
              "      display: none;\n",
              "      fill: #1967D2;\n",
              "      height: 32px;\n",
              "      padding: 0 0 0 0;\n",
              "      width: 32px;\n",
              "    }\n",
              "\n",
              "    .colab-df-convert:hover {\n",
              "      background-color: #E2EBFA;\n",
              "      box-shadow: 0px 1px 2px rgba(60, 64, 67, 0.3), 0px 1px 3px 1px rgba(60, 64, 67, 0.15);\n",
              "      fill: #174EA6;\n",
              "    }\n",
              "\n",
              "    [theme=dark] .colab-df-convert {\n",
              "      background-color: #3B4455;\n",
              "      fill: #D2E3FC;\n",
              "    }\n",
              "\n",
              "    [theme=dark] .colab-df-convert:hover {\n",
              "      background-color: #434B5C;\n",
              "      box-shadow: 0px 1px 3px 1px rgba(0, 0, 0, 0.15);\n",
              "      filter: drop-shadow(0px 1px 2px rgba(0, 0, 0, 0.3));\n",
              "      fill: #FFFFFF;\n",
              "    }\n",
              "  </style>\n",
              "\n",
              "      <script>\n",
              "        const buttonEl =\n",
              "          document.querySelector('#df-e76896d2-095b-4284-badf-892bdb360833 button.colab-df-convert');\n",
              "        buttonEl.style.display =\n",
              "          google.colab.kernel.accessAllowed ? 'block' : 'none';\n",
              "\n",
              "        async function convertToInteractive(key) {\n",
              "          const element = document.querySelector('#df-e76896d2-095b-4284-badf-892bdb360833');\n",
              "          const dataTable =\n",
              "            await google.colab.kernel.invokeFunction('convertToInteractive',\n",
              "                                                     [key], {});\n",
              "          if (!dataTable) return;\n",
              "\n",
              "          const docLinkHtml = 'Like what you see? Visit the ' +\n",
              "            '<a target=\"_blank\" href=https://colab.research.google.com/notebooks/data_table.ipynb>data table notebook</a>'\n",
              "            + ' to learn more about interactive tables.';\n",
              "          element.innerHTML = '';\n",
              "          dataTable['output_type'] = 'display_data';\n",
              "          await google.colab.output.renderOutput(dataTable, element);\n",
              "          const docLink = document.createElement('div');\n",
              "          docLink.innerHTML = docLinkHtml;\n",
              "          element.appendChild(docLink);\n",
              "        }\n",
              "      </script>\n",
              "    </div>\n",
              "  </div>\n",
              "  "
            ]
          },
          "metadata": {},
          "execution_count": 20
        }
      ]
    },
    {
      "cell_type": "markdown",
      "metadata": {
        "id": "Dth4hFU9IAr1"
      },
      "source": [
        "## **Phân tích dữ liệu**"
      ]
    },
    {
      "cell_type": "markdown",
      "metadata": {
        "id": "mukvC_8GtUiK"
      },
      "source": [
        "### Vẽ biểu đồ một biến và nhận xét"
      ]
    },
    {
      "cell_type": "code",
      "metadata": {
        "colab": {
          "base_uri": "https://localhost:8080/",
          "height": 269
        },
        "id": "0Nle3qW1g02G",
        "outputId": "e91de967-97b6-47ca-f7fe-51b5aaeea7a5"
      },
      "source": [
        "sns.boxplot(data=insight_df, y='charges')"
      ],
      "execution_count": 21,
      "outputs": [
        {
          "output_type": "execute_result",
          "data": {
            "text/plain": [
              "<matplotlib.axes._subplots.AxesSubplot at 0x7f64b0856e90>"
            ]
          },
          "metadata": {},
          "execution_count": 21
        },
        {
          "output_type": "display_data",
          "data": {
            "text/plain": [
              "<Figure size 432x288 with 1 Axes>"
            ],
            "image/png": "[encoded data removed]"
          },
          "metadata": {
            "needs_background": "light"
          }
        }
      ]
    },
    {
      "cell_type": "markdown",
      "metadata": {
        "id": "J9iem3_1h09O"
      },
      "source": [
        "Nhận xét: Biến charges có phân bố bị lệch trái, nhiều outlier"
      ]
    },
    {
      "cell_type": "code",
      "metadata": {
        "colab": {
          "base_uri": "https://localhost:8080/",
          "height": 269
        },
        "id": "zll5E5Z8hICD",
        "outputId": "fb6e584f-b25b-4258-c7b6-8567e7ff1c4a"
      },
      "source": [
        "sns.boxplot(data=insight_df, y='age')"
      ],
      "execution_count": 22,
      "outputs": [
        {
          "output_type": "execute_result",
          "data": {
            "text/plain": [
              "<matplotlib.axes._subplots.AxesSubplot at 0x7f64b076cbd0>"
            ]
          },
          "metadata": {},
          "execution_count": 22
        },
        {
          "output_type": "display_data",
          "data": {
            "text/plain": [
              "<Figure size 432x288 with 1 Axes>"
            ],
            "image/png": "[encoded data removed]"
          },
          "metadata": {
            "needs_background": "light"
          }
        }
      ]
    },
    {
      "cell_type": "markdown",
      "metadata": {
        "id": "J9r2cb2-kQzN"
      },
      "source": [
        "Nhận xét: Biến age có phân bố chuẩn"
      ]
    },
    {
      "cell_type": "code",
      "metadata": {
        "colab": {
          "base_uri": "https://localhost:8080/",
          "height": 269
        },
        "id": "AhK48GskhtSO",
        "outputId": "f1c53726-4640-4a94-ae93-64e382a6bfd4"
      },
      "source": [
        "sns.boxplot(data=insight_df, y='bmi')"
      ],
      "execution_count": 23,
      "outputs": [
        {
          "output_type": "execute_result",
          "data": {
            "text/plain": [
              "<matplotlib.axes._subplots.AxesSubplot at 0x7f64b0291590>"
            ]
          },
          "metadata": {},
          "execution_count": 23
        },
        {
          "output_type": "display_data",
          "data": {
            "text/plain": [
              "<Figure size 432x288 with 1 Axes>"
            ],
            "image/png": "[encoded data removed]"
          },
          "metadata": {
            "needs_background": "light"
          }
        }
      ]
    },
    {
      "cell_type": "markdown",
      "metadata": {
        "id": "9vxoAgpokYxJ"
      },
      "source": [
        "Nhận xét: Biến bmi có phân bố chuẩn, tồn tại outlier"
      ]
    },
    {
      "cell_type": "code",
      "metadata": {
        "colab": {
          "base_uri": "https://localhost:8080/",
          "height": 350
        },
        "id": "KVPSqYjNd7DH",
        "outputId": "e75ce0d2-72b4-41cb-c5e2-e2d22485e4b4"
      },
      "source": [
        "sns.distplot(insight_df['sex'], hist=True, kde=False, \n",
        "             bins=20, color = 'blue',\n",
        "             hist_kws={'edgecolor':'black'})\n",
        "plt.xlabel('Sex')\n",
        "plt.ylabel('Frequency')"
      ],
      "execution_count": 24,
      "outputs": [
        {
          "output_type": "stream",
          "name": "stderr",
          "text": [
            "/usr/local/lib/python3.7/dist-packages/seaborn/distributions.py:2619: FutureWarning: `distplot` is a deprecated function and will be removed in a future version. Please adapt your code to use either `displot` (a figure-level function with similar flexibility) or `histplot` (an axes-level function for histograms).\n",
            "  warnings.warn(msg, FutureWarning)\n"
          ]
        },
        {
          "output_type": "execute_result",
          "data": {
            "text/plain": [
              "Text(0, 0.5, 'Frequency')"
            ]
          },
          "metadata": {},
          "execution_count": 24
        },
        {
          "output_type": "display_data",
          "data": {
            "text/plain": [
              "<Figure size 432x288 with 1 Axes>"
            ],
            "image/png": "[encoded data removed]"
          },
          "metadata": {
            "needs_background": "light"
          }
        }
      ]
    },
    {
      "cell_type": "markdown",
      "metadata": {
        "id": "nUi62uoplLi-"
      },
      "source": [
        "Nhận xét: Tỉ lệ nam nữ bằng nhau"
      ]
    },
    {
      "cell_type": "code",
      "metadata": {
        "colab": {
          "base_uri": "https://localhost:8080/",
          "height": 350
        },
        "id": "2oFG1VZ0gEbk",
        "outputId": "d584ba38-5b6b-4a61-9c84-771da50941e1"
      },
      "source": [
        "sns.distplot(insight_df['smoker'], hist=True, kde=False, \n",
        "             bins=20, color = 'blue',\n",
        "             hist_kws={'edgecolor':'black'})\n",
        "plt.xlabel('Smoker')\n",
        "plt.ylabel('Frequency')"
      ],
      "execution_count": 25,
      "outputs": [
        {
          "output_type": "stream",
          "name": "stderr",
          "text": [
            "/usr/local/lib/python3.7/dist-packages/seaborn/distributions.py:2619: FutureWarning: `distplot` is a deprecated function and will be removed in a future version. Please adapt your code to use either `displot` (a figure-level function with similar flexibility) or `histplot` (an axes-level function for histograms).\n",
            "  warnings.warn(msg, FutureWarning)\n"
          ]
        },
        {
          "output_type": "execute_result",
          "data": {
            "text/plain": [
              "Text(0, 0.5, 'Frequency')"
            ]
          },
          "metadata": {},
          "execution_count": 25
        },
        {
          "output_type": "display_data",
          "data": {
            "text/plain": [
              "<Figure size 432x288 with 1 Axes>"
            ],
            "image/png": "[encoded data removed]"
          },
          "metadata": {
            "needs_background": "light"
          }
        }
      ]
    },
    {
      "cell_type": "markdown",
      "metadata": {
        "id": "zHGJWRwRlf8Y"
      },
      "source": [
        "Nhận xét: Tỉ lệ người không hút thuốc gấp 4 lần người hút thuốc"
      ]
    },
    {
      "cell_type": "code",
      "metadata": {
        "colab": {
          "base_uri": "https://localhost:8080/",
          "height": 350
        },
        "id": "SnKi5N1SfdIm",
        "outputId": "76ded775-6bd7-41b5-f800-89b3af0a6325"
      },
      "source": [
        "sns.distplot(insight_df['children'], hist=True, kde=False, \n",
        "             bins=20, color = 'blue',\n",
        "             hist_kws={'edgecolor':'black'})\n",
        "plt.xlabel('Children')\n",
        "plt.ylabel('Frequency')"
      ],
      "execution_count": 26,
      "outputs": [
        {
          "output_type": "stream",
          "name": "stderr",
          "text": [
            "/usr/local/lib/python3.7/dist-packages/seaborn/distributions.py:2619: FutureWarning: `distplot` is a deprecated function and will be removed in a future version. Please adapt your code to use either `displot` (a figure-level function with similar flexibility) or `histplot` (an axes-level function for histograms).\n",
            "  warnings.warn(msg, FutureWarning)\n"
          ]
        },
        {
          "output_type": "execute_result",
          "data": {
            "text/plain": [
              "Text(0, 0.5, 'Frequency')"
            ]
          },
          "metadata": {},
          "execution_count": 26
        },
        {
          "output_type": "display_data",
          "data": {
            "text/plain": [
              "<Figure size 432x288 with 1 Axes>"
            ],
            "image/png": "[encoded data removed]"
          },
          "metadata": {
            "needs_background": "light"
          }
        }
      ]
    },
    {
      "cell_type": "markdown",
      "metadata": {
        "id": "MCQ8NK_EmYJG"
      },
      "source": [
        "Nhận xét: Tỉ lệ người có càng nhiều con giảm dần "
      ]
    },
    {
      "cell_type": "markdown",
      "metadata": {
        "id": "RmfAwXpLRZ_M"
      },
      "source": [
        "### Vẽ biểu đồ các biến tương quan và nhận xét"
      ]
    },
    {
      "cell_type": "markdown",
      "metadata": {
        "id": "rQyCOrFCG9Gk"
      },
      "source": [
        "Tính ma trận tương quan"
      ]
    },
    {
      "cell_type": "code",
      "metadata": {
        "colab": {
          "base_uri": "https://localhost:8080/",
          "height": 445
        },
        "id": "MzdAOhZ7GEAI",
        "outputId": "390592e3-f08c-45eb-d985-b380b41b8e42"
      },
      "source": [
        "corr = insight_df.corr()\n",
        "plt.figure(figsize=(7, 7))\n",
        "sns.heatmap(corr,square=True, annot=True, cbar=False, fmt='.3f', cmap='Reds')"
      ],
      "execution_count": 27,
      "outputs": [
        {
          "output_type": "execute_result",
          "data": {
            "text/plain": [
              "<matplotlib.axes._subplots.AxesSubplot at 0x7f64b00bc8d0>"
            ]
          },
          "metadata": {},
          "execution_count": 27
        },
        {
          "output_type": "display_data",
          "data": {
            "text/plain": [
              "<Figure size 504x504 with 1 Axes>"
            ],
            "image/png": "[encoded data removed]"
          },
          "metadata": {
            "needs_background": "light"
          }
        }
      ]
    },
    {
      "cell_type": "markdown",
      "metadata": {
        "id": "stC3P6xaH0NU"
      },
      "source": [
        "Có thể thấy những thuộc tính như age (yếu), bmi (yếu), smoker (mạnh) có tương quan với thuộc tính charges"
      ]
    },
    {
      "cell_type": "code",
      "metadata": {
        "colab": {
          "base_uri": "https://localhost:8080/",
          "height": 296
        },
        "id": "ITECGvaQJTHi",
        "outputId": "79448cde-001f-4e17-90c0-42915edcff11"
      },
      "source": [
        "sns.boxplot(data=insight_df, x='smoker', y='charges')"
      ],
      "execution_count": 28,
      "outputs": [
        {
          "output_type": "execute_result",
          "data": {
            "text/plain": [
              "<matplotlib.axes._subplots.AxesSubplot at 0x7f64affb0410>"
            ]
          },
          "metadata": {},
          "execution_count": 28
        },
        {
          "output_type": "display_data",
          "data": {
            "text/plain": [
              "<Figure size 432x288 with 1 Axes>"
            ],
            "image/png": "[encoded data removed]"
          },
          "metadata": {
            "needs_background": "light"
          }
        }
      ]
    },
    {
      "cell_type": "markdown",
      "metadata": {
        "id": "120VZ1MwKsB9"
      },
      "source": [
        "Biểu đồ trên cho ta thấy người hút thuốc thì có chi phí y tế cao hơn, cụ thể :\n",
        "- hơn 75% người hút thuốc trả chi phí cao hơn hầu hết tất cả người không hút thuốc\n",
        "- chi phí thấp nhất của người hút thuốc chỉ nhỉnh hơn một chút so với chi phí của 75% người không hút thuốc.\n",
        "- nếu chi phí dưới 10k, xác suất cao là người đó không hút thuốc\n",
        "- nếu chi phí trên 20k, xác suất cao là người đó hút thuốc"
      ]
    },
    {
      "cell_type": "code",
      "metadata": {
        "colab": {
          "base_uri": "https://localhost:8080/",
          "height": 296
        },
        "id": "bKx-V6VcJfbR",
        "outputId": "dd8adf80-387e-4554-a17f-88ccd2af851c"
      },
      "source": [
        "sns.scatterplot(data=insight_df, x='age', y='charges', hue='smoker')"
      ],
      "execution_count": 84,
      "outputs": [
        {
          "output_type": "execute_result",
          "data": {
            "text/plain": [
              "<matplotlib.axes._subplots.AxesSubplot at 0x7f649b69a250>"
            ]
          },
          "metadata": {},
          "execution_count": 84
        },
        {
          "output_type": "display_data",
          "data": {
            "text/plain": [
              "<Figure size 432x288 with 1 Axes>"
            ],
            "image/png": "[encoded data removed]"
          },
          "metadata": {
            "needs_background": "light"
          }
        }
      ]
    },
    {
      "cell_type": "markdown",
      "metadata": {
        "id": "wnCRI3hiM0gF"
      },
      "source": [
        "Nhìn vào biểu đồ trên, ta thấy\n",
        "- người càng cao tuổi thì số tiền chi cho y tế càng nhiều\n",
        "- Nếu dưới 35 tuổi và không hút thuốc thì khả năng cao chi phí dưới 6k"
      ]
    },
    {
      "cell_type": "code",
      "metadata": {
        "colab": {
          "base_uri": "https://localhost:8080/",
          "height": 296
        },
        "id": "JUMurDf3QY8V",
        "outputId": "b895e253-da01-4c32-9eaf-52d60552a250"
      },
      "source": [
        "sns.scatterplot(data=insight_df, x='bmi', y='charges', hue='smoker')"
      ],
      "execution_count": 30,
      "outputs": [
        {
          "output_type": "execute_result",
          "data": {
            "text/plain": [
              "<matplotlib.axes._subplots.AxesSubplot at 0x7f64ad5bf3d0>"
            ]
          },
          "metadata": {},
          "execution_count": 30
        },
        {
          "output_type": "display_data",
          "data": {
            "text/plain": [
              "<Figure size 432x288 with 1 Axes>"
            ],
            "image/png": "[encoded data removed]"
          },
          "metadata": {
            "needs_background": "light"
          }
        }
      ]
    },
    {
      "cell_type": "markdown",
      "metadata": {
        "id": "C-AT3_clQz3R"
      },
      "source": [
        "- Người hút thuốc và có chỉ số BMI lớn hơn 30 thì chi phí tổi thiểu là khoảng 30k"
      ]
    },
    {
      "cell_type": "markdown",
      "metadata": {
        "id": "Bl8A59xzlvMj"
      },
      "source": [
        "### VIF"
      ]
    },
    {
      "cell_type": "code",
      "metadata": {
        "id": "gGgIugVBlvoz",
        "colab": {
          "base_uri": "https://localhost:8080/"
        },
        "outputId": "615e4192-f20f-4012-bf20-0a07faed6112"
      },
      "source": [
        "from statsmodels.stats.outliers_influence import variance_inflation_factor\n",
        "\n",
        "\n",
        "# VIF dataframe\n",
        "vif_data = pd.DataFrame()\n",
        "vif_data[\"feature\"] = insight_X_no_object_df.columns\n",
        "  \n",
        "# calculating VIF for each feature\n",
        "vif_data[\"VIF\"] = [variance_inflation_factor(insight_X_no_object_df.values, i)\n",
        "                          for i in range(len(insight_X_no_object_df.columns))]\n",
        "  \n",
        "print(vif_data)"
      ],
      "execution_count": 31,
      "outputs": [
        {
          "output_type": "stream",
          "name": "stdout",
          "text": [
            "    feature       VIF\n",
            "0       sex  1.966855\n",
            "1    smoker  1.254563\n",
            "2       age  7.658193\n",
            "3       bmi  8.638958\n",
            "4  children  1.816248\n"
          ]
        },
        {
          "output_type": "stream",
          "name": "stderr",
          "text": [
            "/usr/local/lib/python3.7/dist-packages/statsmodels/tools/_testing.py:19: FutureWarning: pandas.util.testing is deprecated. Use the functions in the public API at pandas.testing instead.\n",
            "  import pandas.util.testing as tm\n"
          ]
        }
      ]
    },
    {
      "cell_type": "markdown",
      "metadata": {
        "id": "z9gAkTQtaKN3"
      },
      "source": [
        "1 = Không tương quan\n",
        "\n",
        "Giữa 1 và 5 = Tương quan vừa\n",
        "\n",
        "Lớn hơn 5 = Tương quan mạnh\n",
        "\n",
        "(Tham khảo : [1])\n",
        "\n",
        "\n",
        "Ta thấy các biến `sex`, `smoker`, `children` tương quan vừa với các biến còn lại. \n",
        "\n",
        "`age` và `bmi` có sự tương quan mạnh với các biến còn lại\n",
        "\n",
        "Nên thu thập thêm data để giảm sự phụ thuộc giữa các biến"
      ]
    },
    {
      "cell_type": "markdown",
      "metadata": {
        "id": "LyEI1TlyAjXW"
      },
      "source": [
        "### Insight: Sex có ảnh hưởng đến Smoker?\n"
      ]
    },
    {
      "cell_type": "markdown",
      "metadata": {
        "id": "f76h7MXBQHBx"
      },
      "source": [
        "\n",
        "${H_0}$: sex và smoker độc lập nhau\n",
        "\n",
        "${H_A}$: sex và smoker phụ thuộc nhau\n",
        "\n",
        "</br>\n",
        "\n",
        "Đặt:\n",
        "\n",
        "${A =}$  sex, ${A_1 =}$ `male`, ${A_2}$ = `female`\n",
        "\n",
        "${B =}$ smoker, ${B_1 =}$ `yes`, ${B_2 =}$ `no`\n",
        "\n",
        "</br>\n",
        "\n",
        "Ta có:\n",
        "\n",
        "${H_0}$: ${P(A_i\\cap B_j) = P(A_i)P(B_j)}$\n",
        "\n",
        "${H_A}$: ${P(A_i\\cap B_j) \\neq P(A_i)P(B_j)}$\n",
        "\n",
        "</br>\n",
        "\n",
        "Phần dưới sẽ trình bày về mặt toán học lẫn sử dụng thư viện scipy.stats để tính toán\n",
        "\n",
        "</br>"
      ]
    },
    {
      "cell_type": "code",
      "metadata": {
        "id": "GkMOpM-5BCs-"
      },
      "source": [
        "from scipy.stats import chi2_contingency\n",
        "from scipy.stats import chi2"
      ],
      "execution_count": 32,
      "outputs": []
    },
    {
      "cell_type": "code",
      "metadata": {
        "id": "PLHoYJ9YBwv2"
      },
      "source": [
        "insight_df_1 = insight_df.copy()\n",
        "insight_df_1['sex'] = insight_df_1['sex'].replace(1,'male')\n",
        "insight_df_1['sex'] = insight_df_1['sex'].replace(0,'female')\n",
        "insight_df_1['smoker'] = insight_df_1['smoker'].replace(1,'yes')\n",
        "insight_df_1['smoker']= insight_df_1['smoker'].replace(0,'no')"
      ],
      "execution_count": 33,
      "outputs": []
    },
    {
      "cell_type": "code",
      "metadata": {
        "colab": {
          "base_uri": "https://localhost:8080/",
          "height": 142
        },
        "id": "JD6hzEtKBVlB",
        "outputId": "b9820044-6d12-4c74-b296-e94efe6e67e3"
      },
      "source": [
        "contigency= pd.crosstab(insight_df_1['sex'], insight_df_1['smoker']) \n",
        "contigency"
      ],
      "execution_count": 34,
      "outputs": [
        {
          "output_type": "execute_result",
          "data": {
            "text/plain": [
              "smoker   no  yes\n",
              "sex             \n",
              "female  406   91\n",
              "male    391  115"
            ],
            "text/html": [
              "\n",
              "  <div id=\"df-f159c8fe-7dd1-4de2-b559-8324baf2d67e\">\n",
              "    <div class=\"colab-df-container\">\n",
              "      <div>\n",
              "<style scoped>\n",
              "    .dataframe tbody tr th:only-of-type {\n",
              "        vertical-align: middle;\n",
              "    }\n",
              "\n",
              "    .dataframe tbody tr th {\n",
              "        vertical-align: top;\n",
              "    }\n",
              "\n",
              "    .dataframe thead th {\n",
              "        text-align: right;\n",
              "    }\n",
              "</style>\n",
              "<table border=\"1\" class=\"dataframe\">\n",
              "  <thead>\n",
              "    <tr style=\"text-align: right;\">\n",
              "      <th>smoker</th>\n",
              "      <th>no</th>\n",
              "      <th>yes</th>\n",
              "    </tr>\n",
              "    <tr>\n",
              "      <th>sex</th>\n",
              "      <th></th>\n",
              "      <th></th>\n",
              "    </tr>\n",
              "  </thead>\n",
              "  <tbody>\n",
              "    <tr>\n",
              "      <th>female</th>\n",
              "      <td>406</td>\n",
              "      <td>91</td>\n",
              "    </tr>\n",
              "    <tr>\n",
              "      <th>male</th>\n",
              "      <td>391</td>\n",
              "      <td>115</td>\n",
              "    </tr>\n",
              "  </tbody>\n",
              "</table>\n",
              "</div>\n",
              "      <button class=\"colab-df-convert\" onclick=\"convertToInteractive('df-f159c8fe-7dd1-4de2-b559-8324baf2d67e')\"\n",
              "              title=\"Convert this dataframe to an interactive table.\"\n",
              "              style=\"display:none;\">\n",
              "        \n",
              "  <svg xmlns=\"http://www.w3.org/2000/svg\" height=\"24px\"viewBox=\"0 0 24 24\"\n",
              "       width=\"24px\">\n",
              "    <path d=\"M0 0h24v24H0V0z\" fill=\"none\"/>\n",
              "    <path d=\"M18.56 5.44l.94 2.06.94-2.06 2.06-.94-2.06-.94-.94-2.06-.94 2.06-2.06.94zm-11 1L8.5 8.5l.94-2.06 2.06-.94-2.06-.94L8.5 2.5l-.94 2.06-2.06.94zm10 10l.94 2.06.94-2.06 2.06-.94-2.06-.94-.94-2.06-.94 2.06-2.06.94z\"/><path d=\"M17.41 7.96l-1.37-1.37c-.4-.4-.92-.59-1.43-.59-.52 0-1.04.2-1.43.59L10.3 9.45l-7.72 7.72c-.78.78-.78 2.05 0 2.83L4 21.41c.39.39.9.59 1.41.59.51 0 1.02-.2 1.41-.59l7.78-7.78 2.81-2.81c.8-.78.8-2.07 0-2.86zM5.41 20L4 18.59l7.72-7.72 1.47 1.35L5.41 20z\"/>\n",
              "  </svg>\n",
              "      </button>\n",
              "      \n",
              "  <style>\n",
              "    .colab-df-container {\n",
              "      display:flex;\n",
              "      flex-wrap:wrap;\n",
              "      gap: 12px;\n",
              "    }\n",
              "\n",
              "    .colab-df-convert {\n",
              "      background-color: #E8F0FE;\n",
              "      border: none;\n",
              "      border-radius: 50%;\n",
              "      cursor: pointer;\n",
              "      display: none;\n",
              "      fill: #1967D2;\n",
              "      height: 32px;\n",
              "      padding: 0 0 0 0;\n",
              "      width: 32px;\n",
              "    }\n",
              "\n",
              "    .colab-df-convert:hover {\n",
              "      background-color: #E2EBFA;\n",
              "      box-shadow: 0px 1px 2px rgba(60, 64, 67, 0.3), 0px 1px 3px 1px rgba(60, 64, 67, 0.15);\n",
              "      fill: #174EA6;\n",
              "    }\n",
              "\n",
              "    [theme=dark] .colab-df-convert {\n",
              "      background-color: #3B4455;\n",
              "      fill: #D2E3FC;\n",
              "    }\n",
              "\n",
              "    [theme=dark] .colab-df-convert:hover {\n",
              "      background-color: #434B5C;\n",
              "      box-shadow: 0px 1px 3px 1px rgba(0, 0, 0, 0.15);\n",
              "      filter: drop-shadow(0px 1px 2px rgba(0, 0, 0, 0.3));\n",
              "      fill: #FFFFFF;\n",
              "    }\n",
              "  </style>\n",
              "\n",
              "      <script>\n",
              "        const buttonEl =\n",
              "          document.querySelector('#df-f159c8fe-7dd1-4de2-b559-8324baf2d67e button.colab-df-convert');\n",
              "        buttonEl.style.display =\n",
              "          google.colab.kernel.accessAllowed ? 'block' : 'none';\n",
              "\n",
              "        async function convertToInteractive(key) {\n",
              "          const element = document.querySelector('#df-f159c8fe-7dd1-4de2-b559-8324baf2d67e');\n",
              "          const dataTable =\n",
              "            await google.colab.kernel.invokeFunction('convertToInteractive',\n",
              "                                                     [key], {});\n",
              "          if (!dataTable) return;\n",
              "\n",
              "          const docLinkHtml = 'Like what you see? Visit the ' +\n",
              "            '<a target=\"_blank\" href=https://colab.research.google.com/notebooks/data_table.ipynb>data table notebook</a>'\n",
              "            + ' to learn more about interactive tables.';\n",
              "          element.innerHTML = '';\n",
              "          dataTable['output_type'] = 'display_data';\n",
              "          await google.colab.output.renderOutput(dataTable, element);\n",
              "          const docLink = document.createElement('div');\n",
              "          docLink.innerHTML = docLinkHtml;\n",
              "          element.appendChild(docLink);\n",
              "        }\n",
              "      </script>\n",
              "    </div>\n",
              "  </div>\n",
              "  "
            ]
          },
          "metadata": {},
          "execution_count": 34
        }
      ]
    },
    {
      "cell_type": "code",
      "metadata": {
        "id": "GwBq9CmkCRbV"
      },
      "source": [
        "contigency.columns = ['no', 'yes']"
      ],
      "execution_count": 35,
      "outputs": []
    },
    {
      "cell_type": "code",
      "metadata": {
        "colab": {
          "base_uri": "https://localhost:8080/",
          "height": 142
        },
        "id": "3m4IZzJoC5vQ",
        "outputId": "588f0b1f-8eb4-4f36-9454-24e4ac6a11da"
      },
      "source": [
        "contigency['Pr(Ai)'] = contigency['no'] + contigency['yes']\n",
        "sum_table = sum(contigency['Pr(Ai)'])\n",
        "contigency['Pr(Ai)'] = contigency['Pr(Ai)']/sum_table\n",
        "contigency"
      ],
      "execution_count": 36,
      "outputs": [
        {
          "output_type": "execute_result",
          "data": {
            "text/plain": [
              "         no  yes    Pr(Ai)\n",
              "sex                       \n",
              "female  406   91  0.495513\n",
              "male    391  115  0.504487"
            ],
            "text/html": [
              "\n",
              "  <div id=\"df-b1a0cf0c-8dac-44cc-a130-8805ee749f0f\">\n",
              "    <div class=\"colab-df-container\">\n",
              "      <div>\n",
              "<style scoped>\n",
              "    .dataframe tbody tr th:only-of-type {\n",
              "        vertical-align: middle;\n",
              "    }\n",
              "\n",
              "    .dataframe tbody tr th {\n",
              "        vertical-align: top;\n",
              "    }\n",
              "\n",
              "    .dataframe thead th {\n",
              "        text-align: right;\n",
              "    }\n",
              "</style>\n",
              "<table border=\"1\" class=\"dataframe\">\n",
              "  <thead>\n",
              "    <tr style=\"text-align: right;\">\n",
              "      <th></th>\n",
              "      <th>no</th>\n",
              "      <th>yes</th>\n",
              "      <th>Pr(Ai)</th>\n",
              "    </tr>\n",
              "    <tr>\n",
              "      <th>sex</th>\n",
              "      <th></th>\n",
              "      <th></th>\n",
              "      <th></th>\n",
              "    </tr>\n",
              "  </thead>\n",
              "  <tbody>\n",
              "    <tr>\n",
              "      <th>female</th>\n",
              "      <td>406</td>\n",
              "      <td>91</td>\n",
              "      <td>0.495513</td>\n",
              "    </tr>\n",
              "    <tr>\n",
              "      <th>male</th>\n",
              "      <td>391</td>\n",
              "      <td>115</td>\n",
              "      <td>0.504487</td>\n",
              "    </tr>\n",
              "  </tbody>\n",
              "</table>\n",
              "</div>\n",
              "      <button class=\"colab-df-convert\" onclick=\"convertToInteractive('df-b1a0cf0c-8dac-44cc-a130-8805ee749f0f')\"\n",
              "              title=\"Convert this dataframe to an interactive table.\"\n",
              "              style=\"display:none;\">\n",
              "        \n",
              "  <svg xmlns=\"http://www.w3.org/2000/svg\" height=\"24px\"viewBox=\"0 0 24 24\"\n",
              "       width=\"24px\">\n",
              "    <path d=\"M0 0h24v24H0V0z\" fill=\"none\"/>\n",
              "    <path d=\"M18.56 5.44l.94 2.06.94-2.06 2.06-.94-2.06-.94-.94-2.06-.94 2.06-2.06.94zm-11 1L8.5 8.5l.94-2.06 2.06-.94-2.06-.94L8.5 2.5l-.94 2.06-2.06.94zm10 10l.94 2.06.94-2.06 2.06-.94-2.06-.94-.94-2.06-.94 2.06-2.06.94z\"/><path d=\"M17.41 7.96l-1.37-1.37c-.4-.4-.92-.59-1.43-.59-.52 0-1.04.2-1.43.59L10.3 9.45l-7.72 7.72c-.78.78-.78 2.05 0 2.83L4 21.41c.39.39.9.59 1.41.59.51 0 1.02-.2 1.41-.59l7.78-7.78 2.81-2.81c.8-.78.8-2.07 0-2.86zM5.41 20L4 18.59l7.72-7.72 1.47 1.35L5.41 20z\"/>\n",
              "  </svg>\n",
              "      </button>\n",
              "      \n",
              "  <style>\n",
              "    .colab-df-container {\n",
              "      display:flex;\n",
              "      flex-wrap:wrap;\n",
              "      gap: 12px;\n",
              "    }\n",
              "\n",
              "    .colab-df-convert {\n",
              "      background-color: #E8F0FE;\n",
              "      border: none;\n",
              "      border-radius: 50%;\n",
              "      cursor: pointer;\n",
              "      display: none;\n",
              "      fill: #1967D2;\n",
              "      height: 32px;\n",
              "      padding: 0 0 0 0;\n",
              "      width: 32px;\n",
              "    }\n",
              "\n",
              "    .colab-df-convert:hover {\n",
              "      background-color: #E2EBFA;\n",
              "      box-shadow: 0px 1px 2px rgba(60, 64, 67, 0.3), 0px 1px 3px 1px rgba(60, 64, 67, 0.15);\n",
              "      fill: #174EA6;\n",
              "    }\n",
              "\n",
              "    [theme=dark] .colab-df-convert {\n",
              "      background-color: #3B4455;\n",
              "      fill: #D2E3FC;\n",
              "    }\n",
              "\n",
              "    [theme=dark] .colab-df-convert:hover {\n",
              "      background-color: #434B5C;\n",
              "      box-shadow: 0px 1px 3px 1px rgba(0, 0, 0, 0.15);\n",
              "      filter: drop-shadow(0px 1px 2px rgba(0, 0, 0, 0.3));\n",
              "      fill: #FFFFFF;\n",
              "    }\n",
              "  </style>\n",
              "\n",
              "      <script>\n",
              "        const buttonEl =\n",
              "          document.querySelector('#df-b1a0cf0c-8dac-44cc-a130-8805ee749f0f button.colab-df-convert');\n",
              "        buttonEl.style.display =\n",
              "          google.colab.kernel.accessAllowed ? 'block' : 'none';\n",
              "\n",
              "        async function convertToInteractive(key) {\n",
              "          const element = document.querySelector('#df-b1a0cf0c-8dac-44cc-a130-8805ee749f0f');\n",
              "          const dataTable =\n",
              "            await google.colab.kernel.invokeFunction('convertToInteractive',\n",
              "                                                     [key], {});\n",
              "          if (!dataTable) return;\n",
              "\n",
              "          const docLinkHtml = 'Like what you see? Visit the ' +\n",
              "            '<a target=\"_blank\" href=https://colab.research.google.com/notebooks/data_table.ipynb>data table notebook</a>'\n",
              "            + ' to learn more about interactive tables.';\n",
              "          element.innerHTML = '';\n",
              "          dataTable['output_type'] = 'display_data';\n",
              "          await google.colab.output.renderOutput(dataTable, element);\n",
              "          const docLink = document.createElement('div');\n",
              "          docLink.innerHTML = docLinkHtml;\n",
              "          element.appendChild(docLink);\n",
              "        }\n",
              "      </script>\n",
              "    </div>\n",
              "  </div>\n",
              "  "
            ]
          },
          "metadata": {},
          "execution_count": 36
        }
      ]
    },
    {
      "cell_type": "code",
      "metadata": {
        "colab": {
          "base_uri": "https://localhost:8080/"
        },
        "id": "jPRGFXWxCYS9",
        "outputId": "200631c4-048d-457f-f709-3d082fe941f4"
      },
      "source": [
        "\n",
        "Pr_No = sum(contigency['no'])/sum_table\n",
        "Pr_Yes = sum(contigency['yes'])/sum_table\n",
        "\n",
        "PrBj = [Pr_No,Pr_Yes]\n",
        "print(f'Pr_No = {Pr_No}\\nPr_Yes = {Pr_Yes}\\n')\n",
        "print(sum(PrBj))"
      ],
      "execution_count": 37,
      "outputs": [
        {
          "output_type": "stream",
          "name": "stdout",
          "text": [
            "Pr_No = 0.7946161515453639\n",
            "Pr_Yes = 0.2053838484546361\n",
            "\n",
            "1.0\n"
          ]
        }
      ]
    },
    {
      "cell_type": "markdown",
      "metadata": {
        "id": "Bo10kOnqDW22"
      },
      "source": [
        "Ta đã tính được ${Pr(A_i)}$ như bảng trên và \n",
        "\n",
        "${Pr(B_1)}$ = 0.2053838484546361\n",
        "\n",
        "${Pr(B_2)}$ =  0.7946161515453639\n",
        "\n",
        "---\n",
        "\n",
        "Đến đây ta có thể tính:\n",
        "\n",
        "Giá trị mong đợi ${E}$:\n",
        "\n",
        "\\begin{equation}\n",
        "\\text{Do kỳ vọng A và B độc lập:}\\\\\n",
        "E_{ij} = Pr(A_i) \\times Pr(B_j) \\times N [2]\\\\\n",
        "\\text{hay}\\\\\n",
        "E_{ij} = \\frac{\\text{(Tổng dòng} \\times \\text{Tổng cột)}}{\\text{Tổng bảng}} [3]   \\\\ \n",
        "\\text{với bảng là bảng contingency}\n",
        "\\end{equation}\n",
        "\n",
        "Giá trị ${\\chi^2}$:\n",
        "\n",
        "\\begin{equation}\n",
        "\\chi^2=\\Sigma\\frac{(O-E)^2}{E} [2][3]\\\\\n",
        "\\text{với O là giá trị thực sự và E là giá trị mong đợi}\n",
        "\\end{equation}\n",
        "\n",
        "Giá trị dof: Degree of freedom\n",
        "\n",
        "dof cho ${\\chi^2}$ độc lập:\n",
        "\n",
        "\\begin{equation}\n",
        "dof = v = rc - 1 - (r-1) - (c-1) = (r-1)(c-1) [2]\\\\ = 1\n",
        "\\end{equation}\n",
        "\n",
        "Chọn mức ý nghĩa:\n",
        "\n",
        "\\begin{equation}\n",
        "\\alpha = 0.05\n",
        "\\end{equation}\n",
        "\n",
        "Tra bảng Chi Squared với ${\\alpha = 0.05, dof = 1}$ ta được critical value ${ = 3.841459}$\t\n",
        "\n",
        "Chấp nhận ${H_0}$ nếu \n",
        "\\begin{equation}\n",
        "\\chi^2_v <= 3.841459\n",
        "\\end{equation}"
      ]
    },
    {
      "cell_type": "markdown",
      "metadata": {
        "id": "7Q9W2lKGEgjt"
      },
      "source": [
        "</br>\n",
        "\n",
        "Ta có thể sử dụng `chi2_contingency` của thư viện spicy để tính toán:\n"
      ]
    },
    {
      "cell_type": "code",
      "metadata": {
        "colab": {
          "base_uri": "https://localhost:8080/"
        },
        "id": "OgiXX-NFEAyP",
        "outputId": "438e136e-3adb-4694-dc03-a7826d9c89ff"
      },
      "source": [
        "# [3]Source:  https://towardsdatascience.com/gentle-introduction-to-chi-square-test-for-independence-7182a7414a95\n",
        "chi, pval, dof, expected = chi2_contingency(contigency.drop(['Pr(Ai)'],1))\n",
        "print('p-value là: ', pval)\n",
        "significance = 0.05\n",
        "p = 1 - significance\n",
        "critical_value = chi2.ppf(p, dof)\n",
        "print('chi = %.6f, critical value = %.6f\\n' % (chi, critical_value))\n",
        "if chi > critical_value:\n",
        "    print(\"\"\"Với mức ý nghĩa %.2f, ta bác bỏ Ho và chấp nhận HA. \n",
        "Kết luận: sex và smoker không độc lập.\"\"\" % (significance))\n",
        "else:\n",
        "    print(\"\"\"Với mức ý nghĩa %.2f, ta bác bỏ HA và chấp nhận H0. \n",
        "Kết luận: sex và smoker độc lập.\"\"\" % (significance))"
      ],
      "execution_count": 38,
      "outputs": [
        {
          "output_type": "stream",
          "name": "stdout",
          "text": [
            "p-value là:  0.09827321674727184\n",
            "chi = 2.733346, critical value = 3.841459\n",
            "\n",
            "Với mức ý nghĩa 0.05, ta bác bỏ HA và chấp nhận H0. \n",
            "Kết luận: sex và smoker độc lập.\n"
          ]
        },
        {
          "output_type": "stream",
          "name": "stderr",
          "text": [
            "/usr/local/lib/python3.7/dist-packages/ipykernel_launcher.py:2: FutureWarning: In a future version of pandas all arguments of DataFrame.drop except for the argument 'labels' will be keyword-only\n",
            "  \n"
          ]
        }
      ]
    },
    {
      "cell_type": "code",
      "metadata": {
        "colab": {
          "base_uri": "https://localhost:8080/"
        },
        "id": "qalNI0NhJznO",
        "outputId": "2f8ff274-7d3d-487c-ca88-83b14a873673"
      },
      "source": [
        "chi"
      ],
      "execution_count": 39,
      "outputs": [
        {
          "output_type": "execute_result",
          "data": {
            "text/plain": [
              "2.7333457250617705"
            ]
          },
          "metadata": {},
          "execution_count": 39
        }
      ]
    },
    {
      "cell_type": "markdown",
      "metadata": {
        "id": "0125b8h1EjfN"
      },
      "source": [
        "Ta kiểm tra, không dùng thư viện:\n",
        "\n",
        "</br>"
      ]
    },
    {
      "cell_type": "code",
      "metadata": {
        "colab": {
          "base_uri": "https://localhost:8080/",
          "height": 173
        },
        "id": "-CNtXZw9IIlk",
        "outputId": "6aacefba-edd0-4068-ab2b-49e8219e1c03"
      },
      "source": [
        "append_data = []\n",
        "for sex in insight_df_1['sex'].unique():\n",
        "  append_data.append(insight_df_1['smoker'][insight_df_1['sex'] == f'{sex}'].value_counts().rename_axis('smoker').reset_index(name='count'))\n",
        "# items_df['Accidents'].value_counts().rename_axis('Accidents').reset_index(name='Frequency')\n",
        "contigency_1 = pd.concat(append_data)\n",
        "contigency_1.reset_index(inplace = True)\n",
        "contigency_1\n",
        "\n",
        "contigency_1['sex'] = np.nan\n",
        "i = 0\n",
        "pd.options.mode.chained_assignment = None  # default='warn'\n",
        "\n",
        "for sex in insight_df_1['sex'].unique():\n",
        "  contigency_1['sex'][i] = f'{sex}'\n",
        "  contigency_1['sex'][i+1] = f'{sex}'\n",
        "  i = i + 2\n",
        "\n",
        "contigency_1 = contigency_1.reindex(columns = ['smoker', 'sex', 'count'])\n",
        "contigency_1"
      ],
      "execution_count": 88,
      "outputs": [
        {
          "output_type": "execute_result",
          "data": {
            "text/plain": [
              "  smoker     sex  count\n",
              "0     no    male    391\n",
              "1    yes    male    115\n",
              "2     no  female    406\n",
              "3    yes  female     91"
            ],
            "text/html": [
              "\n",
              "  <div id=\"df-71750562-8198-41c2-a4d0-8cbf9928a1d3\">\n",
              "    <div class=\"colab-df-container\">\n",
              "      <div>\n",
              "<style scoped>\n",
              "    .dataframe tbody tr th:only-of-type {\n",
              "        vertical-align: middle;\n",
              "    }\n",
              "\n",
              "    .dataframe tbody tr th {\n",
              "        vertical-align: top;\n",
              "    }\n",
              "\n",
              "    .dataframe thead th {\n",
              "        text-align: right;\n",
              "    }\n",
              "</style>\n",
              "<table border=\"1\" class=\"dataframe\">\n",
              "  <thead>\n",
              "    <tr style=\"text-align: right;\">\n",
              "      <th></th>\n",
              "      <th>smoker</th>\n",
              "      <th>sex</th>\n",
              "      <th>count</th>\n",
              "    </tr>\n",
              "  </thead>\n",
              "  <tbody>\n",
              "    <tr>\n",
              "      <th>0</th>\n",
              "      <td>no</td>\n",
              "      <td>male</td>\n",
              "      <td>391</td>\n",
              "    </tr>\n",
              "    <tr>\n",
              "      <th>1</th>\n",
              "      <td>yes</td>\n",
              "      <td>male</td>\n",
              "      <td>115</td>\n",
              "    </tr>\n",
              "    <tr>\n",
              "      <th>2</th>\n",
              "      <td>no</td>\n",
              "      <td>female</td>\n",
              "      <td>406</td>\n",
              "    </tr>\n",
              "    <tr>\n",
              "      <th>3</th>\n",
              "      <td>yes</td>\n",
              "      <td>female</td>\n",
              "      <td>91</td>\n",
              "    </tr>\n",
              "  </tbody>\n",
              "</table>\n",
              "</div>\n",
              "      <button class=\"colab-df-convert\" onclick=\"convertToInteractive('df-71750562-8198-41c2-a4d0-8cbf9928a1d3')\"\n",
              "              title=\"Convert this dataframe to an interactive table.\"\n",
              "              style=\"display:none;\">\n",
              "        \n",
              "  <svg xmlns=\"http://www.w3.org/2000/svg\" height=\"24px\"viewBox=\"0 0 24 24\"\n",
              "       width=\"24px\">\n",
              "    <path d=\"M0 0h24v24H0V0z\" fill=\"none\"/>\n",
              "    <path d=\"M18.56 5.44l.94 2.06.94-2.06 2.06-.94-2.06-.94-.94-2.06-.94 2.06-2.06.94zm-11 1L8.5 8.5l.94-2.06 2.06-.94-2.06-.94L8.5 2.5l-.94 2.06-2.06.94zm10 10l.94 2.06.94-2.06 2.06-.94-2.06-.94-.94-2.06-.94 2.06-2.06.94z\"/><path d=\"M17.41 7.96l-1.37-1.37c-.4-.4-.92-.59-1.43-.59-.52 0-1.04.2-1.43.59L10.3 9.45l-7.72 7.72c-.78.78-.78 2.05 0 2.83L4 21.41c.39.39.9.59 1.41.59.51 0 1.02-.2 1.41-.59l7.78-7.78 2.81-2.81c.8-.78.8-2.07 0-2.86zM5.41 20L4 18.59l7.72-7.72 1.47 1.35L5.41 20z\"/>\n",
              "  </svg>\n",
              "      </button>\n",
              "      \n",
              "  <style>\n",
              "    .colab-df-container {\n",
              "      display:flex;\n",
              "      flex-wrap:wrap;\n",
              "      gap: 12px;\n",
              "    }\n",
              "\n",
              "    .colab-df-convert {\n",
              "      background-color: #E8F0FE;\n",
              "      border: none;\n",
              "      border-radius: 50%;\n",
              "      cursor: pointer;\n",
              "      display: none;\n",
              "      fill: #1967D2;\n",
              "      height: 32px;\n",
              "      padding: 0 0 0 0;\n",
              "      width: 32px;\n",
              "    }\n",
              "\n",
              "    .colab-df-convert:hover {\n",
              "      background-color: #E2EBFA;\n",
              "      box-shadow: 0px 1px 2px rgba(60, 64, 67, 0.3), 0px 1px 3px 1px rgba(60, 64, 67, 0.15);\n",
              "      fill: #174EA6;\n",
              "    }\n",
              "\n",
              "    [theme=dark] .colab-df-convert {\n",
              "      background-color: #3B4455;\n",
              "      fill: #D2E3FC;\n",
              "    }\n",
              "\n",
              "    [theme=dark] .colab-df-convert:hover {\n",
              "      background-color: #434B5C;\n",
              "      box-shadow: 0px 1px 3px 1px rgba(0, 0, 0, 0.15);\n",
              "      filter: drop-shadow(0px 1px 2px rgba(0, 0, 0, 0.3));\n",
              "      fill: #FFFFFF;\n",
              "    }\n",
              "  </style>\n",
              "\n",
              "      <script>\n",
              "        const buttonEl =\n",
              "          document.querySelector('#df-71750562-8198-41c2-a4d0-8cbf9928a1d3 button.colab-df-convert');\n",
              "        buttonEl.style.display =\n",
              "          google.colab.kernel.accessAllowed ? 'block' : 'none';\n",
              "\n",
              "        async function convertToInteractive(key) {\n",
              "          const element = document.querySelector('#df-71750562-8198-41c2-a4d0-8cbf9928a1d3');\n",
              "          const dataTable =\n",
              "            await google.colab.kernel.invokeFunction('convertToInteractive',\n",
              "                                                     [key], {});\n",
              "          if (!dataTable) return;\n",
              "\n",
              "          const docLinkHtml = 'Like what you see? Visit the ' +\n",
              "            '<a target=\"_blank\" href=https://colab.research.google.com/notebooks/data_table.ipynb>data table notebook</a>'\n",
              "            + ' to learn more about interactive tables.';\n",
              "          element.innerHTML = '';\n",
              "          dataTable['output_type'] = 'display_data';\n",
              "          await google.colab.output.renderOutput(dataTable, element);\n",
              "          const docLink = document.createElement('div');\n",
              "          docLink.innerHTML = docLinkHtml;\n",
              "          element.appendChild(docLink);\n",
              "        }\n",
              "      </script>\n",
              "    </div>\n",
              "  </div>\n",
              "  "
            ]
          },
          "metadata": {},
          "execution_count": 88
        }
      ]
    },
    {
      "cell_type": "code",
      "source": [
        "sns.catplot(\n",
        "    data=contigency_1, kind=\"bar\",\n",
        "    x=\"sex\", y=\"count\", hue=\"smoker\",\n",
        "    ci=\"sd\", palette=\"dark\", alpha=.6, height=6\n",
        ")"
      ],
      "metadata": {
        "colab": {
          "base_uri": "https://localhost:8080/",
          "height": 458
        },
        "id": "JeTLTZLhvEgE",
        "outputId": "02d2f4c9-8e06-448e-ea77-6465217f5f40"
      },
      "execution_count": 90,
      "outputs": [
        {
          "output_type": "execute_result",
          "data": {
            "text/plain": [
              "<seaborn.axisgrid.FacetGrid at 0x7f649b440c10>"
            ]
          },
          "metadata": {},
          "execution_count": 90
        },
        {
          "output_type": "display_data",
          "data": {
            "text/plain": [
              "<Figure size 485.25x432 with 1 Axes>"
            ],
            "image/png": "[encoded data removed]"
          },
          "metadata": {
            "needs_background": "light"
          }
        }
      ]
    },
    {
      "cell_type": "code",
      "metadata": {
        "colab": {
          "base_uri": "https://localhost:8080/",
          "height": 190
        },
        "id": "y-wz8S7gIz2N",
        "outputId": "e1dd9431-f8df-4b8c-e8e6-f14662a967d4"
      },
      "source": [
        "expectedValue = []\n",
        "\n",
        "for Ai in contigency['Pr(Ai)'][::-1]: #female, male\n",
        "  for Bj in PrBj: # no, yes\n",
        "      expectedValue.append(Ai*Bj*sum_table)\n",
        "\n",
        "chiij = []\n",
        "oij = np.array(contigency_1['count'])\n",
        "\n",
        "for ij in range(0, len(expectedValue)):\n",
        "  chiij.append((oij[ij] - expectedValue[ij])**2/expectedValue[ij])\n",
        "\n",
        "contigency_1['Expected value'] = expectedValue\n",
        "contigency_1['(O_ij - E_ij)^2/E_ij'] = chiij\n",
        "\n",
        "chi_square = sum(contigency_1['(O_ij - E_ij)^2/E_ij'])\n",
        "print('chi_square = ', chi_square)\n",
        "contigency_1.head()"
      ],
      "execution_count": 41,
      "outputs": [
        {
          "output_type": "stream",
          "name": "stdout",
          "text": [
            "chi_square =  2.997908815661011\n"
          ]
        },
        {
          "output_type": "execute_result",
          "data": {
            "text/plain": [
              "  smoker     sex  count  Expected value  (O_ij - E_ij)^2/E_ij\n",
              "0     no    male    391      402.075773              0.305099\n",
              "1    yes    male    115      103.924227              1.180406\n",
              "2     no  female    406      394.924227              0.310623\n",
              "3    yes  female     91      102.075773              1.201781"
            ],
            "text/html": [
              "\n",
              "  <div id=\"df-a41f7af3-2925-464e-9ae6-993895044280\">\n",
              "    <div class=\"colab-df-container\">\n",
              "      <div>\n",
              "<style scoped>\n",
              "    .dataframe tbody tr th:only-of-type {\n",
              "        vertical-align: middle;\n",
              "    }\n",
              "\n",
              "    .dataframe tbody tr th {\n",
              "        vertical-align: top;\n",
              "    }\n",
              "\n",
              "    .dataframe thead th {\n",
              "        text-align: right;\n",
              "    }\n",
              "</style>\n",
              "<table border=\"1\" class=\"dataframe\">\n",
              "  <thead>\n",
              "    <tr style=\"text-align: right;\">\n",
              "      <th></th>\n",
              "      <th>smoker</th>\n",
              "      <th>sex</th>\n",
              "      <th>count</th>\n",
              "      <th>Expected value</th>\n",
              "      <th>(O_ij - E_ij)^2/E_ij</th>\n",
              "    </tr>\n",
              "  </thead>\n",
              "  <tbody>\n",
              "    <tr>\n",
              "      <th>0</th>\n",
              "      <td>no</td>\n",
              "      <td>male</td>\n",
              "      <td>391</td>\n",
              "      <td>402.075773</td>\n",
              "      <td>0.305099</td>\n",
              "    </tr>\n",
              "    <tr>\n",
              "      <th>1</th>\n",
              "      <td>yes</td>\n",
              "      <td>male</td>\n",
              "      <td>115</td>\n",
              "      <td>103.924227</td>\n",
              "      <td>1.180406</td>\n",
              "    </tr>\n",
              "    <tr>\n",
              "      <th>2</th>\n",
              "      <td>no</td>\n",
              "      <td>female</td>\n",
              "      <td>406</td>\n",
              "      <td>394.924227</td>\n",
              "      <td>0.310623</td>\n",
              "    </tr>\n",
              "    <tr>\n",
              "      <th>3</th>\n",
              "      <td>yes</td>\n",
              "      <td>female</td>\n",
              "      <td>91</td>\n",
              "      <td>102.075773</td>\n",
              "      <td>1.201781</td>\n",
              "    </tr>\n",
              "  </tbody>\n",
              "</table>\n",
              "</div>\n",
              "      <button class=\"colab-df-convert\" onclick=\"convertToInteractive('df-a41f7af3-2925-464e-9ae6-993895044280')\"\n",
              "              title=\"Convert this dataframe to an interactive table.\"\n",
              "              style=\"display:none;\">\n",
              "        \n",
              "  <svg xmlns=\"http://www.w3.org/2000/svg\" height=\"24px\"viewBox=\"0 0 24 24\"\n",
              "       width=\"24px\">\n",
              "    <path d=\"M0 0h24v24H0V0z\" fill=\"none\"/>\n",
              "    <path d=\"M18.56 5.44l.94 2.06.94-2.06 2.06-.94-2.06-.94-.94-2.06-.94 2.06-2.06.94zm-11 1L8.5 8.5l.94-2.06 2.06-.94-2.06-.94L8.5 2.5l-.94 2.06-2.06.94zm10 10l.94 2.06.94-2.06 2.06-.94-2.06-.94-.94-2.06-.94 2.06-2.06.94z\"/><path d=\"M17.41 7.96l-1.37-1.37c-.4-.4-.92-.59-1.43-.59-.52 0-1.04.2-1.43.59L10.3 9.45l-7.72 7.72c-.78.78-.78 2.05 0 2.83L4 21.41c.39.39.9.59 1.41.59.51 0 1.02-.2 1.41-.59l7.78-7.78 2.81-2.81c.8-.78.8-2.07 0-2.86zM5.41 20L4 18.59l7.72-7.72 1.47 1.35L5.41 20z\"/>\n",
              "  </svg>\n",
              "      </button>\n",
              "      \n",
              "  <style>\n",
              "    .colab-df-container {\n",
              "      display:flex;\n",
              "      flex-wrap:wrap;\n",
              "      gap: 12px;\n",
              "    }\n",
              "\n",
              "    .colab-df-convert {\n",
              "      background-color: #E8F0FE;\n",
              "      border: none;\n",
              "      border-radius: 50%;\n",
              "      cursor: pointer;\n",
              "      display: none;\n",
              "      fill: #1967D2;\n",
              "      height: 32px;\n",
              "      padding: 0 0 0 0;\n",
              "      width: 32px;\n",
              "    }\n",
              "\n",
              "    .colab-df-convert:hover {\n",
              "      background-color: #E2EBFA;\n",
              "      box-shadow: 0px 1px 2px rgba(60, 64, 67, 0.3), 0px 1px 3px 1px rgba(60, 64, 67, 0.15);\n",
              "      fill: #174EA6;\n",
              "    }\n",
              "\n",
              "    [theme=dark] .colab-df-convert {\n",
              "      background-color: #3B4455;\n",
              "      fill: #D2E3FC;\n",
              "    }\n",
              "\n",
              "    [theme=dark] .colab-df-convert:hover {\n",
              "      background-color: #434B5C;\n",
              "      box-shadow: 0px 1px 3px 1px rgba(0, 0, 0, 0.15);\n",
              "      filter: drop-shadow(0px 1px 2px rgba(0, 0, 0, 0.3));\n",
              "      fill: #FFFFFF;\n",
              "    }\n",
              "  </style>\n",
              "\n",
              "      <script>\n",
              "        const buttonEl =\n",
              "          document.querySelector('#df-a41f7af3-2925-464e-9ae6-993895044280 button.colab-df-convert');\n",
              "        buttonEl.style.display =\n",
              "          google.colab.kernel.accessAllowed ? 'block' : 'none';\n",
              "\n",
              "        async function convertToInteractive(key) {\n",
              "          const element = document.querySelector('#df-a41f7af3-2925-464e-9ae6-993895044280');\n",
              "          const dataTable =\n",
              "            await google.colab.kernel.invokeFunction('convertToInteractive',\n",
              "                                                     [key], {});\n",
              "          if (!dataTable) return;\n",
              "\n",
              "          const docLinkHtml = 'Like what you see? Visit the ' +\n",
              "            '<a target=\"_blank\" href=https://colab.research.google.com/notebooks/data_table.ipynb>data table notebook</a>'\n",
              "            + ' to learn more about interactive tables.';\n",
              "          element.innerHTML = '';\n",
              "          dataTable['output_type'] = 'display_data';\n",
              "          await google.colab.output.renderOutput(dataTable, element);\n",
              "          const docLink = document.createElement('div');\n",
              "          docLink.innerHTML = docLinkHtml;\n",
              "          element.appendChild(docLink);\n",
              "        }\n",
              "      </script>\n",
              "    </div>\n",
              "  </div>\n",
              "  "
            ]
          },
          "metadata": {},
          "execution_count": 41
        }
      ]
    },
    {
      "cell_type": "markdown",
      "metadata": {
        "id": "fXrk6_v-OyY3"
      },
      "source": [
        "Ta thấy:\n",
        "\n",
        "\\begin{equation}\n",
        "\\chi^2_v = 2.997908815661011 < 3.841459\n",
        "\\end{equation}\n",
        "\n",
        "</br>\n",
        "\n",
        "Vậy bác bỏ ${H_A}$ với mức ý nghĩa 0.05, chấp nhận ${H_0}$ \n",
        "\n",
        "</br>\n",
        "\n",
        "<center><font size =\"5\">Kết luận: sex và smoker độc lập</font></center>\n",
        "\n",
        "</br>"
      ]
    },
    {
      "cell_type": "markdown",
      "metadata": {
        "id": "B-Jis1XW_yG0"
      },
      "source": [
        "### Insight: Trung bình của 'age', 'bmi', 'children' giữa người có hút thuốc và người không hút thuốc có bằng nhau"
      ]
    },
    {
      "cell_type": "code",
      "source": [
        "sns.boxplot(data=insight_df, x='smoker', y='age')"
      ],
      "metadata": {
        "id": "oL_de87oxO4Q",
        "outputId": "25543ef1-56dc-4733-f2a8-cf7c68fed483",
        "colab": {
          "base_uri": "https://localhost:8080/",
          "height": 296
        }
      },
      "execution_count": 97,
      "outputs": [
        {
          "output_type": "execute_result",
          "data": {
            "text/plain": [
              "<matplotlib.axes._subplots.AxesSubplot at 0x7f6498240a10>"
            ]
          },
          "metadata": {},
          "execution_count": 97
        },
        {
          "output_type": "display_data",
          "data": {
            "text/plain": [
              "<Figure size 432x288 with 1 Axes>"
            ],
            "image/png": "[encoded data removed]"
          },
          "metadata": {
            "needs_background": "light"
          }
        }
      ]
    },
    {
      "cell_type": "code",
      "source": [
        "sns.boxplot(data=insight_df, x='smoker', y='bmi')"
      ],
      "metadata": {
        "id": "__S76FDsxLnG",
        "outputId": "1ff5b8e1-f3c2-4656-b699-8237724882da",
        "colab": {
          "base_uri": "https://localhost:8080/",
          "height": 296
        }
      },
      "execution_count": 96,
      "outputs": [
        {
          "output_type": "execute_result",
          "data": {
            "text/plain": [
              "<matplotlib.axes._subplots.AxesSubplot at 0x7f64986723d0>"
            ]
          },
          "metadata": {},
          "execution_count": 96
        },
        {
          "output_type": "display_data",
          "data": {
            "text/plain": [
              "<Figure size 432x288 with 1 Axes>"
            ],
            "image/png": "[encoded data removed]"
          },
          "metadata": {
            "needs_background": "light"
          }
        }
      ]
    },
    {
      "cell_type": "code",
      "source": [
        "sns.boxplot(data=insight_df, x='smoker', y='children')"
      ],
      "metadata": {
        "id": "KvEveG4axZZL",
        "outputId": "756d360f-d2d7-4b82-fae0-7bd098c4bc19",
        "colab": {
          "base_uri": "https://localhost:8080/",
          "height": 296
        }
      },
      "execution_count": 98,
      "outputs": [
        {
          "output_type": "execute_result",
          "data": {
            "text/plain": [
              "<matplotlib.axes._subplots.AxesSubplot at 0x7f64981fa250>"
            ]
          },
          "metadata": {},
          "execution_count": 98
        },
        {
          "output_type": "display_data",
          "data": {
            "text/plain": [
              "<Figure size 432x288 with 1 Axes>"
            ],
            "image/png": "[encoded data removed]"
          },
          "metadata": {
            "needs_background": "light"
          }
        }
      ]
    },
    {
      "cell_type": "code",
      "metadata": {
        "id": "M5cNUroyAlgA"
      },
      "source": [
        "numeric_features = ['age', 'bmi', 'children']\n"
      ],
      "execution_count": 42,
      "outputs": []
    },
    {
      "cell_type": "code",
      "metadata": {
        "colab": {
          "base_uri": "https://localhost:8080/"
        },
        "id": "j8jcia1lBTj-",
        "outputId": "23d03ed3-95a0-415c-9b70-db74eda74868"
      },
      "source": [
        "from statsmodels.stats.weightstats import ztest\n",
        "\n",
        "significance = 0.05\n",
        "\n",
        "for i in range(len(numeric_features)):\n",
        "    \n",
        "    print(f'\\nHo: trung bình `{numeric_features[i]}` của người có hút thuốc = trung bình `{numeric_features[i]}` của người không hút thuốc\\n')\n",
        "    print(f'\\nHa: trung bình `{numeric_features[i]}` của người có hút thuốc khác trung bình `{numeric_features[i]}` của người không hút thuốc\\n')\n",
        "    stat, p = ztest(insight_df[numeric_features[i]][insight_df['smoker'] == 1],insight_df[numeric_features[i]][insight_df['smoker'] == 0])\n",
        "    print('stat=%.3f, p=%.3f' % (stat, p))\n",
        "    print('\\nKẾT LUẬN: ')\n",
        "    if p >= significance:\n",
        "      print(f'Với mức ý nghĩa {significance}, ta chấp nhận Ho, bác bỏ Ha.\\nTrung bình `{numeric_features[i]}` của người có hút thuốc = trung bình `{numeric_features[i]}` của người không hút thuốc\\n---')\n",
        "    else:\n",
        "      print(f'Với mức ý nghĩa {significance}, ta chấp nhận Ha, bác bỏ Ho.\\nTrung bình `{numeric_features[i]}` của người có hút thuốc khác trung bình `{numeric_features[i]}` của người không hút thuốc\\n---')"
      ],
      "execution_count": 43,
      "outputs": [
        {
          "output_type": "stream",
          "name": "stdout",
          "text": [
            "\n",
            "Ho: trung bình `age` của người có hút thuốc = trung bình `age` của người không hút thuốc\n",
            "\n",
            "\n",
            "Ha: trung bình `age` của người có hút thuốc khác trung bình `age` của người không hút thuốc\n",
            "\n",
            "stat=-1.200, p=0.230\n",
            "\n",
            "KẾT LUẬN: \n",
            "Với mức ý nghĩa 0.05, ta chấp nhận Ho, bác bỏ Ha.\n",
            "Trung bình `age` của người có hút thuốc = trung bình `age` của người không hút thuốc\n",
            "---\n",
            "\n",
            "Ho: trung bình `bmi` của người có hút thuốc = trung bình `bmi` của người không hút thuốc\n",
            "\n",
            "\n",
            "Ha: trung bình `bmi` của người có hút thuốc khác trung bình `bmi` của người không hút thuốc\n",
            "\n",
            "stat=-0.047, p=0.962\n",
            "\n",
            "KẾT LUẬN: \n",
            "Với mức ý nghĩa 0.05, ta chấp nhận Ho, bác bỏ Ha.\n",
            "Trung bình `bmi` của người có hút thuốc = trung bình `bmi` của người không hút thuốc\n",
            "---\n",
            "\n",
            "Ho: trung bình `children` của người có hút thuốc = trung bình `children` của người không hút thuốc\n",
            "\n",
            "\n",
            "Ha: trung bình `children` của người có hút thuốc khác trung bình `children` của người không hút thuốc\n",
            "\n",
            "stat=0.807, p=0.420\n",
            "\n",
            "KẾT LUẬN: \n",
            "Với mức ý nghĩa 0.05, ta chấp nhận Ho, bác bỏ Ha.\n",
            "Trung bình `children` của người có hút thuốc = trung bình `children` của người không hút thuốc\n",
            "---\n"
          ]
        }
      ]
    },
    {
      "cell_type": "markdown",
      "metadata": {
        "id": "zuFDiJWAaISu"
      },
      "source": [
        "### Insight: Sự phụ thuộc của `charges` vào `sex`, `smoker`, `age`, `bmi`, `children`"
      ]
    },
    {
      "cell_type": "code",
      "metadata": {
        "id": "j9VSvK_0aDFu"
      },
      "source": [
        "import statsmodels.api as sm\n",
        "import statsmodels.formula.api as smf"
      ],
      "execution_count": 44,
      "outputs": []
    },
    {
      "cell_type": "code",
      "metadata": {
        "colab": {
          "base_uri": "https://localhost:8080/"
        },
        "id": "roOI6vQCajQp",
        "outputId": "26301e0f-4648-4c56-f087-d7abcb21cd28"
      },
      "source": [
        "results = sm.OLS(y, sm.add_constant(insight_X_no_object_df)).fit()\n",
        "print(results.summary())"
      ],
      "execution_count": 45,
      "outputs": [
        {
          "output_type": "stream",
          "name": "stdout",
          "text": [
            "                            OLS Regression Results                            \n",
            "==============================================================================\n",
            "Dep. Variable:                charges   R-squared:                       0.744\n",
            "Model:                            OLS   Adj. R-squared:                  0.743\n",
            "Method:                 Least Squares   F-statistic:                     580.0\n",
            "Date:                Sun, 03 Apr 2022   Prob (F-statistic):          3.98e-292\n",
            "Time:                        04:33:27   Log-Likelihood:                -10164.\n",
            "No. Observations:                1003   AIC:                         2.034e+04\n",
            "Df Residuals:                     997   BIC:                         2.037e+04\n",
            "Df Model:                           5                                         \n",
            "Covariance Type:            nonrobust                                         \n",
            "==============================================================================\n",
            "                 coef    std err          t      P>|t|      [0.025      0.975]\n",
            "------------------------------------------------------------------------------\n",
            "const       -1.23e+04   1121.474    -10.968      0.000   -1.45e+04   -1.01e+04\n",
            "sex           66.0697    386.570      0.171      0.864    -692.515     824.655\n",
            "smoker      2.363e+04    478.849     49.344      0.000    2.27e+04    2.46e+04\n",
            "age          260.0358     13.870     18.748      0.000     232.818     287.254\n",
            "bmi          327.5600     32.307     10.139      0.000     264.162     390.958\n",
            "children     434.8043    160.590      2.708      0.007     119.671     749.938\n",
            "==============================================================================\n",
            "Omnibus:                      241.068   Durbin-Watson:                   2.068\n",
            "Prob(Omnibus):                  0.000   Jarque-Bera (JB):              592.918\n",
            "Skew:                           1.268   Prob(JB):                    1.78e-129\n",
            "Kurtosis:                       5.785   Cond. No.                         299.\n",
            "==============================================================================\n",
            "\n",
            "Warnings:\n",
            "[1] Standard Errors assume that the covariance matrix of the errors is correctly specified.\n"
          ]
        },
        {
          "output_type": "stream",
          "name": "stderr",
          "text": [
            "/usr/local/lib/python3.7/dist-packages/statsmodels/tsa/tsatools.py:117: FutureWarning: In a future version of pandas all arguments of concat except for the argument 'objs' will be keyword-only\n",
            "  x = pd.concat(x[::order], 1)\n"
          ]
        }
      ]
    },
    {
      "cell_type": "markdown",
      "metadata": {
        "id": "DSOAeoJMcMVj"
      },
      "source": [
        "</br> \n",
        "\n",
        "Kết luận:\n",
        "\n",
        "- Biến `sex` không có ý nghĩa (có thể loại bỏ)\n",
        "- Biến `smoker` có ý nghĩa đối với mô hình về mặt thống kê (với mức ý nghĩa (***) hay p-value = 0.000)\n",
        "- Biến `age` có ý nghĩa đối với mô hình về mặt thống kê (với mức ý nghĩa (***) hay p-value = 0.000)\n",
        "- Biến `bmi` có ý nghĩa đối với mô hình về mặt thống kê (với mức ý nghĩa (***) hay p-value = 0.000)\n",
        "- Biến `children` không có ý nghĩa (có thể loại bỏ)\n",
        "- Mô hình có thể giải thích được 74.3% sự thay đổi của biến `charges`\n",
        "- Mô hình tương đối tốt (p-value = 1.78e-129)"
      ]
    },
    {
      "cell_type": "markdown",
      "metadata": {
        "id": "Pgr_84L2x55M"
      },
      "source": [
        "Ta huấn luyện lại mô hình dựa theo kết luận trên"
      ]
    },
    {
      "cell_type": "code",
      "metadata": {
        "colab": {
          "base_uri": "https://localhost:8080/"
        },
        "id": "Ox15ATn_x375",
        "outputId": "503fa087-1f89-43b0-bf56-2db0ee5fbb67"
      },
      "source": [
        "results = sm.OLS(y, sm.add_constant(insight_X_no_object_df.drop(['sex', 'children'],1))).fit()\n",
        "print(results.summary())"
      ],
      "execution_count": 46,
      "outputs": [
        {
          "output_type": "stream",
          "name": "stdout",
          "text": [
            "                            OLS Regression Results                            \n",
            "==============================================================================\n",
            "Dep. Variable:                charges   R-squared:                       0.742\n",
            "Model:                            OLS   Adj. R-squared:                  0.741\n",
            "Method:                 Least Squares   F-statistic:                     959.1\n",
            "Date:                Sun, 03 Apr 2022   Prob (F-statistic):          1.63e-293\n",
            "Time:                        04:33:28   Log-Likelihood:                -10168.\n",
            "No. Observations:                1003   AIC:                         2.034e+04\n",
            "Df Residuals:                     999   BIC:                         2.036e+04\n",
            "Df Model:                           3                                         \n",
            "Covariance Type:            nonrobust                                         \n",
            "==============================================================================\n",
            "                 coef    std err          t      P>|t|      [0.025      0.975]\n",
            "------------------------------------------------------------------------------\n",
            "const      -1.185e+04   1097.537    -10.799      0.000    -1.4e+04   -9698.979\n",
            "smoker      2.367e+04    479.257     49.386      0.000    2.27e+04    2.46e+04\n",
            "age          262.1450     13.884     18.881      0.000     234.900     289.390\n",
            "bmi          326.7252     32.392     10.086      0.000     263.160     390.290\n",
            "==============================================================================\n",
            "Omnibus:                      238.957   Durbin-Watson:                   2.060\n",
            "Prob(Omnibus):                  0.000   Jarque-Bera (JB):              580.364\n",
            "Skew:                           1.263   Prob(JB):                    9.45e-127\n",
            "Kurtosis:                       5.741   Cond. No.                         291.\n",
            "==============================================================================\n",
            "\n",
            "Warnings:\n",
            "[1] Standard Errors assume that the covariance matrix of the errors is correctly specified.\n"
          ]
        },
        {
          "output_type": "stream",
          "name": "stderr",
          "text": [
            "/usr/local/lib/python3.7/dist-packages/ipykernel_launcher.py:1: FutureWarning: In a future version of pandas all arguments of DataFrame.drop except for the argument 'labels' will be keyword-only\n",
            "  \"\"\"Entry point for launching an IPython kernel.\n",
            "/usr/local/lib/python3.7/dist-packages/statsmodels/tsa/tsatools.py:117: FutureWarning: In a future version of pandas all arguments of concat except for the argument 'objs' will be keyword-only\n",
            "  x = pd.concat(x[::order], 1)\n"
          ]
        }
      ]
    },
    {
      "cell_type": "code",
      "metadata": {
        "id": "VxAaCyA4d4ma",
        "colab": {
          "base_uri": "https://localhost:8080/"
        },
        "outputId": "5862e4ad-f56d-466e-f9dd-28c3efd87b96"
      },
      "source": [
        "print('Parameters: ', results.params)"
      ],
      "execution_count": 47,
      "outputs": [
        {
          "output_type": "stream",
          "name": "stdout",
          "text": [
            "Parameters:  const    -11852.720452\n",
            "smoker    23668.497446\n",
            "age         262.144961\n",
            "bmi         326.725200\n",
            "dtype: float64\n"
          ]
        }
      ]
    },
    {
      "cell_type": "markdown",
      "metadata": {
        "id": "ucZqigV5fX85"
      },
      "source": [
        "Ta thấy:\n",
        "\n",
        "- Cứ tăng 1 tuổi thì chi phí y tế cá nhân tăng 262.144961, tăng 1 chỉ số bmi thì tăng 326.725200 chi phí y tế cá nhân\n",
        "- Riêng với smoker, người có hút thuốc thì có chi phí y tế cá nhân cao hơn người không hút thuốc đến 23668.497446\n"
      ]
    },
    {
      "cell_type": "markdown",
      "metadata": {
        "id": "nZU1f-7AQr_l"
      },
      "source": [
        "## TIỀN XỬ LÝ + MÔ HÌNH HÓA\n",
        "\n",
        "reference: [machinelearningmastery](https://machinelearningmastery.com/how-to-transform-target-variables-for-regression-with-scikit-learn/)"
      ]
    },
    {
      "cell_type": "markdown",
      "metadata": {
        "id": "-kUD3F3ORuZL"
      },
      "source": [
        "### Sử dụng SVR với kernel non-linear: RBF (mặc định)"
      ]
    },
    {
      "cell_type": "markdown",
      "metadata": {
        "id": "-eqRSkDqRzXi"
      },
      "source": [
        "### Chọn tham số cho mô hình"
      ]
    },
    {
      "cell_type": "markdown",
      "metadata": {
        "id": "YP1e-_F_R6ky"
      },
      "source": [
        "#### Hàm svr_r2\n",
        "\n",
        "Hàm này để tính độ chính xác trung bình khi sử dụng phương pháp đánh giá lỗi K-fold của 1 bộ tham số C, gamma"
      ]
    },
    {
      "cell_type": "code",
      "metadata": {
        "id": "2ygnPlIc5SZQ"
      },
      "source": [
        "def svr_r2(X, y, kernel, C, gamma, cv):\n",
        "  svr = SVR(kernel=kernel, C=C, gamma=gamma)\n",
        "  pipeline = Pipeline(steps=[('Column Transformer', preprocessor), ('model', svr),])\n",
        "  model = TransformedTargetRegressor(regressor=pipeline, transformer=StandardScaler())\n",
        "  scores = cross_val_score(model, X, y, scoring='r2', cv=cv, n_jobs=-1)\n",
        "  return np.mean(scores)"
      ],
      "execution_count": 48,
      "outputs": []
    },
    {
      "cell_type": "markdown",
      "metadata": {
        "id": "IwUUlnnYTPhd"
      },
      "source": [
        "#### Hàm optimal_svr \n",
        "\n",
        "Để chọn ra chọn siêu tham số làm cho mô hình có độ chính xác cao nhất trên tập huấn luyện"
      ]
    },
    {
      "cell_type": "code",
      "metadata": {
        "id": "leEFM50NsDTO"
      },
      "source": [
        "def optimal_svr(X, y, kernel, c_range, gamma_range, train_r2=[]):\n",
        "  max_score = 0\n",
        "  cv = KFold(n_splits=10, shuffle=True, random_state=1)\n",
        "  for c in c_range:\n",
        "    scores = []\n",
        "    for g in gamma_range:\n",
        "      score = svr_r2(X, y, kernel, c, g, cv)\n",
        "      scores.append(score)\n",
        "      if score > max_score:\n",
        "        max_score = score\n",
        "        res = (c, g)\n",
        "    train_r2.append(scores)\n",
        "  return res\n"
      ],
      "execution_count": 49,
      "outputs": []
    },
    {
      "cell_type": "code",
      "metadata": {
        "id": "YDIebvS93axZ"
      },
      "source": [
        "C_range = [0.05,0.1,1,10, 50]\n",
        "gamma_range = [0.01,0.05,0.1,1,10]\n",
        "kernel = 'rbf'\n",
        "train_r2 = []\n",
        "best_c, best_g = optimal_svr(X, y, kernel, C_range, gamma_range, train_r2)"
      ],
      "execution_count": 50,
      "outputs": []
    },
    {
      "cell_type": "markdown",
      "metadata": {
        "id": "jIwZmtirTigg"
      },
      "source": [
        "#### Trực quan kết quả"
      ]
    },
    {
      "cell_type": "code",
      "metadata": {
        "id": "se-R2pZhKL-9"
      },
      "source": [
        "train_r2 = pd.DataFrame(train_r2, columns=gamma_range, index=C_range)"
      ],
      "execution_count": 51,
      "outputs": []
    },
    {
      "cell_type": "code",
      "metadata": {
        "id": "Pj1vvQ7KO803",
        "colab": {
          "base_uri": "https://localhost:8080/",
          "height": 458
        },
        "outputId": "308b7d89-43f7-4046-d27b-c185070041c8"
      },
      "source": [
        "plt.figure(figsize=(7, 7))\n",
        "sns.heatmap(train_r2,square=True, annot=True, cbar=False, fmt='.3f', cmap='Reds')\n",
        "plt.xlabel('Gamma'); plt.ylabel('C');plt.title('R-square of training set')\n",
        "plt.show()"
      ],
      "execution_count": 52,
      "outputs": [
        {
          "output_type": "display_data",
          "data": {
            "text/plain": [
              "<Figure size 504x504 with 1 Axes>"
            ],
            "image/png": "[encoded data removed]"
          },
          "metadata": {
            "needs_background": "light"
          }
        }
      ]
    },
    {
      "cell_type": "markdown",
      "metadata": {
        "id": "KU1K1jN6T5qI"
      },
      "source": [
        "Vậy các tham số tìm được là:"
      ]
    },
    {
      "cell_type": "code",
      "metadata": {
        "id": "s5-IYbRFT-wx",
        "colab": {
          "base_uri": "https://localhost:8080/"
        },
        "outputId": "f2eba3a3-d67f-4a79-829d-99eafc603613"
      },
      "source": [
        "print('C= %s và gamma= %s' %(best_c, best_g))"
      ],
      "execution_count": 53,
      "outputs": [
        {
          "output_type": "stream",
          "name": "stdout",
          "text": [
            "C= 10 và gamma= 0.05\n"
          ]
        }
      ]
    },
    {
      "cell_type": "markdown",
      "metadata": {
        "id": "xKjUZLXhTv9T"
      },
      "source": [
        "### Dùng các siêu tham số tìm được ở trên để huấn luyện mô hình"
      ]
    },
    {
      "cell_type": "code",
      "metadata": {
        "id": "rzySAbfd9D-K"
      },
      "source": [
        "df_test = pd.read_csv('test.csv')\n",
        "X_test, y_test = df_test.iloc[:, :-1], df_test.iloc[:, -1]"
      ],
      "execution_count": 54,
      "outputs": []
    },
    {
      "cell_type": "code",
      "metadata": {
        "id": "VTfcHOXq8ZgO",
        "colab": {
          "base_uri": "https://localhost:8080/",
          "height": 223
        },
        "outputId": "0405ce1c-80d1-4501-d607-38c28b53f548"
      },
      "source": [
        "svr = SVR(kernel= kernel, C=best_c, gamma=best_g)\n",
        "pipeline = Pipeline(steps=[('Column Transformer', preprocessor), ('model', svr),])\n",
        "model = TransformedTargetRegressor(regressor=pipeline, transformer=StandardScaler())\n",
        "model.fit(X,y)"
      ],
      "execution_count": 55,
      "outputs": [
        {
          "output_type": "execute_result",
          "data": {
            "text/plain": [
              "TransformedTargetRegressor(regressor=Pipeline(steps=[('Column Transformer',\n",
              "                                                      ColumnTransformer(transformers=[('ordinals',\n",
              "                                                                                       Pipeline(steps=[('imputer_cat',\n",
              "                                                                                                        SimpleImputer(strategy='constant')),\n",
              "                                                                                                       ('ordinal',\n",
              "                                                                                                        OrdinalEncoder())]),\n",
              "                                                                                       ['sex',\n",
              "                                                                                        'smoker']),\n",
              "                                                                                      ('onehot',\n",
              "                                                                                       Pipeline(steps=[('imputer_cat',\n",
              "                                                                                                        SimpleImputer(strategy='constant')),\n",
              "                                                                                                       ('onehot',\n",
              "                                                                                                        OneHotEncoder(handle_unknown='ignore'))]),\n",
              "                                                                                       ['region']),\n",
              "                                                                                      ('numericals',\n",
              "                                                                                       Pipeline(steps=[('imputer_num',\n",
              "                                                                                                        SimpleImputer(strategy='median')),\n",
              "                                                                                                       ('scaler',\n",
              "                                                                                                        StandardScaler())]),\n",
              "                                                                                       ['age',\n",
              "                                                                                        'bmi',\n",
              "                                                                                        'children'])])),\n",
              "                                                     ('model',\n",
              "                                                      SVR(C=10, gamma=0.05))]),\n",
              "                           transformer=StandardScaler())"
            ],
            "text/html": [
              "<style>#sk-7b1780d4-d4c8-487e-8ded-6592a42f4352 {color: black;background-color: white;}#sk-7b1780d4-d4c8-487e-8ded-6592a42f4352 pre{padding: 0;}#sk-7b1780d4-d4c8-487e-8ded-6592a42f4352 div.sk-toggleable {background-color: white;}#sk-7b1780d4-d4c8-487e-8ded-6592a42f4352 label.sk-toggleable__label {cursor: pointer;display: block;width: 100%;margin-bottom: 0;padding: 0.3em;box-sizing: border-box;text-align: center;}#sk-7b1780d4-d4c8-487e-8ded-6592a42f4352 label.sk-toggleable__label-arrow:before {content: \"▸\";float: left;margin-right: 0.25em;color: #696969;}#sk-7b1780d4-d4c8-487e-8ded-6592a42f4352 label.sk-toggleable__label-arrow:hover:before {color: black;}#sk-7b1780d4-d4c8-487e-8ded-6592a42f4352 div.sk-estimator:hover label.sk-toggleable__label-arrow:before {color: black;}#sk-7b1780d4-d4c8-487e-8ded-6592a42f4352 div.sk-toggleable__content {max-height: 0;max-width: 0;overflow: hidden;text-align: left;background-color: #f0f8ff;}#sk-7b1780d4-d4c8-487e-8ded-6592a42f4352 div.sk-toggleable__content pre {margin: 0.2em;color: black;border-radius: 0.25em;background-color: #f0f8ff;}#sk-7b1780d4-d4c8-487e-8ded-6592a42f4352 input.sk-toggleable__control:checked~div.sk-toggleable__content {max-height: 200px;max-width: 100%;overflow: auto;}#sk-7b1780d4-d4c8-487e-8ded-6592a42f4352 input.sk-toggleable__control:checked~label.sk-toggleable__label-arrow:before {content: \"▾\";}#sk-7b1780d4-d4c8-487e-8ded-6592a42f4352 div.sk-estimator input.sk-toggleable__control:checked~label.sk-toggleable__label {background-color: #d4ebff;}#sk-7b1780d4-d4c8-487e-8ded-6592a42f4352 div.sk-label input.sk-toggleable__control:checked~label.sk-toggleable__label {background-color: #d4ebff;}#sk-7b1780d4-d4c8-487e-8ded-6592a42f4352 input.sk-hidden--visually {border: 0;clip: rect(1px 1px 1px 1px);clip: rect(1px, 1px, 1px, 1px);height: 1px;margin: -1px;overflow: hidden;padding: 0;position: absolute;width: 1px;}#sk-7b1780d4-d4c8-487e-8ded-6592a42f4352 div.sk-estimator {font-family: monospace;background-color: #f0f8ff;border: 1px dotted black;border-radius: 0.25em;box-sizing: border-box;margin-bottom: 0.5em;}#sk-7b1780d4-d4c8-487e-8ded-6592a42f4352 div.sk-estimator:hover {background-color: #d4ebff;}#sk-7b1780d4-d4c8-487e-8ded-6592a42f4352 div.sk-parallel-item::after {content: \"\";width: 100%;border-bottom: 1px solid gray;flex-grow: 1;}#sk-7b1780d4-d4c8-487e-8ded-6592a42f4352 div.sk-label:hover label.sk-toggleable__label {background-color: #d4ebff;}#sk-7b1780d4-d4c8-487e-8ded-6592a42f4352 div.sk-serial::before {content: \"\";position: absolute;border-left: 1px solid gray;box-sizing: border-box;top: 2em;bottom: 0;left: 50%;}#sk-7b1780d4-d4c8-487e-8ded-6592a42f4352 div.sk-serial {display: flex;flex-direction: column;align-items: center;background-color: white;padding-right: 0.2em;padding-left: 0.2em;}#sk-7b1780d4-d4c8-487e-8ded-6592a42f4352 div.sk-item {z-index: 1;}#sk-7b1780d4-d4c8-487e-8ded-6592a42f4352 div.sk-parallel {display: flex;align-items: stretch;justify-content: center;background-color: white;}#sk-7b1780d4-d4c8-487e-8ded-6592a42f4352 div.sk-parallel::before {content: \"\";position: absolute;border-left: 1px solid gray;box-sizing: border-box;top: 2em;bottom: 0;left: 50%;}#sk-7b1780d4-d4c8-487e-8ded-6592a42f4352 div.sk-parallel-item {display: flex;flex-direction: column;position: relative;background-color: white;}#sk-7b1780d4-d4c8-487e-8ded-6592a42f4352 div.sk-parallel-item:first-child::after {align-self: flex-end;width: 50%;}#sk-7b1780d4-d4c8-487e-8ded-6592a42f4352 div.sk-parallel-item:last-child::after {align-self: flex-start;width: 50%;}#sk-7b1780d4-d4c8-487e-8ded-6592a42f4352 div.sk-parallel-item:only-child::after {width: 0;}#sk-7b1780d4-d4c8-487e-8ded-6592a42f4352 div.sk-dashed-wrapped {border: 1px dashed gray;margin: 0 0.4em 0.5em 0.4em;box-sizing: border-box;padding-bottom: 0.4em;background-color: white;position: relative;}#sk-7b1780d4-d4c8-487e-8ded-6592a42f4352 div.sk-label label {font-family: monospace;font-weight: bold;background-color: white;display: inline-block;line-height: 1.2em;}#sk-7b1780d4-d4c8-487e-8ded-6592a42f4352 div.sk-label-container {position: relative;z-index: 2;text-align: center;}#sk-7b1780d4-d4c8-487e-8ded-6592a42f4352 div.sk-container {/* jupyter's `normalize.less` sets `[hidden] { display: none; }` but bootstrap.min.css set `[hidden] { display: none !important; }` so we also need the `!important` here to be able to override the default hidden behavior on the sphinx rendered scikit-learn.org. See: https://github.com/scikit-learn/scikit-learn/issues/21755 */display: inline-block !important;position: relative;}#sk-7b1780d4-d4c8-487e-8ded-6592a42f4352 div.sk-text-repr-fallback {display: none;}</style><div id=\"sk-7b1780d4-d4c8-487e-8ded-6592a42f4352\" class=\"sk-top-container\"><div class=\"sk-text-repr-fallback\"><pre>TransformedTargetRegressor(regressor=Pipeline(steps=[(&#x27;Column Transformer&#x27;,\n",
              "                                                      ColumnTransformer(transformers=[(&#x27;ordinals&#x27;,\n",
              "                                                                                       Pipeline(steps=[(&#x27;imputer_cat&#x27;,\n",
              "                                                                                                        SimpleImputer(strategy=&#x27;constant&#x27;)),\n",
              "                                                                                                       (&#x27;ordinal&#x27;,\n",
              "                                                                                                        OrdinalEncoder())]),\n",
              "                                                                                       [&#x27;sex&#x27;,\n",
              "                                                                                        &#x27;smoker&#x27;]),\n",
              "                                                                                      (&#x27;onehot&#x27;,\n",
              "                                                                                       Pipeline(steps=[(&#x27;imputer_cat&#x27;,\n",
              "                                                                                                        SimpleImputer(strategy=&#x27;constant&#x27;)),\n",
              "                                                                                                       (&#x27;onehot&#x27;,\n",
              "                                                                                                        OneHotEncoder(handle_unknown=&#x27;ignore&#x27;))]),\n",
              "                                                                                       [&#x27;region&#x27;]),\n",
              "                                                                                      (&#x27;numericals&#x27;,\n",
              "                                                                                       Pipeline(steps=[(&#x27;imputer_num&#x27;,\n",
              "                                                                                                        SimpleImputer(strategy=&#x27;median&#x27;)),\n",
              "                                                                                                       (&#x27;scaler&#x27;,\n",
              "                                                                                                        StandardScaler())]),\n",
              "                                                                                       [&#x27;age&#x27;,\n",
              "                                                                                        &#x27;bmi&#x27;,\n",
              "                                                                                        &#x27;children&#x27;])])),\n",
              "                                                     (&#x27;model&#x27;,\n",
              "                                                      SVR(C=10, gamma=0.05))]),\n",
              "                           transformer=StandardScaler())</pre><b>Please rerun this cell to show the HTML repr or trust the notebook.</b></div><div class=\"sk-container\" hidden><div class=\"sk-item sk-dashed-wrapped\"><div class=\"sk-label-container\"><div class=\"sk-label sk-toggleable\"><input class=\"sk-toggleable__control sk-hidden--visually\" id=\"2b77bff2-2c69-4d35-9b55-186e23d2e3e6\" type=\"checkbox\" ><label for=\"2b77bff2-2c69-4d35-9b55-186e23d2e3e6\" class=\"sk-toggleable__label sk-toggleable__label-arrow\">TransformedTargetRegressor</label><div class=\"sk-toggleable__content\"><pre>TransformedTargetRegressor(regressor=Pipeline(steps=[(&#x27;Column Transformer&#x27;,\n",
              "                                                      ColumnTransformer(transformers=[(&#x27;ordinals&#x27;,\n",
              "                                                                                       Pipeline(steps=[(&#x27;imputer_cat&#x27;,\n",
              "                                                                                                        SimpleImputer(strategy=&#x27;constant&#x27;)),\n",
              "                                                                                                       (&#x27;ordinal&#x27;,\n",
              "                                                                                                        OrdinalEncoder())]),\n",
              "                                                                                       [&#x27;sex&#x27;,\n",
              "                                                                                        &#x27;smoker&#x27;]),\n",
              "                                                                                      (&#x27;onehot&#x27;,\n",
              "                                                                                       Pipeline(steps=[(&#x27;imputer_cat&#x27;,\n",
              "                                                                                                        SimpleImputer(strategy=&#x27;constant&#x27;)),\n",
              "                                                                                                       (&#x27;onehot&#x27;,\n",
              "                                                                                                        OneHotEncoder(handle_unknown=&#x27;ignore&#x27;))]),\n",
              "                                                                                       [&#x27;region&#x27;]),\n",
              "                                                                                      (&#x27;numericals&#x27;,\n",
              "                                                                                       Pipeline(steps=[(&#x27;imputer_num&#x27;,\n",
              "                                                                                                        SimpleImputer(strategy=&#x27;median&#x27;)),\n",
              "                                                                                                       (&#x27;scaler&#x27;,\n",
              "                                                                                                        StandardScaler())]),\n",
              "                                                                                       [&#x27;age&#x27;,\n",
              "                                                                                        &#x27;bmi&#x27;,\n",
              "                                                                                        &#x27;children&#x27;])])),\n",
              "                                                     (&#x27;model&#x27;,\n",
              "                                                      SVR(C=10, gamma=0.05))]),\n",
              "                           transformer=StandardScaler())</pre></div></div></div><div class=\"sk-parallel\"><div class=\"sk-parallel-item\"><div class=\"sk-item\"><div class=\"sk-serial\"><div class=\"sk-item\"><div class=\"sk-serial\"><div class=\"sk-item sk-dashed-wrapped\"><div class=\"sk-label-container\"><div class=\"sk-label sk-toggleable\"><input class=\"sk-toggleable__control sk-hidden--visually\" id=\"7dad71b4-9da2-4fee-88ba-c8ee5ea8a350\" type=\"checkbox\" ><label for=\"7dad71b4-9da2-4fee-88ba-c8ee5ea8a350\" class=\"sk-toggleable__label sk-toggleable__label-arrow\">Column Transformer: ColumnTransformer</label><div class=\"sk-toggleable__content\"><pre>ColumnTransformer(transformers=[(&#x27;ordinals&#x27;,\n",
              "                                 Pipeline(steps=[(&#x27;imputer_cat&#x27;,\n",
              "                                                  SimpleImputer(strategy=&#x27;constant&#x27;)),\n",
              "                                                 (&#x27;ordinal&#x27;,\n",
              "                                                  OrdinalEncoder())]),\n",
              "                                 [&#x27;sex&#x27;, &#x27;smoker&#x27;]),\n",
              "                                (&#x27;onehot&#x27;,\n",
              "                                 Pipeline(steps=[(&#x27;imputer_cat&#x27;,\n",
              "                                                  SimpleImputer(strategy=&#x27;constant&#x27;)),\n",
              "                                                 (&#x27;onehot&#x27;,\n",
              "                                                  OneHotEncoder(handle_unknown=&#x27;ignore&#x27;))]),\n",
              "                                 [&#x27;region&#x27;]),\n",
              "                                (&#x27;numericals&#x27;,\n",
              "                                 Pipeline(steps=[(&#x27;imputer_num&#x27;,\n",
              "                                                  SimpleImputer(strategy=&#x27;median&#x27;)),\n",
              "                                                 (&#x27;scaler&#x27;, StandardScaler())]),\n",
              "                                 [&#x27;age&#x27;, &#x27;bmi&#x27;, &#x27;children&#x27;])])</pre></div></div></div><div class=\"sk-parallel\"><div class=\"sk-parallel-item\"><div class=\"sk-item\"><div class=\"sk-label-container\"><div class=\"sk-label sk-toggleable\"><input class=\"sk-toggleable__control sk-hidden--visually\" id=\"37f6db15-a97b-47e8-b75e-d259050d3303\" type=\"checkbox\" ><label for=\"37f6db15-a97b-47e8-b75e-d259050d3303\" class=\"sk-toggleable__label sk-toggleable__label-arrow\">ordinals</label><div class=\"sk-toggleable__content\"><pre>[&#x27;sex&#x27;, &#x27;smoker&#x27;]</pre></div></div></div><div class=\"sk-serial\"><div class=\"sk-item\"><div class=\"sk-serial\"><div class=\"sk-item\"><div class=\"sk-estimator sk-toggleable\"><input class=\"sk-toggleable__control sk-hidden--visually\" id=\"65d12007-620c-4d09-8b63-4333256b1e51\" type=\"checkbox\" ><label for=\"65d12007-620c-4d09-8b63-4333256b1e51\" class=\"sk-toggleable__label sk-toggleable__label-arrow\">SimpleImputer</label><div class=\"sk-toggleable__content\"><pre>SimpleImputer(strategy=&#x27;constant&#x27;)</pre></div></div></div><div class=\"sk-item\"><div class=\"sk-estimator sk-toggleable\"><input class=\"sk-toggleable__control sk-hidden--visually\" id=\"3241cb3f-9298-477a-be28-8ac7b087857c\" type=\"checkbox\" ><label for=\"3241cb3f-9298-477a-be28-8ac7b087857c\" class=\"sk-toggleable__label sk-toggleable__label-arrow\">OrdinalEncoder</label><div class=\"sk-toggleable__content\"><pre>OrdinalEncoder()</pre></div></div></div></div></div></div></div></div><div class=\"sk-parallel-item\"><div class=\"sk-item\"><div class=\"sk-label-container\"><div class=\"sk-label sk-toggleable\"><input class=\"sk-toggleable__control sk-hidden--visually\" id=\"f9757778-7b13-41f9-b956-72fa3a15c444\" type=\"checkbox\" ><label for=\"f9757778-7b13-41f9-b956-72fa3a15c444\" class=\"sk-toggleable__label sk-toggleable__label-arrow\">onehot</label><div class=\"sk-toggleable__content\"><pre>[&#x27;region&#x27;]</pre></div></div></div><div class=\"sk-serial\"><div class=\"sk-item\"><div class=\"sk-serial\"><div class=\"sk-item\"><div class=\"sk-estimator sk-toggleable\"><input class=\"sk-toggleable__control sk-hidden--visually\" id=\"0de90d16-a1b9-4b2a-ad11-0c7740c6b75f\" type=\"checkbox\" ><label for=\"0de90d16-a1b9-4b2a-ad11-0c7740c6b75f\" class=\"sk-toggleable__label sk-toggleable__label-arrow\">SimpleImputer</label><div class=\"sk-toggleable__content\"><pre>SimpleImputer(strategy=&#x27;constant&#x27;)</pre></div></div></div><div class=\"sk-item\"><div class=\"sk-estimator sk-toggleable\"><input class=\"sk-toggleable__control sk-hidden--visually\" id=\"21ce1fbb-2133-4126-8922-eeca15974bc6\" type=\"checkbox\" ><label for=\"21ce1fbb-2133-4126-8922-eeca15974bc6\" class=\"sk-toggleable__label sk-toggleable__label-arrow\">OneHotEncoder</label><div class=\"sk-toggleable__content\"><pre>OneHotEncoder(handle_unknown=&#x27;ignore&#x27;)</pre></div></div></div></div></div></div></div></div><div class=\"sk-parallel-item\"><div class=\"sk-item\"><div class=\"sk-label-container\"><div class=\"sk-label sk-toggleable\"><input class=\"sk-toggleable__control sk-hidden--visually\" id=\"0c5ccdd0-da22-400d-a111-452c91a06426\" type=\"checkbox\" ><label for=\"0c5ccdd0-da22-400d-a111-452c91a06426\" class=\"sk-toggleable__label sk-toggleable__label-arrow\">numericals</label><div class=\"sk-toggleable__content\"><pre>[&#x27;age&#x27;, &#x27;bmi&#x27;, &#x27;children&#x27;]</pre></div></div></div><div class=\"sk-serial\"><div class=\"sk-item\"><div class=\"sk-serial\"><div class=\"sk-item\"><div class=\"sk-estimator sk-toggleable\"><input class=\"sk-toggleable__control sk-hidden--visually\" id=\"ff400615-8d1c-4665-a2ed-2bad8fa42f44\" type=\"checkbox\" ><label for=\"ff400615-8d1c-4665-a2ed-2bad8fa42f44\" class=\"sk-toggleable__label sk-toggleable__label-arrow\">SimpleImputer</label><div class=\"sk-toggleable__content\"><pre>SimpleImputer(strategy=&#x27;median&#x27;)</pre></div></div></div><div class=\"sk-item\"><div class=\"sk-estimator sk-toggleable\"><input class=\"sk-toggleable__control sk-hidden--visually\" id=\"b6dad0c4-34a1-4745-a22c-65210f595266\" type=\"checkbox\" ><label for=\"b6dad0c4-34a1-4745-a22c-65210f595266\" class=\"sk-toggleable__label sk-toggleable__label-arrow\">StandardScaler</label><div class=\"sk-toggleable__content\"><pre>StandardScaler()</pre></div></div></div></div></div></div></div></div></div></div><div class=\"sk-item\"><div class=\"sk-estimator sk-toggleable\"><input class=\"sk-toggleable__control sk-hidden--visually\" id=\"4d924394-77ad-47ef-b154-6732da77277f\" type=\"checkbox\" ><label for=\"4d924394-77ad-47ef-b154-6732da77277f\" class=\"sk-toggleable__label sk-toggleable__label-arrow\">SVR</label><div class=\"sk-toggleable__content\"><pre>SVR(C=10, gamma=0.05)</pre></div></div></div></div></div></div></div></div><div class=\"sk-parallel-item\"><div class=\"sk-item\"><div class=\"sk-serial\"><div class=\"sk-item\"><div class=\"sk-estimator sk-toggleable\"><input class=\"sk-toggleable__control sk-hidden--visually\" id=\"c40bcfa0-4df0-489b-9897-5394b647522a\" type=\"checkbox\" ><label for=\"c40bcfa0-4df0-489b-9897-5394b647522a\" class=\"sk-toggleable__label sk-toggleable__label-arrow\">StandardScaler</label><div class=\"sk-toggleable__content\"><pre>StandardScaler()</pre></div></div></div></div></div></div></div></div></div></div>"
            ]
          },
          "metadata": {},
          "execution_count": 55
        }
      ]
    },
    {
      "cell_type": "code",
      "metadata": {
        "id": "VePdQxu09rCV"
      },
      "source": [
        "preds = model.predict(X_test)"
      ],
      "execution_count": 56,
      "outputs": []
    },
    {
      "cell_type": "code",
      "metadata": {
        "id": "ac3enITIVZv9",
        "colab": {
          "base_uri": "https://localhost:8080/"
        },
        "outputId": "10f6b2e1-d43d-4f5a-8382-96ed17b48461"
      },
      "source": [
        "score = model.score(X_test,y_test)\n",
        "score"
      ],
      "execution_count": 57,
      "outputs": [
        {
          "output_type": "execute_result",
          "data": {
            "text/plain": [
              "0.8565700319583182"
            ]
          },
          "metadata": {},
          "execution_count": 57
        }
      ]
    },
    {
      "cell_type": "markdown",
      "metadata": {
        "id": "DHtB7YqmC70a"
      },
      "source": [
        "### Sử dụng SVR với kernel linear"
      ]
    },
    {
      "cell_type": "markdown",
      "metadata": {
        "id": "HWquAIICGCWr"
      },
      "source": [
        "#### Lựa chọn siêu tham số tốt nhất cho mô hình"
      ]
    },
    {
      "cell_type": "code",
      "metadata": {
        "id": "AawaX-6xC6-Z"
      },
      "source": [
        "kernel = 'linear'\n",
        "train_r2 = []\n",
        "best_c, best_g = optimal_svr(X, y, kernel, C_range, gamma_range, train_r2)"
      ],
      "execution_count": 58,
      "outputs": []
    },
    {
      "cell_type": "markdown",
      "metadata": {
        "id": "6733oTE_GMXx"
      },
      "source": [
        "#### Trực quan kết quả"
      ]
    },
    {
      "cell_type": "code",
      "metadata": {
        "id": "7kE_BTH4DL__"
      },
      "source": [
        "train_r2 = pd.DataFrame(train_r2, columns=gamma_range, index=C_range)"
      ],
      "execution_count": 59,
      "outputs": []
    },
    {
      "cell_type": "code",
      "metadata": {
        "colab": {
          "base_uri": "https://localhost:8080/",
          "height": 458
        },
        "id": "fTB4fOBXDRBP",
        "outputId": "dc8b298d-8f52-4f06-9fb0-1e9390f0c778"
      },
      "source": [
        "plt.figure(figsize=(7, 7))\n",
        "sns.heatmap(train_r2,square=True, annot=True, cbar=False, fmt='.3f', cmap='Reds')\n",
        "plt.xlabel('Gamma'); plt.ylabel('C');plt.title('R-square of training set')\n",
        "plt.show()"
      ],
      "execution_count": 60,
      "outputs": [
        {
          "output_type": "display_data",
          "data": {
            "text/plain": [
              "<Figure size 504x504 with 1 Axes>"
            ],
            "image/png": "[encoded data removed]"
          },
          "metadata": {
            "needs_background": "light"
          }
        }
      ]
    },
    {
      "cell_type": "markdown",
      "metadata": {
        "id": "IBKBIrsHGSo5"
      },
      "source": [
        "Vậy các siêu tham số tốt nhất tìm được là:"
      ]
    },
    {
      "cell_type": "code",
      "metadata": {
        "colab": {
          "base_uri": "https://localhost:8080/"
        },
        "id": "lPzE1vGEDbrU",
        "outputId": "8a11dce1-daab-419e-bb07-bf5c2fc48a55"
      },
      "source": [
        "print('C= %s và gamma= %s' %(best_c, best_g))"
      ],
      "execution_count": 61,
      "outputs": [
        {
          "output_type": "stream",
          "name": "stdout",
          "text": [
            "C= 1 và gamma= 0.01\n"
          ]
        }
      ]
    },
    {
      "cell_type": "markdown",
      "metadata": {
        "id": "369rQOGgGYv9"
      },
      "source": [
        "**Nhận xét:** \n",
        "- Siêu tham số gamma chỉ có giá trị trong các mô hình phi tuyến (bao gồm: ‘rbf’, ‘poly’ và ‘sigmoid’) "
      ]
    },
    {
      "cell_type": "markdown",
      "metadata": {
        "id": "2sZxazNkHLrr"
      },
      "source": [
        "#### Dùng các siêu tham số tìm được để huấn luyện mô hình"
      ]
    },
    {
      "cell_type": "code",
      "metadata": {
        "colab": {
          "base_uri": "https://localhost:8080/",
          "height": 223
        },
        "id": "E_Xa0MMODbj-",
        "outputId": "f485e984-5dea-42ae-8040-4fa3bff96789"
      },
      "source": [
        "svr = SVR(kernel= kernel, C=best_c, gamma=best_g)\n",
        "pipeline = Pipeline(steps=[('Column Transformer', preprocessor), ('model', svr),])\n",
        "model = TransformedTargetRegressor(regressor=pipeline, transformer=StandardScaler())\n",
        "model.fit(X,y)"
      ],
      "execution_count": 62,
      "outputs": [
        {
          "output_type": "execute_result",
          "data": {
            "text/plain": [
              "TransformedTargetRegressor(regressor=Pipeline(steps=[('Column Transformer',\n",
              "                                                      ColumnTransformer(transformers=[('ordinals',\n",
              "                                                                                       Pipeline(steps=[('imputer_cat',\n",
              "                                                                                                        SimpleImputer(strategy='constant')),\n",
              "                                                                                                       ('ordinal',\n",
              "                                                                                                        OrdinalEncoder())]),\n",
              "                                                                                       ['sex',\n",
              "                                                                                        'smoker']),\n",
              "                                                                                      ('onehot',\n",
              "                                                                                       Pipeline(steps=[('imputer_cat',\n",
              "                                                                                                        SimpleImputer(strategy='constant')),\n",
              "                                                                                                       ('onehot',\n",
              "                                                                                                        OneHotEncoder(handle_unknown='ignore'))]),\n",
              "                                                                                       ['region']),\n",
              "                                                                                      ('numericals',\n",
              "                                                                                       Pipeline(steps=[('imputer_num',\n",
              "                                                                                                        SimpleImputer(strategy='median')),\n",
              "                                                                                                       ('scaler',\n",
              "                                                                                                        StandardScaler())]),\n",
              "                                                                                       ['age',\n",
              "                                                                                        'bmi',\n",
              "                                                                                        'children'])])),\n",
              "                                                     ('model',\n",
              "                                                      SVR(C=1, gamma=0.01,\n",
              "                                                          kernel='linear'))]),\n",
              "                           transformer=StandardScaler())"
            ],
            "text/html": [
              "<style>#sk-525df4ef-1878-4897-83a2-95815dc351af {color: black;background-color: white;}#sk-525df4ef-1878-4897-83a2-95815dc351af pre{padding: 0;}#sk-525df4ef-1878-4897-83a2-95815dc351af div.sk-toggleable {background-color: white;}#sk-525df4ef-1878-4897-83a2-95815dc351af label.sk-toggleable__label {cursor: pointer;display: block;width: 100%;margin-bottom: 0;padding: 0.3em;box-sizing: border-box;text-align: center;}#sk-525df4ef-1878-4897-83a2-95815dc351af label.sk-toggleable__label-arrow:before {content: \"▸\";float: left;margin-right: 0.25em;color: #696969;}#sk-525df4ef-1878-4897-83a2-95815dc351af label.sk-toggleable__label-arrow:hover:before {color: black;}#sk-525df4ef-1878-4897-83a2-95815dc351af div.sk-estimator:hover label.sk-toggleable__label-arrow:before {color: black;}#sk-525df4ef-1878-4897-83a2-95815dc351af div.sk-toggleable__content {max-height: 0;max-width: 0;overflow: hidden;text-align: left;background-color: #f0f8ff;}#sk-525df4ef-1878-4897-83a2-95815dc351af div.sk-toggleable__content pre {margin: 0.2em;color: black;border-radius: 0.25em;background-color: #f0f8ff;}#sk-525df4ef-1878-4897-83a2-95815dc351af input.sk-toggleable__control:checked~div.sk-toggleable__content {max-height: 200px;max-width: 100%;overflow: auto;}#sk-525df4ef-1878-4897-83a2-95815dc351af input.sk-toggleable__control:checked~label.sk-toggleable__label-arrow:before {content: \"▾\";}#sk-525df4ef-1878-4897-83a2-95815dc351af div.sk-estimator input.sk-toggleable__control:checked~label.sk-toggleable__label {background-color: #d4ebff;}#sk-525df4ef-1878-4897-83a2-95815dc351af div.sk-label input.sk-toggleable__control:checked~label.sk-toggleable__label {background-color: #d4ebff;}#sk-525df4ef-1878-4897-83a2-95815dc351af input.sk-hidden--visually {border: 0;clip: rect(1px 1px 1px 1px);clip: rect(1px, 1px, 1px, 1px);height: 1px;margin: -1px;overflow: hidden;padding: 0;position: absolute;width: 1px;}#sk-525df4ef-1878-4897-83a2-95815dc351af div.sk-estimator {font-family: monospace;background-color: #f0f8ff;border: 1px dotted black;border-radius: 0.25em;box-sizing: border-box;margin-bottom: 0.5em;}#sk-525df4ef-1878-4897-83a2-95815dc351af div.sk-estimator:hover {background-color: #d4ebff;}#sk-525df4ef-1878-4897-83a2-95815dc351af div.sk-parallel-item::after {content: \"\";width: 100%;border-bottom: 1px solid gray;flex-grow: 1;}#sk-525df4ef-1878-4897-83a2-95815dc351af div.sk-label:hover label.sk-toggleable__label {background-color: #d4ebff;}#sk-525df4ef-1878-4897-83a2-95815dc351af div.sk-serial::before {content: \"\";position: absolute;border-left: 1px solid gray;box-sizing: border-box;top: 2em;bottom: 0;left: 50%;}#sk-525df4ef-1878-4897-83a2-95815dc351af div.sk-serial {display: flex;flex-direction: column;align-items: center;background-color: white;padding-right: 0.2em;padding-left: 0.2em;}#sk-525df4ef-1878-4897-83a2-95815dc351af div.sk-item {z-index: 1;}#sk-525df4ef-1878-4897-83a2-95815dc351af div.sk-parallel {display: flex;align-items: stretch;justify-content: center;background-color: white;}#sk-525df4ef-1878-4897-83a2-95815dc351af div.sk-parallel::before {content: \"\";position: absolute;border-left: 1px solid gray;box-sizing: border-box;top: 2em;bottom: 0;left: 50%;}#sk-525df4ef-1878-4897-83a2-95815dc351af div.sk-parallel-item {display: flex;flex-direction: column;position: relative;background-color: white;}#sk-525df4ef-1878-4897-83a2-95815dc351af div.sk-parallel-item:first-child::after {align-self: flex-end;width: 50%;}#sk-525df4ef-1878-4897-83a2-95815dc351af div.sk-parallel-item:last-child::after {align-self: flex-start;width: 50%;}#sk-525df4ef-1878-4897-83a2-95815dc351af div.sk-parallel-item:only-child::after {width: 0;}#sk-525df4ef-1878-4897-83a2-95815dc351af div.sk-dashed-wrapped {border: 1px dashed gray;margin: 0 0.4em 0.5em 0.4em;box-sizing: border-box;padding-bottom: 0.4em;background-color: white;position: relative;}#sk-525df4ef-1878-4897-83a2-95815dc351af div.sk-label label {font-family: monospace;font-weight: bold;background-color: white;display: inline-block;line-height: 1.2em;}#sk-525df4ef-1878-4897-83a2-95815dc351af div.sk-label-container {position: relative;z-index: 2;text-align: center;}#sk-525df4ef-1878-4897-83a2-95815dc351af div.sk-container {/* jupyter's `normalize.less` sets `[hidden] { display: none; }` but bootstrap.min.css set `[hidden] { display: none !important; }` so we also need the `!important` here to be able to override the default hidden behavior on the sphinx rendered scikit-learn.org. See: https://github.com/scikit-learn/scikit-learn/issues/21755 */display: inline-block !important;position: relative;}#sk-525df4ef-1878-4897-83a2-95815dc351af div.sk-text-repr-fallback {display: none;}</style><div id=\"sk-525df4ef-1878-4897-83a2-95815dc351af\" class=\"sk-top-container\"><div class=\"sk-text-repr-fallback\"><pre>TransformedTargetRegressor(regressor=Pipeline(steps=[(&#x27;Column Transformer&#x27;,\n",
              "                                                      ColumnTransformer(transformers=[(&#x27;ordinals&#x27;,\n",
              "                                                                                       Pipeline(steps=[(&#x27;imputer_cat&#x27;,\n",
              "                                                                                                        SimpleImputer(strategy=&#x27;constant&#x27;)),\n",
              "                                                                                                       (&#x27;ordinal&#x27;,\n",
              "                                                                                                        OrdinalEncoder())]),\n",
              "                                                                                       [&#x27;sex&#x27;,\n",
              "                                                                                        &#x27;smoker&#x27;]),\n",
              "                                                                                      (&#x27;onehot&#x27;,\n",
              "                                                                                       Pipeline(steps=[(&#x27;imputer_cat&#x27;,\n",
              "                                                                                                        SimpleImputer(strategy=&#x27;constant&#x27;)),\n",
              "                                                                                                       (&#x27;onehot&#x27;,\n",
              "                                                                                                        OneHotEncoder(handle_unknown=&#x27;ignore&#x27;))]),\n",
              "                                                                                       [&#x27;region&#x27;]),\n",
              "                                                                                      (&#x27;numericals&#x27;,\n",
              "                                                                                       Pipeline(steps=[(&#x27;imputer_num&#x27;,\n",
              "                                                                                                        SimpleImputer(strategy=&#x27;median&#x27;)),\n",
              "                                                                                                       (&#x27;scaler&#x27;,\n",
              "                                                                                                        StandardScaler())]),\n",
              "                                                                                       [&#x27;age&#x27;,\n",
              "                                                                                        &#x27;bmi&#x27;,\n",
              "                                                                                        &#x27;children&#x27;])])),\n",
              "                                                     (&#x27;model&#x27;,\n",
              "                                                      SVR(C=1, gamma=0.01,\n",
              "                                                          kernel=&#x27;linear&#x27;))]),\n",
              "                           transformer=StandardScaler())</pre><b>Please rerun this cell to show the HTML repr or trust the notebook.</b></div><div class=\"sk-container\" hidden><div class=\"sk-item sk-dashed-wrapped\"><div class=\"sk-label-container\"><div class=\"sk-label sk-toggleable\"><input class=\"sk-toggleable__control sk-hidden--visually\" id=\"77d84942-787e-4138-9b2e-ad0c1bc3be28\" type=\"checkbox\" ><label for=\"77d84942-787e-4138-9b2e-ad0c1bc3be28\" class=\"sk-toggleable__label sk-toggleable__label-arrow\">TransformedTargetRegressor</label><div class=\"sk-toggleable__content\"><pre>TransformedTargetRegressor(regressor=Pipeline(steps=[(&#x27;Column Transformer&#x27;,\n",
              "                                                      ColumnTransformer(transformers=[(&#x27;ordinals&#x27;,\n",
              "                                                                                       Pipeline(steps=[(&#x27;imputer_cat&#x27;,\n",
              "                                                                                                        SimpleImputer(strategy=&#x27;constant&#x27;)),\n",
              "                                                                                                       (&#x27;ordinal&#x27;,\n",
              "                                                                                                        OrdinalEncoder())]),\n",
              "                                                                                       [&#x27;sex&#x27;,\n",
              "                                                                                        &#x27;smoker&#x27;]),\n",
              "                                                                                      (&#x27;onehot&#x27;,\n",
              "                                                                                       Pipeline(steps=[(&#x27;imputer_cat&#x27;,\n",
              "                                                                                                        SimpleImputer(strategy=&#x27;constant&#x27;)),\n",
              "                                                                                                       (&#x27;onehot&#x27;,\n",
              "                                                                                                        OneHotEncoder(handle_unknown=&#x27;ignore&#x27;))]),\n",
              "                                                                                       [&#x27;region&#x27;]),\n",
              "                                                                                      (&#x27;numericals&#x27;,\n",
              "                                                                                       Pipeline(steps=[(&#x27;imputer_num&#x27;,\n",
              "                                                                                                        SimpleImputer(strategy=&#x27;median&#x27;)),\n",
              "                                                                                                       (&#x27;scaler&#x27;,\n",
              "                                                                                                        StandardScaler())]),\n",
              "                                                                                       [&#x27;age&#x27;,\n",
              "                                                                                        &#x27;bmi&#x27;,\n",
              "                                                                                        &#x27;children&#x27;])])),\n",
              "                                                     (&#x27;model&#x27;,\n",
              "                                                      SVR(C=1, gamma=0.01,\n",
              "                                                          kernel=&#x27;linear&#x27;))]),\n",
              "                           transformer=StandardScaler())</pre></div></div></div><div class=\"sk-parallel\"><div class=\"sk-parallel-item\"><div class=\"sk-item\"><div class=\"sk-serial\"><div class=\"sk-item\"><div class=\"sk-serial\"><div class=\"sk-item sk-dashed-wrapped\"><div class=\"sk-label-container\"><div class=\"sk-label sk-toggleable\"><input class=\"sk-toggleable__control sk-hidden--visually\" id=\"454f6e5f-0a6e-45e8-b9c0-dba9ea57ea6d\" type=\"checkbox\" ><label for=\"454f6e5f-0a6e-45e8-b9c0-dba9ea57ea6d\" class=\"sk-toggleable__label sk-toggleable__label-arrow\">Column Transformer: ColumnTransformer</label><div class=\"sk-toggleable__content\"><pre>ColumnTransformer(transformers=[(&#x27;ordinals&#x27;,\n",
              "                                 Pipeline(steps=[(&#x27;imputer_cat&#x27;,\n",
              "                                                  SimpleImputer(strategy=&#x27;constant&#x27;)),\n",
              "                                                 (&#x27;ordinal&#x27;,\n",
              "                                                  OrdinalEncoder())]),\n",
              "                                 [&#x27;sex&#x27;, &#x27;smoker&#x27;]),\n",
              "                                (&#x27;onehot&#x27;,\n",
              "                                 Pipeline(steps=[(&#x27;imputer_cat&#x27;,\n",
              "                                                  SimpleImputer(strategy=&#x27;constant&#x27;)),\n",
              "                                                 (&#x27;onehot&#x27;,\n",
              "                                                  OneHotEncoder(handle_unknown=&#x27;ignore&#x27;))]),\n",
              "                                 [&#x27;region&#x27;]),\n",
              "                                (&#x27;numericals&#x27;,\n",
              "                                 Pipeline(steps=[(&#x27;imputer_num&#x27;,\n",
              "                                                  SimpleImputer(strategy=&#x27;median&#x27;)),\n",
              "                                                 (&#x27;scaler&#x27;, StandardScaler())]),\n",
              "                                 [&#x27;age&#x27;, &#x27;bmi&#x27;, &#x27;children&#x27;])])</pre></div></div></div><div class=\"sk-parallel\"><div class=\"sk-parallel-item\"><div class=\"sk-item\"><div class=\"sk-label-container\"><div class=\"sk-label sk-toggleable\"><input class=\"sk-toggleable__control sk-hidden--visually\" id=\"57cd3653-41ba-4c70-9bd1-9476b2b58bf1\" type=\"checkbox\" ><label for=\"57cd3653-41ba-4c70-9bd1-9476b2b58bf1\" class=\"sk-toggleable__label sk-toggleable__label-arrow\">ordinals</label><div class=\"sk-toggleable__content\"><pre>[&#x27;sex&#x27;, &#x27;smoker&#x27;]</pre></div></div></div><div class=\"sk-serial\"><div class=\"sk-item\"><div class=\"sk-serial\"><div class=\"sk-item\"><div class=\"sk-estimator sk-toggleable\"><input class=\"sk-toggleable__control sk-hidden--visually\" id=\"0c9d602f-0d41-45e8-b74a-1969078d8527\" type=\"checkbox\" ><label for=\"0c9d602f-0d41-45e8-b74a-1969078d8527\" class=\"sk-toggleable__label sk-toggleable__label-arrow\">SimpleImputer</label><div class=\"sk-toggleable__content\"><pre>SimpleImputer(strategy=&#x27;constant&#x27;)</pre></div></div></div><div class=\"sk-item\"><div class=\"sk-estimator sk-toggleable\"><input class=\"sk-toggleable__control sk-hidden--visually\" id=\"523fd166-a604-493f-9cfa-f67a044d6432\" type=\"checkbox\" ><label for=\"523fd166-a604-493f-9cfa-f67a044d6432\" class=\"sk-toggleable__label sk-toggleable__label-arrow\">OrdinalEncoder</label><div class=\"sk-toggleable__content\"><pre>OrdinalEncoder()</pre></div></div></div></div></div></div></div></div><div class=\"sk-parallel-item\"><div class=\"sk-item\"><div class=\"sk-label-container\"><div class=\"sk-label sk-toggleable\"><input class=\"sk-toggleable__control sk-hidden--visually\" id=\"27091089-16db-4de0-b4a4-fb6c5b9cf446\" type=\"checkbox\" ><label for=\"27091089-16db-4de0-b4a4-fb6c5b9cf446\" class=\"sk-toggleable__label sk-toggleable__label-arrow\">onehot</label><div class=\"sk-toggleable__content\"><pre>[&#x27;region&#x27;]</pre></div></div></div><div class=\"sk-serial\"><div class=\"sk-item\"><div class=\"sk-serial\"><div class=\"sk-item\"><div class=\"sk-estimator sk-toggleable\"><input class=\"sk-toggleable__control sk-hidden--visually\" id=\"da5eaa6c-f825-448d-850f-4360ee91caf0\" type=\"checkbox\" ><label for=\"da5eaa6c-f825-448d-850f-4360ee91caf0\" class=\"sk-toggleable__label sk-toggleable__label-arrow\">SimpleImputer</label><div class=\"sk-toggleable__content\"><pre>SimpleImputer(strategy=&#x27;constant&#x27;)</pre></div></div></div><div class=\"sk-item\"><div class=\"sk-estimator sk-toggleable\"><input class=\"sk-toggleable__control sk-hidden--visually\" id=\"f245af48-afc5-43aa-b9a9-adaf3b75be8a\" type=\"checkbox\" ><label for=\"f245af48-afc5-43aa-b9a9-adaf3b75be8a\" class=\"sk-toggleable__label sk-toggleable__label-arrow\">OneHotEncoder</label><div class=\"sk-toggleable__content\"><pre>OneHotEncoder(handle_unknown=&#x27;ignore&#x27;)</pre></div></div></div></div></div></div></div></div><div class=\"sk-parallel-item\"><div class=\"sk-item\"><div class=\"sk-label-container\"><div class=\"sk-label sk-toggleable\"><input class=\"sk-toggleable__control sk-hidden--visually\" id=\"b33c3840-c905-4432-8101-fb9c837672af\" type=\"checkbox\" ><label for=\"b33c3840-c905-4432-8101-fb9c837672af\" class=\"sk-toggleable__label sk-toggleable__label-arrow\">numericals</label><div class=\"sk-toggleable__content\"><pre>[&#x27;age&#x27;, &#x27;bmi&#x27;, &#x27;children&#x27;]</pre></div></div></div><div class=\"sk-serial\"><div class=\"sk-item\"><div class=\"sk-serial\"><div class=\"sk-item\"><div class=\"sk-estimator sk-toggleable\"><input class=\"sk-toggleable__control sk-hidden--visually\" id=\"ef71638e-216f-4069-b6e4-7923fc436d5f\" type=\"checkbox\" ><label for=\"ef71638e-216f-4069-b6e4-7923fc436d5f\" class=\"sk-toggleable__label sk-toggleable__label-arrow\">SimpleImputer</label><div class=\"sk-toggleable__content\"><pre>SimpleImputer(strategy=&#x27;median&#x27;)</pre></div></div></div><div class=\"sk-item\"><div class=\"sk-estimator sk-toggleable\"><input class=\"sk-toggleable__control sk-hidden--visually\" id=\"61a65d89-065b-4642-86c8-f2576cd856c3\" type=\"checkbox\" ><label for=\"61a65d89-065b-4642-86c8-f2576cd856c3\" class=\"sk-toggleable__label sk-toggleable__label-arrow\">StandardScaler</label><div class=\"sk-toggleable__content\"><pre>StandardScaler()</pre></div></div></div></div></div></div></div></div></div></div><div class=\"sk-item\"><div class=\"sk-estimator sk-toggleable\"><input class=\"sk-toggleable__control sk-hidden--visually\" id=\"613f31b7-ca81-4e33-97d6-2abe6cbd092a\" type=\"checkbox\" ><label for=\"613f31b7-ca81-4e33-97d6-2abe6cbd092a\" class=\"sk-toggleable__label sk-toggleable__label-arrow\">SVR</label><div class=\"sk-toggleable__content\"><pre>SVR(C=1, gamma=0.01, kernel=&#x27;linear&#x27;)</pre></div></div></div></div></div></div></div></div><div class=\"sk-parallel-item\"><div class=\"sk-item\"><div class=\"sk-serial\"><div class=\"sk-item\"><div class=\"sk-estimator sk-toggleable\"><input class=\"sk-toggleable__control sk-hidden--visually\" id=\"61d7b8b7-7f50-423e-ad76-19c7f809e25a\" type=\"checkbox\" ><label for=\"61d7b8b7-7f50-423e-ad76-19c7f809e25a\" class=\"sk-toggleable__label sk-toggleable__label-arrow\">StandardScaler</label><div class=\"sk-toggleable__content\"><pre>StandardScaler()</pre></div></div></div></div></div></div></div></div></div></div>"
            ]
          },
          "metadata": {},
          "execution_count": 62
        }
      ]
    },
    {
      "cell_type": "code",
      "metadata": {
        "id": "xWFnVdhwDQ3P"
      },
      "source": [
        "preds = model.predict(X_test)"
      ],
      "execution_count": 63,
      "outputs": []
    },
    {
      "cell_type": "code",
      "metadata": {
        "colab": {
          "base_uri": "https://localhost:8080/"
        },
        "id": "vO95KM06Dm3b",
        "outputId": "e0fd6395-0902-4a06-8764-3cba67b757a7"
      },
      "source": [
        "score = model.score(X_test,y_test)\n",
        "score"
      ],
      "execution_count": 64,
      "outputs": [
        {
          "output_type": "execute_result",
          "data": {
            "text/plain": [
              "0.7264543523698547"
            ]
          },
          "metadata": {},
          "execution_count": 64
        }
      ]
    },
    {
      "cell_type": "markdown",
      "metadata": {
        "id": "ng6HwC17HUnP"
      },
      "source": [
        "**Nhận xét:**\n",
        "- Ta thấy vấn đề dự đoán chi phí y tế được giải quyết tốt hơn trên mô hình phi tuyến \n",
        "- Thuật toán SVR ở kernel phi tuyến cho độ chính xác cao hơn rất nhiều so với kernel tuyến tính\n",
        "- Độ chính xác của mô hình còn khá thấp, nên ta thử các các tối ưu khác"
      ]
    },
    {
      "cell_type": "markdown",
      "metadata": {
        "id": "4P2p8OC5JSl-"
      },
      "source": [
        "### Sử dụng mô hình SVR với kernel non-linear trên dữ liệu được xóa outliers"
      ]
    },
    {
      "cell_type": "markdown",
      "metadata": {
        "id": "Ck75cnNyPb1r"
      },
      "source": [
        "Từ biểu đồ hộp ở phần phân tích dữ liệu, ta thấy ở các bệnh nhân không hút thuốc thì có sự biến động khá lớn trong chi phí điều trị bệnh. Có thể những người này mắc các bệnh bẩm sinh hoặc không liên quan đến thuốc lá. \n",
        "\n",
        "Giả sử các bệnh nhân không hút thuốc có chi phí điều trị bệnh cao bất thường là các outliers ta tiến hành xóa các bệnh nhân này ra khỏi tập huấn luyện"
      ]
    },
    {
      "cell_type": "markdown",
      "metadata": {
        "id": "npLY0DmMQjum"
      },
      "source": [
        "Theo biểu đồ hộp, thì khoảng lớn hơn 1.5 lần ipr là các outliers"
      ]
    },
    {
      "cell_type": "code",
      "metadata": {
        "id": "Vwv-K5UgJSWy"
      },
      "source": [
        "q25 = train_df[train_df.smoker == 'no']['charges'].agg(lower_quartile)\n",
        "q75 = train_df[train_df.smoker == 'no']['charges'].agg(upper_quartile)\n",
        "iqr = q75 - q25\n",
        "cut_off = iqr * 1.5\n",
        "lower, upper = q25 - cut_off, q75 + cut_off"
      ],
      "execution_count": 65,
      "outputs": []
    },
    {
      "cell_type": "markdown",
      "metadata": {
        "id": "yMTGfxIJQy6C"
      },
      "source": [
        "#### Xóa các outliers"
      ]
    },
    {
      "cell_type": "code",
      "metadata": {
        "id": "fbIEV5QgK50m"
      },
      "source": [
        "removed_outliers = train_df[((train_df.smoker == 'no') & (train_df.charges > lower) & (train_df.charges < upper)) | (train_df.smoker == 'yes')]"
      ],
      "execution_count": 66,
      "outputs": []
    },
    {
      "cell_type": "markdown",
      "metadata": {
        "id": "ydlK1jBCQ5FX"
      },
      "source": [
        "Ta xem lại biểu đồ để xác nhận không còn những điểm outliers"
      ]
    },
    {
      "cell_type": "code",
      "metadata": {
        "colab": {
          "base_uri": "https://localhost:8080/",
          "height": 279
        },
        "id": "9CfSQXTvL8SJ",
        "outputId": "b5c38dad-043b-4194-df92-5753c0131f7e"
      },
      "source": [
        "sns.boxplot(data= removed_outliers, x='smoker', y='charges');"
      ],
      "execution_count": 67,
      "outputs": [
        {
          "output_type": "display_data",
          "data": {
            "text/plain": [
              "<Figure size 432x288 with 1 Axes>"
            ],
            "image/png": "[encoded data removed]"
          },
          "metadata": {
            "needs_background": "light"
          }
        }
      ]
    },
    {
      "cell_type": "markdown",
      "metadata": {
        "id": "QEehWtLFRFd-"
      },
      "source": [
        "Tách tập train đã bỏ các outlier "
      ]
    },
    {
      "cell_type": "code",
      "metadata": {
        "id": "9jtO9GYpM5au"
      },
      "source": [
        "removed_outliers_X, removed_outliers_y = removed_outliers.iloc[:, :-1], removed_outliers.iloc[:, -1]"
      ],
      "execution_count": 68,
      "outputs": []
    },
    {
      "cell_type": "markdown",
      "metadata": {
        "id": "sfP__2SrRM3m"
      },
      "source": [
        "#### Tìm các siêu tham số tốt nhất với dữ liệu hiện tại\n",
        "\n",
        "Các bước thực hiện tương tự như trên"
      ]
    },
    {
      "cell_type": "code",
      "metadata": {
        "id": "iN2S-dOSMfJr"
      },
      "source": [
        "kernel = 'rbf'\n",
        "train_r2 = []\n",
        "best_c, best_g = optimal_svr(removed_outliers_X, removed_outliers_y, kernel, C_range, gamma_range, train_r2)"
      ],
      "execution_count": 69,
      "outputs": []
    },
    {
      "cell_type": "code",
      "metadata": {
        "id": "BdivT_daMkLs"
      },
      "source": [
        "train_r2 = pd.DataFrame(train_r2, columns=gamma_range, index=C_range)"
      ],
      "execution_count": 70,
      "outputs": []
    },
    {
      "cell_type": "code",
      "metadata": {
        "colab": {
          "base_uri": "https://localhost:8080/",
          "height": 458
        },
        "id": "JoIVEJ8WMkFP",
        "outputId": "dad452c6-56d9-4b5f-e21e-affee50f0f4a"
      },
      "source": [
        "plt.figure(figsize=(7, 7))\n",
        "sns.heatmap(train_r2,square=True, annot=True, cbar=False, fmt='.3f', cmap='Reds')\n",
        "plt.xlabel('Gamma'); plt.ylabel('C');plt.title('R-square of training set')\n",
        "plt.show()"
      ],
      "execution_count": 71,
      "outputs": [
        {
          "output_type": "display_data",
          "data": {
            "text/plain": [
              "<Figure size 504x504 with 1 Axes>"
            ],
            "image/png": "[encoded data removed]"
          },
          "metadata": {
            "needs_background": "light"
          }
        }
      ]
    },
    {
      "cell_type": "code",
      "metadata": {
        "colab": {
          "base_uri": "https://localhost:8080/"
        },
        "id": "pmGdKe7aMj-Y",
        "outputId": "63e06e89-647d-439e-db53-9401e269a022"
      },
      "source": [
        "print('C= %s và gamma= %s' %(best_c, best_g))"
      ],
      "execution_count": 72,
      "outputs": [
        {
          "output_type": "stream",
          "name": "stdout",
          "text": [
            "C= 10 và gamma= 0.05\n"
          ]
        }
      ]
    },
    {
      "cell_type": "code",
      "metadata": {
        "colab": {
          "base_uri": "https://localhost:8080/",
          "height": 223
        },
        "id": "IYxBlB2iMj1Q",
        "outputId": "6ffc9c65-fc80-4c16-b7c1-f765d9fb0778"
      },
      "source": [
        "svr = SVR(kernel= kernel, C=best_c, gamma=best_g)\n",
        "pipeline = Pipeline(steps=[('Column Transformer', preprocessor), ('model', svr),])\n",
        "model = TransformedTargetRegressor(regressor=pipeline, transformer=StandardScaler())\n",
        "model.fit(removed_outliers_X,removed_outliers_y)"
      ],
      "execution_count": 73,
      "outputs": [
        {
          "output_type": "execute_result",
          "data": {
            "text/plain": [
              "TransformedTargetRegressor(regressor=Pipeline(steps=[('Column Transformer',\n",
              "                                                      ColumnTransformer(transformers=[('ordinals',\n",
              "                                                                                       Pipeline(steps=[('imputer_cat',\n",
              "                                                                                                        SimpleImputer(strategy='constant')),\n",
              "                                                                                                       ('ordinal',\n",
              "                                                                                                        OrdinalEncoder())]),\n",
              "                                                                                       ['sex',\n",
              "                                                                                        'smoker']),\n",
              "                                                                                      ('onehot',\n",
              "                                                                                       Pipeline(steps=[('imputer_cat',\n",
              "                                                                                                        SimpleImputer(strategy='constant')),\n",
              "                                                                                                       ('onehot',\n",
              "                                                                                                        OneHotEncoder(handle_unknown='ignore'))]),\n",
              "                                                                                       ['region']),\n",
              "                                                                                      ('numericals',\n",
              "                                                                                       Pipeline(steps=[('imputer_num',\n",
              "                                                                                                        SimpleImputer(strategy='median')),\n",
              "                                                                                                       ('scaler',\n",
              "                                                                                                        StandardScaler())]),\n",
              "                                                                                       ['age',\n",
              "                                                                                        'bmi',\n",
              "                                                                                        'children'])])),\n",
              "                                                     ('model',\n",
              "                                                      SVR(C=10, gamma=0.05))]),\n",
              "                           transformer=StandardScaler())"
            ],
            "text/html": [
              "<style>#sk-54cdf983-f8ae-47e7-9725-074feb73a936 {color: black;background-color: white;}#sk-54cdf983-f8ae-47e7-9725-074feb73a936 pre{padding: 0;}#sk-54cdf983-f8ae-47e7-9725-074feb73a936 div.sk-toggleable {background-color: white;}#sk-54cdf983-f8ae-47e7-9725-074feb73a936 label.sk-toggleable__label {cursor: pointer;display: block;width: 100%;margin-bottom: 0;padding: 0.3em;box-sizing: border-box;text-align: center;}#sk-54cdf983-f8ae-47e7-9725-074feb73a936 label.sk-toggleable__label-arrow:before {content: \"▸\";float: left;margin-right: 0.25em;color: #696969;}#sk-54cdf983-f8ae-47e7-9725-074feb73a936 label.sk-toggleable__label-arrow:hover:before {color: black;}#sk-54cdf983-f8ae-47e7-9725-074feb73a936 div.sk-estimator:hover label.sk-toggleable__label-arrow:before {color: black;}#sk-54cdf983-f8ae-47e7-9725-074feb73a936 div.sk-toggleable__content {max-height: 0;max-width: 0;overflow: hidden;text-align: left;background-color: #f0f8ff;}#sk-54cdf983-f8ae-47e7-9725-074feb73a936 div.sk-toggleable__content pre {margin: 0.2em;color: black;border-radius: 0.25em;background-color: #f0f8ff;}#sk-54cdf983-f8ae-47e7-9725-074feb73a936 input.sk-toggleable__control:checked~div.sk-toggleable__content {max-height: 200px;max-width: 100%;overflow: auto;}#sk-54cdf983-f8ae-47e7-9725-074feb73a936 input.sk-toggleable__control:checked~label.sk-toggleable__label-arrow:before {content: \"▾\";}#sk-54cdf983-f8ae-47e7-9725-074feb73a936 div.sk-estimator input.sk-toggleable__control:checked~label.sk-toggleable__label {background-color: #d4ebff;}#sk-54cdf983-f8ae-47e7-9725-074feb73a936 div.sk-label input.sk-toggleable__control:checked~label.sk-toggleable__label {background-color: #d4ebff;}#sk-54cdf983-f8ae-47e7-9725-074feb73a936 input.sk-hidden--visually {border: 0;clip: rect(1px 1px 1px 1px);clip: rect(1px, 1px, 1px, 1px);height: 1px;margin: -1px;overflow: hidden;padding: 0;position: absolute;width: 1px;}#sk-54cdf983-f8ae-47e7-9725-074feb73a936 div.sk-estimator {font-family: monospace;background-color: #f0f8ff;border: 1px dotted black;border-radius: 0.25em;box-sizing: border-box;margin-bottom: 0.5em;}#sk-54cdf983-f8ae-47e7-9725-074feb73a936 div.sk-estimator:hover {background-color: #d4ebff;}#sk-54cdf983-f8ae-47e7-9725-074feb73a936 div.sk-parallel-item::after {content: \"\";width: 100%;border-bottom: 1px solid gray;flex-grow: 1;}#sk-54cdf983-f8ae-47e7-9725-074feb73a936 div.sk-label:hover label.sk-toggleable__label {background-color: #d4ebff;}#sk-54cdf983-f8ae-47e7-9725-074feb73a936 div.sk-serial::before {content: \"\";position: absolute;border-left: 1px solid gray;box-sizing: border-box;top: 2em;bottom: 0;left: 50%;}#sk-54cdf983-f8ae-47e7-9725-074feb73a936 div.sk-serial {display: flex;flex-direction: column;align-items: center;background-color: white;padding-right: 0.2em;padding-left: 0.2em;}#sk-54cdf983-f8ae-47e7-9725-074feb73a936 div.sk-item {z-index: 1;}#sk-54cdf983-f8ae-47e7-9725-074feb73a936 div.sk-parallel {display: flex;align-items: stretch;justify-content: center;background-color: white;}#sk-54cdf983-f8ae-47e7-9725-074feb73a936 div.sk-parallel::before {content: \"\";position: absolute;border-left: 1px solid gray;box-sizing: border-box;top: 2em;bottom: 0;left: 50%;}#sk-54cdf983-f8ae-47e7-9725-074feb73a936 div.sk-parallel-item {display: flex;flex-direction: column;position: relative;background-color: white;}#sk-54cdf983-f8ae-47e7-9725-074feb73a936 div.sk-parallel-item:first-child::after {align-self: flex-end;width: 50%;}#sk-54cdf983-f8ae-47e7-9725-074feb73a936 div.sk-parallel-item:last-child::after {align-self: flex-start;width: 50%;}#sk-54cdf983-f8ae-47e7-9725-074feb73a936 div.sk-parallel-item:only-child::after {width: 0;}#sk-54cdf983-f8ae-47e7-9725-074feb73a936 div.sk-dashed-wrapped {border: 1px dashed gray;margin: 0 0.4em 0.5em 0.4em;box-sizing: border-box;padding-bottom: 0.4em;background-color: white;position: relative;}#sk-54cdf983-f8ae-47e7-9725-074feb73a936 div.sk-label label {font-family: monospace;font-weight: bold;background-color: white;display: inline-block;line-height: 1.2em;}#sk-54cdf983-f8ae-47e7-9725-074feb73a936 div.sk-label-container {position: relative;z-index: 2;text-align: center;}#sk-54cdf983-f8ae-47e7-9725-074feb73a936 div.sk-container {/* jupyter's `normalize.less` sets `[hidden] { display: none; }` but bootstrap.min.css set `[hidden] { display: none !important; }` so we also need the `!important` here to be able to override the default hidden behavior on the sphinx rendered scikit-learn.org. See: https://github.com/scikit-learn/scikit-learn/issues/21755 */display: inline-block !important;position: relative;}#sk-54cdf983-f8ae-47e7-9725-074feb73a936 div.sk-text-repr-fallback {display: none;}</style><div id=\"sk-54cdf983-f8ae-47e7-9725-074feb73a936\" class=\"sk-top-container\"><div class=\"sk-text-repr-fallback\"><pre>TransformedTargetRegressor(regressor=Pipeline(steps=[(&#x27;Column Transformer&#x27;,\n",
              "                                                      ColumnTransformer(transformers=[(&#x27;ordinals&#x27;,\n",
              "                                                                                       Pipeline(steps=[(&#x27;imputer_cat&#x27;,\n",
              "                                                                                                        SimpleImputer(strategy=&#x27;constant&#x27;)),\n",
              "                                                                                                       (&#x27;ordinal&#x27;,\n",
              "                                                                                                        OrdinalEncoder())]),\n",
              "                                                                                       [&#x27;sex&#x27;,\n",
              "                                                                                        &#x27;smoker&#x27;]),\n",
              "                                                                                      (&#x27;onehot&#x27;,\n",
              "                                                                                       Pipeline(steps=[(&#x27;imputer_cat&#x27;,\n",
              "                                                                                                        SimpleImputer(strategy=&#x27;constant&#x27;)),\n",
              "                                                                                                       (&#x27;onehot&#x27;,\n",
              "                                                                                                        OneHotEncoder(handle_unknown=&#x27;ignore&#x27;))]),\n",
              "                                                                                       [&#x27;region&#x27;]),\n",
              "                                                                                      (&#x27;numericals&#x27;,\n",
              "                                                                                       Pipeline(steps=[(&#x27;imputer_num&#x27;,\n",
              "                                                                                                        SimpleImputer(strategy=&#x27;median&#x27;)),\n",
              "                                                                                                       (&#x27;scaler&#x27;,\n",
              "                                                                                                        StandardScaler())]),\n",
              "                                                                                       [&#x27;age&#x27;,\n",
              "                                                                                        &#x27;bmi&#x27;,\n",
              "                                                                                        &#x27;children&#x27;])])),\n",
              "                                                     (&#x27;model&#x27;,\n",
              "                                                      SVR(C=10, gamma=0.05))]),\n",
              "                           transformer=StandardScaler())</pre><b>Please rerun this cell to show the HTML repr or trust the notebook.</b></div><div class=\"sk-container\" hidden><div class=\"sk-item sk-dashed-wrapped\"><div class=\"sk-label-container\"><div class=\"sk-label sk-toggleable\"><input class=\"sk-toggleable__control sk-hidden--visually\" id=\"1c4ba327-872c-43bb-aec1-362817c1ac34\" type=\"checkbox\" ><label for=\"1c4ba327-872c-43bb-aec1-362817c1ac34\" class=\"sk-toggleable__label sk-toggleable__label-arrow\">TransformedTargetRegressor</label><div class=\"sk-toggleable__content\"><pre>TransformedTargetRegressor(regressor=Pipeline(steps=[(&#x27;Column Transformer&#x27;,\n",
              "                                                      ColumnTransformer(transformers=[(&#x27;ordinals&#x27;,\n",
              "                                                                                       Pipeline(steps=[(&#x27;imputer_cat&#x27;,\n",
              "                                                                                                        SimpleImputer(strategy=&#x27;constant&#x27;)),\n",
              "                                                                                                       (&#x27;ordinal&#x27;,\n",
              "                                                                                                        OrdinalEncoder())]),\n",
              "                                                                                       [&#x27;sex&#x27;,\n",
              "                                                                                        &#x27;smoker&#x27;]),\n",
              "                                                                                      (&#x27;onehot&#x27;,\n",
              "                                                                                       Pipeline(steps=[(&#x27;imputer_cat&#x27;,\n",
              "                                                                                                        SimpleImputer(strategy=&#x27;constant&#x27;)),\n",
              "                                                                                                       (&#x27;onehot&#x27;,\n",
              "                                                                                                        OneHotEncoder(handle_unknown=&#x27;ignore&#x27;))]),\n",
              "                                                                                       [&#x27;region&#x27;]),\n",
              "                                                                                      (&#x27;numericals&#x27;,\n",
              "                                                                                       Pipeline(steps=[(&#x27;imputer_num&#x27;,\n",
              "                                                                                                        SimpleImputer(strategy=&#x27;median&#x27;)),\n",
              "                                                                                                       (&#x27;scaler&#x27;,\n",
              "                                                                                                        StandardScaler())]),\n",
              "                                                                                       [&#x27;age&#x27;,\n",
              "                                                                                        &#x27;bmi&#x27;,\n",
              "                                                                                        &#x27;children&#x27;])])),\n",
              "                                                     (&#x27;model&#x27;,\n",
              "                                                      SVR(C=10, gamma=0.05))]),\n",
              "                           transformer=StandardScaler())</pre></div></div></div><div class=\"sk-parallel\"><div class=\"sk-parallel-item\"><div class=\"sk-item\"><div class=\"sk-serial\"><div class=\"sk-item\"><div class=\"sk-serial\"><div class=\"sk-item sk-dashed-wrapped\"><div class=\"sk-label-container\"><div class=\"sk-label sk-toggleable\"><input class=\"sk-toggleable__control sk-hidden--visually\" id=\"83d53946-be55-40db-a459-70ba78a94b64\" type=\"checkbox\" ><label for=\"83d53946-be55-40db-a459-70ba78a94b64\" class=\"sk-toggleable__label sk-toggleable__label-arrow\">Column Transformer: ColumnTransformer</label><div class=\"sk-toggleable__content\"><pre>ColumnTransformer(transformers=[(&#x27;ordinals&#x27;,\n",
              "                                 Pipeline(steps=[(&#x27;imputer_cat&#x27;,\n",
              "                                                  SimpleImputer(strategy=&#x27;constant&#x27;)),\n",
              "                                                 (&#x27;ordinal&#x27;,\n",
              "                                                  OrdinalEncoder())]),\n",
              "                                 [&#x27;sex&#x27;, &#x27;smoker&#x27;]),\n",
              "                                (&#x27;onehot&#x27;,\n",
              "                                 Pipeline(steps=[(&#x27;imputer_cat&#x27;,\n",
              "                                                  SimpleImputer(strategy=&#x27;constant&#x27;)),\n",
              "                                                 (&#x27;onehot&#x27;,\n",
              "                                                  OneHotEncoder(handle_unknown=&#x27;ignore&#x27;))]),\n",
              "                                 [&#x27;region&#x27;]),\n",
              "                                (&#x27;numericals&#x27;,\n",
              "                                 Pipeline(steps=[(&#x27;imputer_num&#x27;,\n",
              "                                                  SimpleImputer(strategy=&#x27;median&#x27;)),\n",
              "                                                 (&#x27;scaler&#x27;, StandardScaler())]),\n",
              "                                 [&#x27;age&#x27;, &#x27;bmi&#x27;, &#x27;children&#x27;])])</pre></div></div></div><div class=\"sk-parallel\"><div class=\"sk-parallel-item\"><div class=\"sk-item\"><div class=\"sk-label-container\"><div class=\"sk-label sk-toggleable\"><input class=\"sk-toggleable__control sk-hidden--visually\" id=\"f20de2f1-0146-4c51-8180-da6d30beefc6\" type=\"checkbox\" ><label for=\"f20de2f1-0146-4c51-8180-da6d30beefc6\" class=\"sk-toggleable__label sk-toggleable__label-arrow\">ordinals</label><div class=\"sk-toggleable__content\"><pre>[&#x27;sex&#x27;, &#x27;smoker&#x27;]</pre></div></div></div><div class=\"sk-serial\"><div class=\"sk-item\"><div class=\"sk-serial\"><div class=\"sk-item\"><div class=\"sk-estimator sk-toggleable\"><input class=\"sk-toggleable__control sk-hidden--visually\" id=\"812d7c88-5285-4066-ab29-d557bb3da1d5\" type=\"checkbox\" ><label for=\"812d7c88-5285-4066-ab29-d557bb3da1d5\" class=\"sk-toggleable__label sk-toggleable__label-arrow\">SimpleImputer</label><div class=\"sk-toggleable__content\"><pre>SimpleImputer(strategy=&#x27;constant&#x27;)</pre></div></div></div><div class=\"sk-item\"><div class=\"sk-estimator sk-toggleable\"><input class=\"sk-toggleable__control sk-hidden--visually\" id=\"510f62fd-d24e-412a-8eba-974f806278c7\" type=\"checkbox\" ><label for=\"510f62fd-d24e-412a-8eba-974f806278c7\" class=\"sk-toggleable__label sk-toggleable__label-arrow\">OrdinalEncoder</label><div class=\"sk-toggleable__content\"><pre>OrdinalEncoder()</pre></div></div></div></div></div></div></div></div><div class=\"sk-parallel-item\"><div class=\"sk-item\"><div class=\"sk-label-container\"><div class=\"sk-label sk-toggleable\"><input class=\"sk-toggleable__control sk-hidden--visually\" id=\"718d8e6c-89a7-4ba9-9efa-9fa1b4e6db79\" type=\"checkbox\" ><label for=\"718d8e6c-89a7-4ba9-9efa-9fa1b4e6db79\" class=\"sk-toggleable__label sk-toggleable__label-arrow\">onehot</label><div class=\"sk-toggleable__content\"><pre>[&#x27;region&#x27;]</pre></div></div></div><div class=\"sk-serial\"><div class=\"sk-item\"><div class=\"sk-serial\"><div class=\"sk-item\"><div class=\"sk-estimator sk-toggleable\"><input class=\"sk-toggleable__control sk-hidden--visually\" id=\"e3efb178-f56d-4b89-8571-48cbd7e4af0b\" type=\"checkbox\" ><label for=\"e3efb178-f56d-4b89-8571-48cbd7e4af0b\" class=\"sk-toggleable__label sk-toggleable__label-arrow\">SimpleImputer</label><div class=\"sk-toggleable__content\"><pre>SimpleImputer(strategy=&#x27;constant&#x27;)</pre></div></div></div><div class=\"sk-item\"><div class=\"sk-estimator sk-toggleable\"><input class=\"sk-toggleable__control sk-hidden--visually\" id=\"106452bc-1a4a-4de4-842e-87084d5a95dc\" type=\"checkbox\" ><label for=\"106452bc-1a4a-4de4-842e-87084d5a95dc\" class=\"sk-toggleable__label sk-toggleable__label-arrow\">OneHotEncoder</label><div class=\"sk-toggleable__content\"><pre>OneHotEncoder(handle_unknown=&#x27;ignore&#x27;)</pre></div></div></div></div></div></div></div></div><div class=\"sk-parallel-item\"><div class=\"sk-item\"><div class=\"sk-label-container\"><div class=\"sk-label sk-toggleable\"><input class=\"sk-toggleable__control sk-hidden--visually\" id=\"b6cb6bb4-9643-459d-81f0-8108566bc4e4\" type=\"checkbox\" ><label for=\"b6cb6bb4-9643-459d-81f0-8108566bc4e4\" class=\"sk-toggleable__label sk-toggleable__label-arrow\">numericals</label><div class=\"sk-toggleable__content\"><pre>[&#x27;age&#x27;, &#x27;bmi&#x27;, &#x27;children&#x27;]</pre></div></div></div><div class=\"sk-serial\"><div class=\"sk-item\"><div class=\"sk-serial\"><div class=\"sk-item\"><div class=\"sk-estimator sk-toggleable\"><input class=\"sk-toggleable__control sk-hidden--visually\" id=\"5a4395eb-a2ad-4d9f-bb27-0dd654cdbdd0\" type=\"checkbox\" ><label for=\"5a4395eb-a2ad-4d9f-bb27-0dd654cdbdd0\" class=\"sk-toggleable__label sk-toggleable__label-arrow\">SimpleImputer</label><div class=\"sk-toggleable__content\"><pre>SimpleImputer(strategy=&#x27;median&#x27;)</pre></div></div></div><div class=\"sk-item\"><div class=\"sk-estimator sk-toggleable\"><input class=\"sk-toggleable__control sk-hidden--visually\" id=\"3055cbe9-bbdc-4ed3-8344-d07839570e80\" type=\"checkbox\" ><label for=\"3055cbe9-bbdc-4ed3-8344-d07839570e80\" class=\"sk-toggleable__label sk-toggleable__label-arrow\">StandardScaler</label><div class=\"sk-toggleable__content\"><pre>StandardScaler()</pre></div></div></div></div></div></div></div></div></div></div><div class=\"sk-item\"><div class=\"sk-estimator sk-toggleable\"><input class=\"sk-toggleable__control sk-hidden--visually\" id=\"542406f1-825f-4835-81fd-4401225f5437\" type=\"checkbox\" ><label for=\"542406f1-825f-4835-81fd-4401225f5437\" class=\"sk-toggleable__label sk-toggleable__label-arrow\">SVR</label><div class=\"sk-toggleable__content\"><pre>SVR(C=10, gamma=0.05)</pre></div></div></div></div></div></div></div></div><div class=\"sk-parallel-item\"><div class=\"sk-item\"><div class=\"sk-serial\"><div class=\"sk-item\"><div class=\"sk-estimator sk-toggleable\"><input class=\"sk-toggleable__control sk-hidden--visually\" id=\"ee37dbd3-d25b-4255-bd28-ee93e916b86c\" type=\"checkbox\" ><label for=\"ee37dbd3-d25b-4255-bd28-ee93e916b86c\" class=\"sk-toggleable__label sk-toggleable__label-arrow\">StandardScaler</label><div class=\"sk-toggleable__content\"><pre>StandardScaler()</pre></div></div></div></div></div></div></div></div></div></div>"
            ]
          },
          "metadata": {},
          "execution_count": 73
        }
      ]
    },
    {
      "cell_type": "code",
      "metadata": {
        "colab": {
          "base_uri": "https://localhost:8080/"
        },
        "id": "SYsI7K0mNdmn",
        "outputId": "d3e45e2d-9779-4f0e-962b-4ce797a91118"
      },
      "source": [
        "preds = model.predict(X_test)\n",
        "score = model.score(X_test,y_test)\n",
        "score"
      ],
      "execution_count": 74,
      "outputs": [
        {
          "output_type": "execute_result",
          "data": {
            "text/plain": [
              "0.8532437921534918"
            ]
          },
          "metadata": {},
          "execution_count": 74
        }
      ]
    },
    {
      "cell_type": "markdown",
      "metadata": {
        "id": "hW-SkLtoRjyv"
      },
      "source": [
        "**Nhận xét:**\n",
        "- Khi xóa các dữ liệu bệnh nhân bất thường thì độ chính xác trên tập train tăng lên đến gần 90%\n",
        "- Tuy nhiên khi dự đoán trên tập test thì độ chính xác của mô hình không tăng mà lại thấp đi một chút\n",
        "- Có vẻ là lớp bệnh nhân này cũng có tỉ lệ cao trong thực tế nên nó không hẵn là các outlier mà có thể là các đối tượng khá đặc biệt mà cần quan sát thêm các đặc trưng khác để có thể dự đoán chính xác"
      ]
    },
    {
      "cell_type": "markdown",
      "metadata": {
        "id": "ud407shnZDzx"
      },
      "source": [
        "### Dùng Simple Regression"
      ]
    },
    {
      "cell_type": "code",
      "metadata": {
        "id": "sGZLFHy3Uq00",
        "colab": {
          "base_uri": "https://localhost:8080/"
        },
        "outputId": "262523d9-9ca2-4a65-f7b5-591ae096e413"
      },
      "source": [
        "from sklearn.linear_model import LinearRegression\n",
        "reg = LinearRegression()\n",
        "pipeline = Pipeline(steps=[('Column Transformer', preprocessor), ('model', reg),])\n",
        "model = TransformedTargetRegressor(regressor=pipeline, transformer=StandardScaler())\n",
        "model.fit(X,y)\n",
        "model.score(X, y)"
      ],
      "execution_count": 75,
      "outputs": [
        {
          "output_type": "execute_result",
          "data": {
            "text/plain": [
              "0.744221765190394"
            ]
          },
          "metadata": {},
          "execution_count": 75
        }
      ]
    },
    {
      "cell_type": "code",
      "metadata": {
        "colab": {
          "base_uri": "https://localhost:8080/",
          "height": 223
        },
        "id": "Na8K8yh0n8Vc",
        "outputId": "4abe63e9-73b2-4731-c398-7140edbc8c4a"
      },
      "source": [
        "model"
      ],
      "execution_count": 76,
      "outputs": [
        {
          "output_type": "execute_result",
          "data": {
            "text/plain": [
              "TransformedTargetRegressor(regressor=Pipeline(steps=[('Column Transformer',\n",
              "                                                      ColumnTransformer(transformers=[('ordinals',\n",
              "                                                                                       Pipeline(steps=[('imputer_cat',\n",
              "                                                                                                        SimpleImputer(strategy='constant')),\n",
              "                                                                                                       ('ordinal',\n",
              "                                                                                                        OrdinalEncoder())]),\n",
              "                                                                                       ['sex',\n",
              "                                                                                        'smoker']),\n",
              "                                                                                      ('onehot',\n",
              "                                                                                       Pipeline(steps=[('imputer_cat',\n",
              "                                                                                                        SimpleImputer(strategy='constant')),\n",
              "                                                                                                       ('onehot',\n",
              "                                                                                                        OneHotEncoder(handle_unknown='ignore'))]),\n",
              "                                                                                       ['region']),\n",
              "                                                                                      ('numericals',\n",
              "                                                                                       Pipeline(steps=[('imputer_num',\n",
              "                                                                                                        SimpleImputer(strategy='median')),\n",
              "                                                                                                       ('scaler',\n",
              "                                                                                                        StandardScaler())]),\n",
              "                                                                                       ['age',\n",
              "                                                                                        'bmi',\n",
              "                                                                                        'children'])])),\n",
              "                                                     ('model',\n",
              "                                                      LinearRegression())]),\n",
              "                           transformer=StandardScaler())"
            ],
            "text/html": [
              "<style>#sk-c6e17dc5-8e28-4e45-98cd-d983e04cafa8 {color: black;background-color: white;}#sk-c6e17dc5-8e28-4e45-98cd-d983e04cafa8 pre{padding: 0;}#sk-c6e17dc5-8e28-4e45-98cd-d983e04cafa8 div.sk-toggleable {background-color: white;}#sk-c6e17dc5-8e28-4e45-98cd-d983e04cafa8 label.sk-toggleable__label {cursor: pointer;display: block;width: 100%;margin-bottom: 0;padding: 0.3em;box-sizing: border-box;text-align: center;}#sk-c6e17dc5-8e28-4e45-98cd-d983e04cafa8 label.sk-toggleable__label-arrow:before {content: \"▸\";float: left;margin-right: 0.25em;color: #696969;}#sk-c6e17dc5-8e28-4e45-98cd-d983e04cafa8 label.sk-toggleable__label-arrow:hover:before {color: black;}#sk-c6e17dc5-8e28-4e45-98cd-d983e04cafa8 div.sk-estimator:hover label.sk-toggleable__label-arrow:before {color: black;}#sk-c6e17dc5-8e28-4e45-98cd-d983e04cafa8 div.sk-toggleable__content {max-height: 0;max-width: 0;overflow: hidden;text-align: left;background-color: #f0f8ff;}#sk-c6e17dc5-8e28-4e45-98cd-d983e04cafa8 div.sk-toggleable__content pre {margin: 0.2em;color: black;border-radius: 0.25em;background-color: #f0f8ff;}#sk-c6e17dc5-8e28-4e45-98cd-d983e04cafa8 input.sk-toggleable__control:checked~div.sk-toggleable__content {max-height: 200px;max-width: 100%;overflow: auto;}#sk-c6e17dc5-8e28-4e45-98cd-d983e04cafa8 input.sk-toggleable__control:checked~label.sk-toggleable__label-arrow:before {content: \"▾\";}#sk-c6e17dc5-8e28-4e45-98cd-d983e04cafa8 div.sk-estimator input.sk-toggleable__control:checked~label.sk-toggleable__label {background-color: #d4ebff;}#sk-c6e17dc5-8e28-4e45-98cd-d983e04cafa8 div.sk-label input.sk-toggleable__control:checked~label.sk-toggleable__label {background-color: #d4ebff;}#sk-c6e17dc5-8e28-4e45-98cd-d983e04cafa8 input.sk-hidden--visually {border: 0;clip: rect(1px 1px 1px 1px);clip: rect(1px, 1px, 1px, 1px);height: 1px;margin: -1px;overflow: hidden;padding: 0;position: absolute;width: 1px;}#sk-c6e17dc5-8e28-4e45-98cd-d983e04cafa8 div.sk-estimator {font-family: monospace;background-color: #f0f8ff;border: 1px dotted black;border-radius: 0.25em;box-sizing: border-box;margin-bottom: 0.5em;}#sk-c6e17dc5-8e28-4e45-98cd-d983e04cafa8 div.sk-estimator:hover {background-color: #d4ebff;}#sk-c6e17dc5-8e28-4e45-98cd-d983e04cafa8 div.sk-parallel-item::after {content: \"\";width: 100%;border-bottom: 1px solid gray;flex-grow: 1;}#sk-c6e17dc5-8e28-4e45-98cd-d983e04cafa8 div.sk-label:hover label.sk-toggleable__label {background-color: #d4ebff;}#sk-c6e17dc5-8e28-4e45-98cd-d983e04cafa8 div.sk-serial::before {content: \"\";position: absolute;border-left: 1px solid gray;box-sizing: border-box;top: 2em;bottom: 0;left: 50%;}#sk-c6e17dc5-8e28-4e45-98cd-d983e04cafa8 div.sk-serial {display: flex;flex-direction: column;align-items: center;background-color: white;padding-right: 0.2em;padding-left: 0.2em;}#sk-c6e17dc5-8e28-4e45-98cd-d983e04cafa8 div.sk-item {z-index: 1;}#sk-c6e17dc5-8e28-4e45-98cd-d983e04cafa8 div.sk-parallel {display: flex;align-items: stretch;justify-content: center;background-color: white;}#sk-c6e17dc5-8e28-4e45-98cd-d983e04cafa8 div.sk-parallel::before {content: \"\";position: absolute;border-left: 1px solid gray;box-sizing: border-box;top: 2em;bottom: 0;left: 50%;}#sk-c6e17dc5-8e28-4e45-98cd-d983e04cafa8 div.sk-parallel-item {display: flex;flex-direction: column;position: relative;background-color: white;}#sk-c6e17dc5-8e28-4e45-98cd-d983e04cafa8 div.sk-parallel-item:first-child::after {align-self: flex-end;width: 50%;}#sk-c6e17dc5-8e28-4e45-98cd-d983e04cafa8 div.sk-parallel-item:last-child::after {align-self: flex-start;width: 50%;}#sk-c6e17dc5-8e28-4e45-98cd-d983e04cafa8 div.sk-parallel-item:only-child::after {width: 0;}#sk-c6e17dc5-8e28-4e45-98cd-d983e04cafa8 div.sk-dashed-wrapped {border: 1px dashed gray;margin: 0 0.4em 0.5em 0.4em;box-sizing: border-box;padding-bottom: 0.4em;background-color: white;position: relative;}#sk-c6e17dc5-8e28-4e45-98cd-d983e04cafa8 div.sk-label label {font-family: monospace;font-weight: bold;background-color: white;display: inline-block;line-height: 1.2em;}#sk-c6e17dc5-8e28-4e45-98cd-d983e04cafa8 div.sk-label-container {position: relative;z-index: 2;text-align: center;}#sk-c6e17dc5-8e28-4e45-98cd-d983e04cafa8 div.sk-container {/* jupyter's `normalize.less` sets `[hidden] { display: none; }` but bootstrap.min.css set `[hidden] { display: none !important; }` so we also need the `!important` here to be able to override the default hidden behavior on the sphinx rendered scikit-learn.org. See: https://github.com/scikit-learn/scikit-learn/issues/21755 */display: inline-block !important;position: relative;}#sk-c6e17dc5-8e28-4e45-98cd-d983e04cafa8 div.sk-text-repr-fallback {display: none;}</style><div id=\"sk-c6e17dc5-8e28-4e45-98cd-d983e04cafa8\" class=\"sk-top-container\"><div class=\"sk-text-repr-fallback\"><pre>TransformedTargetRegressor(regressor=Pipeline(steps=[(&#x27;Column Transformer&#x27;,\n",
              "                                                      ColumnTransformer(transformers=[(&#x27;ordinals&#x27;,\n",
              "                                                                                       Pipeline(steps=[(&#x27;imputer_cat&#x27;,\n",
              "                                                                                                        SimpleImputer(strategy=&#x27;constant&#x27;)),\n",
              "                                                                                                       (&#x27;ordinal&#x27;,\n",
              "                                                                                                        OrdinalEncoder())]),\n",
              "                                                                                       [&#x27;sex&#x27;,\n",
              "                                                                                        &#x27;smoker&#x27;]),\n",
              "                                                                                      (&#x27;onehot&#x27;,\n",
              "                                                                                       Pipeline(steps=[(&#x27;imputer_cat&#x27;,\n",
              "                                                                                                        SimpleImputer(strategy=&#x27;constant&#x27;)),\n",
              "                                                                                                       (&#x27;onehot&#x27;,\n",
              "                                                                                                        OneHotEncoder(handle_unknown=&#x27;ignore&#x27;))]),\n",
              "                                                                                       [&#x27;region&#x27;]),\n",
              "                                                                                      (&#x27;numericals&#x27;,\n",
              "                                                                                       Pipeline(steps=[(&#x27;imputer_num&#x27;,\n",
              "                                                                                                        SimpleImputer(strategy=&#x27;median&#x27;)),\n",
              "                                                                                                       (&#x27;scaler&#x27;,\n",
              "                                                                                                        StandardScaler())]),\n",
              "                                                                                       [&#x27;age&#x27;,\n",
              "                                                                                        &#x27;bmi&#x27;,\n",
              "                                                                                        &#x27;children&#x27;])])),\n",
              "                                                     (&#x27;model&#x27;,\n",
              "                                                      LinearRegression())]),\n",
              "                           transformer=StandardScaler())</pre><b>Please rerun this cell to show the HTML repr or trust the notebook.</b></div><div class=\"sk-container\" hidden><div class=\"sk-item sk-dashed-wrapped\"><div class=\"sk-label-container\"><div class=\"sk-label sk-toggleable\"><input class=\"sk-toggleable__control sk-hidden--visually\" id=\"36e9d21d-5ede-4165-b501-561d9f055cb7\" type=\"checkbox\" ><label for=\"36e9d21d-5ede-4165-b501-561d9f055cb7\" class=\"sk-toggleable__label sk-toggleable__label-arrow\">TransformedTargetRegressor</label><div class=\"sk-toggleable__content\"><pre>TransformedTargetRegressor(regressor=Pipeline(steps=[(&#x27;Column Transformer&#x27;,\n",
              "                                                      ColumnTransformer(transformers=[(&#x27;ordinals&#x27;,\n",
              "                                                                                       Pipeline(steps=[(&#x27;imputer_cat&#x27;,\n",
              "                                                                                                        SimpleImputer(strategy=&#x27;constant&#x27;)),\n",
              "                                                                                                       (&#x27;ordinal&#x27;,\n",
              "                                                                                                        OrdinalEncoder())]),\n",
              "                                                                                       [&#x27;sex&#x27;,\n",
              "                                                                                        &#x27;smoker&#x27;]),\n",
              "                                                                                      (&#x27;onehot&#x27;,\n",
              "                                                                                       Pipeline(steps=[(&#x27;imputer_cat&#x27;,\n",
              "                                                                                                        SimpleImputer(strategy=&#x27;constant&#x27;)),\n",
              "                                                                                                       (&#x27;onehot&#x27;,\n",
              "                                                                                                        OneHotEncoder(handle_unknown=&#x27;ignore&#x27;))]),\n",
              "                                                                                       [&#x27;region&#x27;]),\n",
              "                                                                                      (&#x27;numericals&#x27;,\n",
              "                                                                                       Pipeline(steps=[(&#x27;imputer_num&#x27;,\n",
              "                                                                                                        SimpleImputer(strategy=&#x27;median&#x27;)),\n",
              "                                                                                                       (&#x27;scaler&#x27;,\n",
              "                                                                                                        StandardScaler())]),\n",
              "                                                                                       [&#x27;age&#x27;,\n",
              "                                                                                        &#x27;bmi&#x27;,\n",
              "                                                                                        &#x27;children&#x27;])])),\n",
              "                                                     (&#x27;model&#x27;,\n",
              "                                                      LinearRegression())]),\n",
              "                           transformer=StandardScaler())</pre></div></div></div><div class=\"sk-parallel\"><div class=\"sk-parallel-item\"><div class=\"sk-item\"><div class=\"sk-serial\"><div class=\"sk-item\"><div class=\"sk-serial\"><div class=\"sk-item sk-dashed-wrapped\"><div class=\"sk-label-container\"><div class=\"sk-label sk-toggleable\"><input class=\"sk-toggleable__control sk-hidden--visually\" id=\"4dae693f-91c3-4608-ac85-86f388ca0564\" type=\"checkbox\" ><label for=\"4dae693f-91c3-4608-ac85-86f388ca0564\" class=\"sk-toggleable__label sk-toggleable__label-arrow\">Column Transformer: ColumnTransformer</label><div class=\"sk-toggleable__content\"><pre>ColumnTransformer(transformers=[(&#x27;ordinals&#x27;,\n",
              "                                 Pipeline(steps=[(&#x27;imputer_cat&#x27;,\n",
              "                                                  SimpleImputer(strategy=&#x27;constant&#x27;)),\n",
              "                                                 (&#x27;ordinal&#x27;,\n",
              "                                                  OrdinalEncoder())]),\n",
              "                                 [&#x27;sex&#x27;, &#x27;smoker&#x27;]),\n",
              "                                (&#x27;onehot&#x27;,\n",
              "                                 Pipeline(steps=[(&#x27;imputer_cat&#x27;,\n",
              "                                                  SimpleImputer(strategy=&#x27;constant&#x27;)),\n",
              "                                                 (&#x27;onehot&#x27;,\n",
              "                                                  OneHotEncoder(handle_unknown=&#x27;ignore&#x27;))]),\n",
              "                                 [&#x27;region&#x27;]),\n",
              "                                (&#x27;numericals&#x27;,\n",
              "                                 Pipeline(steps=[(&#x27;imputer_num&#x27;,\n",
              "                                                  SimpleImputer(strategy=&#x27;median&#x27;)),\n",
              "                                                 (&#x27;scaler&#x27;, StandardScaler())]),\n",
              "                                 [&#x27;age&#x27;, &#x27;bmi&#x27;, &#x27;children&#x27;])])</pre></div></div></div><div class=\"sk-parallel\"><div class=\"sk-parallel-item\"><div class=\"sk-item\"><div class=\"sk-label-container\"><div class=\"sk-label sk-toggleable\"><input class=\"sk-toggleable__control sk-hidden--visually\" id=\"264d53e5-bbb6-413e-b3b8-106773be40c2\" type=\"checkbox\" ><label for=\"264d53e5-bbb6-413e-b3b8-106773be40c2\" class=\"sk-toggleable__label sk-toggleable__label-arrow\">ordinals</label><div class=\"sk-toggleable__content\"><pre>[&#x27;sex&#x27;, &#x27;smoker&#x27;]</pre></div></div></div><div class=\"sk-serial\"><div class=\"sk-item\"><div class=\"sk-serial\"><div class=\"sk-item\"><div class=\"sk-estimator sk-toggleable\"><input class=\"sk-toggleable__control sk-hidden--visually\" id=\"a2da981e-37dd-462e-91b4-467b8f10b774\" type=\"checkbox\" ><label for=\"a2da981e-37dd-462e-91b4-467b8f10b774\" class=\"sk-toggleable__label sk-toggleable__label-arrow\">SimpleImputer</label><div class=\"sk-toggleable__content\"><pre>SimpleImputer(strategy=&#x27;constant&#x27;)</pre></div></div></div><div class=\"sk-item\"><div class=\"sk-estimator sk-toggleable\"><input class=\"sk-toggleable__control sk-hidden--visually\" id=\"3df74911-ce94-4334-8f5a-cfecc3717bef\" type=\"checkbox\" ><label for=\"3df74911-ce94-4334-8f5a-cfecc3717bef\" class=\"sk-toggleable__label sk-toggleable__label-arrow\">OrdinalEncoder</label><div class=\"sk-toggleable__content\"><pre>OrdinalEncoder()</pre></div></div></div></div></div></div></div></div><div class=\"sk-parallel-item\"><div class=\"sk-item\"><div class=\"sk-label-container\"><div class=\"sk-label sk-toggleable\"><input class=\"sk-toggleable__control sk-hidden--visually\" id=\"3bae762c-9880-478f-9e91-06b7e10af1a7\" type=\"checkbox\" ><label for=\"3bae762c-9880-478f-9e91-06b7e10af1a7\" class=\"sk-toggleable__label sk-toggleable__label-arrow\">onehot</label><div class=\"sk-toggleable__content\"><pre>[&#x27;region&#x27;]</pre></div></div></div><div class=\"sk-serial\"><div class=\"sk-item\"><div class=\"sk-serial\"><div class=\"sk-item\"><div class=\"sk-estimator sk-toggleable\"><input class=\"sk-toggleable__control sk-hidden--visually\" id=\"31b8c698-286c-426c-9685-c6be3c62f337\" type=\"checkbox\" ><label for=\"31b8c698-286c-426c-9685-c6be3c62f337\" class=\"sk-toggleable__label sk-toggleable__label-arrow\">SimpleImputer</label><div class=\"sk-toggleable__content\"><pre>SimpleImputer(strategy=&#x27;constant&#x27;)</pre></div></div></div><div class=\"sk-item\"><div class=\"sk-estimator sk-toggleable\"><input class=\"sk-toggleable__control sk-hidden--visually\" id=\"6702de79-8427-49e2-97d1-329d79c3e608\" type=\"checkbox\" ><label for=\"6702de79-8427-49e2-97d1-329d79c3e608\" class=\"sk-toggleable__label sk-toggleable__label-arrow\">OneHotEncoder</label><div class=\"sk-toggleable__content\"><pre>OneHotEncoder(handle_unknown=&#x27;ignore&#x27;)</pre></div></div></div></div></div></div></div></div><div class=\"sk-parallel-item\"><div class=\"sk-item\"><div class=\"sk-label-container\"><div class=\"sk-label sk-toggleable\"><input class=\"sk-toggleable__control sk-hidden--visually\" id=\"8449e654-52be-4e00-bc2d-d0001e826fe0\" type=\"checkbox\" ><label for=\"8449e654-52be-4e00-bc2d-d0001e826fe0\" class=\"sk-toggleable__label sk-toggleable__label-arrow\">numericals</label><div class=\"sk-toggleable__content\"><pre>[&#x27;age&#x27;, &#x27;bmi&#x27;, &#x27;children&#x27;]</pre></div></div></div><div class=\"sk-serial\"><div class=\"sk-item\"><div class=\"sk-serial\"><div class=\"sk-item\"><div class=\"sk-estimator sk-toggleable\"><input class=\"sk-toggleable__control sk-hidden--visually\" id=\"068343fd-aeea-4596-b2f4-b0f192d974f7\" type=\"checkbox\" ><label for=\"068343fd-aeea-4596-b2f4-b0f192d974f7\" class=\"sk-toggleable__label sk-toggleable__label-arrow\">SimpleImputer</label><div class=\"sk-toggleable__content\"><pre>SimpleImputer(strategy=&#x27;median&#x27;)</pre></div></div></div><div class=\"sk-item\"><div class=\"sk-estimator sk-toggleable\"><input class=\"sk-toggleable__control sk-hidden--visually\" id=\"1bebec29-6d68-4d0d-a386-3019790f1ed0\" type=\"checkbox\" ><label for=\"1bebec29-6d68-4d0d-a386-3019790f1ed0\" class=\"sk-toggleable__label sk-toggleable__label-arrow\">StandardScaler</label><div class=\"sk-toggleable__content\"><pre>StandardScaler()</pre></div></div></div></div></div></div></div></div></div></div><div class=\"sk-item\"><div class=\"sk-estimator sk-toggleable\"><input class=\"sk-toggleable__control sk-hidden--visually\" id=\"c4c67f53-40e1-4179-9581-3098d0ceb6ab\" type=\"checkbox\" ><label for=\"c4c67f53-40e1-4179-9581-3098d0ceb6ab\" class=\"sk-toggleable__label sk-toggleable__label-arrow\">LinearRegression</label><div class=\"sk-toggleable__content\"><pre>LinearRegression()</pre></div></div></div></div></div></div></div></div><div class=\"sk-parallel-item\"><div class=\"sk-item\"><div class=\"sk-serial\"><div class=\"sk-item\"><div class=\"sk-estimator sk-toggleable\"><input class=\"sk-toggleable__control sk-hidden--visually\" id=\"df2c0907-9601-430d-96de-b51564f03420\" type=\"checkbox\" ><label for=\"df2c0907-9601-430d-96de-b51564f03420\" class=\"sk-toggleable__label sk-toggleable__label-arrow\">StandardScaler</label><div class=\"sk-toggleable__content\"><pre>StandardScaler()</pre></div></div></div></div></div></div></div></div></div></div>"
            ]
          },
          "metadata": {},
          "execution_count": 76
        }
      ]
    },
    {
      "cell_type": "code",
      "metadata": {
        "id": "97YUBOwBM775"
      },
      "source": [
        "preds = model.predict(X_test)"
      ],
      "execution_count": 77,
      "outputs": []
    },
    {
      "cell_type": "code",
      "metadata": {
        "colab": {
          "base_uri": "https://localhost:8080/"
        },
        "id": "g592Uvk5Nf0t",
        "outputId": "169c9cd6-5f04-4c81-88a7-7bfea4166e3b"
      },
      "source": [
        "score = model.score(X_test,y_test)\n",
        "score"
      ],
      "execution_count": 78,
      "outputs": [
        {
          "output_type": "execute_result",
          "data": {
            "text/plain": [
              "0.7658201226718288"
            ]
          },
          "metadata": {},
          "execution_count": 78
        }
      ]
    },
    {
      "cell_type": "markdown",
      "metadata": {
        "id": "jmfhcJVGOWEb"
      },
      "source": [
        "#### Giảm chiều và trực quan"
      ]
    },
    {
      "cell_type": "code",
      "metadata": {
        "id": "RA8ufxsR7G-N"
      },
      "source": [
        "Xpre = preprocessor.fit_transform(X)"
      ],
      "execution_count": 79,
      "outputs": []
    },
    {
      "cell_type": "code",
      "metadata": {
        "colab": {
          "base_uri": "https://localhost:8080/",
          "height": 74
        },
        "id": "tY301DcL2dPU",
        "outputId": "f1d7d3a7-e9cd-4925-9b66-093adcb46186"
      },
      "source": [
        "pls = PLSRegression(n_components=1)\n",
        "pls.fit(Xpre, y)"
      ],
      "execution_count": 80,
      "outputs": [
        {
          "output_type": "execute_result",
          "data": {
            "text/plain": [
              "PLSRegression(n_components=1)"
            ],
            "text/html": [
              "<style>#sk-6a3d796f-2f33-4b3a-b00a-70b59fdc176b {color: black;background-color: white;}#sk-6a3d796f-2f33-4b3a-b00a-70b59fdc176b pre{padding: 0;}#sk-6a3d796f-2f33-4b3a-b00a-70b59fdc176b div.sk-toggleable {background-color: white;}#sk-6a3d796f-2f33-4b3a-b00a-70b59fdc176b label.sk-toggleable__label {cursor: pointer;display: block;width: 100%;margin-bottom: 0;padding: 0.3em;box-sizing: border-box;text-align: center;}#sk-6a3d796f-2f33-4b3a-b00a-70b59fdc176b label.sk-toggleable__label-arrow:before {content: \"▸\";float: left;margin-right: 0.25em;color: #696969;}#sk-6a3d796f-2f33-4b3a-b00a-70b59fdc176b label.sk-toggleable__label-arrow:hover:before {color: black;}#sk-6a3d796f-2f33-4b3a-b00a-70b59fdc176b div.sk-estimator:hover label.sk-toggleable__label-arrow:before {color: black;}#sk-6a3d796f-2f33-4b3a-b00a-70b59fdc176b div.sk-toggleable__content {max-height: 0;max-width: 0;overflow: hidden;text-align: left;background-color: #f0f8ff;}#sk-6a3d796f-2f33-4b3a-b00a-70b59fdc176b div.sk-toggleable__content pre {margin: 0.2em;color: black;border-radius: 0.25em;background-color: #f0f8ff;}#sk-6a3d796f-2f33-4b3a-b00a-70b59fdc176b input.sk-toggleable__control:checked~div.sk-toggleable__content {max-height: 200px;max-width: 100%;overflow: auto;}#sk-6a3d796f-2f33-4b3a-b00a-70b59fdc176b input.sk-toggleable__control:checked~label.sk-toggleable__label-arrow:before {content: \"▾\";}#sk-6a3d796f-2f33-4b3a-b00a-70b59fdc176b div.sk-estimator input.sk-toggleable__control:checked~label.sk-toggleable__label {background-color: #d4ebff;}#sk-6a3d796f-2f33-4b3a-b00a-70b59fdc176b div.sk-label input.sk-toggleable__control:checked~label.sk-toggleable__label {background-color: #d4ebff;}#sk-6a3d796f-2f33-4b3a-b00a-70b59fdc176b input.sk-hidden--visually {border: 0;clip: rect(1px 1px 1px 1px);clip: rect(1px, 1px, 1px, 1px);height: 1px;margin: -1px;overflow: hidden;padding: 0;position: absolute;width: 1px;}#sk-6a3d796f-2f33-4b3a-b00a-70b59fdc176b div.sk-estimator {font-family: monospace;background-color: #f0f8ff;border: 1px dotted black;border-radius: 0.25em;box-sizing: border-box;margin-bottom: 0.5em;}#sk-6a3d796f-2f33-4b3a-b00a-70b59fdc176b div.sk-estimator:hover {background-color: #d4ebff;}#sk-6a3d796f-2f33-4b3a-b00a-70b59fdc176b div.sk-parallel-item::after {content: \"\";width: 100%;border-bottom: 1px solid gray;flex-grow: 1;}#sk-6a3d796f-2f33-4b3a-b00a-70b59fdc176b div.sk-label:hover label.sk-toggleable__label {background-color: #d4ebff;}#sk-6a3d796f-2f33-4b3a-b00a-70b59fdc176b div.sk-serial::before {content: \"\";position: absolute;border-left: 1px solid gray;box-sizing: border-box;top: 2em;bottom: 0;left: 50%;}#sk-6a3d796f-2f33-4b3a-b00a-70b59fdc176b div.sk-serial {display: flex;flex-direction: column;align-items: center;background-color: white;padding-right: 0.2em;padding-left: 0.2em;}#sk-6a3d796f-2f33-4b3a-b00a-70b59fdc176b div.sk-item {z-index: 1;}#sk-6a3d796f-2f33-4b3a-b00a-70b59fdc176b div.sk-parallel {display: flex;align-items: stretch;justify-content: center;background-color: white;}#sk-6a3d796f-2f33-4b3a-b00a-70b59fdc176b div.sk-parallel::before {content: \"\";position: absolute;border-left: 1px solid gray;box-sizing: border-box;top: 2em;bottom: 0;left: 50%;}#sk-6a3d796f-2f33-4b3a-b00a-70b59fdc176b div.sk-parallel-item {display: flex;flex-direction: column;position: relative;background-color: white;}#sk-6a3d796f-2f33-4b3a-b00a-70b59fdc176b div.sk-parallel-item:first-child::after {align-self: flex-end;width: 50%;}#sk-6a3d796f-2f33-4b3a-b00a-70b59fdc176b div.sk-parallel-item:last-child::after {align-self: flex-start;width: 50%;}#sk-6a3d796f-2f33-4b3a-b00a-70b59fdc176b div.sk-parallel-item:only-child::after {width: 0;}#sk-6a3d796f-2f33-4b3a-b00a-70b59fdc176b div.sk-dashed-wrapped {border: 1px dashed gray;margin: 0 0.4em 0.5em 0.4em;box-sizing: border-box;padding-bottom: 0.4em;background-color: white;position: relative;}#sk-6a3d796f-2f33-4b3a-b00a-70b59fdc176b div.sk-label label {font-family: monospace;font-weight: bold;background-color: white;display: inline-block;line-height: 1.2em;}#sk-6a3d796f-2f33-4b3a-b00a-70b59fdc176b div.sk-label-container {position: relative;z-index: 2;text-align: center;}#sk-6a3d796f-2f33-4b3a-b00a-70b59fdc176b div.sk-container {/* jupyter's `normalize.less` sets `[hidden] { display: none; }` but bootstrap.min.css set `[hidden] { display: none !important; }` so we also need the `!important` here to be able to override the default hidden behavior on the sphinx rendered scikit-learn.org. See: https://github.com/scikit-learn/scikit-learn/issues/21755 */display: inline-block !important;position: relative;}#sk-6a3d796f-2f33-4b3a-b00a-70b59fdc176b div.sk-text-repr-fallback {display: none;}</style><div id=\"sk-6a3d796f-2f33-4b3a-b00a-70b59fdc176b\" class=\"sk-top-container\"><div class=\"sk-text-repr-fallback\"><pre>PLSRegression(n_components=1)</pre><b>Please rerun this cell to show the HTML repr or trust the notebook.</b></div><div class=\"sk-container\" hidden><div class=\"sk-item\"><div class=\"sk-estimator sk-toggleable\"><input class=\"sk-toggleable__control sk-hidden--visually\" id=\"16759f84-499e-4204-849d-2f18dc74b9da\" type=\"checkbox\" checked><label for=\"16759f84-499e-4204-849d-2f18dc74b9da\" class=\"sk-toggleable__label sk-toggleable__label-arrow\">PLSRegression</label><div class=\"sk-toggleable__content\"><pre>PLSRegression(n_components=1)</pre></div></div></div></div></div>"
            ]
          },
          "metadata": {},
          "execution_count": 80
        }
      ]
    },
    {
      "cell_type": "code",
      "metadata": {
        "id": "cb7SJAj08-ZT"
      },
      "source": [
        "X_test_pre = preprocessor.transform(X_test)"
      ],
      "execution_count": 81,
      "outputs": []
    },
    {
      "cell_type": "code",
      "metadata": {
        "colab": {
          "base_uri": "https://localhost:8080/",
          "height": 265
        },
        "id": "uyPDombE7gpa",
        "outputId": "3c6c85fd-397a-44c4-f04e-70521815e823"
      },
      "source": [
        "plt.scatter(x=pls.transform(X_test_pre), y= y_test, alpha = 0.5,color= 'r', label= 'True')\n",
        "plt.scatter(x=pls.transform(X_test_pre), y = pls.predict(X_test_pre), alpha= 0.5, label= 'Predictions')\n",
        "plt.legend()\n",
        "plt.show()"
      ],
      "execution_count": 82,
      "outputs": [
        {
          "output_type": "display_data",
          "data": {
            "text/plain": [
              "<Figure size 432x288 with 1 Axes>"
            ],
            "image/png": "[encoded data removed]"
          },
          "metadata": {
            "needs_background": "light"
          }
        }
      ]
    },
    {
      "cell_type": "markdown",
      "metadata": {
        "id": "yj6BZMcA8Ahb"
      },
      "source": [
        "### Kết luận:\n",
        "\n",
        "- Đối với dữ liệu này, trong các mô hình được thực hiện thì mô hình SVR với kernel là RBF cho độ chính xác cao nhất là khoảng 86% trên tập test và lên đến 90% trên tập train khi xóa đi các bệnh nhân không hút thuốc nhưng chi phí y tế cao\n",
        "- Đối tượng bệnh nhân không hút thuốc nhưng lại mất nhiều chi phí cho dịch vụ y tế cần được quan sát thêm các đặc trưng để dự đoán được chính xác hơn"
      ]
    },
    {
      "cell_type": "markdown",
      "metadata": {
        "id": "poM8JF5rDkWu"
      },
      "source": [
        "## Tham khảo\n",
        "\n",
        "[1]. [Stephanie - Variance Inflation Factor - Statisticshowto.com](https://www.statisticshowto.com/variance-inflation-factor/)\n",
        "\n",
        "[2]. https://www3.nd.edu/~rwilliam/stats1/x51.pdf\n",
        "\n",
        "[3]. https://towardsdatascience.com/gentle-introduction-to-chi-square-test-for-independence-7182a7414a95"
      ]
    },
    {
      "cell_type": "code",
      "metadata": {
        "id": "BZIN_f9uwR-C"
      },
      "source": [
        ""
      ],
      "execution_count": 82,
      "outputs": []
    }
  ]
}